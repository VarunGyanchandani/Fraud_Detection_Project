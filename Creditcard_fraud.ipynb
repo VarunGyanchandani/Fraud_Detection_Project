{
 "cells": [
  {
   "cell_type": "code",
   "execution_count": 35,
   "metadata": {
    "colab": {
     "base_uri": "https://localhost:8080/"
    },
    "id": "MqTdcss_VmU_",
    "outputId": "b7b6c919-bc23-4726-93cc-ea5080eecd7e"
   },
   "outputs": [
    {
     "name": "stdout",
     "output_type": "stream",
     "text": [
      "Drive already mounted at /content/drive; to attempt to forcibly remount, call drive.mount(\"/content/drive\", force_remount=True).\n"
     ]
    }
   ],
   "source": [
    "from google.colab import drive\n",
    "drive.mount('/content/drive')"
   ]
  },
  {
   "cell_type": "code",
   "execution_count": 36,
   "metadata": {
    "id": "3dDZ3StCV4qq"
   },
   "outputs": [],
   "source": [
    "import pandas as pd"
   ]
  },
  {
   "cell_type": "code",
   "execution_count": 37,
   "metadata": {
    "colab": {
     "base_uri": "https://localhost:8080/",
     "height": 878
    },
    "id": "wkcA_tcIWN_I",
    "outputId": "8a6954e8-7edb-4499-c6e5-9c9f10601fce"
   },
   "outputs": [
    {
     "data": {
      "application/vnd.google.colaboratory.intrinsic+json": {
       "type": "dataframe",
       "variable_name": "df"
      },
      "text/html": [
       "\n",
       "  <div id=\"df-322a8e59-7cca-439b-804c-cf71878171fe\" class=\"colab-df-container\">\n",
       "    <div>\n",
       "<style scoped>\n",
       "    .dataframe tbody tr th:only-of-type {\n",
       "        vertical-align: middle;\n",
       "    }\n",
       "\n",
       "    .dataframe tbody tr th {\n",
       "        vertical-align: top;\n",
       "    }\n",
       "\n",
       "    .dataframe thead th {\n",
       "        text-align: right;\n",
       "    }\n",
       "</style>\n",
       "<table border=\"1\" class=\"dataframe\">\n",
       "  <thead>\n",
       "    <tr style=\"text-align: right;\">\n",
       "      <th></th>\n",
       "      <th>Unnamed: 0</th>\n",
       "      <th>trans_date_trans_time</th>\n",
       "      <th>cc_num</th>\n",
       "      <th>merchant</th>\n",
       "      <th>category</th>\n",
       "      <th>amt</th>\n",
       "      <th>first</th>\n",
       "      <th>last</th>\n",
       "      <th>gender</th>\n",
       "      <th>street</th>\n",
       "      <th>...</th>\n",
       "      <th>lat</th>\n",
       "      <th>long</th>\n",
       "      <th>city_pop</th>\n",
       "      <th>job</th>\n",
       "      <th>dob</th>\n",
       "      <th>trans_num</th>\n",
       "      <th>unix_time</th>\n",
       "      <th>merch_lat</th>\n",
       "      <th>merch_long</th>\n",
       "      <th>is_fraud</th>\n",
       "    </tr>\n",
       "  </thead>\n",
       "  <tbody>\n",
       "    <tr>\n",
       "      <th>0</th>\n",
       "      <td>0</td>\n",
       "      <td>2019-01-01 00:00:18</td>\n",
       "      <td>2703186189652095</td>\n",
       "      <td>fraud_Rippin, Kub and Mann</td>\n",
       "      <td>misc_net</td>\n",
       "      <td>4.97</td>\n",
       "      <td>Jennifer</td>\n",
       "      <td>Banks</td>\n",
       "      <td>F</td>\n",
       "      <td>561 Perry Cove</td>\n",
       "      <td>...</td>\n",
       "      <td>36.0788</td>\n",
       "      <td>-81.1781</td>\n",
       "      <td>3495</td>\n",
       "      <td>Psychologist, counselling</td>\n",
       "      <td>1988-03-09</td>\n",
       "      <td>0b242abb623afc578575680df30655b9</td>\n",
       "      <td>1325376018</td>\n",
       "      <td>36.011293</td>\n",
       "      <td>-82.048315</td>\n",
       "      <td>0</td>\n",
       "    </tr>\n",
       "    <tr>\n",
       "      <th>1</th>\n",
       "      <td>1</td>\n",
       "      <td>2019-01-01 00:00:44</td>\n",
       "      <td>630423337322</td>\n",
       "      <td>fraud_Heller, Gutmann and Zieme</td>\n",
       "      <td>grocery_pos</td>\n",
       "      <td>107.23</td>\n",
       "      <td>Stephanie</td>\n",
       "      <td>Gill</td>\n",
       "      <td>F</td>\n",
       "      <td>43039 Riley Greens Suite 393</td>\n",
       "      <td>...</td>\n",
       "      <td>48.8878</td>\n",
       "      <td>-118.2105</td>\n",
       "      <td>149</td>\n",
       "      <td>Special educational needs teacher</td>\n",
       "      <td>1978-06-21</td>\n",
       "      <td>1f76529f8574734946361c461b024d99</td>\n",
       "      <td>1325376044</td>\n",
       "      <td>49.159047</td>\n",
       "      <td>-118.186462</td>\n",
       "      <td>0</td>\n",
       "    </tr>\n",
       "    <tr>\n",
       "      <th>2</th>\n",
       "      <td>2</td>\n",
       "      <td>2019-01-01 00:00:51</td>\n",
       "      <td>38859492057661</td>\n",
       "      <td>fraud_Lind-Buckridge</td>\n",
       "      <td>entertainment</td>\n",
       "      <td>220.11</td>\n",
       "      <td>Edward</td>\n",
       "      <td>Sanchez</td>\n",
       "      <td>M</td>\n",
       "      <td>594 White Dale Suite 530</td>\n",
       "      <td>...</td>\n",
       "      <td>42.1808</td>\n",
       "      <td>-112.2620</td>\n",
       "      <td>4154</td>\n",
       "      <td>Nature conservation officer</td>\n",
       "      <td>1962-01-19</td>\n",
       "      <td>a1a22d70485983eac12b5b88dad1cf95</td>\n",
       "      <td>1325376051</td>\n",
       "      <td>43.150704</td>\n",
       "      <td>-112.154481</td>\n",
       "      <td>0</td>\n",
       "    </tr>\n",
       "    <tr>\n",
       "      <th>3</th>\n",
       "      <td>3</td>\n",
       "      <td>2019-01-01 00:01:16</td>\n",
       "      <td>3534093764340240</td>\n",
       "      <td>fraud_Kutch, Hermiston and Farrell</td>\n",
       "      <td>gas_transport</td>\n",
       "      <td>45.00</td>\n",
       "      <td>Jeremy</td>\n",
       "      <td>White</td>\n",
       "      <td>M</td>\n",
       "      <td>9443 Cynthia Court Apt. 038</td>\n",
       "      <td>...</td>\n",
       "      <td>46.2306</td>\n",
       "      <td>-112.1138</td>\n",
       "      <td>1939</td>\n",
       "      <td>Patent attorney</td>\n",
       "      <td>1967-01-12</td>\n",
       "      <td>6b849c168bdad6f867558c3793159a81</td>\n",
       "      <td>1325376076</td>\n",
       "      <td>47.034331</td>\n",
       "      <td>-112.561071</td>\n",
       "      <td>0</td>\n",
       "    </tr>\n",
       "    <tr>\n",
       "      <th>4</th>\n",
       "      <td>4</td>\n",
       "      <td>2019-01-01 00:03:06</td>\n",
       "      <td>375534208663984</td>\n",
       "      <td>fraud_Keeling-Crist</td>\n",
       "      <td>misc_pos</td>\n",
       "      <td>41.96</td>\n",
       "      <td>Tyler</td>\n",
       "      <td>Garcia</td>\n",
       "      <td>M</td>\n",
       "      <td>408 Bradley Rest</td>\n",
       "      <td>...</td>\n",
       "      <td>38.4207</td>\n",
       "      <td>-79.4629</td>\n",
       "      <td>99</td>\n",
       "      <td>Dance movement psychotherapist</td>\n",
       "      <td>1986-03-28</td>\n",
       "      <td>a41d7549acf90789359a9aa5346dcb46</td>\n",
       "      <td>1325376186</td>\n",
       "      <td>38.674999</td>\n",
       "      <td>-78.632459</td>\n",
       "      <td>0</td>\n",
       "    </tr>\n",
       "    <tr>\n",
       "      <th>...</th>\n",
       "      <td>...</td>\n",
       "      <td>...</td>\n",
       "      <td>...</td>\n",
       "      <td>...</td>\n",
       "      <td>...</td>\n",
       "      <td>...</td>\n",
       "      <td>...</td>\n",
       "      <td>...</td>\n",
       "      <td>...</td>\n",
       "      <td>...</td>\n",
       "      <td>...</td>\n",
       "      <td>...</td>\n",
       "      <td>...</td>\n",
       "      <td>...</td>\n",
       "      <td>...</td>\n",
       "      <td>...</td>\n",
       "      <td>...</td>\n",
       "      <td>...</td>\n",
       "      <td>...</td>\n",
       "      <td>...</td>\n",
       "      <td>...</td>\n",
       "    </tr>\n",
       "    <tr>\n",
       "      <th>1296670</th>\n",
       "      <td>1296670</td>\n",
       "      <td>2020-06-21 12:12:08</td>\n",
       "      <td>30263540414123</td>\n",
       "      <td>fraud_Reichel Inc</td>\n",
       "      <td>entertainment</td>\n",
       "      <td>15.56</td>\n",
       "      <td>Erik</td>\n",
       "      <td>Patterson</td>\n",
       "      <td>M</td>\n",
       "      <td>162 Jessica Row Apt. 072</td>\n",
       "      <td>...</td>\n",
       "      <td>37.7175</td>\n",
       "      <td>-112.4777</td>\n",
       "      <td>258</td>\n",
       "      <td>Geoscientist</td>\n",
       "      <td>1961-11-24</td>\n",
       "      <td>440b587732da4dc1a6395aba5fb41669</td>\n",
       "      <td>1371816728</td>\n",
       "      <td>36.841266</td>\n",
       "      <td>-111.690765</td>\n",
       "      <td>0</td>\n",
       "    </tr>\n",
       "    <tr>\n",
       "      <th>1296671</th>\n",
       "      <td>1296671</td>\n",
       "      <td>2020-06-21 12:12:19</td>\n",
       "      <td>6011149206456997</td>\n",
       "      <td>fraud_Abernathy and Sons</td>\n",
       "      <td>food_dining</td>\n",
       "      <td>51.70</td>\n",
       "      <td>Jeffrey</td>\n",
       "      <td>White</td>\n",
       "      <td>M</td>\n",
       "      <td>8617 Holmes Terrace Suite 651</td>\n",
       "      <td>...</td>\n",
       "      <td>39.2667</td>\n",
       "      <td>-77.5101</td>\n",
       "      <td>100</td>\n",
       "      <td>Production assistant, television</td>\n",
       "      <td>1979-12-11</td>\n",
       "      <td>278000d2e0d2277d1de2f890067dcc0a</td>\n",
       "      <td>1371816739</td>\n",
       "      <td>38.906881</td>\n",
       "      <td>-78.246528</td>\n",
       "      <td>0</td>\n",
       "    </tr>\n",
       "    <tr>\n",
       "      <th>1296672</th>\n",
       "      <td>1296672</td>\n",
       "      <td>2020-06-21 12:12:32</td>\n",
       "      <td>3514865930894695</td>\n",
       "      <td>fraud_Stiedemann Ltd</td>\n",
       "      <td>food_dining</td>\n",
       "      <td>105.93</td>\n",
       "      <td>Christopher</td>\n",
       "      <td>Castaneda</td>\n",
       "      <td>M</td>\n",
       "      <td>1632 Cohen Drive Suite 639</td>\n",
       "      <td>...</td>\n",
       "      <td>32.9396</td>\n",
       "      <td>-105.8189</td>\n",
       "      <td>899</td>\n",
       "      <td>Naval architect</td>\n",
       "      <td>1967-08-30</td>\n",
       "      <td>483f52fe67fabef353d552c1e662974c</td>\n",
       "      <td>1371816752</td>\n",
       "      <td>33.619513</td>\n",
       "      <td>-105.130529</td>\n",
       "      <td>0</td>\n",
       "    </tr>\n",
       "    <tr>\n",
       "      <th>1296673</th>\n",
       "      <td>1296673</td>\n",
       "      <td>2020-06-21 12:13:36</td>\n",
       "      <td>2720012583106919</td>\n",
       "      <td>fraud_Reinger, Weissnat and Strosin</td>\n",
       "      <td>food_dining</td>\n",
       "      <td>74.90</td>\n",
       "      <td>Joseph</td>\n",
       "      <td>Murray</td>\n",
       "      <td>M</td>\n",
       "      <td>42933 Ryan Underpass</td>\n",
       "      <td>...</td>\n",
       "      <td>43.3526</td>\n",
       "      <td>-102.5411</td>\n",
       "      <td>1126</td>\n",
       "      <td>Volunteer coordinator</td>\n",
       "      <td>1980-08-18</td>\n",
       "      <td>d667cdcbadaaed3da3f4020e83591c83</td>\n",
       "      <td>1371816816</td>\n",
       "      <td>42.788940</td>\n",
       "      <td>-103.241160</td>\n",
       "      <td>0</td>\n",
       "    </tr>\n",
       "    <tr>\n",
       "      <th>1296674</th>\n",
       "      <td>1296674</td>\n",
       "      <td>2020-06-21 12:13:37</td>\n",
       "      <td>4292902571056973207</td>\n",
       "      <td>fraud_Langosh, Wintheiser and Hyatt</td>\n",
       "      <td>food_dining</td>\n",
       "      <td>4.30</td>\n",
       "      <td>Jeffrey</td>\n",
       "      <td>Smith</td>\n",
       "      <td>M</td>\n",
       "      <td>135 Joseph Mountains</td>\n",
       "      <td>...</td>\n",
       "      <td>45.8433</td>\n",
       "      <td>-113.8748</td>\n",
       "      <td>218</td>\n",
       "      <td>Therapist, horticultural</td>\n",
       "      <td>1995-08-16</td>\n",
       "      <td>8f7c8e4ab7f25875d753b422917c98c9</td>\n",
       "      <td>1371816817</td>\n",
       "      <td>46.565983</td>\n",
       "      <td>-114.186110</td>\n",
       "      <td>0</td>\n",
       "    </tr>\n",
       "  </tbody>\n",
       "</table>\n",
       "<p>1296675 rows × 23 columns</p>\n",
       "</div>\n",
       "    <div class=\"colab-df-buttons\">\n",
       "\n",
       "  <div class=\"colab-df-container\">\n",
       "    <button class=\"colab-df-convert\" onclick=\"convertToInteractive('df-322a8e59-7cca-439b-804c-cf71878171fe')\"\n",
       "            title=\"Convert this dataframe to an interactive table.\"\n",
       "            style=\"display:none;\">\n",
       "\n",
       "  <svg xmlns=\"http://www.w3.org/2000/svg\" height=\"24px\" viewBox=\"0 -960 960 960\">\n",
       "    <path d=\"M120-120v-720h720v720H120Zm60-500h600v-160H180v160Zm220 220h160v-160H400v160Zm0 220h160v-160H400v160ZM180-400h160v-160H180v160Zm440 0h160v-160H620v160ZM180-180h160v-160H180v160Zm440 0h160v-160H620v160Z\"/>\n",
       "  </svg>\n",
       "    </button>\n",
       "\n",
       "  <style>\n",
       "    .colab-df-container {\n",
       "      display:flex;\n",
       "      gap: 12px;\n",
       "    }\n",
       "\n",
       "    .colab-df-convert {\n",
       "      background-color: #E8F0FE;\n",
       "      border: none;\n",
       "      border-radius: 50%;\n",
       "      cursor: pointer;\n",
       "      display: none;\n",
       "      fill: #1967D2;\n",
       "      height: 32px;\n",
       "      padding: 0 0 0 0;\n",
       "      width: 32px;\n",
       "    }\n",
       "\n",
       "    .colab-df-convert:hover {\n",
       "      background-color: #E2EBFA;\n",
       "      box-shadow: 0px 1px 2px rgba(60, 64, 67, 0.3), 0px 1px 3px 1px rgba(60, 64, 67, 0.15);\n",
       "      fill: #174EA6;\n",
       "    }\n",
       "\n",
       "    .colab-df-buttons div {\n",
       "      margin-bottom: 4px;\n",
       "    }\n",
       "\n",
       "    [theme=dark] .colab-df-convert {\n",
       "      background-color: #3B4455;\n",
       "      fill: #D2E3FC;\n",
       "    }\n",
       "\n",
       "    [theme=dark] .colab-df-convert:hover {\n",
       "      background-color: #434B5C;\n",
       "      box-shadow: 0px 1px 3px 1px rgba(0, 0, 0, 0.15);\n",
       "      filter: drop-shadow(0px 1px 2px rgba(0, 0, 0, 0.3));\n",
       "      fill: #FFFFFF;\n",
       "    }\n",
       "  </style>\n",
       "\n",
       "    <script>\n",
       "      const buttonEl =\n",
       "        document.querySelector('#df-322a8e59-7cca-439b-804c-cf71878171fe button.colab-df-convert');\n",
       "      buttonEl.style.display =\n",
       "        google.colab.kernel.accessAllowed ? 'block' : 'none';\n",
       "\n",
       "      async function convertToInteractive(key) {\n",
       "        const element = document.querySelector('#df-322a8e59-7cca-439b-804c-cf71878171fe');\n",
       "        const dataTable =\n",
       "          await google.colab.kernel.invokeFunction('convertToInteractive',\n",
       "                                                    [key], {});\n",
       "        if (!dataTable) return;\n",
       "\n",
       "        const docLinkHtml = 'Like what you see? Visit the ' +\n",
       "          '<a target=\"_blank\" href=https://colab.research.google.com/notebooks/data_table.ipynb>data table notebook</a>'\n",
       "          + ' to learn more about interactive tables.';\n",
       "        element.innerHTML = '';\n",
       "        dataTable['output_type'] = 'display_data';\n",
       "        await google.colab.output.renderOutput(dataTable, element);\n",
       "        const docLink = document.createElement('div');\n",
       "        docLink.innerHTML = docLinkHtml;\n",
       "        element.appendChild(docLink);\n",
       "      }\n",
       "    </script>\n",
       "  </div>\n",
       "\n",
       "\n",
       "<div id=\"df-614ba715-3dae-45a3-a003-2b7073d585dd\">\n",
       "  <button class=\"colab-df-quickchart\" onclick=\"quickchart('df-614ba715-3dae-45a3-a003-2b7073d585dd')\"\n",
       "            title=\"Suggest charts\"\n",
       "            style=\"display:none;\">\n",
       "\n",
       "<svg xmlns=\"http://www.w3.org/2000/svg\" height=\"24px\"viewBox=\"0 0 24 24\"\n",
       "     width=\"24px\">\n",
       "    <g>\n",
       "        <path d=\"M19 3H5c-1.1 0-2 .9-2 2v14c0 1.1.9 2 2 2h14c1.1 0 2-.9 2-2V5c0-1.1-.9-2-2-2zM9 17H7v-7h2v7zm4 0h-2V7h2v10zm4 0h-2v-4h2v4z\"/>\n",
       "    </g>\n",
       "</svg>\n",
       "  </button>\n",
       "\n",
       "<style>\n",
       "  .colab-df-quickchart {\n",
       "      --bg-color: #E8F0FE;\n",
       "      --fill-color: #1967D2;\n",
       "      --hover-bg-color: #E2EBFA;\n",
       "      --hover-fill-color: #174EA6;\n",
       "      --disabled-fill-color: #AAA;\n",
       "      --disabled-bg-color: #DDD;\n",
       "  }\n",
       "\n",
       "  [theme=dark] .colab-df-quickchart {\n",
       "      --bg-color: #3B4455;\n",
       "      --fill-color: #D2E3FC;\n",
       "      --hover-bg-color: #434B5C;\n",
       "      --hover-fill-color: #FFFFFF;\n",
       "      --disabled-bg-color: #3B4455;\n",
       "      --disabled-fill-color: #666;\n",
       "  }\n",
       "\n",
       "  .colab-df-quickchart {\n",
       "    background-color: var(--bg-color);\n",
       "    border: none;\n",
       "    border-radius: 50%;\n",
       "    cursor: pointer;\n",
       "    display: none;\n",
       "    fill: var(--fill-color);\n",
       "    height: 32px;\n",
       "    padding: 0;\n",
       "    width: 32px;\n",
       "  }\n",
       "\n",
       "  .colab-df-quickchart:hover {\n",
       "    background-color: var(--hover-bg-color);\n",
       "    box-shadow: 0 1px 2px rgba(60, 64, 67, 0.3), 0 1px 3px 1px rgba(60, 64, 67, 0.15);\n",
       "    fill: var(--button-hover-fill-color);\n",
       "  }\n",
       "\n",
       "  .colab-df-quickchart-complete:disabled,\n",
       "  .colab-df-quickchart-complete:disabled:hover {\n",
       "    background-color: var(--disabled-bg-color);\n",
       "    fill: var(--disabled-fill-color);\n",
       "    box-shadow: none;\n",
       "  }\n",
       "\n",
       "  .colab-df-spinner {\n",
       "    border: 2px solid var(--fill-color);\n",
       "    border-color: transparent;\n",
       "    border-bottom-color: var(--fill-color);\n",
       "    animation:\n",
       "      spin 1s steps(1) infinite;\n",
       "  }\n",
       "\n",
       "  @keyframes spin {\n",
       "    0% {\n",
       "      border-color: transparent;\n",
       "      border-bottom-color: var(--fill-color);\n",
       "      border-left-color: var(--fill-color);\n",
       "    }\n",
       "    20% {\n",
       "      border-color: transparent;\n",
       "      border-left-color: var(--fill-color);\n",
       "      border-top-color: var(--fill-color);\n",
       "    }\n",
       "    30% {\n",
       "      border-color: transparent;\n",
       "      border-left-color: var(--fill-color);\n",
       "      border-top-color: var(--fill-color);\n",
       "      border-right-color: var(--fill-color);\n",
       "    }\n",
       "    40% {\n",
       "      border-color: transparent;\n",
       "      border-right-color: var(--fill-color);\n",
       "      border-top-color: var(--fill-color);\n",
       "    }\n",
       "    60% {\n",
       "      border-color: transparent;\n",
       "      border-right-color: var(--fill-color);\n",
       "    }\n",
       "    80% {\n",
       "      border-color: transparent;\n",
       "      border-right-color: var(--fill-color);\n",
       "      border-bottom-color: var(--fill-color);\n",
       "    }\n",
       "    90% {\n",
       "      border-color: transparent;\n",
       "      border-bottom-color: var(--fill-color);\n",
       "    }\n",
       "  }\n",
       "</style>\n",
       "\n",
       "  <script>\n",
       "    async function quickchart(key) {\n",
       "      const quickchartButtonEl =\n",
       "        document.querySelector('#' + key + ' button');\n",
       "      quickchartButtonEl.disabled = true;  // To prevent multiple clicks.\n",
       "      quickchartButtonEl.classList.add('colab-df-spinner');\n",
       "      try {\n",
       "        const charts = await google.colab.kernel.invokeFunction(\n",
       "            'suggestCharts', [key], {});\n",
       "      } catch (error) {\n",
       "        console.error('Error during call to suggestCharts:', error);\n",
       "      }\n",
       "      quickchartButtonEl.classList.remove('colab-df-spinner');\n",
       "      quickchartButtonEl.classList.add('colab-df-quickchart-complete');\n",
       "    }\n",
       "    (() => {\n",
       "      let quickchartButtonEl =\n",
       "        document.querySelector('#df-614ba715-3dae-45a3-a003-2b7073d585dd button');\n",
       "      quickchartButtonEl.style.display =\n",
       "        google.colab.kernel.accessAllowed ? 'block' : 'none';\n",
       "    })();\n",
       "  </script>\n",
       "</div>\n",
       "    </div>\n",
       "  </div>\n"
      ],
      "text/plain": [
       "         Unnamed: 0 trans_date_trans_time               cc_num  \\\n",
       "0                 0   2019-01-01 00:00:18     2703186189652095   \n",
       "1                 1   2019-01-01 00:00:44         630423337322   \n",
       "2                 2   2019-01-01 00:00:51       38859492057661   \n",
       "3                 3   2019-01-01 00:01:16     3534093764340240   \n",
       "4                 4   2019-01-01 00:03:06      375534208663984   \n",
       "...             ...                   ...                  ...   \n",
       "1296670     1296670   2020-06-21 12:12:08       30263540414123   \n",
       "1296671     1296671   2020-06-21 12:12:19     6011149206456997   \n",
       "1296672     1296672   2020-06-21 12:12:32     3514865930894695   \n",
       "1296673     1296673   2020-06-21 12:13:36     2720012583106919   \n",
       "1296674     1296674   2020-06-21 12:13:37  4292902571056973207   \n",
       "\n",
       "                                    merchant       category     amt  \\\n",
       "0                 fraud_Rippin, Kub and Mann       misc_net    4.97   \n",
       "1            fraud_Heller, Gutmann and Zieme    grocery_pos  107.23   \n",
       "2                       fraud_Lind-Buckridge  entertainment  220.11   \n",
       "3         fraud_Kutch, Hermiston and Farrell  gas_transport   45.00   \n",
       "4                        fraud_Keeling-Crist       misc_pos   41.96   \n",
       "...                                      ...            ...     ...   \n",
       "1296670                    fraud_Reichel Inc  entertainment   15.56   \n",
       "1296671             fraud_Abernathy and Sons    food_dining   51.70   \n",
       "1296672                 fraud_Stiedemann Ltd    food_dining  105.93   \n",
       "1296673  fraud_Reinger, Weissnat and Strosin    food_dining   74.90   \n",
       "1296674  fraud_Langosh, Wintheiser and Hyatt    food_dining    4.30   \n",
       "\n",
       "               first       last gender                         street  ...  \\\n",
       "0           Jennifer      Banks      F                 561 Perry Cove  ...   \n",
       "1          Stephanie       Gill      F   43039 Riley Greens Suite 393  ...   \n",
       "2             Edward    Sanchez      M       594 White Dale Suite 530  ...   \n",
       "3             Jeremy      White      M    9443 Cynthia Court Apt. 038  ...   \n",
       "4              Tyler     Garcia      M               408 Bradley Rest  ...   \n",
       "...              ...        ...    ...                            ...  ...   \n",
       "1296670         Erik  Patterson      M       162 Jessica Row Apt. 072  ...   \n",
       "1296671      Jeffrey      White      M  8617 Holmes Terrace Suite 651  ...   \n",
       "1296672  Christopher  Castaneda      M     1632 Cohen Drive Suite 639  ...   \n",
       "1296673       Joseph     Murray      M           42933 Ryan Underpass  ...   \n",
       "1296674      Jeffrey      Smith      M           135 Joseph Mountains  ...   \n",
       "\n",
       "             lat      long  city_pop                                job  \\\n",
       "0        36.0788  -81.1781      3495          Psychologist, counselling   \n",
       "1        48.8878 -118.2105       149  Special educational needs teacher   \n",
       "2        42.1808 -112.2620      4154        Nature conservation officer   \n",
       "3        46.2306 -112.1138      1939                    Patent attorney   \n",
       "4        38.4207  -79.4629        99     Dance movement psychotherapist   \n",
       "...          ...       ...       ...                                ...   \n",
       "1296670  37.7175 -112.4777       258                       Geoscientist   \n",
       "1296671  39.2667  -77.5101       100   Production assistant, television   \n",
       "1296672  32.9396 -105.8189       899                    Naval architect   \n",
       "1296673  43.3526 -102.5411      1126              Volunteer coordinator   \n",
       "1296674  45.8433 -113.8748       218           Therapist, horticultural   \n",
       "\n",
       "                dob                         trans_num   unix_time  merch_lat  \\\n",
       "0        1988-03-09  0b242abb623afc578575680df30655b9  1325376018  36.011293   \n",
       "1        1978-06-21  1f76529f8574734946361c461b024d99  1325376044  49.159047   \n",
       "2        1962-01-19  a1a22d70485983eac12b5b88dad1cf95  1325376051  43.150704   \n",
       "3        1967-01-12  6b849c168bdad6f867558c3793159a81  1325376076  47.034331   \n",
       "4        1986-03-28  a41d7549acf90789359a9aa5346dcb46  1325376186  38.674999   \n",
       "...             ...                               ...         ...        ...   \n",
       "1296670  1961-11-24  440b587732da4dc1a6395aba5fb41669  1371816728  36.841266   \n",
       "1296671  1979-12-11  278000d2e0d2277d1de2f890067dcc0a  1371816739  38.906881   \n",
       "1296672  1967-08-30  483f52fe67fabef353d552c1e662974c  1371816752  33.619513   \n",
       "1296673  1980-08-18  d667cdcbadaaed3da3f4020e83591c83  1371816816  42.788940   \n",
       "1296674  1995-08-16  8f7c8e4ab7f25875d753b422917c98c9  1371816817  46.565983   \n",
       "\n",
       "         merch_long  is_fraud  \n",
       "0        -82.048315         0  \n",
       "1       -118.186462         0  \n",
       "2       -112.154481         0  \n",
       "3       -112.561071         0  \n",
       "4        -78.632459         0  \n",
       "...             ...       ...  \n",
       "1296670 -111.690765         0  \n",
       "1296671  -78.246528         0  \n",
       "1296672 -105.130529         0  \n",
       "1296673 -103.241160         0  \n",
       "1296674 -114.186110         0  \n",
       "\n",
       "[1296675 rows x 23 columns]"
      ]
     },
     "execution_count": 37,
     "metadata": {},
     "output_type": "execute_result"
    }
   ],
   "source": [
    "df=pd.read_csv(r\"/content/drive/MyDrive/Fraud_Detection_Project/fraudTrain.csv\")\n",
    "df"
   ]
  },
  {
   "cell_type": "code",
   "execution_count": 38,
   "metadata": {
    "colab": {
     "base_uri": "https://localhost:8080/"
    },
    "id": "Xyb3CbRbXJi6",
    "outputId": "bf2ee396-051d-4f0a-fb31-c14a715eaaf7"
   },
   "outputs": [
    {
     "name": "stdout",
     "output_type": "stream",
     "text": [
      "<class 'pandas.core.frame.DataFrame'>\n",
      "RangeIndex: 1296675 entries, 0 to 1296674\n",
      "Data columns (total 23 columns):\n",
      " #   Column                 Non-Null Count    Dtype  \n",
      "---  ------                 --------------    -----  \n",
      " 0   Unnamed: 0             1296675 non-null  int64  \n",
      " 1   trans_date_trans_time  1296675 non-null  object \n",
      " 2   cc_num                 1296675 non-null  int64  \n",
      " 3   merchant               1296675 non-null  object \n",
      " 4   category               1296675 non-null  object \n",
      " 5   amt                    1296675 non-null  float64\n",
      " 6   first                  1296675 non-null  object \n",
      " 7   last                   1296675 non-null  object \n",
      " 8   gender                 1296675 non-null  object \n",
      " 9   street                 1296675 non-null  object \n",
      " 10  city                   1296675 non-null  object \n",
      " 11  state                  1296675 non-null  object \n",
      " 12  zip                    1296675 non-null  int64  \n",
      " 13  lat                    1296675 non-null  float64\n",
      " 14  long                   1296675 non-null  float64\n",
      " 15  city_pop               1296675 non-null  int64  \n",
      " 16  job                    1296675 non-null  object \n",
      " 17  dob                    1296675 non-null  object \n",
      " 18  trans_num              1296675 non-null  object \n",
      " 19  unix_time              1296675 non-null  int64  \n",
      " 20  merch_lat              1296675 non-null  float64\n",
      " 21  merch_long             1296675 non-null  float64\n",
      " 22  is_fraud               1296675 non-null  int64  \n",
      "dtypes: float64(5), int64(6), object(12)\n",
      "memory usage: 227.5+ MB\n"
     ]
    }
   ],
   "source": [
    "df.info()"
   ]
  },
  {
   "cell_type": "code",
   "execution_count": 39,
   "metadata": {
    "id": "yzyZl4sLWux3"
   },
   "outputs": [],
   "source": [
    "columns_to_drop = ['Unnamed: 0', 'trans_date_trans_time' , 'unix_time' , 'merch_lat',  'merch_long','lat','long','merchant','first','last','dob']\n",
    "df.drop(columns=columns_to_drop, inplace=True)\n"
   ]
  },
  {
   "cell_type": "code",
   "execution_count": 40,
   "metadata": {
    "colab": {
     "base_uri": "https://localhost:8080/",
     "height": 860
    },
    "id": "sGRqQecXY24V",
    "outputId": "b9b971de-5ce7-4f19-dac5-dcfa5fb5b475"
   },
   "outputs": [
    {
     "data": {
      "application/vnd.google.colaboratory.intrinsic+json": {
       "type": "dataframe",
       "variable_name": "df"
      },
      "text/html": [
       "\n",
       "  <div id=\"df-9354ceb8-44c9-4dac-9bc5-9d3c161a8926\" class=\"colab-df-container\">\n",
       "    <div>\n",
       "<style scoped>\n",
       "    .dataframe tbody tr th:only-of-type {\n",
       "        vertical-align: middle;\n",
       "    }\n",
       "\n",
       "    .dataframe tbody tr th {\n",
       "        vertical-align: top;\n",
       "    }\n",
       "\n",
       "    .dataframe thead th {\n",
       "        text-align: right;\n",
       "    }\n",
       "</style>\n",
       "<table border=\"1\" class=\"dataframe\">\n",
       "  <thead>\n",
       "    <tr style=\"text-align: right;\">\n",
       "      <th></th>\n",
       "      <th>cc_num</th>\n",
       "      <th>category</th>\n",
       "      <th>amt</th>\n",
       "      <th>gender</th>\n",
       "      <th>street</th>\n",
       "      <th>city</th>\n",
       "      <th>state</th>\n",
       "      <th>zip</th>\n",
       "      <th>city_pop</th>\n",
       "      <th>job</th>\n",
       "      <th>trans_num</th>\n",
       "      <th>is_fraud</th>\n",
       "    </tr>\n",
       "  </thead>\n",
       "  <tbody>\n",
       "    <tr>\n",
       "      <th>0</th>\n",
       "      <td>2703186189652095</td>\n",
       "      <td>misc_net</td>\n",
       "      <td>4.97</td>\n",
       "      <td>F</td>\n",
       "      <td>561 Perry Cove</td>\n",
       "      <td>Moravian Falls</td>\n",
       "      <td>NC</td>\n",
       "      <td>28654</td>\n",
       "      <td>3495</td>\n",
       "      <td>Psychologist, counselling</td>\n",
       "      <td>0b242abb623afc578575680df30655b9</td>\n",
       "      <td>0</td>\n",
       "    </tr>\n",
       "    <tr>\n",
       "      <th>1</th>\n",
       "      <td>630423337322</td>\n",
       "      <td>grocery_pos</td>\n",
       "      <td>107.23</td>\n",
       "      <td>F</td>\n",
       "      <td>43039 Riley Greens Suite 393</td>\n",
       "      <td>Orient</td>\n",
       "      <td>WA</td>\n",
       "      <td>99160</td>\n",
       "      <td>149</td>\n",
       "      <td>Special educational needs teacher</td>\n",
       "      <td>1f76529f8574734946361c461b024d99</td>\n",
       "      <td>0</td>\n",
       "    </tr>\n",
       "    <tr>\n",
       "      <th>2</th>\n",
       "      <td>38859492057661</td>\n",
       "      <td>entertainment</td>\n",
       "      <td>220.11</td>\n",
       "      <td>M</td>\n",
       "      <td>594 White Dale Suite 530</td>\n",
       "      <td>Malad City</td>\n",
       "      <td>ID</td>\n",
       "      <td>83252</td>\n",
       "      <td>4154</td>\n",
       "      <td>Nature conservation officer</td>\n",
       "      <td>a1a22d70485983eac12b5b88dad1cf95</td>\n",
       "      <td>0</td>\n",
       "    </tr>\n",
       "    <tr>\n",
       "      <th>3</th>\n",
       "      <td>3534093764340240</td>\n",
       "      <td>gas_transport</td>\n",
       "      <td>45.00</td>\n",
       "      <td>M</td>\n",
       "      <td>9443 Cynthia Court Apt. 038</td>\n",
       "      <td>Boulder</td>\n",
       "      <td>MT</td>\n",
       "      <td>59632</td>\n",
       "      <td>1939</td>\n",
       "      <td>Patent attorney</td>\n",
       "      <td>6b849c168bdad6f867558c3793159a81</td>\n",
       "      <td>0</td>\n",
       "    </tr>\n",
       "    <tr>\n",
       "      <th>4</th>\n",
       "      <td>375534208663984</td>\n",
       "      <td>misc_pos</td>\n",
       "      <td>41.96</td>\n",
       "      <td>M</td>\n",
       "      <td>408 Bradley Rest</td>\n",
       "      <td>Doe Hill</td>\n",
       "      <td>VA</td>\n",
       "      <td>24433</td>\n",
       "      <td>99</td>\n",
       "      <td>Dance movement psychotherapist</td>\n",
       "      <td>a41d7549acf90789359a9aa5346dcb46</td>\n",
       "      <td>0</td>\n",
       "    </tr>\n",
       "    <tr>\n",
       "      <th>...</th>\n",
       "      <td>...</td>\n",
       "      <td>...</td>\n",
       "      <td>...</td>\n",
       "      <td>...</td>\n",
       "      <td>...</td>\n",
       "      <td>...</td>\n",
       "      <td>...</td>\n",
       "      <td>...</td>\n",
       "      <td>...</td>\n",
       "      <td>...</td>\n",
       "      <td>...</td>\n",
       "      <td>...</td>\n",
       "    </tr>\n",
       "    <tr>\n",
       "      <th>1296670</th>\n",
       "      <td>30263540414123</td>\n",
       "      <td>entertainment</td>\n",
       "      <td>15.56</td>\n",
       "      <td>M</td>\n",
       "      <td>162 Jessica Row Apt. 072</td>\n",
       "      <td>Hatch</td>\n",
       "      <td>UT</td>\n",
       "      <td>84735</td>\n",
       "      <td>258</td>\n",
       "      <td>Geoscientist</td>\n",
       "      <td>440b587732da4dc1a6395aba5fb41669</td>\n",
       "      <td>0</td>\n",
       "    </tr>\n",
       "    <tr>\n",
       "      <th>1296671</th>\n",
       "      <td>6011149206456997</td>\n",
       "      <td>food_dining</td>\n",
       "      <td>51.70</td>\n",
       "      <td>M</td>\n",
       "      <td>8617 Holmes Terrace Suite 651</td>\n",
       "      <td>Tuscarora</td>\n",
       "      <td>MD</td>\n",
       "      <td>21790</td>\n",
       "      <td>100</td>\n",
       "      <td>Production assistant, television</td>\n",
       "      <td>278000d2e0d2277d1de2f890067dcc0a</td>\n",
       "      <td>0</td>\n",
       "    </tr>\n",
       "    <tr>\n",
       "      <th>1296672</th>\n",
       "      <td>3514865930894695</td>\n",
       "      <td>food_dining</td>\n",
       "      <td>105.93</td>\n",
       "      <td>M</td>\n",
       "      <td>1632 Cohen Drive Suite 639</td>\n",
       "      <td>High Rolls Mountain Park</td>\n",
       "      <td>NM</td>\n",
       "      <td>88325</td>\n",
       "      <td>899</td>\n",
       "      <td>Naval architect</td>\n",
       "      <td>483f52fe67fabef353d552c1e662974c</td>\n",
       "      <td>0</td>\n",
       "    </tr>\n",
       "    <tr>\n",
       "      <th>1296673</th>\n",
       "      <td>2720012583106919</td>\n",
       "      <td>food_dining</td>\n",
       "      <td>74.90</td>\n",
       "      <td>M</td>\n",
       "      <td>42933 Ryan Underpass</td>\n",
       "      <td>Manderson</td>\n",
       "      <td>SD</td>\n",
       "      <td>57756</td>\n",
       "      <td>1126</td>\n",
       "      <td>Volunteer coordinator</td>\n",
       "      <td>d667cdcbadaaed3da3f4020e83591c83</td>\n",
       "      <td>0</td>\n",
       "    </tr>\n",
       "    <tr>\n",
       "      <th>1296674</th>\n",
       "      <td>4292902571056973207</td>\n",
       "      <td>food_dining</td>\n",
       "      <td>4.30</td>\n",
       "      <td>M</td>\n",
       "      <td>135 Joseph Mountains</td>\n",
       "      <td>Sula</td>\n",
       "      <td>MT</td>\n",
       "      <td>59871</td>\n",
       "      <td>218</td>\n",
       "      <td>Therapist, horticultural</td>\n",
       "      <td>8f7c8e4ab7f25875d753b422917c98c9</td>\n",
       "      <td>0</td>\n",
       "    </tr>\n",
       "  </tbody>\n",
       "</table>\n",
       "<p>1296675 rows × 12 columns</p>\n",
       "</div>\n",
       "    <div class=\"colab-df-buttons\">\n",
       "\n",
       "  <div class=\"colab-df-container\">\n",
       "    <button class=\"colab-df-convert\" onclick=\"convertToInteractive('df-9354ceb8-44c9-4dac-9bc5-9d3c161a8926')\"\n",
       "            title=\"Convert this dataframe to an interactive table.\"\n",
       "            style=\"display:none;\">\n",
       "\n",
       "  <svg xmlns=\"http://www.w3.org/2000/svg\" height=\"24px\" viewBox=\"0 -960 960 960\">\n",
       "    <path d=\"M120-120v-720h720v720H120Zm60-500h600v-160H180v160Zm220 220h160v-160H400v160Zm0 220h160v-160H400v160ZM180-400h160v-160H180v160Zm440 0h160v-160H620v160ZM180-180h160v-160H180v160Zm440 0h160v-160H620v160Z\"/>\n",
       "  </svg>\n",
       "    </button>\n",
       "\n",
       "  <style>\n",
       "    .colab-df-container {\n",
       "      display:flex;\n",
       "      gap: 12px;\n",
       "    }\n",
       "\n",
       "    .colab-df-convert {\n",
       "      background-color: #E8F0FE;\n",
       "      border: none;\n",
       "      border-radius: 50%;\n",
       "      cursor: pointer;\n",
       "      display: none;\n",
       "      fill: #1967D2;\n",
       "      height: 32px;\n",
       "      padding: 0 0 0 0;\n",
       "      width: 32px;\n",
       "    }\n",
       "\n",
       "    .colab-df-convert:hover {\n",
       "      background-color: #E2EBFA;\n",
       "      box-shadow: 0px 1px 2px rgba(60, 64, 67, 0.3), 0px 1px 3px 1px rgba(60, 64, 67, 0.15);\n",
       "      fill: #174EA6;\n",
       "    }\n",
       "\n",
       "    .colab-df-buttons div {\n",
       "      margin-bottom: 4px;\n",
       "    }\n",
       "\n",
       "    [theme=dark] .colab-df-convert {\n",
       "      background-color: #3B4455;\n",
       "      fill: #D2E3FC;\n",
       "    }\n",
       "\n",
       "    [theme=dark] .colab-df-convert:hover {\n",
       "      background-color: #434B5C;\n",
       "      box-shadow: 0px 1px 3px 1px rgba(0, 0, 0, 0.15);\n",
       "      filter: drop-shadow(0px 1px 2px rgba(0, 0, 0, 0.3));\n",
       "      fill: #FFFFFF;\n",
       "    }\n",
       "  </style>\n",
       "\n",
       "    <script>\n",
       "      const buttonEl =\n",
       "        document.querySelector('#df-9354ceb8-44c9-4dac-9bc5-9d3c161a8926 button.colab-df-convert');\n",
       "      buttonEl.style.display =\n",
       "        google.colab.kernel.accessAllowed ? 'block' : 'none';\n",
       "\n",
       "      async function convertToInteractive(key) {\n",
       "        const element = document.querySelector('#df-9354ceb8-44c9-4dac-9bc5-9d3c161a8926');\n",
       "        const dataTable =\n",
       "          await google.colab.kernel.invokeFunction('convertToInteractive',\n",
       "                                                    [key], {});\n",
       "        if (!dataTable) return;\n",
       "\n",
       "        const docLinkHtml = 'Like what you see? Visit the ' +\n",
       "          '<a target=\"_blank\" href=https://colab.research.google.com/notebooks/data_table.ipynb>data table notebook</a>'\n",
       "          + ' to learn more about interactive tables.';\n",
       "        element.innerHTML = '';\n",
       "        dataTable['output_type'] = 'display_data';\n",
       "        await google.colab.output.renderOutput(dataTable, element);\n",
       "        const docLink = document.createElement('div');\n",
       "        docLink.innerHTML = docLinkHtml;\n",
       "        element.appendChild(docLink);\n",
       "      }\n",
       "    </script>\n",
       "  </div>\n",
       "\n",
       "\n",
       "<div id=\"df-5c792369-f2e8-4b6e-8487-581abef0b5c4\">\n",
       "  <button class=\"colab-df-quickchart\" onclick=\"quickchart('df-5c792369-f2e8-4b6e-8487-581abef0b5c4')\"\n",
       "            title=\"Suggest charts\"\n",
       "            style=\"display:none;\">\n",
       "\n",
       "<svg xmlns=\"http://www.w3.org/2000/svg\" height=\"24px\"viewBox=\"0 0 24 24\"\n",
       "     width=\"24px\">\n",
       "    <g>\n",
       "        <path d=\"M19 3H5c-1.1 0-2 .9-2 2v14c0 1.1.9 2 2 2h14c1.1 0 2-.9 2-2V5c0-1.1-.9-2-2-2zM9 17H7v-7h2v7zm4 0h-2V7h2v10zm4 0h-2v-4h2v4z\"/>\n",
       "    </g>\n",
       "</svg>\n",
       "  </button>\n",
       "\n",
       "<style>\n",
       "  .colab-df-quickchart {\n",
       "      --bg-color: #E8F0FE;\n",
       "      --fill-color: #1967D2;\n",
       "      --hover-bg-color: #E2EBFA;\n",
       "      --hover-fill-color: #174EA6;\n",
       "      --disabled-fill-color: #AAA;\n",
       "      --disabled-bg-color: #DDD;\n",
       "  }\n",
       "\n",
       "  [theme=dark] .colab-df-quickchart {\n",
       "      --bg-color: #3B4455;\n",
       "      --fill-color: #D2E3FC;\n",
       "      --hover-bg-color: #434B5C;\n",
       "      --hover-fill-color: #FFFFFF;\n",
       "      --disabled-bg-color: #3B4455;\n",
       "      --disabled-fill-color: #666;\n",
       "  }\n",
       "\n",
       "  .colab-df-quickchart {\n",
       "    background-color: var(--bg-color);\n",
       "    border: none;\n",
       "    border-radius: 50%;\n",
       "    cursor: pointer;\n",
       "    display: none;\n",
       "    fill: var(--fill-color);\n",
       "    height: 32px;\n",
       "    padding: 0;\n",
       "    width: 32px;\n",
       "  }\n",
       "\n",
       "  .colab-df-quickchart:hover {\n",
       "    background-color: var(--hover-bg-color);\n",
       "    box-shadow: 0 1px 2px rgba(60, 64, 67, 0.3), 0 1px 3px 1px rgba(60, 64, 67, 0.15);\n",
       "    fill: var(--button-hover-fill-color);\n",
       "  }\n",
       "\n",
       "  .colab-df-quickchart-complete:disabled,\n",
       "  .colab-df-quickchart-complete:disabled:hover {\n",
       "    background-color: var(--disabled-bg-color);\n",
       "    fill: var(--disabled-fill-color);\n",
       "    box-shadow: none;\n",
       "  }\n",
       "\n",
       "  .colab-df-spinner {\n",
       "    border: 2px solid var(--fill-color);\n",
       "    border-color: transparent;\n",
       "    border-bottom-color: var(--fill-color);\n",
       "    animation:\n",
       "      spin 1s steps(1) infinite;\n",
       "  }\n",
       "\n",
       "  @keyframes spin {\n",
       "    0% {\n",
       "      border-color: transparent;\n",
       "      border-bottom-color: var(--fill-color);\n",
       "      border-left-color: var(--fill-color);\n",
       "    }\n",
       "    20% {\n",
       "      border-color: transparent;\n",
       "      border-left-color: var(--fill-color);\n",
       "      border-top-color: var(--fill-color);\n",
       "    }\n",
       "    30% {\n",
       "      border-color: transparent;\n",
       "      border-left-color: var(--fill-color);\n",
       "      border-top-color: var(--fill-color);\n",
       "      border-right-color: var(--fill-color);\n",
       "    }\n",
       "    40% {\n",
       "      border-color: transparent;\n",
       "      border-right-color: var(--fill-color);\n",
       "      border-top-color: var(--fill-color);\n",
       "    }\n",
       "    60% {\n",
       "      border-color: transparent;\n",
       "      border-right-color: var(--fill-color);\n",
       "    }\n",
       "    80% {\n",
       "      border-color: transparent;\n",
       "      border-right-color: var(--fill-color);\n",
       "      border-bottom-color: var(--fill-color);\n",
       "    }\n",
       "    90% {\n",
       "      border-color: transparent;\n",
       "      border-bottom-color: var(--fill-color);\n",
       "    }\n",
       "  }\n",
       "</style>\n",
       "\n",
       "  <script>\n",
       "    async function quickchart(key) {\n",
       "      const quickchartButtonEl =\n",
       "        document.querySelector('#' + key + ' button');\n",
       "      quickchartButtonEl.disabled = true;  // To prevent multiple clicks.\n",
       "      quickchartButtonEl.classList.add('colab-df-spinner');\n",
       "      try {\n",
       "        const charts = await google.colab.kernel.invokeFunction(\n",
       "            'suggestCharts', [key], {});\n",
       "      } catch (error) {\n",
       "        console.error('Error during call to suggestCharts:', error);\n",
       "      }\n",
       "      quickchartButtonEl.classList.remove('colab-df-spinner');\n",
       "      quickchartButtonEl.classList.add('colab-df-quickchart-complete');\n",
       "    }\n",
       "    (() => {\n",
       "      let quickchartButtonEl =\n",
       "        document.querySelector('#df-5c792369-f2e8-4b6e-8487-581abef0b5c4 button');\n",
       "      quickchartButtonEl.style.display =\n",
       "        google.colab.kernel.accessAllowed ? 'block' : 'none';\n",
       "    })();\n",
       "  </script>\n",
       "</div>\n",
       "    </div>\n",
       "  </div>\n"
      ],
      "text/plain": [
       "                      cc_num       category     amt gender  \\\n",
       "0           2703186189652095       misc_net    4.97      F   \n",
       "1               630423337322    grocery_pos  107.23      F   \n",
       "2             38859492057661  entertainment  220.11      M   \n",
       "3           3534093764340240  gas_transport   45.00      M   \n",
       "4            375534208663984       misc_pos   41.96      M   \n",
       "...                      ...            ...     ...    ...   \n",
       "1296670       30263540414123  entertainment   15.56      M   \n",
       "1296671     6011149206456997    food_dining   51.70      M   \n",
       "1296672     3514865930894695    food_dining  105.93      M   \n",
       "1296673     2720012583106919    food_dining   74.90      M   \n",
       "1296674  4292902571056973207    food_dining    4.30      M   \n",
       "\n",
       "                                street                      city state    zip  \\\n",
       "0                       561 Perry Cove            Moravian Falls    NC  28654   \n",
       "1         43039 Riley Greens Suite 393                    Orient    WA  99160   \n",
       "2             594 White Dale Suite 530                Malad City    ID  83252   \n",
       "3          9443 Cynthia Court Apt. 038                   Boulder    MT  59632   \n",
       "4                     408 Bradley Rest                  Doe Hill    VA  24433   \n",
       "...                                ...                       ...   ...    ...   \n",
       "1296670       162 Jessica Row Apt. 072                     Hatch    UT  84735   \n",
       "1296671  8617 Holmes Terrace Suite 651                 Tuscarora    MD  21790   \n",
       "1296672     1632 Cohen Drive Suite 639  High Rolls Mountain Park    NM  88325   \n",
       "1296673           42933 Ryan Underpass                 Manderson    SD  57756   \n",
       "1296674           135 Joseph Mountains                      Sula    MT  59871   \n",
       "\n",
       "         city_pop                                job  \\\n",
       "0            3495          Psychologist, counselling   \n",
       "1             149  Special educational needs teacher   \n",
       "2            4154        Nature conservation officer   \n",
       "3            1939                    Patent attorney   \n",
       "4              99     Dance movement psychotherapist   \n",
       "...           ...                                ...   \n",
       "1296670       258                       Geoscientist   \n",
       "1296671       100   Production assistant, television   \n",
       "1296672       899                    Naval architect   \n",
       "1296673      1126              Volunteer coordinator   \n",
       "1296674       218           Therapist, horticultural   \n",
       "\n",
       "                                trans_num  is_fraud  \n",
       "0        0b242abb623afc578575680df30655b9         0  \n",
       "1        1f76529f8574734946361c461b024d99         0  \n",
       "2        a1a22d70485983eac12b5b88dad1cf95         0  \n",
       "3        6b849c168bdad6f867558c3793159a81         0  \n",
       "4        a41d7549acf90789359a9aa5346dcb46         0  \n",
       "...                                   ...       ...  \n",
       "1296670  440b587732da4dc1a6395aba5fb41669         0  \n",
       "1296671  278000d2e0d2277d1de2f890067dcc0a         0  \n",
       "1296672  483f52fe67fabef353d552c1e662974c         0  \n",
       "1296673  d667cdcbadaaed3da3f4020e83591c83         0  \n",
       "1296674  8f7c8e4ab7f25875d753b422917c98c9         0  \n",
       "\n",
       "[1296675 rows x 12 columns]"
      ]
     },
     "execution_count": 40,
     "metadata": {},
     "output_type": "execute_result"
    }
   ],
   "source": [
    "df"
   ]
  },
  {
   "cell_type": "code",
   "execution_count": 41,
   "metadata": {
    "colab": {
     "base_uri": "https://localhost:8080/"
    },
    "id": "gHAxkS5lY5Uc",
    "outputId": "03cef073-0af6-4203-e488-989776f4c89b"
   },
   "outputs": [
    {
     "name": "stdout",
     "output_type": "stream",
     "text": [
      "<class 'pandas.core.frame.DataFrame'>\n",
      "RangeIndex: 1296675 entries, 0 to 1296674\n",
      "Data columns (total 12 columns):\n",
      " #   Column     Non-Null Count    Dtype  \n",
      "---  ------     --------------    -----  \n",
      " 0   cc_num     1296675 non-null  int64  \n",
      " 1   category   1296675 non-null  object \n",
      " 2   amt        1296675 non-null  float64\n",
      " 3   gender     1296675 non-null  object \n",
      " 4   street     1296675 non-null  object \n",
      " 5   city       1296675 non-null  object \n",
      " 6   state      1296675 non-null  object \n",
      " 7   zip        1296675 non-null  int64  \n",
      " 8   city_pop   1296675 non-null  int64  \n",
      " 9   job        1296675 non-null  object \n",
      " 10  trans_num  1296675 non-null  object \n",
      " 11  is_fraud   1296675 non-null  int64  \n",
      "dtypes: float64(1), int64(4), object(7)\n",
      "memory usage: 118.7+ MB\n"
     ]
    }
   ],
   "source": [
    "df.info()"
   ]
  },
  {
   "cell_type": "code",
   "execution_count": 42,
   "metadata": {
    "id": "edy876O-ZRi5"
   },
   "outputs": [],
   "source": [
    "columns_to_drop = ['street']\n",
    "df.drop(columns=columns_to_drop, inplace=True)"
   ]
  },
  {
   "cell_type": "code",
   "execution_count": 43,
   "metadata": {
    "colab": {
     "base_uri": "https://localhost:8080/",
     "height": 878
    },
    "id": "WDhmXs-HZhnw",
    "outputId": "a568e506-6af1-4cd9-c7d2-198e1ce1c969"
   },
   "outputs": [
    {
     "data": {
      "application/vnd.google.colaboratory.intrinsic+json": {
       "type": "dataframe",
       "variable_name": "df2"
      },
      "text/html": [
       "\n",
       "  <div id=\"df-3bf01d04-c986-4ab8-9204-a94438d40b62\" class=\"colab-df-container\">\n",
       "    <div>\n",
       "<style scoped>\n",
       "    .dataframe tbody tr th:only-of-type {\n",
       "        vertical-align: middle;\n",
       "    }\n",
       "\n",
       "    .dataframe tbody tr th {\n",
       "        vertical-align: top;\n",
       "    }\n",
       "\n",
       "    .dataframe thead th {\n",
       "        text-align: right;\n",
       "    }\n",
       "</style>\n",
       "<table border=\"1\" class=\"dataframe\">\n",
       "  <thead>\n",
       "    <tr style=\"text-align: right;\">\n",
       "      <th></th>\n",
       "      <th>Unnamed: 0</th>\n",
       "      <th>trans_date_trans_time</th>\n",
       "      <th>cc_num</th>\n",
       "      <th>merchant</th>\n",
       "      <th>category</th>\n",
       "      <th>amt</th>\n",
       "      <th>first</th>\n",
       "      <th>last</th>\n",
       "      <th>gender</th>\n",
       "      <th>street</th>\n",
       "      <th>...</th>\n",
       "      <th>lat</th>\n",
       "      <th>long</th>\n",
       "      <th>city_pop</th>\n",
       "      <th>job</th>\n",
       "      <th>dob</th>\n",
       "      <th>trans_num</th>\n",
       "      <th>unix_time</th>\n",
       "      <th>merch_lat</th>\n",
       "      <th>merch_long</th>\n",
       "      <th>is_fraud</th>\n",
       "    </tr>\n",
       "  </thead>\n",
       "  <tbody>\n",
       "    <tr>\n",
       "      <th>0</th>\n",
       "      <td>0</td>\n",
       "      <td>2020-06-21 12:14:25</td>\n",
       "      <td>2291163933867244</td>\n",
       "      <td>fraud_Kirlin and Sons</td>\n",
       "      <td>personal_care</td>\n",
       "      <td>2.86</td>\n",
       "      <td>Jeff</td>\n",
       "      <td>Elliott</td>\n",
       "      <td>M</td>\n",
       "      <td>351 Darlene Green</td>\n",
       "      <td>...</td>\n",
       "      <td>33.9659</td>\n",
       "      <td>-80.9355</td>\n",
       "      <td>333497</td>\n",
       "      <td>Mechanical engineer</td>\n",
       "      <td>1968-03-19</td>\n",
       "      <td>2da90c7d74bd46a0caf3777415b3ebd3</td>\n",
       "      <td>1371816865</td>\n",
       "      <td>33.986391</td>\n",
       "      <td>-81.200714</td>\n",
       "      <td>0</td>\n",
       "    </tr>\n",
       "    <tr>\n",
       "      <th>1</th>\n",
       "      <td>1</td>\n",
       "      <td>2020-06-21 12:14:33</td>\n",
       "      <td>3573030041201292</td>\n",
       "      <td>fraud_Sporer-Keebler</td>\n",
       "      <td>personal_care</td>\n",
       "      <td>29.84</td>\n",
       "      <td>Joanne</td>\n",
       "      <td>Williams</td>\n",
       "      <td>F</td>\n",
       "      <td>3638 Marsh Union</td>\n",
       "      <td>...</td>\n",
       "      <td>40.3207</td>\n",
       "      <td>-110.4360</td>\n",
       "      <td>302</td>\n",
       "      <td>Sales professional, IT</td>\n",
       "      <td>1990-01-17</td>\n",
       "      <td>324cc204407e99f51b0d6ca0055005e7</td>\n",
       "      <td>1371816873</td>\n",
       "      <td>39.450498</td>\n",
       "      <td>-109.960431</td>\n",
       "      <td>0</td>\n",
       "    </tr>\n",
       "    <tr>\n",
       "      <th>2</th>\n",
       "      <td>2</td>\n",
       "      <td>2020-06-21 12:14:53</td>\n",
       "      <td>3598215285024754</td>\n",
       "      <td>fraud_Swaniawski, Nitzsche and Welch</td>\n",
       "      <td>health_fitness</td>\n",
       "      <td>41.28</td>\n",
       "      <td>Ashley</td>\n",
       "      <td>Lopez</td>\n",
       "      <td>F</td>\n",
       "      <td>9333 Valentine Point</td>\n",
       "      <td>...</td>\n",
       "      <td>40.6729</td>\n",
       "      <td>-73.5365</td>\n",
       "      <td>34496</td>\n",
       "      <td>Librarian, public</td>\n",
       "      <td>1970-10-21</td>\n",
       "      <td>c81755dbbbea9d5c77f094348a7579be</td>\n",
       "      <td>1371816893</td>\n",
       "      <td>40.495810</td>\n",
       "      <td>-74.196111</td>\n",
       "      <td>0</td>\n",
       "    </tr>\n",
       "    <tr>\n",
       "      <th>3</th>\n",
       "      <td>3</td>\n",
       "      <td>2020-06-21 12:15:15</td>\n",
       "      <td>3591919803438423</td>\n",
       "      <td>fraud_Haley Group</td>\n",
       "      <td>misc_pos</td>\n",
       "      <td>60.05</td>\n",
       "      <td>Brian</td>\n",
       "      <td>Williams</td>\n",
       "      <td>M</td>\n",
       "      <td>32941 Krystal Mill Apt. 552</td>\n",
       "      <td>...</td>\n",
       "      <td>28.5697</td>\n",
       "      <td>-80.8191</td>\n",
       "      <td>54767</td>\n",
       "      <td>Set designer</td>\n",
       "      <td>1987-07-25</td>\n",
       "      <td>2159175b9efe66dc301f149d3d5abf8c</td>\n",
       "      <td>1371816915</td>\n",
       "      <td>28.812398</td>\n",
       "      <td>-80.883061</td>\n",
       "      <td>0</td>\n",
       "    </tr>\n",
       "    <tr>\n",
       "      <th>4</th>\n",
       "      <td>4</td>\n",
       "      <td>2020-06-21 12:15:17</td>\n",
       "      <td>3526826139003047</td>\n",
       "      <td>fraud_Johnston-Casper</td>\n",
       "      <td>travel</td>\n",
       "      <td>3.19</td>\n",
       "      <td>Nathan</td>\n",
       "      <td>Massey</td>\n",
       "      <td>M</td>\n",
       "      <td>5783 Evan Roads Apt. 465</td>\n",
       "      <td>...</td>\n",
       "      <td>44.2529</td>\n",
       "      <td>-85.0170</td>\n",
       "      <td>1126</td>\n",
       "      <td>Furniture designer</td>\n",
       "      <td>1955-07-06</td>\n",
       "      <td>57ff021bd3f328f8738bb535c302a31b</td>\n",
       "      <td>1371816917</td>\n",
       "      <td>44.959148</td>\n",
       "      <td>-85.884734</td>\n",
       "      <td>0</td>\n",
       "    </tr>\n",
       "    <tr>\n",
       "      <th>...</th>\n",
       "      <td>...</td>\n",
       "      <td>...</td>\n",
       "      <td>...</td>\n",
       "      <td>...</td>\n",
       "      <td>...</td>\n",
       "      <td>...</td>\n",
       "      <td>...</td>\n",
       "      <td>...</td>\n",
       "      <td>...</td>\n",
       "      <td>...</td>\n",
       "      <td>...</td>\n",
       "      <td>...</td>\n",
       "      <td>...</td>\n",
       "      <td>...</td>\n",
       "      <td>...</td>\n",
       "      <td>...</td>\n",
       "      <td>...</td>\n",
       "      <td>...</td>\n",
       "      <td>...</td>\n",
       "      <td>...</td>\n",
       "      <td>...</td>\n",
       "    </tr>\n",
       "    <tr>\n",
       "      <th>555714</th>\n",
       "      <td>555714</td>\n",
       "      <td>2020-12-31 23:59:07</td>\n",
       "      <td>30560609640617</td>\n",
       "      <td>fraud_Reilly and Sons</td>\n",
       "      <td>health_fitness</td>\n",
       "      <td>43.77</td>\n",
       "      <td>Michael</td>\n",
       "      <td>Olson</td>\n",
       "      <td>M</td>\n",
       "      <td>558 Michael Estates</td>\n",
       "      <td>...</td>\n",
       "      <td>40.4931</td>\n",
       "      <td>-91.8912</td>\n",
       "      <td>519</td>\n",
       "      <td>Town planner</td>\n",
       "      <td>1966-02-13</td>\n",
       "      <td>9b1f753c79894c9f4b71f04581835ada</td>\n",
       "      <td>1388534347</td>\n",
       "      <td>39.946837</td>\n",
       "      <td>-91.333331</td>\n",
       "      <td>0</td>\n",
       "    </tr>\n",
       "    <tr>\n",
       "      <th>555715</th>\n",
       "      <td>555715</td>\n",
       "      <td>2020-12-31 23:59:09</td>\n",
       "      <td>3556613125071656</td>\n",
       "      <td>fraud_Hoppe-Parisian</td>\n",
       "      <td>kids_pets</td>\n",
       "      <td>111.84</td>\n",
       "      <td>Jose</td>\n",
       "      <td>Vasquez</td>\n",
       "      <td>M</td>\n",
       "      <td>572 Davis Mountains</td>\n",
       "      <td>...</td>\n",
       "      <td>29.0393</td>\n",
       "      <td>-95.4401</td>\n",
       "      <td>28739</td>\n",
       "      <td>Futures trader</td>\n",
       "      <td>1999-12-27</td>\n",
       "      <td>2090647dac2c89a1d86c514c427f5b91</td>\n",
       "      <td>1388534349</td>\n",
       "      <td>29.661049</td>\n",
       "      <td>-96.186633</td>\n",
       "      <td>0</td>\n",
       "    </tr>\n",
       "    <tr>\n",
       "      <th>555716</th>\n",
       "      <td>555716</td>\n",
       "      <td>2020-12-31 23:59:15</td>\n",
       "      <td>6011724471098086</td>\n",
       "      <td>fraud_Rau-Robel</td>\n",
       "      <td>kids_pets</td>\n",
       "      <td>86.88</td>\n",
       "      <td>Ann</td>\n",
       "      <td>Lawson</td>\n",
       "      <td>F</td>\n",
       "      <td>144 Evans Islands Apt. 683</td>\n",
       "      <td>...</td>\n",
       "      <td>46.1966</td>\n",
       "      <td>-118.9017</td>\n",
       "      <td>3684</td>\n",
       "      <td>Musician</td>\n",
       "      <td>1981-11-29</td>\n",
       "      <td>6c5b7c8add471975aa0fec023b2e8408</td>\n",
       "      <td>1388534355</td>\n",
       "      <td>46.658340</td>\n",
       "      <td>-119.715054</td>\n",
       "      <td>0</td>\n",
       "    </tr>\n",
       "    <tr>\n",
       "      <th>555717</th>\n",
       "      <td>555717</td>\n",
       "      <td>2020-12-31 23:59:24</td>\n",
       "      <td>4079773899158</td>\n",
       "      <td>fraud_Breitenberg LLC</td>\n",
       "      <td>travel</td>\n",
       "      <td>7.99</td>\n",
       "      <td>Eric</td>\n",
       "      <td>Preston</td>\n",
       "      <td>M</td>\n",
       "      <td>7020 Doyle Stream Apt. 951</td>\n",
       "      <td>...</td>\n",
       "      <td>44.6255</td>\n",
       "      <td>-116.4493</td>\n",
       "      <td>129</td>\n",
       "      <td>Cartographer</td>\n",
       "      <td>1965-12-15</td>\n",
       "      <td>14392d723bb7737606b2700ac791b7aa</td>\n",
       "      <td>1388534364</td>\n",
       "      <td>44.470525</td>\n",
       "      <td>-117.080888</td>\n",
       "      <td>0</td>\n",
       "    </tr>\n",
       "    <tr>\n",
       "      <th>555718</th>\n",
       "      <td>555718</td>\n",
       "      <td>2020-12-31 23:59:34</td>\n",
       "      <td>4170689372027579</td>\n",
       "      <td>fraud_Dare-Marvin</td>\n",
       "      <td>entertainment</td>\n",
       "      <td>38.13</td>\n",
       "      <td>Samuel</td>\n",
       "      <td>Frey</td>\n",
       "      <td>M</td>\n",
       "      <td>830 Myers Plaza Apt. 384</td>\n",
       "      <td>...</td>\n",
       "      <td>35.6665</td>\n",
       "      <td>-97.4798</td>\n",
       "      <td>116001</td>\n",
       "      <td>Media buyer</td>\n",
       "      <td>1993-05-10</td>\n",
       "      <td>1765bb45b3aa3224b4cdcb6e7a96cee3</td>\n",
       "      <td>1388534374</td>\n",
       "      <td>36.210097</td>\n",
       "      <td>-97.036372</td>\n",
       "      <td>0</td>\n",
       "    </tr>\n",
       "  </tbody>\n",
       "</table>\n",
       "<p>555719 rows × 23 columns</p>\n",
       "</div>\n",
       "    <div class=\"colab-df-buttons\">\n",
       "\n",
       "  <div class=\"colab-df-container\">\n",
       "    <button class=\"colab-df-convert\" onclick=\"convertToInteractive('df-3bf01d04-c986-4ab8-9204-a94438d40b62')\"\n",
       "            title=\"Convert this dataframe to an interactive table.\"\n",
       "            style=\"display:none;\">\n",
       "\n",
       "  <svg xmlns=\"http://www.w3.org/2000/svg\" height=\"24px\" viewBox=\"0 -960 960 960\">\n",
       "    <path d=\"M120-120v-720h720v720H120Zm60-500h600v-160H180v160Zm220 220h160v-160H400v160Zm0 220h160v-160H400v160ZM180-400h160v-160H180v160Zm440 0h160v-160H620v160ZM180-180h160v-160H180v160Zm440 0h160v-160H620v160Z\"/>\n",
       "  </svg>\n",
       "    </button>\n",
       "\n",
       "  <style>\n",
       "    .colab-df-container {\n",
       "      display:flex;\n",
       "      gap: 12px;\n",
       "    }\n",
       "\n",
       "    .colab-df-convert {\n",
       "      background-color: #E8F0FE;\n",
       "      border: none;\n",
       "      border-radius: 50%;\n",
       "      cursor: pointer;\n",
       "      display: none;\n",
       "      fill: #1967D2;\n",
       "      height: 32px;\n",
       "      padding: 0 0 0 0;\n",
       "      width: 32px;\n",
       "    }\n",
       "\n",
       "    .colab-df-convert:hover {\n",
       "      background-color: #E2EBFA;\n",
       "      box-shadow: 0px 1px 2px rgba(60, 64, 67, 0.3), 0px 1px 3px 1px rgba(60, 64, 67, 0.15);\n",
       "      fill: #174EA6;\n",
       "    }\n",
       "\n",
       "    .colab-df-buttons div {\n",
       "      margin-bottom: 4px;\n",
       "    }\n",
       "\n",
       "    [theme=dark] .colab-df-convert {\n",
       "      background-color: #3B4455;\n",
       "      fill: #D2E3FC;\n",
       "    }\n",
       "\n",
       "    [theme=dark] .colab-df-convert:hover {\n",
       "      background-color: #434B5C;\n",
       "      box-shadow: 0px 1px 3px 1px rgba(0, 0, 0, 0.15);\n",
       "      filter: drop-shadow(0px 1px 2px rgba(0, 0, 0, 0.3));\n",
       "      fill: #FFFFFF;\n",
       "    }\n",
       "  </style>\n",
       "\n",
       "    <script>\n",
       "      const buttonEl =\n",
       "        document.querySelector('#df-3bf01d04-c986-4ab8-9204-a94438d40b62 button.colab-df-convert');\n",
       "      buttonEl.style.display =\n",
       "        google.colab.kernel.accessAllowed ? 'block' : 'none';\n",
       "\n",
       "      async function convertToInteractive(key) {\n",
       "        const element = document.querySelector('#df-3bf01d04-c986-4ab8-9204-a94438d40b62');\n",
       "        const dataTable =\n",
       "          await google.colab.kernel.invokeFunction('convertToInteractive',\n",
       "                                                    [key], {});\n",
       "        if (!dataTable) return;\n",
       "\n",
       "        const docLinkHtml = 'Like what you see? Visit the ' +\n",
       "          '<a target=\"_blank\" href=https://colab.research.google.com/notebooks/data_table.ipynb>data table notebook</a>'\n",
       "          + ' to learn more about interactive tables.';\n",
       "        element.innerHTML = '';\n",
       "        dataTable['output_type'] = 'display_data';\n",
       "        await google.colab.output.renderOutput(dataTable, element);\n",
       "        const docLink = document.createElement('div');\n",
       "        docLink.innerHTML = docLinkHtml;\n",
       "        element.appendChild(docLink);\n",
       "      }\n",
       "    </script>\n",
       "  </div>\n",
       "\n",
       "\n",
       "<div id=\"df-2301ad90-0f27-4f2c-801a-358099d1263b\">\n",
       "  <button class=\"colab-df-quickchart\" onclick=\"quickchart('df-2301ad90-0f27-4f2c-801a-358099d1263b')\"\n",
       "            title=\"Suggest charts\"\n",
       "            style=\"display:none;\">\n",
       "\n",
       "<svg xmlns=\"http://www.w3.org/2000/svg\" height=\"24px\"viewBox=\"0 0 24 24\"\n",
       "     width=\"24px\">\n",
       "    <g>\n",
       "        <path d=\"M19 3H5c-1.1 0-2 .9-2 2v14c0 1.1.9 2 2 2h14c1.1 0 2-.9 2-2V5c0-1.1-.9-2-2-2zM9 17H7v-7h2v7zm4 0h-2V7h2v10zm4 0h-2v-4h2v4z\"/>\n",
       "    </g>\n",
       "</svg>\n",
       "  </button>\n",
       "\n",
       "<style>\n",
       "  .colab-df-quickchart {\n",
       "      --bg-color: #E8F0FE;\n",
       "      --fill-color: #1967D2;\n",
       "      --hover-bg-color: #E2EBFA;\n",
       "      --hover-fill-color: #174EA6;\n",
       "      --disabled-fill-color: #AAA;\n",
       "      --disabled-bg-color: #DDD;\n",
       "  }\n",
       "\n",
       "  [theme=dark] .colab-df-quickchart {\n",
       "      --bg-color: #3B4455;\n",
       "      --fill-color: #D2E3FC;\n",
       "      --hover-bg-color: #434B5C;\n",
       "      --hover-fill-color: #FFFFFF;\n",
       "      --disabled-bg-color: #3B4455;\n",
       "      --disabled-fill-color: #666;\n",
       "  }\n",
       "\n",
       "  .colab-df-quickchart {\n",
       "    background-color: var(--bg-color);\n",
       "    border: none;\n",
       "    border-radius: 50%;\n",
       "    cursor: pointer;\n",
       "    display: none;\n",
       "    fill: var(--fill-color);\n",
       "    height: 32px;\n",
       "    padding: 0;\n",
       "    width: 32px;\n",
       "  }\n",
       "\n",
       "  .colab-df-quickchart:hover {\n",
       "    background-color: var(--hover-bg-color);\n",
       "    box-shadow: 0 1px 2px rgba(60, 64, 67, 0.3), 0 1px 3px 1px rgba(60, 64, 67, 0.15);\n",
       "    fill: var(--button-hover-fill-color);\n",
       "  }\n",
       "\n",
       "  .colab-df-quickchart-complete:disabled,\n",
       "  .colab-df-quickchart-complete:disabled:hover {\n",
       "    background-color: var(--disabled-bg-color);\n",
       "    fill: var(--disabled-fill-color);\n",
       "    box-shadow: none;\n",
       "  }\n",
       "\n",
       "  .colab-df-spinner {\n",
       "    border: 2px solid var(--fill-color);\n",
       "    border-color: transparent;\n",
       "    border-bottom-color: var(--fill-color);\n",
       "    animation:\n",
       "      spin 1s steps(1) infinite;\n",
       "  }\n",
       "\n",
       "  @keyframes spin {\n",
       "    0% {\n",
       "      border-color: transparent;\n",
       "      border-bottom-color: var(--fill-color);\n",
       "      border-left-color: var(--fill-color);\n",
       "    }\n",
       "    20% {\n",
       "      border-color: transparent;\n",
       "      border-left-color: var(--fill-color);\n",
       "      border-top-color: var(--fill-color);\n",
       "    }\n",
       "    30% {\n",
       "      border-color: transparent;\n",
       "      border-left-color: var(--fill-color);\n",
       "      border-top-color: var(--fill-color);\n",
       "      border-right-color: var(--fill-color);\n",
       "    }\n",
       "    40% {\n",
       "      border-color: transparent;\n",
       "      border-right-color: var(--fill-color);\n",
       "      border-top-color: var(--fill-color);\n",
       "    }\n",
       "    60% {\n",
       "      border-color: transparent;\n",
       "      border-right-color: var(--fill-color);\n",
       "    }\n",
       "    80% {\n",
       "      border-color: transparent;\n",
       "      border-right-color: var(--fill-color);\n",
       "      border-bottom-color: var(--fill-color);\n",
       "    }\n",
       "    90% {\n",
       "      border-color: transparent;\n",
       "      border-bottom-color: var(--fill-color);\n",
       "    }\n",
       "  }\n",
       "</style>\n",
       "\n",
       "  <script>\n",
       "    async function quickchart(key) {\n",
       "      const quickchartButtonEl =\n",
       "        document.querySelector('#' + key + ' button');\n",
       "      quickchartButtonEl.disabled = true;  // To prevent multiple clicks.\n",
       "      quickchartButtonEl.classList.add('colab-df-spinner');\n",
       "      try {\n",
       "        const charts = await google.colab.kernel.invokeFunction(\n",
       "            'suggestCharts', [key], {});\n",
       "      } catch (error) {\n",
       "        console.error('Error during call to suggestCharts:', error);\n",
       "      }\n",
       "      quickchartButtonEl.classList.remove('colab-df-spinner');\n",
       "      quickchartButtonEl.classList.add('colab-df-quickchart-complete');\n",
       "    }\n",
       "    (() => {\n",
       "      let quickchartButtonEl =\n",
       "        document.querySelector('#df-2301ad90-0f27-4f2c-801a-358099d1263b button');\n",
       "      quickchartButtonEl.style.display =\n",
       "        google.colab.kernel.accessAllowed ? 'block' : 'none';\n",
       "    })();\n",
       "  </script>\n",
       "</div>\n",
       "    </div>\n",
       "  </div>\n"
      ],
      "text/plain": [
       "        Unnamed: 0 trans_date_trans_time            cc_num  \\\n",
       "0                0   2020-06-21 12:14:25  2291163933867244   \n",
       "1                1   2020-06-21 12:14:33  3573030041201292   \n",
       "2                2   2020-06-21 12:14:53  3598215285024754   \n",
       "3                3   2020-06-21 12:15:15  3591919803438423   \n",
       "4                4   2020-06-21 12:15:17  3526826139003047   \n",
       "...            ...                   ...               ...   \n",
       "555714      555714   2020-12-31 23:59:07    30560609640617   \n",
       "555715      555715   2020-12-31 23:59:09  3556613125071656   \n",
       "555716      555716   2020-12-31 23:59:15  6011724471098086   \n",
       "555717      555717   2020-12-31 23:59:24     4079773899158   \n",
       "555718      555718   2020-12-31 23:59:34  4170689372027579   \n",
       "\n",
       "                                    merchant        category     amt    first  \\\n",
       "0                      fraud_Kirlin and Sons   personal_care    2.86     Jeff   \n",
       "1                       fraud_Sporer-Keebler   personal_care   29.84   Joanne   \n",
       "2       fraud_Swaniawski, Nitzsche and Welch  health_fitness   41.28   Ashley   \n",
       "3                          fraud_Haley Group        misc_pos   60.05    Brian   \n",
       "4                      fraud_Johnston-Casper          travel    3.19   Nathan   \n",
       "...                                      ...             ...     ...      ...   \n",
       "555714                 fraud_Reilly and Sons  health_fitness   43.77  Michael   \n",
       "555715                  fraud_Hoppe-Parisian       kids_pets  111.84     Jose   \n",
       "555716                       fraud_Rau-Robel       kids_pets   86.88      Ann   \n",
       "555717                 fraud_Breitenberg LLC          travel    7.99     Eric   \n",
       "555718                     fraud_Dare-Marvin   entertainment   38.13   Samuel   \n",
       "\n",
       "            last gender                       street  ...      lat      long  \\\n",
       "0        Elliott      M            351 Darlene Green  ...  33.9659  -80.9355   \n",
       "1       Williams      F             3638 Marsh Union  ...  40.3207 -110.4360   \n",
       "2          Lopez      F         9333 Valentine Point  ...  40.6729  -73.5365   \n",
       "3       Williams      M  32941 Krystal Mill Apt. 552  ...  28.5697  -80.8191   \n",
       "4         Massey      M     5783 Evan Roads Apt. 465  ...  44.2529  -85.0170   \n",
       "...          ...    ...                          ...  ...      ...       ...   \n",
       "555714     Olson      M          558 Michael Estates  ...  40.4931  -91.8912   \n",
       "555715   Vasquez      M          572 Davis Mountains  ...  29.0393  -95.4401   \n",
       "555716    Lawson      F   144 Evans Islands Apt. 683  ...  46.1966 -118.9017   \n",
       "555717   Preston      M   7020 Doyle Stream Apt. 951  ...  44.6255 -116.4493   \n",
       "555718      Frey      M     830 Myers Plaza Apt. 384  ...  35.6665  -97.4798   \n",
       "\n",
       "        city_pop                     job         dob  \\\n",
       "0         333497     Mechanical engineer  1968-03-19   \n",
       "1            302  Sales professional, IT  1990-01-17   \n",
       "2          34496       Librarian, public  1970-10-21   \n",
       "3          54767            Set designer  1987-07-25   \n",
       "4           1126      Furniture designer  1955-07-06   \n",
       "...          ...                     ...         ...   \n",
       "555714       519            Town planner  1966-02-13   \n",
       "555715     28739          Futures trader  1999-12-27   \n",
       "555716      3684                Musician  1981-11-29   \n",
       "555717       129            Cartographer  1965-12-15   \n",
       "555718    116001             Media buyer  1993-05-10   \n",
       "\n",
       "                               trans_num   unix_time  merch_lat  merch_long  \\\n",
       "0       2da90c7d74bd46a0caf3777415b3ebd3  1371816865  33.986391  -81.200714   \n",
       "1       324cc204407e99f51b0d6ca0055005e7  1371816873  39.450498 -109.960431   \n",
       "2       c81755dbbbea9d5c77f094348a7579be  1371816893  40.495810  -74.196111   \n",
       "3       2159175b9efe66dc301f149d3d5abf8c  1371816915  28.812398  -80.883061   \n",
       "4       57ff021bd3f328f8738bb535c302a31b  1371816917  44.959148  -85.884734   \n",
       "...                                  ...         ...        ...         ...   \n",
       "555714  9b1f753c79894c9f4b71f04581835ada  1388534347  39.946837  -91.333331   \n",
       "555715  2090647dac2c89a1d86c514c427f5b91  1388534349  29.661049  -96.186633   \n",
       "555716  6c5b7c8add471975aa0fec023b2e8408  1388534355  46.658340 -119.715054   \n",
       "555717  14392d723bb7737606b2700ac791b7aa  1388534364  44.470525 -117.080888   \n",
       "555718  1765bb45b3aa3224b4cdcb6e7a96cee3  1388534374  36.210097  -97.036372   \n",
       "\n",
       "        is_fraud  \n",
       "0              0  \n",
       "1              0  \n",
       "2              0  \n",
       "3              0  \n",
       "4              0  \n",
       "...          ...  \n",
       "555714         0  \n",
       "555715         0  \n",
       "555716         0  \n",
       "555717         0  \n",
       "555718         0  \n",
       "\n",
       "[555719 rows x 23 columns]"
      ]
     },
     "execution_count": 43,
     "metadata": {},
     "output_type": "execute_result"
    }
   ],
   "source": [
    "df2=pd.read_csv(r\"/content/drive/MyDrive/Fraud_Detection_Project/fraudTest.csv\")\n",
    "df2"
   ]
  },
  {
   "cell_type": "code",
   "execution_count": 44,
   "metadata": {
    "id": "ooc72O-jZufj"
   },
   "outputs": [],
   "source": [
    "columns_to_drop = ['Unnamed: 0', 'trans_date_trans_time' , 'unix_time' , 'merch_lat',  'merch_long','lat','long','merchant','first','last','dob']\n",
    "df2.drop(columns=columns_to_drop, inplace=True)"
   ]
  },
  {
   "cell_type": "code",
   "execution_count": 45,
   "metadata": {
    "id": "HyBy2tykaI85"
   },
   "outputs": [],
   "source": [
    "columns_to_drop = ['street']\n",
    "df2.drop(columns=columns_to_drop, inplace=True)"
   ]
  },
  {
   "cell_type": "code",
   "execution_count": 46,
   "metadata": {
    "colab": {
     "base_uri": "https://localhost:8080/"
    },
    "id": "JA-bJcDdaCXZ",
    "outputId": "c0bd824a-be86-4d2d-8144-16d2fdd31a37"
   },
   "outputs": [
    {
     "name": "stdout",
     "output_type": "stream",
     "text": [
      "<class 'pandas.core.frame.DataFrame'>\n",
      "RangeIndex: 555719 entries, 0 to 555718\n",
      "Data columns (total 11 columns):\n",
      " #   Column     Non-Null Count   Dtype  \n",
      "---  ------     --------------   -----  \n",
      " 0   cc_num     555719 non-null  int64  \n",
      " 1   category   555719 non-null  object \n",
      " 2   amt        555719 non-null  float64\n",
      " 3   gender     555719 non-null  object \n",
      " 4   city       555719 non-null  object \n",
      " 5   state      555719 non-null  object \n",
      " 6   zip        555719 non-null  int64  \n",
      " 7   city_pop   555719 non-null  int64  \n",
      " 8   job        555719 non-null  object \n",
      " 9   trans_num  555719 non-null  object \n",
      " 10  is_fraud   555719 non-null  int64  \n",
      "dtypes: float64(1), int64(4), object(6)\n",
      "memory usage: 46.6+ MB\n"
     ]
    }
   ],
   "source": [
    "df2.info()"
   ]
  },
  {
   "cell_type": "code",
   "execution_count": 47,
   "metadata": {
    "colab": {
     "base_uri": "https://localhost:8080/"
    },
    "id": "9N26405oaeVh",
    "outputId": "5e3c8df7-ef71-424b-9365-5e4dea47169c"
   },
   "outputs": [
    {
     "data": {
      "text/plain": [
       "is_fraud\n",
       "0    553574\n",
       "1      2145\n",
       "Name: count, dtype: int64"
      ]
     },
     "execution_count": 47,
     "metadata": {},
     "output_type": "execute_result"
    }
   ],
   "source": [
    "unique_counts = df2['is_fraud'].value_counts()\n",
    "unique_counts"
   ]
  },
  {
   "cell_type": "code",
   "execution_count": 48,
   "metadata": {
    "colab": {
     "base_uri": "https://localhost:8080/"
    },
    "id": "-8H1sRXWcEPR",
    "outputId": "2871f46e-009e-4873-90ca-22af76e9ff57"
   },
   "outputs": [
    {
     "data": {
      "text/plain": [
       "is_fraud\n",
       "0    1289169\n",
       "1       7506\n",
       "Name: count, dtype: int64"
      ]
     },
     "execution_count": 48,
     "metadata": {},
     "output_type": "execute_result"
    }
   ],
   "source": [
    "unique_counts = df['is_fraud'].value_counts()\n",
    "unique_counts"
   ]
  },
  {
   "cell_type": "code",
   "execution_count": 49,
   "metadata": {
    "id": "KQnq3TrW1ETB"
   },
   "outputs": [],
   "source": [
    "df_new = df2[df2['is_fraud'] == 1].copy()"
   ]
  },
  {
   "cell_type": "code",
   "execution_count": 50,
   "metadata": {
    "id": "-QtTR-r25i_K"
   },
   "outputs": [],
   "source": [
    "df_new.reset_index(drop=True, inplace=True)"
   ]
  },
  {
   "cell_type": "code",
   "execution_count": 51,
   "metadata": {
    "colab": {
     "base_uri": "https://localhost:8080/",
     "height": 528
    },
    "id": "vLjj3N4q5QQ1",
    "outputId": "37e00bad-3a02-483b-e98c-04e38e0fc3db"
   },
   "outputs": [
    {
     "data": {
      "application/vnd.google.colaboratory.intrinsic+json": {
       "summary": "{\n  \"name\": \"df_new\",\n  \"rows\": 2145,\n  \"fields\": [\n    {\n      \"column\": \"cc_num\",\n      \"properties\": {\n        \"dtype\": \"number\",\n        \"std\": 1276312797048959232,\n        \"min\": 60487002085,\n        \"max\": 4989847570577635369,\n        \"num_unique_values\": 218,\n        \"samples\": [\n          4623560839669,\n          374125201044065,\n          5456712664803820\n        ],\n        \"semantic_type\": \"\",\n        \"description\": \"\"\n      }\n    },\n    {\n      \"column\": \"category\",\n      \"properties\": {\n        \"dtype\": \"category\",\n        \"num_unique_values\": 14,\n        \"samples\": [\n          \"home\",\n          \"travel\",\n          \"health_fitness\"\n        ],\n        \"semantic_type\": \"\",\n        \"description\": \"\"\n      }\n    },\n    {\n      \"column\": \"amt\",\n      \"properties\": {\n        \"dtype\": \"number\",\n        \"std\": 392.74759383735955,\n        \"min\": 1.78,\n        \"max\": 1320.92,\n        \"num_unique_values\": 2061,\n        \"samples\": [\n          1081.63,\n          762.62,\n          995.97\n        ],\n        \"semantic_type\": \"\",\n        \"description\": \"\"\n      }\n    },\n    {\n      \"column\": \"gender\",\n      \"properties\": {\n        \"dtype\": \"category\",\n        \"num_unique_values\": 2,\n        \"samples\": [\n          \"M\",\n          \"F\"\n        ],\n        \"semantic_type\": \"\",\n        \"description\": \"\"\n      }\n    },\n    {\n      \"column\": \"city\",\n      \"properties\": {\n        \"dtype\": \"category\",\n        \"num_unique_values\": 215,\n        \"samples\": [\n          \"Maysville\",\n          \"Washington\"\n        ],\n        \"semantic_type\": \"\",\n        \"description\": \"\"\n      }\n    },\n    {\n      \"column\": \"state\",\n      \"properties\": {\n        \"dtype\": \"category\",\n        \"num_unique_values\": 45,\n        \"samples\": [\n          \"TN\",\n          \"HI\"\n        ],\n        \"semantic_type\": \"\",\n        \"description\": \"\"\n      }\n    },\n    {\n      \"column\": \"zip\",\n      \"properties\": {\n        \"dtype\": \"number\",\n        \"std\": 26706,\n        \"min\": 1257,\n        \"max\": 99921,\n        \"num_unique_values\": 218,\n        \"samples\": [\n          51453,\n          20012\n        ],\n        \"semantic_type\": \"\",\n        \"description\": \"\"\n      }\n    },\n    {\n      \"column\": \"city_pop\",\n      \"properties\": {\n        \"dtype\": \"number\",\n        \"std\": 219207,\n        \"min\": 23,\n        \"max\": 1577385,\n        \"num_unique_values\": 214,\n        \"samples\": [\n          272134,\n          1807\n        ],\n        \"semantic_type\": \"\",\n        \"description\": \"\"\n      }\n    },\n    {\n      \"column\": \"job\",\n      \"properties\": {\n        \"dtype\": \"category\",\n        \"num_unique_values\": 177,\n        \"samples\": [\n          \"Hydrogeologist\",\n          \"Armed forces training and education officer\"\n        ],\n        \"semantic_type\": \"\",\n        \"description\": \"\"\n      }\n    },\n    {\n      \"column\": \"trans_num\",\n      \"properties\": {\n        \"dtype\": \"string\",\n        \"num_unique_values\": 2145,\n        \"samples\": [\n          \"e9989706afb4b7b0b346fd8b69fe6146\",\n          \"f81258ae7af8711cb75156ca356015ed\"\n        ],\n        \"semantic_type\": \"\",\n        \"description\": \"\"\n      }\n    },\n    {\n      \"column\": \"is_fraud\",\n      \"properties\": {\n        \"dtype\": \"number\",\n        \"std\": 0,\n        \"min\": 1,\n        \"max\": 1,\n        \"num_unique_values\": 1,\n        \"samples\": [\n          1\n        ],\n        \"semantic_type\": \"\",\n        \"description\": \"\"\n      }\n    }\n  ]\n}",
       "type": "dataframe",
       "variable_name": "df_new"
      },
      "text/html": [
       "\n",
       "  <div id=\"df-e20dec14-b486-446c-9c05-41024775c84c\" class=\"colab-df-container\">\n",
       "    <div>\n",
       "<style scoped>\n",
       "    .dataframe tbody tr th:only-of-type {\n",
       "        vertical-align: middle;\n",
       "    }\n",
       "\n",
       "    .dataframe tbody tr th {\n",
       "        vertical-align: top;\n",
       "    }\n",
       "\n",
       "    .dataframe thead th {\n",
       "        text-align: right;\n",
       "    }\n",
       "</style>\n",
       "<table border=\"1\" class=\"dataframe\">\n",
       "  <thead>\n",
       "    <tr style=\"text-align: right;\">\n",
       "      <th></th>\n",
       "      <th>cc_num</th>\n",
       "      <th>category</th>\n",
       "      <th>amt</th>\n",
       "      <th>gender</th>\n",
       "      <th>city</th>\n",
       "      <th>state</th>\n",
       "      <th>zip</th>\n",
       "      <th>city_pop</th>\n",
       "      <th>job</th>\n",
       "      <th>trans_num</th>\n",
       "      <th>is_fraud</th>\n",
       "    </tr>\n",
       "  </thead>\n",
       "  <tbody>\n",
       "    <tr>\n",
       "      <th>0</th>\n",
       "      <td>3560725013359375</td>\n",
       "      <td>health_fitness</td>\n",
       "      <td>24.84</td>\n",
       "      <td>F</td>\n",
       "      <td>Notrees</td>\n",
       "      <td>TX</td>\n",
       "      <td>79759</td>\n",
       "      <td>23</td>\n",
       "      <td>Cytogeneticist</td>\n",
       "      <td>16bf2e46c54369a8eab2214649506425</td>\n",
       "      <td>1</td>\n",
       "    </tr>\n",
       "    <tr>\n",
       "      <th>1</th>\n",
       "      <td>6564459919350820</td>\n",
       "      <td>misc_net</td>\n",
       "      <td>780.52</td>\n",
       "      <td>M</td>\n",
       "      <td>Benton</td>\n",
       "      <td>WI</td>\n",
       "      <td>53803</td>\n",
       "      <td>1306</td>\n",
       "      <td>Public relations officer</td>\n",
       "      <td>ab4b379d2c0c9c667d46508d4e126d72</td>\n",
       "      <td>1</td>\n",
       "    </tr>\n",
       "    <tr>\n",
       "      <th>2</th>\n",
       "      <td>6564459919350820</td>\n",
       "      <td>entertainment</td>\n",
       "      <td>620.33</td>\n",
       "      <td>M</td>\n",
       "      <td>Benton</td>\n",
       "      <td>WI</td>\n",
       "      <td>53803</td>\n",
       "      <td>1306</td>\n",
       "      <td>Public relations officer</td>\n",
       "      <td>47a9987ae81d99f7832a54b29a77bf4b</td>\n",
       "      <td>1</td>\n",
       "    </tr>\n",
       "    <tr>\n",
       "      <th>3</th>\n",
       "      <td>4005676619255478</td>\n",
       "      <td>shopping_net</td>\n",
       "      <td>1077.69</td>\n",
       "      <td>M</td>\n",
       "      <td>Denham Springs</td>\n",
       "      <td>LA</td>\n",
       "      <td>70726</td>\n",
       "      <td>71335</td>\n",
       "      <td>Herbalist</td>\n",
       "      <td>fe956c7e4a253c437c18918bf96f7b62</td>\n",
       "      <td>1</td>\n",
       "    </tr>\n",
       "    <tr>\n",
       "      <th>4</th>\n",
       "      <td>3560725013359375</td>\n",
       "      <td>shopping_pos</td>\n",
       "      <td>842.65</td>\n",
       "      <td>F</td>\n",
       "      <td>Notrees</td>\n",
       "      <td>TX</td>\n",
       "      <td>79759</td>\n",
       "      <td>23</td>\n",
       "      <td>Cytogeneticist</td>\n",
       "      <td>f6838c01f5d2262006e6b71d33ba7c6d</td>\n",
       "      <td>1</td>\n",
       "    </tr>\n",
       "    <tr>\n",
       "      <th>...</th>\n",
       "      <td>...</td>\n",
       "      <td>...</td>\n",
       "      <td>...</td>\n",
       "      <td>...</td>\n",
       "      <td>...</td>\n",
       "      <td>...</td>\n",
       "      <td>...</td>\n",
       "      <td>...</td>\n",
       "      <td>...</td>\n",
       "      <td>...</td>\n",
       "      <td>...</td>\n",
       "    </tr>\n",
       "    <tr>\n",
       "      <th>2140</th>\n",
       "      <td>2242176657877538</td>\n",
       "      <td>shopping_pos</td>\n",
       "      <td>1041.51</td>\n",
       "      <td>M</td>\n",
       "      <td>Senatobia</td>\n",
       "      <td>MS</td>\n",
       "      <td>38668</td>\n",
       "      <td>14462</td>\n",
       "      <td>Database administrator</td>\n",
       "      <td>35b0297dd026d2e9a75d024a5dec7955</td>\n",
       "      <td>1</td>\n",
       "    </tr>\n",
       "    <tr>\n",
       "      <th>2141</th>\n",
       "      <td>2242176657877538</td>\n",
       "      <td>shopping_pos</td>\n",
       "      <td>868.09</td>\n",
       "      <td>M</td>\n",
       "      <td>Senatobia</td>\n",
       "      <td>MS</td>\n",
       "      <td>38668</td>\n",
       "      <td>14462</td>\n",
       "      <td>Database administrator</td>\n",
       "      <td>da7f67d7375f10a054a3d919448c45dd</td>\n",
       "      <td>1</td>\n",
       "    </tr>\n",
       "    <tr>\n",
       "      <th>2142</th>\n",
       "      <td>2242176657877538</td>\n",
       "      <td>shopping_net</td>\n",
       "      <td>1039.42</td>\n",
       "      <td>M</td>\n",
       "      <td>Senatobia</td>\n",
       "      <td>MS</td>\n",
       "      <td>38668</td>\n",
       "      <td>14462</td>\n",
       "      <td>Database administrator</td>\n",
       "      <td>25b076c7bcd70f272c1c5326bb234f4b</td>\n",
       "      <td>1</td>\n",
       "    </tr>\n",
       "    <tr>\n",
       "      <th>2143</th>\n",
       "      <td>2242176657877538</td>\n",
       "      <td>grocery_pos</td>\n",
       "      <td>289.27</td>\n",
       "      <td>M</td>\n",
       "      <td>Senatobia</td>\n",
       "      <td>MS</td>\n",
       "      <td>38668</td>\n",
       "      <td>14462</td>\n",
       "      <td>Database administrator</td>\n",
       "      <td>2df7d894868fbc99ec1d8b055585fc9d</td>\n",
       "      <td>1</td>\n",
       "    </tr>\n",
       "    <tr>\n",
       "      <th>2144</th>\n",
       "      <td>2242176657877538</td>\n",
       "      <td>misc_net</td>\n",
       "      <td>766.38</td>\n",
       "      <td>M</td>\n",
       "      <td>Senatobia</td>\n",
       "      <td>MS</td>\n",
       "      <td>38668</td>\n",
       "      <td>14462</td>\n",
       "      <td>Database administrator</td>\n",
       "      <td>44292cbc51e37dc018ee6a988a4bc426</td>\n",
       "      <td>1</td>\n",
       "    </tr>\n",
       "  </tbody>\n",
       "</table>\n",
       "<p>2145 rows × 11 columns</p>\n",
       "</div>\n",
       "    <div class=\"colab-df-buttons\">\n",
       "\n",
       "  <div class=\"colab-df-container\">\n",
       "    <button class=\"colab-df-convert\" onclick=\"convertToInteractive('df-e20dec14-b486-446c-9c05-41024775c84c')\"\n",
       "            title=\"Convert this dataframe to an interactive table.\"\n",
       "            style=\"display:none;\">\n",
       "\n",
       "  <svg xmlns=\"http://www.w3.org/2000/svg\" height=\"24px\" viewBox=\"0 -960 960 960\">\n",
       "    <path d=\"M120-120v-720h720v720H120Zm60-500h600v-160H180v160Zm220 220h160v-160H400v160Zm0 220h160v-160H400v160ZM180-400h160v-160H180v160Zm440 0h160v-160H620v160ZM180-180h160v-160H180v160Zm440 0h160v-160H620v160Z\"/>\n",
       "  </svg>\n",
       "    </button>\n",
       "\n",
       "  <style>\n",
       "    .colab-df-container {\n",
       "      display:flex;\n",
       "      gap: 12px;\n",
       "    }\n",
       "\n",
       "    .colab-df-convert {\n",
       "      background-color: #E8F0FE;\n",
       "      border: none;\n",
       "      border-radius: 50%;\n",
       "      cursor: pointer;\n",
       "      display: none;\n",
       "      fill: #1967D2;\n",
       "      height: 32px;\n",
       "      padding: 0 0 0 0;\n",
       "      width: 32px;\n",
       "    }\n",
       "\n",
       "    .colab-df-convert:hover {\n",
       "      background-color: #E2EBFA;\n",
       "      box-shadow: 0px 1px 2px rgba(60, 64, 67, 0.3), 0px 1px 3px 1px rgba(60, 64, 67, 0.15);\n",
       "      fill: #174EA6;\n",
       "    }\n",
       "\n",
       "    .colab-df-buttons div {\n",
       "      margin-bottom: 4px;\n",
       "    }\n",
       "\n",
       "    [theme=dark] .colab-df-convert {\n",
       "      background-color: #3B4455;\n",
       "      fill: #D2E3FC;\n",
       "    }\n",
       "\n",
       "    [theme=dark] .colab-df-convert:hover {\n",
       "      background-color: #434B5C;\n",
       "      box-shadow: 0px 1px 3px 1px rgba(0, 0, 0, 0.15);\n",
       "      filter: drop-shadow(0px 1px 2px rgba(0, 0, 0, 0.3));\n",
       "      fill: #FFFFFF;\n",
       "    }\n",
       "  </style>\n",
       "\n",
       "    <script>\n",
       "      const buttonEl =\n",
       "        document.querySelector('#df-e20dec14-b486-446c-9c05-41024775c84c button.colab-df-convert');\n",
       "      buttonEl.style.display =\n",
       "        google.colab.kernel.accessAllowed ? 'block' : 'none';\n",
       "\n",
       "      async function convertToInteractive(key) {\n",
       "        const element = document.querySelector('#df-e20dec14-b486-446c-9c05-41024775c84c');\n",
       "        const dataTable =\n",
       "          await google.colab.kernel.invokeFunction('convertToInteractive',\n",
       "                                                    [key], {});\n",
       "        if (!dataTable) return;\n",
       "\n",
       "        const docLinkHtml = 'Like what you see? Visit the ' +\n",
       "          '<a target=\"_blank\" href=https://colab.research.google.com/notebooks/data_table.ipynb>data table notebook</a>'\n",
       "          + ' to learn more about interactive tables.';\n",
       "        element.innerHTML = '';\n",
       "        dataTable['output_type'] = 'display_data';\n",
       "        await google.colab.output.renderOutput(dataTable, element);\n",
       "        const docLink = document.createElement('div');\n",
       "        docLink.innerHTML = docLinkHtml;\n",
       "        element.appendChild(docLink);\n",
       "      }\n",
       "    </script>\n",
       "  </div>\n",
       "\n",
       "\n",
       "<div id=\"df-98f9b017-bc90-414e-a268-50b9e581b980\">\n",
       "  <button class=\"colab-df-quickchart\" onclick=\"quickchart('df-98f9b017-bc90-414e-a268-50b9e581b980')\"\n",
       "            title=\"Suggest charts\"\n",
       "            style=\"display:none;\">\n",
       "\n",
       "<svg xmlns=\"http://www.w3.org/2000/svg\" height=\"24px\"viewBox=\"0 0 24 24\"\n",
       "     width=\"24px\">\n",
       "    <g>\n",
       "        <path d=\"M19 3H5c-1.1 0-2 .9-2 2v14c0 1.1.9 2 2 2h14c1.1 0 2-.9 2-2V5c0-1.1-.9-2-2-2zM9 17H7v-7h2v7zm4 0h-2V7h2v10zm4 0h-2v-4h2v4z\"/>\n",
       "    </g>\n",
       "</svg>\n",
       "  </button>\n",
       "\n",
       "<style>\n",
       "  .colab-df-quickchart {\n",
       "      --bg-color: #E8F0FE;\n",
       "      --fill-color: #1967D2;\n",
       "      --hover-bg-color: #E2EBFA;\n",
       "      --hover-fill-color: #174EA6;\n",
       "      --disabled-fill-color: #AAA;\n",
       "      --disabled-bg-color: #DDD;\n",
       "  }\n",
       "\n",
       "  [theme=dark] .colab-df-quickchart {\n",
       "      --bg-color: #3B4455;\n",
       "      --fill-color: #D2E3FC;\n",
       "      --hover-bg-color: #434B5C;\n",
       "      --hover-fill-color: #FFFFFF;\n",
       "      --disabled-bg-color: #3B4455;\n",
       "      --disabled-fill-color: #666;\n",
       "  }\n",
       "\n",
       "  .colab-df-quickchart {\n",
       "    background-color: var(--bg-color);\n",
       "    border: none;\n",
       "    border-radius: 50%;\n",
       "    cursor: pointer;\n",
       "    display: none;\n",
       "    fill: var(--fill-color);\n",
       "    height: 32px;\n",
       "    padding: 0;\n",
       "    width: 32px;\n",
       "  }\n",
       "\n",
       "  .colab-df-quickchart:hover {\n",
       "    background-color: var(--hover-bg-color);\n",
       "    box-shadow: 0 1px 2px rgba(60, 64, 67, 0.3), 0 1px 3px 1px rgba(60, 64, 67, 0.15);\n",
       "    fill: var(--button-hover-fill-color);\n",
       "  }\n",
       "\n",
       "  .colab-df-quickchart-complete:disabled,\n",
       "  .colab-df-quickchart-complete:disabled:hover {\n",
       "    background-color: var(--disabled-bg-color);\n",
       "    fill: var(--disabled-fill-color);\n",
       "    box-shadow: none;\n",
       "  }\n",
       "\n",
       "  .colab-df-spinner {\n",
       "    border: 2px solid var(--fill-color);\n",
       "    border-color: transparent;\n",
       "    border-bottom-color: var(--fill-color);\n",
       "    animation:\n",
       "      spin 1s steps(1) infinite;\n",
       "  }\n",
       "\n",
       "  @keyframes spin {\n",
       "    0% {\n",
       "      border-color: transparent;\n",
       "      border-bottom-color: var(--fill-color);\n",
       "      border-left-color: var(--fill-color);\n",
       "    }\n",
       "    20% {\n",
       "      border-color: transparent;\n",
       "      border-left-color: var(--fill-color);\n",
       "      border-top-color: var(--fill-color);\n",
       "    }\n",
       "    30% {\n",
       "      border-color: transparent;\n",
       "      border-left-color: var(--fill-color);\n",
       "      border-top-color: var(--fill-color);\n",
       "      border-right-color: var(--fill-color);\n",
       "    }\n",
       "    40% {\n",
       "      border-color: transparent;\n",
       "      border-right-color: var(--fill-color);\n",
       "      border-top-color: var(--fill-color);\n",
       "    }\n",
       "    60% {\n",
       "      border-color: transparent;\n",
       "      border-right-color: var(--fill-color);\n",
       "    }\n",
       "    80% {\n",
       "      border-color: transparent;\n",
       "      border-right-color: var(--fill-color);\n",
       "      border-bottom-color: var(--fill-color);\n",
       "    }\n",
       "    90% {\n",
       "      border-color: transparent;\n",
       "      border-bottom-color: var(--fill-color);\n",
       "    }\n",
       "  }\n",
       "</style>\n",
       "\n",
       "  <script>\n",
       "    async function quickchart(key) {\n",
       "      const quickchartButtonEl =\n",
       "        document.querySelector('#' + key + ' button');\n",
       "      quickchartButtonEl.disabled = true;  // To prevent multiple clicks.\n",
       "      quickchartButtonEl.classList.add('colab-df-spinner');\n",
       "      try {\n",
       "        const charts = await google.colab.kernel.invokeFunction(\n",
       "            'suggestCharts', [key], {});\n",
       "      } catch (error) {\n",
       "        console.error('Error during call to suggestCharts:', error);\n",
       "      }\n",
       "      quickchartButtonEl.classList.remove('colab-df-spinner');\n",
       "      quickchartButtonEl.classList.add('colab-df-quickchart-complete');\n",
       "    }\n",
       "    (() => {\n",
       "      let quickchartButtonEl =\n",
       "        document.querySelector('#df-98f9b017-bc90-414e-a268-50b9e581b980 button');\n",
       "      quickchartButtonEl.style.display =\n",
       "        google.colab.kernel.accessAllowed ? 'block' : 'none';\n",
       "    })();\n",
       "  </script>\n",
       "</div>\n",
       "    </div>\n",
       "  </div>\n"
      ],
      "text/plain": [
       "                cc_num        category      amt gender            city state  \\\n",
       "0     3560725013359375  health_fitness    24.84      F         Notrees    TX   \n",
       "1     6564459919350820        misc_net   780.52      M          Benton    WI   \n",
       "2     6564459919350820   entertainment   620.33      M          Benton    WI   \n",
       "3     4005676619255478    shopping_net  1077.69      M  Denham Springs    LA   \n",
       "4     3560725013359375    shopping_pos   842.65      F         Notrees    TX   \n",
       "...                ...             ...      ...    ...             ...   ...   \n",
       "2140  2242176657877538    shopping_pos  1041.51      M       Senatobia    MS   \n",
       "2141  2242176657877538    shopping_pos   868.09      M       Senatobia    MS   \n",
       "2142  2242176657877538    shopping_net  1039.42      M       Senatobia    MS   \n",
       "2143  2242176657877538     grocery_pos   289.27      M       Senatobia    MS   \n",
       "2144  2242176657877538        misc_net   766.38      M       Senatobia    MS   \n",
       "\n",
       "        zip  city_pop                       job  \\\n",
       "0     79759        23            Cytogeneticist   \n",
       "1     53803      1306  Public relations officer   \n",
       "2     53803      1306  Public relations officer   \n",
       "3     70726     71335                 Herbalist   \n",
       "4     79759        23            Cytogeneticist   \n",
       "...     ...       ...                       ...   \n",
       "2140  38668     14462    Database administrator   \n",
       "2141  38668     14462    Database administrator   \n",
       "2142  38668     14462    Database administrator   \n",
       "2143  38668     14462    Database administrator   \n",
       "2144  38668     14462    Database administrator   \n",
       "\n",
       "                             trans_num  is_fraud  \n",
       "0     16bf2e46c54369a8eab2214649506425         1  \n",
       "1     ab4b379d2c0c9c667d46508d4e126d72         1  \n",
       "2     47a9987ae81d99f7832a54b29a77bf4b         1  \n",
       "3     fe956c7e4a253c437c18918bf96f7b62         1  \n",
       "4     f6838c01f5d2262006e6b71d33ba7c6d         1  \n",
       "...                                ...       ...  \n",
       "2140  35b0297dd026d2e9a75d024a5dec7955         1  \n",
       "2141  da7f67d7375f10a054a3d919448c45dd         1  \n",
       "2142  25b076c7bcd70f272c1c5326bb234f4b         1  \n",
       "2143  2df7d894868fbc99ec1d8b055585fc9d         1  \n",
       "2144  44292cbc51e37dc018ee6a988a4bc426         1  \n",
       "\n",
       "[2145 rows x 11 columns]"
      ]
     },
     "execution_count": 51,
     "metadata": {},
     "output_type": "execute_result"
    }
   ],
   "source": [
    "df_new"
   ]
  },
  {
   "cell_type": "code",
   "execution_count": 52,
   "metadata": {
    "id": "yhkvsV4n5Rb9"
   },
   "outputs": [],
   "source": [
    "cc_df = pd.concat([df, df_new], ignore_index=True)"
   ]
  },
  {
   "cell_type": "code",
   "execution_count": 53,
   "metadata": {
    "colab": {
     "base_uri": "https://localhost:8080/",
     "height": 580
    },
    "id": "7GlbzNfP5-C3",
    "outputId": "2286fc01-65a2-418e-9a06-231a2808ccf7"
   },
   "outputs": [
    {
     "data": {
      "application/vnd.google.colaboratory.intrinsic+json": {
       "type": "dataframe",
       "variable_name": "cc_df"
      },
      "text/html": [
       "\n",
       "  <div id=\"df-ad33fbf6-8064-4f9c-955c-dad0a0a72365\" class=\"colab-df-container\">\n",
       "    <div>\n",
       "<style scoped>\n",
       "    .dataframe tbody tr th:only-of-type {\n",
       "        vertical-align: middle;\n",
       "    }\n",
       "\n",
       "    .dataframe tbody tr th {\n",
       "        vertical-align: top;\n",
       "    }\n",
       "\n",
       "    .dataframe thead th {\n",
       "        text-align: right;\n",
       "    }\n",
       "</style>\n",
       "<table border=\"1\" class=\"dataframe\">\n",
       "  <thead>\n",
       "    <tr style=\"text-align: right;\">\n",
       "      <th></th>\n",
       "      <th>cc_num</th>\n",
       "      <th>category</th>\n",
       "      <th>amt</th>\n",
       "      <th>gender</th>\n",
       "      <th>city</th>\n",
       "      <th>state</th>\n",
       "      <th>zip</th>\n",
       "      <th>city_pop</th>\n",
       "      <th>job</th>\n",
       "      <th>trans_num</th>\n",
       "      <th>is_fraud</th>\n",
       "    </tr>\n",
       "  </thead>\n",
       "  <tbody>\n",
       "    <tr>\n",
       "      <th>0</th>\n",
       "      <td>2703186189652095</td>\n",
       "      <td>misc_net</td>\n",
       "      <td>4.97</td>\n",
       "      <td>F</td>\n",
       "      <td>Moravian Falls</td>\n",
       "      <td>NC</td>\n",
       "      <td>28654</td>\n",
       "      <td>3495</td>\n",
       "      <td>Psychologist, counselling</td>\n",
       "      <td>0b242abb623afc578575680df30655b9</td>\n",
       "      <td>0</td>\n",
       "    </tr>\n",
       "    <tr>\n",
       "      <th>1</th>\n",
       "      <td>630423337322</td>\n",
       "      <td>grocery_pos</td>\n",
       "      <td>107.23</td>\n",
       "      <td>F</td>\n",
       "      <td>Orient</td>\n",
       "      <td>WA</td>\n",
       "      <td>99160</td>\n",
       "      <td>149</td>\n",
       "      <td>Special educational needs teacher</td>\n",
       "      <td>1f76529f8574734946361c461b024d99</td>\n",
       "      <td>0</td>\n",
       "    </tr>\n",
       "    <tr>\n",
       "      <th>2</th>\n",
       "      <td>38859492057661</td>\n",
       "      <td>entertainment</td>\n",
       "      <td>220.11</td>\n",
       "      <td>M</td>\n",
       "      <td>Malad City</td>\n",
       "      <td>ID</td>\n",
       "      <td>83252</td>\n",
       "      <td>4154</td>\n",
       "      <td>Nature conservation officer</td>\n",
       "      <td>a1a22d70485983eac12b5b88dad1cf95</td>\n",
       "      <td>0</td>\n",
       "    </tr>\n",
       "    <tr>\n",
       "      <th>3</th>\n",
       "      <td>3534093764340240</td>\n",
       "      <td>gas_transport</td>\n",
       "      <td>45.00</td>\n",
       "      <td>M</td>\n",
       "      <td>Boulder</td>\n",
       "      <td>MT</td>\n",
       "      <td>59632</td>\n",
       "      <td>1939</td>\n",
       "      <td>Patent attorney</td>\n",
       "      <td>6b849c168bdad6f867558c3793159a81</td>\n",
       "      <td>0</td>\n",
       "    </tr>\n",
       "    <tr>\n",
       "      <th>4</th>\n",
       "      <td>375534208663984</td>\n",
       "      <td>misc_pos</td>\n",
       "      <td>41.96</td>\n",
       "      <td>M</td>\n",
       "      <td>Doe Hill</td>\n",
       "      <td>VA</td>\n",
       "      <td>24433</td>\n",
       "      <td>99</td>\n",
       "      <td>Dance movement psychotherapist</td>\n",
       "      <td>a41d7549acf90789359a9aa5346dcb46</td>\n",
       "      <td>0</td>\n",
       "    </tr>\n",
       "    <tr>\n",
       "      <th>...</th>\n",
       "      <td>...</td>\n",
       "      <td>...</td>\n",
       "      <td>...</td>\n",
       "      <td>...</td>\n",
       "      <td>...</td>\n",
       "      <td>...</td>\n",
       "      <td>...</td>\n",
       "      <td>...</td>\n",
       "      <td>...</td>\n",
       "      <td>...</td>\n",
       "      <td>...</td>\n",
       "    </tr>\n",
       "    <tr>\n",
       "      <th>1298815</th>\n",
       "      <td>2242176657877538</td>\n",
       "      <td>shopping_pos</td>\n",
       "      <td>1041.51</td>\n",
       "      <td>M</td>\n",
       "      <td>Senatobia</td>\n",
       "      <td>MS</td>\n",
       "      <td>38668</td>\n",
       "      <td>14462</td>\n",
       "      <td>Database administrator</td>\n",
       "      <td>35b0297dd026d2e9a75d024a5dec7955</td>\n",
       "      <td>1</td>\n",
       "    </tr>\n",
       "    <tr>\n",
       "      <th>1298816</th>\n",
       "      <td>2242176657877538</td>\n",
       "      <td>shopping_pos</td>\n",
       "      <td>868.09</td>\n",
       "      <td>M</td>\n",
       "      <td>Senatobia</td>\n",
       "      <td>MS</td>\n",
       "      <td>38668</td>\n",
       "      <td>14462</td>\n",
       "      <td>Database administrator</td>\n",
       "      <td>da7f67d7375f10a054a3d919448c45dd</td>\n",
       "      <td>1</td>\n",
       "    </tr>\n",
       "    <tr>\n",
       "      <th>1298817</th>\n",
       "      <td>2242176657877538</td>\n",
       "      <td>shopping_net</td>\n",
       "      <td>1039.42</td>\n",
       "      <td>M</td>\n",
       "      <td>Senatobia</td>\n",
       "      <td>MS</td>\n",
       "      <td>38668</td>\n",
       "      <td>14462</td>\n",
       "      <td>Database administrator</td>\n",
       "      <td>25b076c7bcd70f272c1c5326bb234f4b</td>\n",
       "      <td>1</td>\n",
       "    </tr>\n",
       "    <tr>\n",
       "      <th>1298818</th>\n",
       "      <td>2242176657877538</td>\n",
       "      <td>grocery_pos</td>\n",
       "      <td>289.27</td>\n",
       "      <td>M</td>\n",
       "      <td>Senatobia</td>\n",
       "      <td>MS</td>\n",
       "      <td>38668</td>\n",
       "      <td>14462</td>\n",
       "      <td>Database administrator</td>\n",
       "      <td>2df7d894868fbc99ec1d8b055585fc9d</td>\n",
       "      <td>1</td>\n",
       "    </tr>\n",
       "    <tr>\n",
       "      <th>1298819</th>\n",
       "      <td>2242176657877538</td>\n",
       "      <td>misc_net</td>\n",
       "      <td>766.38</td>\n",
       "      <td>M</td>\n",
       "      <td>Senatobia</td>\n",
       "      <td>MS</td>\n",
       "      <td>38668</td>\n",
       "      <td>14462</td>\n",
       "      <td>Database administrator</td>\n",
       "      <td>44292cbc51e37dc018ee6a988a4bc426</td>\n",
       "      <td>1</td>\n",
       "    </tr>\n",
       "  </tbody>\n",
       "</table>\n",
       "<p>1298820 rows × 11 columns</p>\n",
       "</div>\n",
       "    <div class=\"colab-df-buttons\">\n",
       "\n",
       "  <div class=\"colab-df-container\">\n",
       "    <button class=\"colab-df-convert\" onclick=\"convertToInteractive('df-ad33fbf6-8064-4f9c-955c-dad0a0a72365')\"\n",
       "            title=\"Convert this dataframe to an interactive table.\"\n",
       "            style=\"display:none;\">\n",
       "\n",
       "  <svg xmlns=\"http://www.w3.org/2000/svg\" height=\"24px\" viewBox=\"0 -960 960 960\">\n",
       "    <path d=\"M120-120v-720h720v720H120Zm60-500h600v-160H180v160Zm220 220h160v-160H400v160Zm0 220h160v-160H400v160ZM180-400h160v-160H180v160Zm440 0h160v-160H620v160ZM180-180h160v-160H180v160Zm440 0h160v-160H620v160Z\"/>\n",
       "  </svg>\n",
       "    </button>\n",
       "\n",
       "  <style>\n",
       "    .colab-df-container {\n",
       "      display:flex;\n",
       "      gap: 12px;\n",
       "    }\n",
       "\n",
       "    .colab-df-convert {\n",
       "      background-color: #E8F0FE;\n",
       "      border: none;\n",
       "      border-radius: 50%;\n",
       "      cursor: pointer;\n",
       "      display: none;\n",
       "      fill: #1967D2;\n",
       "      height: 32px;\n",
       "      padding: 0 0 0 0;\n",
       "      width: 32px;\n",
       "    }\n",
       "\n",
       "    .colab-df-convert:hover {\n",
       "      background-color: #E2EBFA;\n",
       "      box-shadow: 0px 1px 2px rgba(60, 64, 67, 0.3), 0px 1px 3px 1px rgba(60, 64, 67, 0.15);\n",
       "      fill: #174EA6;\n",
       "    }\n",
       "\n",
       "    .colab-df-buttons div {\n",
       "      margin-bottom: 4px;\n",
       "    }\n",
       "\n",
       "    [theme=dark] .colab-df-convert {\n",
       "      background-color: #3B4455;\n",
       "      fill: #D2E3FC;\n",
       "    }\n",
       "\n",
       "    [theme=dark] .colab-df-convert:hover {\n",
       "      background-color: #434B5C;\n",
       "      box-shadow: 0px 1px 3px 1px rgba(0, 0, 0, 0.15);\n",
       "      filter: drop-shadow(0px 1px 2px rgba(0, 0, 0, 0.3));\n",
       "      fill: #FFFFFF;\n",
       "    }\n",
       "  </style>\n",
       "\n",
       "    <script>\n",
       "      const buttonEl =\n",
       "        document.querySelector('#df-ad33fbf6-8064-4f9c-955c-dad0a0a72365 button.colab-df-convert');\n",
       "      buttonEl.style.display =\n",
       "        google.colab.kernel.accessAllowed ? 'block' : 'none';\n",
       "\n",
       "      async function convertToInteractive(key) {\n",
       "        const element = document.querySelector('#df-ad33fbf6-8064-4f9c-955c-dad0a0a72365');\n",
       "        const dataTable =\n",
       "          await google.colab.kernel.invokeFunction('convertToInteractive',\n",
       "                                                    [key], {});\n",
       "        if (!dataTable) return;\n",
       "\n",
       "        const docLinkHtml = 'Like what you see? Visit the ' +\n",
       "          '<a target=\"_blank\" href=https://colab.research.google.com/notebooks/data_table.ipynb>data table notebook</a>'\n",
       "          + ' to learn more about interactive tables.';\n",
       "        element.innerHTML = '';\n",
       "        dataTable['output_type'] = 'display_data';\n",
       "        await google.colab.output.renderOutput(dataTable, element);\n",
       "        const docLink = document.createElement('div');\n",
       "        docLink.innerHTML = docLinkHtml;\n",
       "        element.appendChild(docLink);\n",
       "      }\n",
       "    </script>\n",
       "  </div>\n",
       "\n",
       "\n",
       "<div id=\"df-6f03da13-c8db-4b83-b6c8-ba291391b843\">\n",
       "  <button class=\"colab-df-quickchart\" onclick=\"quickchart('df-6f03da13-c8db-4b83-b6c8-ba291391b843')\"\n",
       "            title=\"Suggest charts\"\n",
       "            style=\"display:none;\">\n",
       "\n",
       "<svg xmlns=\"http://www.w3.org/2000/svg\" height=\"24px\"viewBox=\"0 0 24 24\"\n",
       "     width=\"24px\">\n",
       "    <g>\n",
       "        <path d=\"M19 3H5c-1.1 0-2 .9-2 2v14c0 1.1.9 2 2 2h14c1.1 0 2-.9 2-2V5c0-1.1-.9-2-2-2zM9 17H7v-7h2v7zm4 0h-2V7h2v10zm4 0h-2v-4h2v4z\"/>\n",
       "    </g>\n",
       "</svg>\n",
       "  </button>\n",
       "\n",
       "<style>\n",
       "  .colab-df-quickchart {\n",
       "      --bg-color: #E8F0FE;\n",
       "      --fill-color: #1967D2;\n",
       "      --hover-bg-color: #E2EBFA;\n",
       "      --hover-fill-color: #174EA6;\n",
       "      --disabled-fill-color: #AAA;\n",
       "      --disabled-bg-color: #DDD;\n",
       "  }\n",
       "\n",
       "  [theme=dark] .colab-df-quickchart {\n",
       "      --bg-color: #3B4455;\n",
       "      --fill-color: #D2E3FC;\n",
       "      --hover-bg-color: #434B5C;\n",
       "      --hover-fill-color: #FFFFFF;\n",
       "      --disabled-bg-color: #3B4455;\n",
       "      --disabled-fill-color: #666;\n",
       "  }\n",
       "\n",
       "  .colab-df-quickchart {\n",
       "    background-color: var(--bg-color);\n",
       "    border: none;\n",
       "    border-radius: 50%;\n",
       "    cursor: pointer;\n",
       "    display: none;\n",
       "    fill: var(--fill-color);\n",
       "    height: 32px;\n",
       "    padding: 0;\n",
       "    width: 32px;\n",
       "  }\n",
       "\n",
       "  .colab-df-quickchart:hover {\n",
       "    background-color: var(--hover-bg-color);\n",
       "    box-shadow: 0 1px 2px rgba(60, 64, 67, 0.3), 0 1px 3px 1px rgba(60, 64, 67, 0.15);\n",
       "    fill: var(--button-hover-fill-color);\n",
       "  }\n",
       "\n",
       "  .colab-df-quickchart-complete:disabled,\n",
       "  .colab-df-quickchart-complete:disabled:hover {\n",
       "    background-color: var(--disabled-bg-color);\n",
       "    fill: var(--disabled-fill-color);\n",
       "    box-shadow: none;\n",
       "  }\n",
       "\n",
       "  .colab-df-spinner {\n",
       "    border: 2px solid var(--fill-color);\n",
       "    border-color: transparent;\n",
       "    border-bottom-color: var(--fill-color);\n",
       "    animation:\n",
       "      spin 1s steps(1) infinite;\n",
       "  }\n",
       "\n",
       "  @keyframes spin {\n",
       "    0% {\n",
       "      border-color: transparent;\n",
       "      border-bottom-color: var(--fill-color);\n",
       "      border-left-color: var(--fill-color);\n",
       "    }\n",
       "    20% {\n",
       "      border-color: transparent;\n",
       "      border-left-color: var(--fill-color);\n",
       "      border-top-color: var(--fill-color);\n",
       "    }\n",
       "    30% {\n",
       "      border-color: transparent;\n",
       "      border-left-color: var(--fill-color);\n",
       "      border-top-color: var(--fill-color);\n",
       "      border-right-color: var(--fill-color);\n",
       "    }\n",
       "    40% {\n",
       "      border-color: transparent;\n",
       "      border-right-color: var(--fill-color);\n",
       "      border-top-color: var(--fill-color);\n",
       "    }\n",
       "    60% {\n",
       "      border-color: transparent;\n",
       "      border-right-color: var(--fill-color);\n",
       "    }\n",
       "    80% {\n",
       "      border-color: transparent;\n",
       "      border-right-color: var(--fill-color);\n",
       "      border-bottom-color: var(--fill-color);\n",
       "    }\n",
       "    90% {\n",
       "      border-color: transparent;\n",
       "      border-bottom-color: var(--fill-color);\n",
       "    }\n",
       "  }\n",
       "</style>\n",
       "\n",
       "  <script>\n",
       "    async function quickchart(key) {\n",
       "      const quickchartButtonEl =\n",
       "        document.querySelector('#' + key + ' button');\n",
       "      quickchartButtonEl.disabled = true;  // To prevent multiple clicks.\n",
       "      quickchartButtonEl.classList.add('colab-df-spinner');\n",
       "      try {\n",
       "        const charts = await google.colab.kernel.invokeFunction(\n",
       "            'suggestCharts', [key], {});\n",
       "      } catch (error) {\n",
       "        console.error('Error during call to suggestCharts:', error);\n",
       "      }\n",
       "      quickchartButtonEl.classList.remove('colab-df-spinner');\n",
       "      quickchartButtonEl.classList.add('colab-df-quickchart-complete');\n",
       "    }\n",
       "    (() => {\n",
       "      let quickchartButtonEl =\n",
       "        document.querySelector('#df-6f03da13-c8db-4b83-b6c8-ba291391b843 button');\n",
       "      quickchartButtonEl.style.display =\n",
       "        google.colab.kernel.accessAllowed ? 'block' : 'none';\n",
       "    })();\n",
       "  </script>\n",
       "</div>\n",
       "    </div>\n",
       "  </div>\n"
      ],
      "text/plain": [
       "                   cc_num       category      amt gender            city  \\\n",
       "0        2703186189652095       misc_net     4.97      F  Moravian Falls   \n",
       "1            630423337322    grocery_pos   107.23      F          Orient   \n",
       "2          38859492057661  entertainment   220.11      M      Malad City   \n",
       "3        3534093764340240  gas_transport    45.00      M         Boulder   \n",
       "4         375534208663984       misc_pos    41.96      M        Doe Hill   \n",
       "...                   ...            ...      ...    ...             ...   \n",
       "1298815  2242176657877538   shopping_pos  1041.51      M       Senatobia   \n",
       "1298816  2242176657877538   shopping_pos   868.09      M       Senatobia   \n",
       "1298817  2242176657877538   shopping_net  1039.42      M       Senatobia   \n",
       "1298818  2242176657877538    grocery_pos   289.27      M       Senatobia   \n",
       "1298819  2242176657877538       misc_net   766.38      M       Senatobia   \n",
       "\n",
       "        state    zip  city_pop                                job  \\\n",
       "0          NC  28654      3495          Psychologist, counselling   \n",
       "1          WA  99160       149  Special educational needs teacher   \n",
       "2          ID  83252      4154        Nature conservation officer   \n",
       "3          MT  59632      1939                    Patent attorney   \n",
       "4          VA  24433        99     Dance movement psychotherapist   \n",
       "...       ...    ...       ...                                ...   \n",
       "1298815    MS  38668     14462             Database administrator   \n",
       "1298816    MS  38668     14462             Database administrator   \n",
       "1298817    MS  38668     14462             Database administrator   \n",
       "1298818    MS  38668     14462             Database administrator   \n",
       "1298819    MS  38668     14462             Database administrator   \n",
       "\n",
       "                                trans_num  is_fraud  \n",
       "0        0b242abb623afc578575680df30655b9         0  \n",
       "1        1f76529f8574734946361c461b024d99         0  \n",
       "2        a1a22d70485983eac12b5b88dad1cf95         0  \n",
       "3        6b849c168bdad6f867558c3793159a81         0  \n",
       "4        a41d7549acf90789359a9aa5346dcb46         0  \n",
       "...                                   ...       ...  \n",
       "1298815  35b0297dd026d2e9a75d024a5dec7955         1  \n",
       "1298816  da7f67d7375f10a054a3d919448c45dd         1  \n",
       "1298817  25b076c7bcd70f272c1c5326bb234f4b         1  \n",
       "1298818  2df7d894868fbc99ec1d8b055585fc9d         1  \n",
       "1298819  44292cbc51e37dc018ee6a988a4bc426         1  \n",
       "\n",
       "[1298820 rows x 11 columns]"
      ]
     },
     "execution_count": 53,
     "metadata": {},
     "output_type": "execute_result"
    }
   ],
   "source": [
    "cc_df"
   ]
  },
  {
   "cell_type": "code",
   "execution_count": 54,
   "metadata": {
    "colab": {
     "base_uri": "https://localhost:8080/"
    },
    "id": "Zjl9qR_R5-3X",
    "outputId": "93b40694-0c2c-4d56-e56b-baaf9541a786"
   },
   "outputs": [
    {
     "data": {
      "text/plain": [
       "is_fraud\n",
       "0    1289169\n",
       "1       9651\n",
       "Name: count, dtype: int64"
      ]
     },
     "execution_count": 54,
     "metadata": {},
     "output_type": "execute_result"
    }
   ],
   "source": [
    "cc_df['is_fraud'].value_counts()"
   ]
  },
  {
   "cell_type": "code",
   "execution_count": 55,
   "metadata": {
    "colab": {
     "base_uri": "https://localhost:8080/"
    },
    "id": "9Tlerznk6Mbj",
    "outputId": "2e207eb3-f9e5-4b81-e5c2-c496d6d43eb7"
   },
   "outputs": [
    {
     "name": "stdout",
     "output_type": "stream",
     "text": [
      "<class 'pandas.core.frame.DataFrame'>\n",
      "RangeIndex: 1298820 entries, 0 to 1298819\n",
      "Data columns (total 11 columns):\n",
      " #   Column     Non-Null Count    Dtype  \n",
      "---  ------     --------------    -----  \n",
      " 0   cc_num     1298820 non-null  int64  \n",
      " 1   category   1298820 non-null  object \n",
      " 2   amt        1298820 non-null  float64\n",
      " 3   gender     1298820 non-null  object \n",
      " 4   city       1298820 non-null  object \n",
      " 5   state      1298820 non-null  object \n",
      " 6   zip        1298820 non-null  int64  \n",
      " 7   city_pop   1298820 non-null  int64  \n",
      " 8   job        1298820 non-null  object \n",
      " 9   trans_num  1298820 non-null  object \n",
      " 10  is_fraud   1298820 non-null  int64  \n",
      "dtypes: float64(1), int64(4), object(6)\n",
      "memory usage: 109.0+ MB\n"
     ]
    }
   ],
   "source": [
    "cc_df.info()"
   ]
  },
  {
   "cell_type": "code",
   "execution_count": 56,
   "metadata": {
    "colab": {
     "base_uri": "https://localhost:8080/"
    },
    "id": "zzU1uu586xci",
    "outputId": "bfab73cd-854f-4350-a72f-4e808698391d"
   },
   "outputs": [
    {
     "data": {
      "text/plain": [
       "city\n",
       "Birmingham     5642\n",
       "San Antonio    5130\n",
       "Utica          5105\n",
       "Phoenix        5090\n",
       "Meridian       5065\n",
       "               ... \n",
       "Karns City        7\n",
       "Chattanooga       7\n",
       "Claypool          7\n",
       "Bruce             7\n",
       "Wever             6\n",
       "Name: count, Length: 906, dtype: int64"
      ]
     },
     "execution_count": 56,
     "metadata": {},
     "output_type": "execute_result"
    }
   ],
   "source": [
    "cc_df['city'].value_counts()"
   ]
  },
  {
   "cell_type": "code",
   "execution_count": 57,
   "metadata": {
    "id": "mR2F3YNl61Sg"
   },
   "outputs": [],
   "source": [
    "columns_to_drop = ['city','trans_num']\n",
    "cc_df.drop(columns=columns_to_drop, inplace=True)"
   ]
  },
  {
   "cell_type": "code",
   "execution_count": 58,
   "metadata": {
    "colab": {
     "base_uri": "https://localhost:8080/",
     "height": 424
    },
    "id": "G2eMh7abbgq-",
    "outputId": "003594fb-526b-41e0-da08-60b7662fffe7"
   },
   "outputs": [
    {
     "data": {
      "application/vnd.google.colaboratory.intrinsic+json": {
       "type": "dataframe",
       "variable_name": "cc_df"
      },
      "text/html": [
       "\n",
       "  <div id=\"df-681082a4-0be6-4144-aa73-c191d8a8b00e\" class=\"colab-df-container\">\n",
       "    <div>\n",
       "<style scoped>\n",
       "    .dataframe tbody tr th:only-of-type {\n",
       "        vertical-align: middle;\n",
       "    }\n",
       "\n",
       "    .dataframe tbody tr th {\n",
       "        vertical-align: top;\n",
       "    }\n",
       "\n",
       "    .dataframe thead th {\n",
       "        text-align: right;\n",
       "    }\n",
       "</style>\n",
       "<table border=\"1\" class=\"dataframe\">\n",
       "  <thead>\n",
       "    <tr style=\"text-align: right;\">\n",
       "      <th></th>\n",
       "      <th>cc_num</th>\n",
       "      <th>category</th>\n",
       "      <th>amt</th>\n",
       "      <th>gender</th>\n",
       "      <th>state</th>\n",
       "      <th>zip</th>\n",
       "      <th>city_pop</th>\n",
       "      <th>job</th>\n",
       "      <th>is_fraud</th>\n",
       "    </tr>\n",
       "  </thead>\n",
       "  <tbody>\n",
       "    <tr>\n",
       "      <th>0</th>\n",
       "      <td>2703186189652095</td>\n",
       "      <td>misc_net</td>\n",
       "      <td>4.97</td>\n",
       "      <td>F</td>\n",
       "      <td>NC</td>\n",
       "      <td>28654</td>\n",
       "      <td>3495</td>\n",
       "      <td>Psychologist, counselling</td>\n",
       "      <td>0</td>\n",
       "    </tr>\n",
       "    <tr>\n",
       "      <th>1</th>\n",
       "      <td>630423337322</td>\n",
       "      <td>grocery_pos</td>\n",
       "      <td>107.23</td>\n",
       "      <td>F</td>\n",
       "      <td>WA</td>\n",
       "      <td>99160</td>\n",
       "      <td>149</td>\n",
       "      <td>Special educational needs teacher</td>\n",
       "      <td>0</td>\n",
       "    </tr>\n",
       "    <tr>\n",
       "      <th>2</th>\n",
       "      <td>38859492057661</td>\n",
       "      <td>entertainment</td>\n",
       "      <td>220.11</td>\n",
       "      <td>M</td>\n",
       "      <td>ID</td>\n",
       "      <td>83252</td>\n",
       "      <td>4154</td>\n",
       "      <td>Nature conservation officer</td>\n",
       "      <td>0</td>\n",
       "    </tr>\n",
       "    <tr>\n",
       "      <th>3</th>\n",
       "      <td>3534093764340240</td>\n",
       "      <td>gas_transport</td>\n",
       "      <td>45.00</td>\n",
       "      <td>M</td>\n",
       "      <td>MT</td>\n",
       "      <td>59632</td>\n",
       "      <td>1939</td>\n",
       "      <td>Patent attorney</td>\n",
       "      <td>0</td>\n",
       "    </tr>\n",
       "    <tr>\n",
       "      <th>4</th>\n",
       "      <td>375534208663984</td>\n",
       "      <td>misc_pos</td>\n",
       "      <td>41.96</td>\n",
       "      <td>M</td>\n",
       "      <td>VA</td>\n",
       "      <td>24433</td>\n",
       "      <td>99</td>\n",
       "      <td>Dance movement psychotherapist</td>\n",
       "      <td>0</td>\n",
       "    </tr>\n",
       "    <tr>\n",
       "      <th>...</th>\n",
       "      <td>...</td>\n",
       "      <td>...</td>\n",
       "      <td>...</td>\n",
       "      <td>...</td>\n",
       "      <td>...</td>\n",
       "      <td>...</td>\n",
       "      <td>...</td>\n",
       "      <td>...</td>\n",
       "      <td>...</td>\n",
       "    </tr>\n",
       "    <tr>\n",
       "      <th>1298815</th>\n",
       "      <td>2242176657877538</td>\n",
       "      <td>shopping_pos</td>\n",
       "      <td>1041.51</td>\n",
       "      <td>M</td>\n",
       "      <td>MS</td>\n",
       "      <td>38668</td>\n",
       "      <td>14462</td>\n",
       "      <td>Database administrator</td>\n",
       "      <td>1</td>\n",
       "    </tr>\n",
       "    <tr>\n",
       "      <th>1298816</th>\n",
       "      <td>2242176657877538</td>\n",
       "      <td>shopping_pos</td>\n",
       "      <td>868.09</td>\n",
       "      <td>M</td>\n",
       "      <td>MS</td>\n",
       "      <td>38668</td>\n",
       "      <td>14462</td>\n",
       "      <td>Database administrator</td>\n",
       "      <td>1</td>\n",
       "    </tr>\n",
       "    <tr>\n",
       "      <th>1298817</th>\n",
       "      <td>2242176657877538</td>\n",
       "      <td>shopping_net</td>\n",
       "      <td>1039.42</td>\n",
       "      <td>M</td>\n",
       "      <td>MS</td>\n",
       "      <td>38668</td>\n",
       "      <td>14462</td>\n",
       "      <td>Database administrator</td>\n",
       "      <td>1</td>\n",
       "    </tr>\n",
       "    <tr>\n",
       "      <th>1298818</th>\n",
       "      <td>2242176657877538</td>\n",
       "      <td>grocery_pos</td>\n",
       "      <td>289.27</td>\n",
       "      <td>M</td>\n",
       "      <td>MS</td>\n",
       "      <td>38668</td>\n",
       "      <td>14462</td>\n",
       "      <td>Database administrator</td>\n",
       "      <td>1</td>\n",
       "    </tr>\n",
       "    <tr>\n",
       "      <th>1298819</th>\n",
       "      <td>2242176657877538</td>\n",
       "      <td>misc_net</td>\n",
       "      <td>766.38</td>\n",
       "      <td>M</td>\n",
       "      <td>MS</td>\n",
       "      <td>38668</td>\n",
       "      <td>14462</td>\n",
       "      <td>Database administrator</td>\n",
       "      <td>1</td>\n",
       "    </tr>\n",
       "  </tbody>\n",
       "</table>\n",
       "<p>1298820 rows × 9 columns</p>\n",
       "</div>\n",
       "    <div class=\"colab-df-buttons\">\n",
       "\n",
       "  <div class=\"colab-df-container\">\n",
       "    <button class=\"colab-df-convert\" onclick=\"convertToInteractive('df-681082a4-0be6-4144-aa73-c191d8a8b00e')\"\n",
       "            title=\"Convert this dataframe to an interactive table.\"\n",
       "            style=\"display:none;\">\n",
       "\n",
       "  <svg xmlns=\"http://www.w3.org/2000/svg\" height=\"24px\" viewBox=\"0 -960 960 960\">\n",
       "    <path d=\"M120-120v-720h720v720H120Zm60-500h600v-160H180v160Zm220 220h160v-160H400v160Zm0 220h160v-160H400v160ZM180-400h160v-160H180v160Zm440 0h160v-160H620v160ZM180-180h160v-160H180v160Zm440 0h160v-160H620v160Z\"/>\n",
       "  </svg>\n",
       "    </button>\n",
       "\n",
       "  <style>\n",
       "    .colab-df-container {\n",
       "      display:flex;\n",
       "      gap: 12px;\n",
       "    }\n",
       "\n",
       "    .colab-df-convert {\n",
       "      background-color: #E8F0FE;\n",
       "      border: none;\n",
       "      border-radius: 50%;\n",
       "      cursor: pointer;\n",
       "      display: none;\n",
       "      fill: #1967D2;\n",
       "      height: 32px;\n",
       "      padding: 0 0 0 0;\n",
       "      width: 32px;\n",
       "    }\n",
       "\n",
       "    .colab-df-convert:hover {\n",
       "      background-color: #E2EBFA;\n",
       "      box-shadow: 0px 1px 2px rgba(60, 64, 67, 0.3), 0px 1px 3px 1px rgba(60, 64, 67, 0.15);\n",
       "      fill: #174EA6;\n",
       "    }\n",
       "\n",
       "    .colab-df-buttons div {\n",
       "      margin-bottom: 4px;\n",
       "    }\n",
       "\n",
       "    [theme=dark] .colab-df-convert {\n",
       "      background-color: #3B4455;\n",
       "      fill: #D2E3FC;\n",
       "    }\n",
       "\n",
       "    [theme=dark] .colab-df-convert:hover {\n",
       "      background-color: #434B5C;\n",
       "      box-shadow: 0px 1px 3px 1px rgba(0, 0, 0, 0.15);\n",
       "      filter: drop-shadow(0px 1px 2px rgba(0, 0, 0, 0.3));\n",
       "      fill: #FFFFFF;\n",
       "    }\n",
       "  </style>\n",
       "\n",
       "    <script>\n",
       "      const buttonEl =\n",
       "        document.querySelector('#df-681082a4-0be6-4144-aa73-c191d8a8b00e button.colab-df-convert');\n",
       "      buttonEl.style.display =\n",
       "        google.colab.kernel.accessAllowed ? 'block' : 'none';\n",
       "\n",
       "      async function convertToInteractive(key) {\n",
       "        const element = document.querySelector('#df-681082a4-0be6-4144-aa73-c191d8a8b00e');\n",
       "        const dataTable =\n",
       "          await google.colab.kernel.invokeFunction('convertToInteractive',\n",
       "                                                    [key], {});\n",
       "        if (!dataTable) return;\n",
       "\n",
       "        const docLinkHtml = 'Like what you see? Visit the ' +\n",
       "          '<a target=\"_blank\" href=https://colab.research.google.com/notebooks/data_table.ipynb>data table notebook</a>'\n",
       "          + ' to learn more about interactive tables.';\n",
       "        element.innerHTML = '';\n",
       "        dataTable['output_type'] = 'display_data';\n",
       "        await google.colab.output.renderOutput(dataTable, element);\n",
       "        const docLink = document.createElement('div');\n",
       "        docLink.innerHTML = docLinkHtml;\n",
       "        element.appendChild(docLink);\n",
       "      }\n",
       "    </script>\n",
       "  </div>\n",
       "\n",
       "\n",
       "<div id=\"df-4c8fb36b-2937-450f-ba42-d40eed13645f\">\n",
       "  <button class=\"colab-df-quickchart\" onclick=\"quickchart('df-4c8fb36b-2937-450f-ba42-d40eed13645f')\"\n",
       "            title=\"Suggest charts\"\n",
       "            style=\"display:none;\">\n",
       "\n",
       "<svg xmlns=\"http://www.w3.org/2000/svg\" height=\"24px\"viewBox=\"0 0 24 24\"\n",
       "     width=\"24px\">\n",
       "    <g>\n",
       "        <path d=\"M19 3H5c-1.1 0-2 .9-2 2v14c0 1.1.9 2 2 2h14c1.1 0 2-.9 2-2V5c0-1.1-.9-2-2-2zM9 17H7v-7h2v7zm4 0h-2V7h2v10zm4 0h-2v-4h2v4z\"/>\n",
       "    </g>\n",
       "</svg>\n",
       "  </button>\n",
       "\n",
       "<style>\n",
       "  .colab-df-quickchart {\n",
       "      --bg-color: #E8F0FE;\n",
       "      --fill-color: #1967D2;\n",
       "      --hover-bg-color: #E2EBFA;\n",
       "      --hover-fill-color: #174EA6;\n",
       "      --disabled-fill-color: #AAA;\n",
       "      --disabled-bg-color: #DDD;\n",
       "  }\n",
       "\n",
       "  [theme=dark] .colab-df-quickchart {\n",
       "      --bg-color: #3B4455;\n",
       "      --fill-color: #D2E3FC;\n",
       "      --hover-bg-color: #434B5C;\n",
       "      --hover-fill-color: #FFFFFF;\n",
       "      --disabled-bg-color: #3B4455;\n",
       "      --disabled-fill-color: #666;\n",
       "  }\n",
       "\n",
       "  .colab-df-quickchart {\n",
       "    background-color: var(--bg-color);\n",
       "    border: none;\n",
       "    border-radius: 50%;\n",
       "    cursor: pointer;\n",
       "    display: none;\n",
       "    fill: var(--fill-color);\n",
       "    height: 32px;\n",
       "    padding: 0;\n",
       "    width: 32px;\n",
       "  }\n",
       "\n",
       "  .colab-df-quickchart:hover {\n",
       "    background-color: var(--hover-bg-color);\n",
       "    box-shadow: 0 1px 2px rgba(60, 64, 67, 0.3), 0 1px 3px 1px rgba(60, 64, 67, 0.15);\n",
       "    fill: var(--button-hover-fill-color);\n",
       "  }\n",
       "\n",
       "  .colab-df-quickchart-complete:disabled,\n",
       "  .colab-df-quickchart-complete:disabled:hover {\n",
       "    background-color: var(--disabled-bg-color);\n",
       "    fill: var(--disabled-fill-color);\n",
       "    box-shadow: none;\n",
       "  }\n",
       "\n",
       "  .colab-df-spinner {\n",
       "    border: 2px solid var(--fill-color);\n",
       "    border-color: transparent;\n",
       "    border-bottom-color: var(--fill-color);\n",
       "    animation:\n",
       "      spin 1s steps(1) infinite;\n",
       "  }\n",
       "\n",
       "  @keyframes spin {\n",
       "    0% {\n",
       "      border-color: transparent;\n",
       "      border-bottom-color: var(--fill-color);\n",
       "      border-left-color: var(--fill-color);\n",
       "    }\n",
       "    20% {\n",
       "      border-color: transparent;\n",
       "      border-left-color: var(--fill-color);\n",
       "      border-top-color: var(--fill-color);\n",
       "    }\n",
       "    30% {\n",
       "      border-color: transparent;\n",
       "      border-left-color: var(--fill-color);\n",
       "      border-top-color: var(--fill-color);\n",
       "      border-right-color: var(--fill-color);\n",
       "    }\n",
       "    40% {\n",
       "      border-color: transparent;\n",
       "      border-right-color: var(--fill-color);\n",
       "      border-top-color: var(--fill-color);\n",
       "    }\n",
       "    60% {\n",
       "      border-color: transparent;\n",
       "      border-right-color: var(--fill-color);\n",
       "    }\n",
       "    80% {\n",
       "      border-color: transparent;\n",
       "      border-right-color: var(--fill-color);\n",
       "      border-bottom-color: var(--fill-color);\n",
       "    }\n",
       "    90% {\n",
       "      border-color: transparent;\n",
       "      border-bottom-color: var(--fill-color);\n",
       "    }\n",
       "  }\n",
       "</style>\n",
       "\n",
       "  <script>\n",
       "    async function quickchart(key) {\n",
       "      const quickchartButtonEl =\n",
       "        document.querySelector('#' + key + ' button');\n",
       "      quickchartButtonEl.disabled = true;  // To prevent multiple clicks.\n",
       "      quickchartButtonEl.classList.add('colab-df-spinner');\n",
       "      try {\n",
       "        const charts = await google.colab.kernel.invokeFunction(\n",
       "            'suggestCharts', [key], {});\n",
       "      } catch (error) {\n",
       "        console.error('Error during call to suggestCharts:', error);\n",
       "      }\n",
       "      quickchartButtonEl.classList.remove('colab-df-spinner');\n",
       "      quickchartButtonEl.classList.add('colab-df-quickchart-complete');\n",
       "    }\n",
       "    (() => {\n",
       "      let quickchartButtonEl =\n",
       "        document.querySelector('#df-4c8fb36b-2937-450f-ba42-d40eed13645f button');\n",
       "      quickchartButtonEl.style.display =\n",
       "        google.colab.kernel.accessAllowed ? 'block' : 'none';\n",
       "    })();\n",
       "  </script>\n",
       "</div>\n",
       "    </div>\n",
       "  </div>\n"
      ],
      "text/plain": [
       "                   cc_num       category      amt gender state    zip  \\\n",
       "0        2703186189652095       misc_net     4.97      F    NC  28654   \n",
       "1            630423337322    grocery_pos   107.23      F    WA  99160   \n",
       "2          38859492057661  entertainment   220.11      M    ID  83252   \n",
       "3        3534093764340240  gas_transport    45.00      M    MT  59632   \n",
       "4         375534208663984       misc_pos    41.96      M    VA  24433   \n",
       "...                   ...            ...      ...    ...   ...    ...   \n",
       "1298815  2242176657877538   shopping_pos  1041.51      M    MS  38668   \n",
       "1298816  2242176657877538   shopping_pos   868.09      M    MS  38668   \n",
       "1298817  2242176657877538   shopping_net  1039.42      M    MS  38668   \n",
       "1298818  2242176657877538    grocery_pos   289.27      M    MS  38668   \n",
       "1298819  2242176657877538       misc_net   766.38      M    MS  38668   \n",
       "\n",
       "         city_pop                                job  is_fraud  \n",
       "0            3495          Psychologist, counselling         0  \n",
       "1             149  Special educational needs teacher         0  \n",
       "2            4154        Nature conservation officer         0  \n",
       "3            1939                    Patent attorney         0  \n",
       "4              99     Dance movement psychotherapist         0  \n",
       "...           ...                                ...       ...  \n",
       "1298815     14462             Database administrator         1  \n",
       "1298816     14462             Database administrator         1  \n",
       "1298817     14462             Database administrator         1  \n",
       "1298818     14462             Database administrator         1  \n",
       "1298819     14462             Database administrator         1  \n",
       "\n",
       "[1298820 rows x 9 columns]"
      ]
     },
     "execution_count": 58,
     "metadata": {},
     "output_type": "execute_result"
    }
   ],
   "source": [
    "cc_df"
   ]
  },
  {
   "cell_type": "code",
   "execution_count": 59,
   "metadata": {
    "colab": {
     "base_uri": "https://localhost:8080/"
    },
    "id": "20kr1CSIbh5L",
    "outputId": "fd8c7ace-2dd5-4202-e4f5-3a3c083a37ee"
   },
   "outputs": [
    {
     "name": "stdout",
     "output_type": "stream",
     "text": [
      "<class 'pandas.core.frame.DataFrame'>\n",
      "RangeIndex: 1298820 entries, 0 to 1298819\n",
      "Data columns (total 9 columns):\n",
      " #   Column    Non-Null Count    Dtype  \n",
      "---  ------    --------------    -----  \n",
      " 0   cc_num    1298820 non-null  int64  \n",
      " 1   category  1298820 non-null  object \n",
      " 2   amt       1298820 non-null  float64\n",
      " 3   gender    1298820 non-null  object \n",
      " 4   state     1298820 non-null  object \n",
      " 5   zip       1298820 non-null  int64  \n",
      " 6   city_pop  1298820 non-null  int64  \n",
      " 7   job       1298820 non-null  object \n",
      " 8   is_fraud  1298820 non-null  int64  \n",
      "dtypes: float64(1), int64(4), object(4)\n",
      "memory usage: 89.2+ MB\n"
     ]
    }
   ],
   "source": [
    "cc_df.info()"
   ]
  },
  {
   "cell_type": "code",
   "execution_count": 60,
   "metadata": {
    "id": "GpejOaionCia"
   },
   "outputs": [],
   "source": [
    "categories_to_encode = ['NY','TX','PA','CA','OH','FL','IL','MI','AL','MN']\n",
    "\n",
    "category_encoding_map = {category: i + 1 for i, category in enumerate(categories_to_encode)}\n",
    "\n",
    "cc_df['Encoded_state'] = cc_df['state'].map(category_encoding_map)\n",
    "\n",
    "cc_df['Encoded_state'].fillna(11, inplace=True)"
   ]
  },
  {
   "cell_type": "code",
   "execution_count": 61,
   "metadata": {
    "id": "x9TqlD3RnClr"
   },
   "outputs": [],
   "source": [
    "categories_to_encode = ['Copywriter, advertising','Senior tax professional/tax inspector','Audiological scientist','Prison officer','Quantity surveyor','Mechanical engineer','Surveyor, land/geomatics','Exhibition designer','Naval architect','Trading standards officer','Materials engineer']\n",
    "\n",
    "category_encoding_map = {category: i + 1 for i, category in enumerate(categories_to_encode)}\n",
    "\n",
    "cc_df['Encoded_job'] = cc_df['job'].map(category_encoding_map)\n",
    "\n",
    "cc_df['Encoded_job'].fillna(12, inplace=True)"
   ]
  },
  {
   "cell_type": "code",
   "execution_count": 62,
   "metadata": {
    "colab": {
     "base_uri": "https://localhost:8080/",
     "height": 424
    },
    "id": "2ys0t3hCG1Q9",
    "outputId": "01dd22e1-3f6d-4c23-dad3-3a83a722aa74"
   },
   "outputs": [
    {
     "data": {
      "application/vnd.google.colaboratory.intrinsic+json": {
       "type": "dataframe",
       "variable_name": "cc_df"
      },
      "text/html": [
       "\n",
       "  <div id=\"df-3425c009-5402-4b38-99b4-644ff98f265b\" class=\"colab-df-container\">\n",
       "    <div>\n",
       "<style scoped>\n",
       "    .dataframe tbody tr th:only-of-type {\n",
       "        vertical-align: middle;\n",
       "    }\n",
       "\n",
       "    .dataframe tbody tr th {\n",
       "        vertical-align: top;\n",
       "    }\n",
       "\n",
       "    .dataframe thead th {\n",
       "        text-align: right;\n",
       "    }\n",
       "</style>\n",
       "<table border=\"1\" class=\"dataframe\">\n",
       "  <thead>\n",
       "    <tr style=\"text-align: right;\">\n",
       "      <th></th>\n",
       "      <th>cc_num</th>\n",
       "      <th>category</th>\n",
       "      <th>amt</th>\n",
       "      <th>gender</th>\n",
       "      <th>state</th>\n",
       "      <th>zip</th>\n",
       "      <th>city_pop</th>\n",
       "      <th>job</th>\n",
       "      <th>is_fraud</th>\n",
       "      <th>Encoded_state</th>\n",
       "      <th>Encoded_job</th>\n",
       "    </tr>\n",
       "  </thead>\n",
       "  <tbody>\n",
       "    <tr>\n",
       "      <th>0</th>\n",
       "      <td>2703186189652095</td>\n",
       "      <td>misc_net</td>\n",
       "      <td>4.97</td>\n",
       "      <td>F</td>\n",
       "      <td>NC</td>\n",
       "      <td>28654</td>\n",
       "      <td>3495</td>\n",
       "      <td>Psychologist, counselling</td>\n",
       "      <td>0</td>\n",
       "      <td>11.0</td>\n",
       "      <td>12.0</td>\n",
       "    </tr>\n",
       "    <tr>\n",
       "      <th>1</th>\n",
       "      <td>630423337322</td>\n",
       "      <td>grocery_pos</td>\n",
       "      <td>107.23</td>\n",
       "      <td>F</td>\n",
       "      <td>WA</td>\n",
       "      <td>99160</td>\n",
       "      <td>149</td>\n",
       "      <td>Special educational needs teacher</td>\n",
       "      <td>0</td>\n",
       "      <td>11.0</td>\n",
       "      <td>12.0</td>\n",
       "    </tr>\n",
       "    <tr>\n",
       "      <th>2</th>\n",
       "      <td>38859492057661</td>\n",
       "      <td>entertainment</td>\n",
       "      <td>220.11</td>\n",
       "      <td>M</td>\n",
       "      <td>ID</td>\n",
       "      <td>83252</td>\n",
       "      <td>4154</td>\n",
       "      <td>Nature conservation officer</td>\n",
       "      <td>0</td>\n",
       "      <td>11.0</td>\n",
       "      <td>12.0</td>\n",
       "    </tr>\n",
       "    <tr>\n",
       "      <th>3</th>\n",
       "      <td>3534093764340240</td>\n",
       "      <td>gas_transport</td>\n",
       "      <td>45.00</td>\n",
       "      <td>M</td>\n",
       "      <td>MT</td>\n",
       "      <td>59632</td>\n",
       "      <td>1939</td>\n",
       "      <td>Patent attorney</td>\n",
       "      <td>0</td>\n",
       "      <td>11.0</td>\n",
       "      <td>12.0</td>\n",
       "    </tr>\n",
       "    <tr>\n",
       "      <th>4</th>\n",
       "      <td>375534208663984</td>\n",
       "      <td>misc_pos</td>\n",
       "      <td>41.96</td>\n",
       "      <td>M</td>\n",
       "      <td>VA</td>\n",
       "      <td>24433</td>\n",
       "      <td>99</td>\n",
       "      <td>Dance movement psychotherapist</td>\n",
       "      <td>0</td>\n",
       "      <td>11.0</td>\n",
       "      <td>12.0</td>\n",
       "    </tr>\n",
       "    <tr>\n",
       "      <th>...</th>\n",
       "      <td>...</td>\n",
       "      <td>...</td>\n",
       "      <td>...</td>\n",
       "      <td>...</td>\n",
       "      <td>...</td>\n",
       "      <td>...</td>\n",
       "      <td>...</td>\n",
       "      <td>...</td>\n",
       "      <td>...</td>\n",
       "      <td>...</td>\n",
       "      <td>...</td>\n",
       "    </tr>\n",
       "    <tr>\n",
       "      <th>1298815</th>\n",
       "      <td>2242176657877538</td>\n",
       "      <td>shopping_pos</td>\n",
       "      <td>1041.51</td>\n",
       "      <td>M</td>\n",
       "      <td>MS</td>\n",
       "      <td>38668</td>\n",
       "      <td>14462</td>\n",
       "      <td>Database administrator</td>\n",
       "      <td>1</td>\n",
       "      <td>11.0</td>\n",
       "      <td>12.0</td>\n",
       "    </tr>\n",
       "    <tr>\n",
       "      <th>1298816</th>\n",
       "      <td>2242176657877538</td>\n",
       "      <td>shopping_pos</td>\n",
       "      <td>868.09</td>\n",
       "      <td>M</td>\n",
       "      <td>MS</td>\n",
       "      <td>38668</td>\n",
       "      <td>14462</td>\n",
       "      <td>Database administrator</td>\n",
       "      <td>1</td>\n",
       "      <td>11.0</td>\n",
       "      <td>12.0</td>\n",
       "    </tr>\n",
       "    <tr>\n",
       "      <th>1298817</th>\n",
       "      <td>2242176657877538</td>\n",
       "      <td>shopping_net</td>\n",
       "      <td>1039.42</td>\n",
       "      <td>M</td>\n",
       "      <td>MS</td>\n",
       "      <td>38668</td>\n",
       "      <td>14462</td>\n",
       "      <td>Database administrator</td>\n",
       "      <td>1</td>\n",
       "      <td>11.0</td>\n",
       "      <td>12.0</td>\n",
       "    </tr>\n",
       "    <tr>\n",
       "      <th>1298818</th>\n",
       "      <td>2242176657877538</td>\n",
       "      <td>grocery_pos</td>\n",
       "      <td>289.27</td>\n",
       "      <td>M</td>\n",
       "      <td>MS</td>\n",
       "      <td>38668</td>\n",
       "      <td>14462</td>\n",
       "      <td>Database administrator</td>\n",
       "      <td>1</td>\n",
       "      <td>11.0</td>\n",
       "      <td>12.0</td>\n",
       "    </tr>\n",
       "    <tr>\n",
       "      <th>1298819</th>\n",
       "      <td>2242176657877538</td>\n",
       "      <td>misc_net</td>\n",
       "      <td>766.38</td>\n",
       "      <td>M</td>\n",
       "      <td>MS</td>\n",
       "      <td>38668</td>\n",
       "      <td>14462</td>\n",
       "      <td>Database administrator</td>\n",
       "      <td>1</td>\n",
       "      <td>11.0</td>\n",
       "      <td>12.0</td>\n",
       "    </tr>\n",
       "  </tbody>\n",
       "</table>\n",
       "<p>1298820 rows × 11 columns</p>\n",
       "</div>\n",
       "    <div class=\"colab-df-buttons\">\n",
       "\n",
       "  <div class=\"colab-df-container\">\n",
       "    <button class=\"colab-df-convert\" onclick=\"convertToInteractive('df-3425c009-5402-4b38-99b4-644ff98f265b')\"\n",
       "            title=\"Convert this dataframe to an interactive table.\"\n",
       "            style=\"display:none;\">\n",
       "\n",
       "  <svg xmlns=\"http://www.w3.org/2000/svg\" height=\"24px\" viewBox=\"0 -960 960 960\">\n",
       "    <path d=\"M120-120v-720h720v720H120Zm60-500h600v-160H180v160Zm220 220h160v-160H400v160Zm0 220h160v-160H400v160ZM180-400h160v-160H180v160Zm440 0h160v-160H620v160ZM180-180h160v-160H180v160Zm440 0h160v-160H620v160Z\"/>\n",
       "  </svg>\n",
       "    </button>\n",
       "\n",
       "  <style>\n",
       "    .colab-df-container {\n",
       "      display:flex;\n",
       "      gap: 12px;\n",
       "    }\n",
       "\n",
       "    .colab-df-convert {\n",
       "      background-color: #E8F0FE;\n",
       "      border: none;\n",
       "      border-radius: 50%;\n",
       "      cursor: pointer;\n",
       "      display: none;\n",
       "      fill: #1967D2;\n",
       "      height: 32px;\n",
       "      padding: 0 0 0 0;\n",
       "      width: 32px;\n",
       "    }\n",
       "\n",
       "    .colab-df-convert:hover {\n",
       "      background-color: #E2EBFA;\n",
       "      box-shadow: 0px 1px 2px rgba(60, 64, 67, 0.3), 0px 1px 3px 1px rgba(60, 64, 67, 0.15);\n",
       "      fill: #174EA6;\n",
       "    }\n",
       "\n",
       "    .colab-df-buttons div {\n",
       "      margin-bottom: 4px;\n",
       "    }\n",
       "\n",
       "    [theme=dark] .colab-df-convert {\n",
       "      background-color: #3B4455;\n",
       "      fill: #D2E3FC;\n",
       "    }\n",
       "\n",
       "    [theme=dark] .colab-df-convert:hover {\n",
       "      background-color: #434B5C;\n",
       "      box-shadow: 0px 1px 3px 1px rgba(0, 0, 0, 0.15);\n",
       "      filter: drop-shadow(0px 1px 2px rgba(0, 0, 0, 0.3));\n",
       "      fill: #FFFFFF;\n",
       "    }\n",
       "  </style>\n",
       "\n",
       "    <script>\n",
       "      const buttonEl =\n",
       "        document.querySelector('#df-3425c009-5402-4b38-99b4-644ff98f265b button.colab-df-convert');\n",
       "      buttonEl.style.display =\n",
       "        google.colab.kernel.accessAllowed ? 'block' : 'none';\n",
       "\n",
       "      async function convertToInteractive(key) {\n",
       "        const element = document.querySelector('#df-3425c009-5402-4b38-99b4-644ff98f265b');\n",
       "        const dataTable =\n",
       "          await google.colab.kernel.invokeFunction('convertToInteractive',\n",
       "                                                    [key], {});\n",
       "        if (!dataTable) return;\n",
       "\n",
       "        const docLinkHtml = 'Like what you see? Visit the ' +\n",
       "          '<a target=\"_blank\" href=https://colab.research.google.com/notebooks/data_table.ipynb>data table notebook</a>'\n",
       "          + ' to learn more about interactive tables.';\n",
       "        element.innerHTML = '';\n",
       "        dataTable['output_type'] = 'display_data';\n",
       "        await google.colab.output.renderOutput(dataTable, element);\n",
       "        const docLink = document.createElement('div');\n",
       "        docLink.innerHTML = docLinkHtml;\n",
       "        element.appendChild(docLink);\n",
       "      }\n",
       "    </script>\n",
       "  </div>\n",
       "\n",
       "\n",
       "<div id=\"df-c4dccaa6-ebcc-4e6b-a795-b6903ebc5644\">\n",
       "  <button class=\"colab-df-quickchart\" onclick=\"quickchart('df-c4dccaa6-ebcc-4e6b-a795-b6903ebc5644')\"\n",
       "            title=\"Suggest charts\"\n",
       "            style=\"display:none;\">\n",
       "\n",
       "<svg xmlns=\"http://www.w3.org/2000/svg\" height=\"24px\"viewBox=\"0 0 24 24\"\n",
       "     width=\"24px\">\n",
       "    <g>\n",
       "        <path d=\"M19 3H5c-1.1 0-2 .9-2 2v14c0 1.1.9 2 2 2h14c1.1 0 2-.9 2-2V5c0-1.1-.9-2-2-2zM9 17H7v-7h2v7zm4 0h-2V7h2v10zm4 0h-2v-4h2v4z\"/>\n",
       "    </g>\n",
       "</svg>\n",
       "  </button>\n",
       "\n",
       "<style>\n",
       "  .colab-df-quickchart {\n",
       "      --bg-color: #E8F0FE;\n",
       "      --fill-color: #1967D2;\n",
       "      --hover-bg-color: #E2EBFA;\n",
       "      --hover-fill-color: #174EA6;\n",
       "      --disabled-fill-color: #AAA;\n",
       "      --disabled-bg-color: #DDD;\n",
       "  }\n",
       "\n",
       "  [theme=dark] .colab-df-quickchart {\n",
       "      --bg-color: #3B4455;\n",
       "      --fill-color: #D2E3FC;\n",
       "      --hover-bg-color: #434B5C;\n",
       "      --hover-fill-color: #FFFFFF;\n",
       "      --disabled-bg-color: #3B4455;\n",
       "      --disabled-fill-color: #666;\n",
       "  }\n",
       "\n",
       "  .colab-df-quickchart {\n",
       "    background-color: var(--bg-color);\n",
       "    border: none;\n",
       "    border-radius: 50%;\n",
       "    cursor: pointer;\n",
       "    display: none;\n",
       "    fill: var(--fill-color);\n",
       "    height: 32px;\n",
       "    padding: 0;\n",
       "    width: 32px;\n",
       "  }\n",
       "\n",
       "  .colab-df-quickchart:hover {\n",
       "    background-color: var(--hover-bg-color);\n",
       "    box-shadow: 0 1px 2px rgba(60, 64, 67, 0.3), 0 1px 3px 1px rgba(60, 64, 67, 0.15);\n",
       "    fill: var(--button-hover-fill-color);\n",
       "  }\n",
       "\n",
       "  .colab-df-quickchart-complete:disabled,\n",
       "  .colab-df-quickchart-complete:disabled:hover {\n",
       "    background-color: var(--disabled-bg-color);\n",
       "    fill: var(--disabled-fill-color);\n",
       "    box-shadow: none;\n",
       "  }\n",
       "\n",
       "  .colab-df-spinner {\n",
       "    border: 2px solid var(--fill-color);\n",
       "    border-color: transparent;\n",
       "    border-bottom-color: var(--fill-color);\n",
       "    animation:\n",
       "      spin 1s steps(1) infinite;\n",
       "  }\n",
       "\n",
       "  @keyframes spin {\n",
       "    0% {\n",
       "      border-color: transparent;\n",
       "      border-bottom-color: var(--fill-color);\n",
       "      border-left-color: var(--fill-color);\n",
       "    }\n",
       "    20% {\n",
       "      border-color: transparent;\n",
       "      border-left-color: var(--fill-color);\n",
       "      border-top-color: var(--fill-color);\n",
       "    }\n",
       "    30% {\n",
       "      border-color: transparent;\n",
       "      border-left-color: var(--fill-color);\n",
       "      border-top-color: var(--fill-color);\n",
       "      border-right-color: var(--fill-color);\n",
       "    }\n",
       "    40% {\n",
       "      border-color: transparent;\n",
       "      border-right-color: var(--fill-color);\n",
       "      border-top-color: var(--fill-color);\n",
       "    }\n",
       "    60% {\n",
       "      border-color: transparent;\n",
       "      border-right-color: var(--fill-color);\n",
       "    }\n",
       "    80% {\n",
       "      border-color: transparent;\n",
       "      border-right-color: var(--fill-color);\n",
       "      border-bottom-color: var(--fill-color);\n",
       "    }\n",
       "    90% {\n",
       "      border-color: transparent;\n",
       "      border-bottom-color: var(--fill-color);\n",
       "    }\n",
       "  }\n",
       "</style>\n",
       "\n",
       "  <script>\n",
       "    async function quickchart(key) {\n",
       "      const quickchartButtonEl =\n",
       "        document.querySelector('#' + key + ' button');\n",
       "      quickchartButtonEl.disabled = true;  // To prevent multiple clicks.\n",
       "      quickchartButtonEl.classList.add('colab-df-spinner');\n",
       "      try {\n",
       "        const charts = await google.colab.kernel.invokeFunction(\n",
       "            'suggestCharts', [key], {});\n",
       "      } catch (error) {\n",
       "        console.error('Error during call to suggestCharts:', error);\n",
       "      }\n",
       "      quickchartButtonEl.classList.remove('colab-df-spinner');\n",
       "      quickchartButtonEl.classList.add('colab-df-quickchart-complete');\n",
       "    }\n",
       "    (() => {\n",
       "      let quickchartButtonEl =\n",
       "        document.querySelector('#df-c4dccaa6-ebcc-4e6b-a795-b6903ebc5644 button');\n",
       "      quickchartButtonEl.style.display =\n",
       "        google.colab.kernel.accessAllowed ? 'block' : 'none';\n",
       "    })();\n",
       "  </script>\n",
       "</div>\n",
       "    </div>\n",
       "  </div>\n"
      ],
      "text/plain": [
       "                   cc_num       category      amt gender state    zip  \\\n",
       "0        2703186189652095       misc_net     4.97      F    NC  28654   \n",
       "1            630423337322    grocery_pos   107.23      F    WA  99160   \n",
       "2          38859492057661  entertainment   220.11      M    ID  83252   \n",
       "3        3534093764340240  gas_transport    45.00      M    MT  59632   \n",
       "4         375534208663984       misc_pos    41.96      M    VA  24433   \n",
       "...                   ...            ...      ...    ...   ...    ...   \n",
       "1298815  2242176657877538   shopping_pos  1041.51      M    MS  38668   \n",
       "1298816  2242176657877538   shopping_pos   868.09      M    MS  38668   \n",
       "1298817  2242176657877538   shopping_net  1039.42      M    MS  38668   \n",
       "1298818  2242176657877538    grocery_pos   289.27      M    MS  38668   \n",
       "1298819  2242176657877538       misc_net   766.38      M    MS  38668   \n",
       "\n",
       "         city_pop                                job  is_fraud  Encoded_state  \\\n",
       "0            3495          Psychologist, counselling         0           11.0   \n",
       "1             149  Special educational needs teacher         0           11.0   \n",
       "2            4154        Nature conservation officer         0           11.0   \n",
       "3            1939                    Patent attorney         0           11.0   \n",
       "4              99     Dance movement psychotherapist         0           11.0   \n",
       "...           ...                                ...       ...            ...   \n",
       "1298815     14462             Database administrator         1           11.0   \n",
       "1298816     14462             Database administrator         1           11.0   \n",
       "1298817     14462             Database administrator         1           11.0   \n",
       "1298818     14462             Database administrator         1           11.0   \n",
       "1298819     14462             Database administrator         1           11.0   \n",
       "\n",
       "         Encoded_job  \n",
       "0               12.0  \n",
       "1               12.0  \n",
       "2               12.0  \n",
       "3               12.0  \n",
       "4               12.0  \n",
       "...              ...  \n",
       "1298815         12.0  \n",
       "1298816         12.0  \n",
       "1298817         12.0  \n",
       "1298818         12.0  \n",
       "1298819         12.0  \n",
       "\n",
       "[1298820 rows x 11 columns]"
      ]
     },
     "execution_count": 62,
     "metadata": {},
     "output_type": "execute_result"
    }
   ],
   "source": [
    "cc_df"
   ]
  },
  {
   "cell_type": "code",
   "execution_count": 63,
   "metadata": {
    "id": "p_213QOUHDh-"
   },
   "outputs": [],
   "source": [
    "columns_to_drop = ['state','job']\n",
    "cc_df.drop(columns=columns_to_drop, inplace=True)"
   ]
  },
  {
   "cell_type": "code",
   "execution_count": 64,
   "metadata": {
    "colab": {
     "base_uri": "https://localhost:8080/"
    },
    "id": "9DtHKudBHPw2",
    "outputId": "6a8f1865-47a7-4e15-c8a4-bde143d4bbb5"
   },
   "outputs": [
    {
     "name": "stdout",
     "output_type": "stream",
     "text": [
      "<class 'pandas.core.frame.DataFrame'>\n",
      "RangeIndex: 1298820 entries, 0 to 1298819\n",
      "Data columns (total 9 columns):\n",
      " #   Column         Non-Null Count    Dtype  \n",
      "---  ------         --------------    -----  \n",
      " 0   cc_num         1298820 non-null  int64  \n",
      " 1   category       1298820 non-null  object \n",
      " 2   amt            1298820 non-null  float64\n",
      " 3   gender         1298820 non-null  object \n",
      " 4   zip            1298820 non-null  int64  \n",
      " 5   city_pop       1298820 non-null  int64  \n",
      " 6   is_fraud       1298820 non-null  int64  \n",
      " 7   Encoded_state  1298820 non-null  float64\n",
      " 8   Encoded_job    1298820 non-null  float64\n",
      "dtypes: float64(3), int64(4), object(2)\n",
      "memory usage: 89.2+ MB\n"
     ]
    }
   ],
   "source": [
    "cc_df.info()"
   ]
  },
  {
   "cell_type": "code",
   "execution_count": 65,
   "metadata": {
    "colab": {
     "base_uri": "https://localhost:8080/"
    },
    "id": "PTUE5bN5HPy4",
    "outputId": "e70e7faf-6c1e-4ec9-90ab-ac3679d7d99a"
   },
   "outputs": [
    {
     "data": {
      "text/plain": [
       "category\n",
       "gas_transport     131813\n",
       "grocery_pos       124123\n",
       "home              123182\n",
       "shopping_pos      116885\n",
       "kids_pets         113100\n",
       "shopping_net       98049\n",
       "entertainment      94073\n",
       "food_dining        91515\n",
       "personal_care      90828\n",
       "health_fitness     85931\n",
       "misc_pos           79727\n",
       "misc_net           63554\n",
       "grocery_net        45493\n",
       "travel             40547\n",
       "Name: count, dtype: int64"
      ]
     },
     "execution_count": 65,
     "metadata": {},
     "output_type": "execute_result"
    }
   ],
   "source": [
    "cc_df['category'].value_counts()"
   ]
  },
  {
   "cell_type": "code",
   "execution_count": 66,
   "metadata": {
    "id": "cLbSn4D6HP0-"
   },
   "outputs": [],
   "source": [
    "cc_df.category=cc_df.category.replace(\"gas_transport\",1)\n",
    "cc_df.category=cc_df.category.replace(\"grocery_pos\",2)\n",
    "cc_df.category=cc_df.category.replace(\"home\",3)\n",
    "cc_df.category=cc_df.category.replace(\"shopping_pos\",4)\n",
    "cc_df.category=cc_df.category.replace(\"kids_pets\",5)\n",
    "cc_df.category=cc_df.category.replace(\"shopping_net\",6)\n",
    "cc_df.category=cc_df.category.replace(\"entertainment\",7)\n",
    "cc_df.category=cc_df.category.replace(\"food_dining\",8)\n",
    "cc_df.category=cc_df.category.replace(\"personal_care\",9)\n",
    "cc_df.category=cc_df.category.replace(\"health_fitness\",10)\n",
    "cc_df.category=cc_df.category.replace(\"misc_pos\",11)\n",
    "cc_df.category=cc_df.category.replace(\"misc_net\",12)\n",
    "cc_df.category=cc_df.category.replace(\"grocery_net\",13)\n",
    "cc_df.category=cc_df.category.replace(\"travel\",14)"
   ]
  },
  {
   "cell_type": "code",
   "execution_count": 71,
   "metadata": {
    "id": "6ILYeOHVKQMG"
   },
   "outputs": [],
   "source": [
    "cc_df.gender=cc_df.gender.replace(\"M\",1)\n",
    "cc_df.gender=cc_df.gender.replace(\"F\",2)"
   ]
  },
  {
   "cell_type": "code",
   "execution_count": 72,
   "metadata": {
    "colab": {
     "base_uri": "https://localhost:8080/"
    },
    "id": "UkeKgnhMHP3B",
    "outputId": "aa84a70c-501f-4c9c-9305-c1f3914d771b"
   },
   "outputs": [
    {
     "name": "stdout",
     "output_type": "stream",
     "text": [
      "<class 'pandas.core.frame.DataFrame'>\n",
      "RangeIndex: 1298820 entries, 0 to 1298819\n",
      "Data columns (total 9 columns):\n",
      " #   Column         Non-Null Count    Dtype  \n",
      "---  ------         --------------    -----  \n",
      " 0   cc_num         1298820 non-null  int64  \n",
      " 1   category       1298820 non-null  int64  \n",
      " 2   amt            1298820 non-null  float64\n",
      " 3   gender         1298820 non-null  int64  \n",
      " 4   zip            1298820 non-null  int64  \n",
      " 5   city_pop       1298820 non-null  int64  \n",
      " 6   is_fraud       1298820 non-null  int64  \n",
      " 7   Encoded_state  1298820 non-null  float64\n",
      " 8   Encoded_job    1298820 non-null  float64\n",
      "dtypes: float64(3), int64(6)\n",
      "memory usage: 89.2 MB\n"
     ]
    }
   ],
   "source": [
    "cc_df.info()"
   ]
  },
  {
   "cell_type": "code",
   "execution_count": 73,
   "metadata": {
    "colab": {
     "base_uri": "https://localhost:8080/",
     "height": 616
    },
    "id": "LJn5X7DBJJ3V",
    "outputId": "37ac89e9-64c0-4e44-a266-67c2290abe54"
   },
   "outputs": [
    {
     "data": {
      "image/png": "[encoded data removed]",
      "text/plain": [
       "<Figure size 1200x600 with 2 Axes>"
      ]
     },
     "metadata": {},
     "output_type": "display_data"
    }
   ],
   "source": [
    "import matplotlib.pyplot as plt\n",
    "import seaborn as sb\n",
    "\n",
    "fig, ax = plt.subplots(figsize=(12, 6))\n",
    "\n",
    "dataplot = sb.heatmap(cc_df.corr(), cmap=\"YlGnBu\", annot=True, ax=ax)\n",
    "\n",
    "plt.show()"
   ]
  },
  {
   "cell_type": "code",
   "execution_count": 74,
   "metadata": {
    "id": "4EzOflsYKJtM"
   },
   "outputs": [],
   "source": [
    "fraud_ones = cc_df[cc_df['is_fraud'] == 1]\n",
    "\n",
    "fraud_zeros = cc_df[cc_df['is_fraud'] == 0]"
   ]
  },
  {
   "cell_type": "code",
   "execution_count": 75,
   "metadata": {
    "colab": {
     "base_uri": "https://localhost:8080/"
    },
    "id": "8E_4uFT0OZrF",
    "outputId": "963a2a55-c10a-471c-a549-2af9d6090c7c"
   },
   "outputs": [
    {
     "data": {
      "text/plain": [
       "0          0\n",
       "1          0\n",
       "2          0\n",
       "3          0\n",
       "4          0\n",
       "          ..\n",
       "1298815    1\n",
       "1298816    1\n",
       "1298817    1\n",
       "1298818    1\n",
       "1298819    1\n",
       "Name: is_fraud, Length: 1298820, dtype: int64"
      ]
     },
     "execution_count": 75,
     "metadata": {},
     "output_type": "execute_result"
    }
   ],
   "source": [
    "target=cc_df.is_fraud\n",
    "target"
   ]
  },
  {
   "cell_type": "code",
   "execution_count": 76,
   "metadata": {
    "id": "1XOAPYngOZtD"
   },
   "outputs": [],
   "source": [
    "cc_df.drop(['is_fraud'],axis=1,inplace=True)"
   ]
  },
  {
   "cell_type": "code",
   "execution_count": 77,
   "metadata": {
    "colab": {
     "base_uri": "https://localhost:8080/"
    },
    "id": "vzR_-UoOOZvG",
    "outputId": "782012a6-b61f-4d8d-b970-54603f139d65"
   },
   "outputs": [
    {
     "name": "stdout",
     "output_type": "stream",
     "text": [
      "<class 'pandas.core.frame.DataFrame'>\n",
      "RangeIndex: 1298820 entries, 0 to 1298819\n",
      "Data columns (total 8 columns):\n",
      " #   Column         Non-Null Count    Dtype  \n",
      "---  ------         --------------    -----  \n",
      " 0   cc_num         1298820 non-null  int64  \n",
      " 1   category       1298820 non-null  int64  \n",
      " 2   amt            1298820 non-null  float64\n",
      " 3   gender         1298820 non-null  int64  \n",
      " 4   zip            1298820 non-null  int64  \n",
      " 5   city_pop       1298820 non-null  int64  \n",
      " 6   Encoded_state  1298820 non-null  float64\n",
      " 7   Encoded_job    1298820 non-null  float64\n",
      "dtypes: float64(3), int64(5)\n",
      "memory usage: 79.3 MB\n"
     ]
    }
   ],
   "source": [
    "cc_df.info()"
   ]
  },
  {
   "cell_type": "code",
   "execution_count": 78,
   "metadata": {
    "id": "cIwHo4r0OZxA"
   },
   "outputs": [],
   "source": [
    "from sklearn.model_selection import train_test_split"
   ]
  },
  {
   "cell_type": "code",
   "execution_count": 79,
   "metadata": {
    "id": "B2S2a6pVO5uH"
   },
   "outputs": [],
   "source": [
    "X_train,X_test,y_train,y_test=train_test_split(cc_df,target,test_size=0.2,random_state=30)"
   ]
  },
  {
   "cell_type": "code",
   "execution_count": 80,
   "metadata": {
    "id": "5W5sG6VBO5wm"
   },
   "outputs": [],
   "source": [
    "from sklearn.preprocessing import StandardScaler\n",
    "\n",
    "sc=StandardScaler()\n",
    "X_train=sc.fit_transform(X_train)\n",
    "X_test=sc.fit_transform(X_test)"
   ]
  },
  {
   "cell_type": "code",
   "execution_count": 81,
   "metadata": {
    "colab": {
     "base_uri": "https://localhost:8080/"
    },
    "id": "YUrxbbjRO5y_",
    "outputId": "ac071425-2c3f-4330-fdde-30dc9315b143"
   },
   "outputs": [
    {
     "data": {
      "text/plain": [
       "array([[-0.31830595,  1.23137375, -0.40329709, ...,  0.01181082,\n",
       "        -0.32294919,  0.21337452],\n",
       "       [-0.31857026,  0.4381752 , -0.18194787, ..., -0.27580399,\n",
       "         0.75890781, -2.44006421],\n",
       "       [-0.31662373, -0.35502336, -0.04494881, ...,  3.82008377,\n",
       "        -1.13434193,  0.21337452],\n",
       "       ...,\n",
       "       [-0.31684744,  2.02457231, -0.38763295, ..., -0.2831715 ,\n",
       "         0.75890781,  0.21337452],\n",
       "       [-0.31399804,  0.4381752 , -0.26244415, ..., -0.29383998,\n",
       "         0.75890781, -5.09350295],\n",
       "       [-0.31518998,  0.4381752 , -0.37669291, ..., -0.28889185,\n",
       "        -1.67527043,  0.21337452]])"
      ]
     },
     "execution_count": 81,
     "metadata": {},
     "output_type": "execute_result"
    }
   ],
   "source": [
    "X_train"
   ]
  },
  {
   "cell_type": "code",
   "execution_count": 82,
   "metadata": {
    "colab": {
     "base_uri": "https://localhost:8080/"
    },
    "id": "3nTj4hlbO51e",
    "outputId": "ea8069fc-ee1b-4b37-e356-8f0909902bdd"
   },
   "outputs": [
    {
     "data": {
      "text/plain": [
       "(1039056, 8)"
      ]
     },
     "execution_count": 82,
     "metadata": {},
     "output_type": "execute_result"
    }
   ],
   "source": [
    "X_train.shape"
   ]
  },
  {
   "cell_type": "code",
   "execution_count": 83,
   "metadata": {
    "colab": {
     "base_uri": "https://localhost:8080/"
    },
    "id": "AjAsbCCEO54v",
    "outputId": "b4b46349-56d7-443e-f7f9-c64642e35fd8"
   },
   "outputs": [
    {
     "data": {
      "text/plain": [
       "(259764, 8)"
      ]
     },
     "execution_count": 83,
     "metadata": {},
     "output_type": "execute_result"
    }
   ],
   "source": [
    "X_test.shape"
   ]
  },
  {
   "cell_type": "code",
   "execution_count": 84,
   "metadata": {
    "colab": {
     "base_uri": "https://localhost:8080/"
    },
    "id": "YfpspluBOZzC",
    "outputId": "28d0d530-9c03-4186-92a7-4462d13aada2"
   },
   "outputs": [
    {
     "name": "stdout",
     "output_type": "stream",
     "text": [
      "Collecting keras-tuner\n",
      "  Downloading keras_tuner-1.4.7-py3-none-any.whl (129 kB)\n",
      "\u001b[?25l     \u001b[90m━━━━━━━━━━━━━━━━━━━━━━━━━━━━━━━━━━━━━━━━\u001b[0m \u001b[32m0.0/129.1 kB\u001b[0m \u001b[31m?\u001b[0m eta \u001b[36m-:--:--\u001b[0m\r",
      "\u001b[2K     \u001b[91m━━━━━━━━━━━━━━━━━━━━━━━━━━━━━━━━━━━━━━\u001b[0m\u001b[90m╺\u001b[0m\u001b[90m━\u001b[0m \u001b[32m122.9/129.1 kB\u001b[0m \u001b[31m3.8 MB/s\u001b[0m eta \u001b[36m0:00:01\u001b[0m\r",
      "\u001b[2K     \u001b[90m━━━━━━━━━━━━━━━━━━━━━━━━━━━━━━━━━━━━━━━━\u001b[0m \u001b[32m129.1/129.1 kB\u001b[0m \u001b[31m3.2 MB/s\u001b[0m eta \u001b[36m0:00:00\u001b[0m\n",
      "\u001b[?25hRequirement already satisfied: keras in /usr/local/lib/python3.10/dist-packages (from keras-tuner) (2.15.0)\n",
      "Requirement already satisfied: packaging in /usr/local/lib/python3.10/dist-packages (from keras-tuner) (24.0)\n",
      "Requirement already satisfied: requests in /usr/local/lib/python3.10/dist-packages (from keras-tuner) (2.31.0)\n",
      "Collecting kt-legacy (from keras-tuner)\n",
      "  Downloading kt_legacy-1.0.5-py3-none-any.whl (9.6 kB)\n",
      "Requirement already satisfied: charset-normalizer<4,>=2 in /usr/local/lib/python3.10/dist-packages (from requests->keras-tuner) (3.3.2)\n",
      "Requirement already satisfied: idna<4,>=2.5 in /usr/local/lib/python3.10/dist-packages (from requests->keras-tuner) (3.6)\n",
      "Requirement already satisfied: urllib3<3,>=1.21.1 in /usr/local/lib/python3.10/dist-packages (from requests->keras-tuner) (2.0.7)\n",
      "Requirement already satisfied: certifi>=2017.4.17 in /usr/local/lib/python3.10/dist-packages (from requests->keras-tuner) (2024.2.2)\n",
      "Installing collected packages: kt-legacy, keras-tuner\n",
      "Successfully installed keras-tuner-1.4.7 kt-legacy-1.0.5\n"
     ]
    }
   ],
   "source": [
    "pip install keras-tuner"
   ]
  },
  {
   "cell_type": "code",
   "execution_count": 85,
   "metadata": {
    "id": "tYrB4AR3OZ2c"
   },
   "outputs": [],
   "source": [
    "from tensorflow import keras\n",
    "from tensorflow.keras.models import Sequential\n",
    "from tensorflow.keras.layers import Dense\n",
    "from tensorflow.keras.layers import ReLU,LeakyReLU\n",
    "from tensorflow.keras.layers import Dropout\n",
    "from tensorflow.keras import layers\n",
    "from keras_tuner.tuners import RandomSearch\n",
    "from sklearn.model_selection import GridSearchCV"
   ]
  },
  {
   "cell_type": "code",
   "execution_count": 86,
   "metadata": {
    "id": "akB_p5V-PMfQ"
   },
   "outputs": [],
   "source": [
    "classifier=Sequential()\n",
    "classifier.add(Dense(units=8,activation='relu'))\n",
    "classifier.add(Dense(units=16,activation='relu'))\n",
    "classifier.add(Dense(units=24,activation='relu'))\n",
    "classifier.add(Dense(units=16,activation='relu'))\n",
    "classifier.add(Dense(units=1,activation='sigmoid'))\n",
    "classifier.compile(optimizer='sgd',loss='binary_crossentropy',metrics=['accuracy'])"
   ]
  },
  {
   "cell_type": "code",
   "execution_count": 87,
   "metadata": {
    "colab": {
     "base_uri": "https://localhost:8080/"
    },
    "id": "yZTi5tV6PMh2",
    "outputId": "80ed603c-5029-4f45-ebf4-330f1c1aebc4"
   },
   "outputs": [
    {
     "name": "stdout",
     "output_type": "stream",
     "text": [
      "Epoch 1/50\n",
      "728/728 [==============================] - 10s 11ms/step - loss: 0.1555 - accuracy: 0.9897 - val_loss: 0.0541 - val_accuracy: 0.9925\n",
      "Epoch 2/50\n",
      "728/728 [==============================] - 3s 4ms/step - loss: 0.0486 - accuracy: 0.9926 - val_loss: 0.0467 - val_accuracy: 0.9925\n",
      "Epoch 3/50\n",
      "728/728 [==============================] - 3s 4ms/step - loss: 0.0439 - accuracy: 0.9926 - val_loss: 0.0434 - val_accuracy: 0.9925\n",
      "Epoch 4/50\n",
      "728/728 [==============================] - 2s 3ms/step - loss: 0.0413 - accuracy: 0.9926 - val_loss: 0.0413 - val_accuracy: 0.9925\n",
      "Epoch 5/50\n",
      "728/728 [==============================] - 4s 6ms/step - loss: 0.0395 - accuracy: 0.9926 - val_loss: 0.0397 - val_accuracy: 0.9925\n",
      "Epoch 6/50\n",
      "728/728 [==============================] - 3s 4ms/step - loss: 0.0381 - accuracy: 0.9926 - val_loss: 0.0383 - val_accuracy: 0.9925\n",
      "Epoch 7/50\n",
      "728/728 [==============================] - 3s 4ms/step - loss: 0.0368 - accuracy: 0.9926 - val_loss: 0.0369 - val_accuracy: 0.9925\n",
      "Epoch 8/50\n",
      "728/728 [==============================] - 3s 4ms/step - loss: 0.0354 - accuracy: 0.9926 - val_loss: 0.0355 - val_accuracy: 0.9925\n",
      "Epoch 9/50\n",
      "728/728 [==============================] - 3s 5ms/step - loss: 0.0341 - accuracy: 0.9926 - val_loss: 0.0340 - val_accuracy: 0.9925\n",
      "Epoch 10/50\n",
      "728/728 [==============================] - 6s 8ms/step - loss: 0.0328 - accuracy: 0.9926 - val_loss: 0.0328 - val_accuracy: 0.9925\n",
      "Epoch 11/50\n",
      "728/728 [==============================] - 3s 4ms/step - loss: 0.0318 - accuracy: 0.9926 - val_loss: 0.0319 - val_accuracy: 0.9924\n",
      "Epoch 12/50\n",
      "728/728 [==============================] - 2s 3ms/step - loss: 0.0310 - accuracy: 0.9926 - val_loss: 0.0313 - val_accuracy: 0.9923\n",
      "Epoch 13/50\n",
      "728/728 [==============================] - 4s 5ms/step - loss: 0.0305 - accuracy: 0.9925 - val_loss: 0.0309 - val_accuracy: 0.9923\n",
      "Epoch 14/50\n",
      "728/728 [==============================] - 5s 7ms/step - loss: 0.0302 - accuracy: 0.9925 - val_loss: 0.0306 - val_accuracy: 0.9923\n",
      "Epoch 15/50\n",
      "728/728 [==============================] - 5s 7ms/step - loss: 0.0300 - accuracy: 0.9925 - val_loss: 0.0303 - val_accuracy: 0.9923\n",
      "Epoch 16/50\n",
      "728/728 [==============================] - 6s 8ms/step - loss: 0.0298 - accuracy: 0.9925 - val_loss: 0.0301 - val_accuracy: 0.9923\n",
      "Epoch 17/50\n",
      "728/728 [==============================] - 3s 4ms/step - loss: 0.0296 - accuracy: 0.9925 - val_loss: 0.0299 - val_accuracy: 0.9923\n",
      "Epoch 18/50\n",
      "728/728 [==============================] - 3s 4ms/step - loss: 0.0294 - accuracy: 0.9925 - val_loss: 0.0298 - val_accuracy: 0.9923\n",
      "Epoch 19/50\n",
      "728/728 [==============================] - 3s 4ms/step - loss: 0.0293 - accuracy: 0.9925 - val_loss: 0.0296 - val_accuracy: 0.9923\n",
      "Epoch 20/50\n",
      "728/728 [==============================] - 3s 5ms/step - loss: 0.0292 - accuracy: 0.9925 - val_loss: 0.0294 - val_accuracy: 0.9923\n",
      "Epoch 21/50\n",
      "728/728 [==============================] - 3s 4ms/step - loss: 0.0290 - accuracy: 0.9926 - val_loss: 0.0293 - val_accuracy: 0.9923\n",
      "Epoch 22/50\n",
      "728/728 [==============================] - 3s 4ms/step - loss: 0.0289 - accuracy: 0.9925 - val_loss: 0.0292 - val_accuracy: 0.9923\n",
      "Epoch 23/50\n",
      "728/728 [==============================] - 2s 3ms/step - loss: 0.0288 - accuracy: 0.9926 - val_loss: 0.0291 - val_accuracy: 0.9923\n",
      "Epoch 24/50\n",
      "728/728 [==============================] - 3s 4ms/step - loss: 0.0287 - accuracy: 0.9926 - val_loss: 0.0290 - val_accuracy: 0.9923\n",
      "Epoch 25/50\n",
      "728/728 [==============================] - 4s 5ms/step - loss: 0.0286 - accuracy: 0.9926 - val_loss: 0.0289 - val_accuracy: 0.9923\n",
      "Epoch 26/50\n",
      "728/728 [==============================] - 3s 4ms/step - loss: 0.0285 - accuracy: 0.9926 - val_loss: 0.0288 - val_accuracy: 0.9924\n",
      "Epoch 27/50\n",
      "728/728 [==============================] - 3s 4ms/step - loss: 0.0284 - accuracy: 0.9926 - val_loss: 0.0287 - val_accuracy: 0.9924\n",
      "Epoch 28/50\n",
      "728/728 [==============================] - 3s 4ms/step - loss: 0.0283 - accuracy: 0.9926 - val_loss: 0.0286 - val_accuracy: 0.9924\n",
      "Epoch 29/50\n",
      "728/728 [==============================] - 3s 4ms/step - loss: 0.0282 - accuracy: 0.9926 - val_loss: 0.0285 - val_accuracy: 0.9924\n",
      "Epoch 30/50\n",
      "728/728 [==============================] - 3s 5ms/step - loss: 0.0282 - accuracy: 0.9926 - val_loss: 0.0284 - val_accuracy: 0.9924\n",
      "Epoch 31/50\n",
      "728/728 [==============================] - 3s 4ms/step - loss: 0.0281 - accuracy: 0.9926 - val_loss: 0.0283 - val_accuracy: 0.9924\n",
      "Epoch 32/50\n",
      "728/728 [==============================] - 3s 3ms/step - loss: 0.0280 - accuracy: 0.9926 - val_loss: 0.0282 - val_accuracy: 0.9924\n",
      "Epoch 33/50\n",
      "728/728 [==============================] - 3s 4ms/step - loss: 0.0279 - accuracy: 0.9926 - val_loss: 0.0281 - val_accuracy: 0.9924\n",
      "Epoch 34/50\n",
      "728/728 [==============================] - 4s 5ms/step - loss: 0.0278 - accuracy: 0.9926 - val_loss: 0.0280 - val_accuracy: 0.9924\n",
      "Epoch 35/50\n",
      "728/728 [==============================] - 3s 4ms/step - loss: 0.0277 - accuracy: 0.9926 - val_loss: 0.0279 - val_accuracy: 0.9924\n",
      "Epoch 36/50\n",
      "728/728 [==============================] - 2s 3ms/step - loss: 0.0276 - accuracy: 0.9926 - val_loss: 0.0278 - val_accuracy: 0.9924\n",
      "Epoch 37/50\n",
      "728/728 [==============================] - 3s 4ms/step - loss: 0.0276 - accuracy: 0.9926 - val_loss: 0.0277 - val_accuracy: 0.9924\n",
      "Epoch 38/50\n",
      "728/728 [==============================] - 3s 5ms/step - loss: 0.0275 - accuracy: 0.9926 - val_loss: 0.0276 - val_accuracy: 0.9924\n",
      "Epoch 39/50\n",
      "728/728 [==============================] - 4s 5ms/step - loss: 0.0274 - accuracy: 0.9926 - val_loss: 0.0275 - val_accuracy: 0.9924\n",
      "Epoch 40/50\n",
      "728/728 [==============================] - 3s 4ms/step - loss: 0.0273 - accuracy: 0.9926 - val_loss: 0.0274 - val_accuracy: 0.9924\n",
      "Epoch 41/50\n",
      "728/728 [==============================] - 4s 5ms/step - loss: 0.0272 - accuracy: 0.9926 - val_loss: 0.0274 - val_accuracy: 0.9924\n",
      "Epoch 42/50\n",
      "728/728 [==============================] - 5s 6ms/step - loss: 0.0271 - accuracy: 0.9926 - val_loss: 0.0273 - val_accuracy: 0.9925\n",
      "Epoch 43/50\n",
      "728/728 [==============================] - 3s 5ms/step - loss: 0.0271 - accuracy: 0.9926 - val_loss: 0.0272 - val_accuracy: 0.9925\n",
      "Epoch 44/50\n",
      "728/728 [==============================] - 3s 4ms/step - loss: 0.0270 - accuracy: 0.9926 - val_loss: 0.0271 - val_accuracy: 0.9925\n",
      "Epoch 45/50\n",
      "728/728 [==============================] - 3s 4ms/step - loss: 0.0269 - accuracy: 0.9926 - val_loss: 0.0270 - val_accuracy: 0.9925\n",
      "Epoch 46/50\n",
      "728/728 [==============================] - 3s 4ms/step - loss: 0.0268 - accuracy: 0.9926 - val_loss: 0.0270 - val_accuracy: 0.9925\n",
      "Epoch 47/50\n",
      "728/728 [==============================] - 4s 6ms/step - loss: 0.0268 - accuracy: 0.9926 - val_loss: 0.0269 - val_accuracy: 0.9925\n",
      "Epoch 48/50\n",
      "728/728 [==============================] - 2s 3ms/step - loss: 0.0267 - accuracy: 0.9926 - val_loss: 0.0268 - val_accuracy: 0.9925\n",
      "Epoch 49/50\n",
      "728/728 [==============================] - 3s 3ms/step - loss: 0.0266 - accuracy: 0.9926 - val_loss: 0.0268 - val_accuracy: 0.9924\n",
      "Epoch 50/50\n",
      "728/728 [==============================] - 2s 3ms/step - loss: 0.0266 - accuracy: 0.9926 - val_loss: 0.0267 - val_accuracy: 0.9924\n"
     ]
    }
   ],
   "source": [
    "model_history=classifier.fit(X_train,y_train,validation_split=0.3,batch_size=1000,epochs=50)"
   ]
  },
  {
   "cell_type": "code",
   "execution_count": 88,
   "metadata": {
    "colab": {
     "base_uri": "https://localhost:8080/"
    },
    "id": "R1UNQEn0PMkO",
    "outputId": "c7098dc1-8115-48cf-8c27-d9a2a91e7859"
   },
   "outputs": [
    {
     "name": "stdout",
     "output_type": "stream",
     "text": [
      "8118/8118 [==============================] - 14s 2ms/step\n"
     ]
    }
   ],
   "source": [
    "y_pred=classifier.predict(X_test)\n",
    "y_pred= (y_pred>=0.5)"
   ]
  },
  {
   "cell_type": "code",
   "execution_count": 89,
   "metadata": {
    "colab": {
     "base_uri": "https://localhost:8080/"
    },
    "id": "BN9zDDwKPvSK",
    "outputId": "097eed7c-80c7-4ee1-d75d-1db44d4e58a3"
   },
   "outputs": [
    {
     "data": {
      "text/plain": [
       "array([[257802,      4],\n",
       "       [  1957,      1]])"
      ]
     },
     "execution_count": 89,
     "metadata": {},
     "output_type": "execute_result"
    }
   ],
   "source": [
    "from sklearn.metrics import confusion_matrix\n",
    "cm=confusion_matrix(y_test,y_pred)\n",
    "cm"
   ]
  },
  {
   "cell_type": "code",
   "execution_count": 90,
   "metadata": {
    "colab": {
     "base_uri": "https://localhost:8080/"
    },
    "id": "4Djz-niZPvUk",
    "outputId": "777d102b-fe85-4ed1-92c7-d2e20489dfe9"
   },
   "outputs": [
    {
     "name": "stdout",
     "output_type": "stream",
     "text": [
      "0.9924508399932246\n"
     ]
    }
   ],
   "source": [
    "from sklearn.metrics import accuracy_score\n",
    "score=accuracy_score(y_test,y_pred)\n",
    "print(score)"
   ]
  },
  {
   "cell_type": "code",
   "execution_count": 91,
   "metadata": {
    "colab": {
     "base_uri": "https://localhost:8080/"
    },
    "id": "3V61uRfaPvWy",
    "outputId": "2667dafe-c2e8-4efb-e77f-35186254623a"
   },
   "outputs": [
    {
     "name": "stdout",
     "output_type": "stream",
     "text": [
      "Trial 1 Complete [00h 13m 02s]\n",
      "\n",
      "Best val_accuracy So Far: None\n",
      "Total elapsed time: 00h 13m 02s\n",
      "Epoch 1/10\n",
      "32471/32471 [==============================] - 70s 2ms/step - loss: 0.0220 - accuracy: 0.9941\n",
      "Epoch 2/10\n",
      "32471/32471 [==============================] - 71s 2ms/step - loss: 0.0180 - accuracy: 0.9953\n",
      "Epoch 3/10\n",
      "32471/32471 [==============================] - 69s 2ms/step - loss: 0.0178 - accuracy: 0.9956\n",
      "Epoch 4/10\n",
      "32471/32471 [==============================] - 69s 2ms/step - loss: 0.0174 - accuracy: 0.9957\n",
      "Epoch 5/10\n",
      "32471/32471 [==============================] - 70s 2ms/step - loss: 0.0173 - accuracy: 0.9957\n",
      "Epoch 6/10\n",
      "32471/32471 [==============================] - 71s 2ms/step - loss: 0.0172 - accuracy: 0.9958\n",
      "Epoch 7/10\n",
      "32471/32471 [==============================] - 71s 2ms/step - loss: 0.0172 - accuracy: 0.9957\n",
      "Epoch 8/10\n",
      "32471/32471 [==============================] - 72s 2ms/step - loss: 0.0171 - accuracy: 0.9958\n",
      "Epoch 9/10\n",
      "32471/32471 [==============================] - 74s 2ms/step - loss: 0.0172 - accuracy: 0.9958\n",
      "Epoch 10/10\n",
      "32471/32471 [==============================] - 70s 2ms/step - loss: 0.0170 - accuracy: 0.9959\n"
     ]
    },
    {
     "data": {
      "text/plain": [
       "<keras.src.callbacks.History at 0x7b9925eaa650>"
      ]
     },
     "execution_count": 91,
     "metadata": {},
     "output_type": "execute_result"
    }
   ],
   "source": [
    "def build_model(hp):\n",
    "    model = keras.Sequential()\n",
    "    model.add(layers.Dense(units=hp.Int('units', min_value=32, max_value=512, step=32),\n",
    "                           activation='relu'))\n",
    "    model.add(layers.Dense(1, activation='sigmoid'))\n",
    "    model.compile(optimizer=keras.optimizers.Adam(hp.Choice('learning_rate', values=[1e-2, 1e-3, 1e-4])),\n",
    "                  loss='binary_crossentropy',\n",
    "                  metrics=['accuracy'])\n",
    "    return model\n",
    "\n",
    "tuner = RandomSearch(\n",
    "    build_model,\n",
    "    objective='val_accuracy',\n",
    "    max_trials=1,\n",
    "    executions_per_trial=2,\n",
    "    directory='my_dir',\n",
    "    project_name='helloworld')\n",
    "\n",
    "tuner.search(X_train, y_train, epochs=5)\n",
    "\n",
    "best_hps = tuner.get_best_hyperparameters(num_trials=1)[0]\n",
    "\n",
    "model = tuner.hypermodel.build(best_hps)\n",
    "model.fit(X_train, y_train, epochs=10)"
   ]
  },
  {
   "cell_type": "code",
   "execution_count": 92,
   "metadata": {
    "id": "p5Atsgy9PvY3"
   },
   "outputs": [],
   "source": [
    "import tensorflow"
   ]
  },
  {
   "cell_type": "code",
   "execution_count": 93,
   "metadata": {
    "id": "A-7Z3trcPvau"
   },
   "outputs": [],
   "source": [
    "classifier_reg=Sequential()\n",
    "classifier_reg.add(Dense(units=11,activation='relu',kernel_regularizer=tensorflow.keras.regularizers.l1(0.001)))\n",
    "classifier_reg.add(Dense(units=22,activation='relu',kernel_regularizer=tensorflow.keras.regularizers.l1(0.001)))\n",
    "classifier_reg.add(Dense(units=33,activation='relu',kernel_regularizer=tensorflow.keras.regularizers.l1(0.001)))\n",
    "classifier_reg.add(Dense(units=22,activation='relu',kernel_regularizer=tensorflow.keras.regularizers.l1(0.001)))\n",
    "classifier_reg.add(Dense(units=11,activation='relu',kernel_regularizer=tensorflow.keras.regularizers.l1(0.001)))\n",
    "classifier_reg.add(Dense(units=1,activation='sigmoid'))"
   ]
  },
  {
   "cell_type": "code",
   "execution_count": 94,
   "metadata": {
    "id": "Kpdjc_4uPved"
   },
   "outputs": [],
   "source": [
    "classifier_reg.compile(optimizer='sgd',loss='binary_crossentropy',metrics=['accuracy'])"
   ]
  },
  {
   "cell_type": "code",
   "execution_count": 95,
   "metadata": {
    "colab": {
     "base_uri": "https://localhost:8080/"
    },
    "id": "wi4zOZrwPMms",
    "outputId": "576166f7-f1c7-4bb4-f81d-2868bbf0f807"
   },
   "outputs": [
    {
     "name": "stdout",
     "output_type": "stream",
     "text": [
      "Epoch 1/50\n",
      "728/728 [==============================] - 4s 5ms/step - loss: 0.5454 - accuracy: 0.9780 - val_loss: 0.4161 - val_accuracy: 0.9925\n",
      "Epoch 2/50\n",
      "728/728 [==============================] - 3s 4ms/step - loss: 0.4029 - accuracy: 0.9926 - val_loss: 0.3939 - val_accuracy: 0.9925\n",
      "Epoch 3/50\n",
      "728/728 [==============================] - 4s 5ms/step - loss: 0.3841 - accuracy: 0.9926 - val_loss: 0.3768 - val_accuracy: 0.9925\n",
      "Epoch 4/50\n",
      "728/728 [==============================] - 4s 5ms/step - loss: 0.3680 - accuracy: 0.9926 - val_loss: 0.3614 - val_accuracy: 0.9925\n",
      "Epoch 5/50\n",
      "728/728 [==============================] - 3s 4ms/step - loss: 0.3532 - accuracy: 0.9926 - val_loss: 0.3470 - val_accuracy: 0.9925\n",
      "Epoch 6/50\n",
      "728/728 [==============================] - 3s 4ms/step - loss: 0.3392 - accuracy: 0.9926 - val_loss: 0.3333 - val_accuracy: 0.9925\n",
      "Epoch 7/50\n",
      "728/728 [==============================] - 4s 5ms/step - loss: 0.3258 - accuracy: 0.9926 - val_loss: 0.3201 - val_accuracy: 0.9925\n",
      "Epoch 8/50\n",
      "728/728 [==============================] - 4s 5ms/step - loss: 0.3128 - accuracy: 0.9926 - val_loss: 0.3072 - val_accuracy: 0.9925\n",
      "Epoch 9/50\n",
      "728/728 [==============================] - 3s 4ms/step - loss: 0.3002 - accuracy: 0.9926 - val_loss: 0.2947 - val_accuracy: 0.9925\n",
      "Epoch 10/50\n",
      "728/728 [==============================] - 3s 4ms/step - loss: 0.2878 - accuracy: 0.9926 - val_loss: 0.2825 - val_accuracy: 0.9925\n",
      "Epoch 11/50\n",
      "728/728 [==============================] - 3s 4ms/step - loss: 0.2758 - accuracy: 0.9926 - val_loss: 0.2706 - val_accuracy: 0.9925\n",
      "Epoch 12/50\n",
      "728/728 [==============================] - 4s 6ms/step - loss: 0.2641 - accuracy: 0.9926 - val_loss: 0.2591 - val_accuracy: 0.9925\n",
      "Epoch 13/50\n",
      "728/728 [==============================] - 3s 4ms/step - loss: 0.2527 - accuracy: 0.9926 - val_loss: 0.2479 - val_accuracy: 0.9925\n",
      "Epoch 14/50\n",
      "728/728 [==============================] - 3s 4ms/step - loss: 0.2418 - accuracy: 0.9926 - val_loss: 0.2371 - val_accuracy: 0.9925\n",
      "Epoch 15/50\n",
      "728/728 [==============================] - 3s 4ms/step - loss: 0.2311 - accuracy: 0.9926 - val_loss: 0.2266 - val_accuracy: 0.9925\n",
      "Epoch 16/50\n",
      "728/728 [==============================] - 5s 6ms/step - loss: 0.2208 - accuracy: 0.9926 - val_loss: 0.2165 - val_accuracy: 0.9925\n",
      "Epoch 17/50\n",
      "728/728 [==============================] - 3s 4ms/step - loss: 0.2110 - accuracy: 0.9926 - val_loss: 0.2069 - val_accuracy: 0.9925\n",
      "Epoch 18/50\n",
      "728/728 [==============================] - 3s 4ms/step - loss: 0.2016 - accuracy: 0.9926 - val_loss: 0.1977 - val_accuracy: 0.9925\n",
      "Epoch 19/50\n",
      "728/728 [==============================] - 3s 4ms/step - loss: 0.1925 - accuracy: 0.9926 - val_loss: 0.1888 - val_accuracy: 0.9925\n",
      "Epoch 20/50\n",
      "728/728 [==============================] - 4s 6ms/step - loss: 0.1838 - accuracy: 0.9926 - val_loss: 0.1801 - val_accuracy: 0.9925\n",
      "Epoch 21/50\n",
      "728/728 [==============================] - 3s 4ms/step - loss: 0.1754 - accuracy: 0.9926 - val_loss: 0.1719 - val_accuracy: 0.9925\n",
      "Epoch 22/50\n",
      "728/728 [==============================] - 3s 4ms/step - loss: 0.1673 - accuracy: 0.9926 - val_loss: 0.1639 - val_accuracy: 0.9925\n",
      "Epoch 23/50\n",
      "728/728 [==============================] - 3s 4ms/step - loss: 0.1595 - accuracy: 0.9926 - val_loss: 0.1563 - val_accuracy: 0.9925\n",
      "Epoch 24/50\n",
      "728/728 [==============================] - 4s 6ms/step - loss: 0.1520 - accuracy: 0.9926 - val_loss: 0.1490 - val_accuracy: 0.9925\n",
      "Epoch 25/50\n",
      "728/728 [==============================] - 3s 5ms/step - loss: 0.1448 - accuracy: 0.9926 - val_loss: 0.1419 - val_accuracy: 0.9925\n",
      "Epoch 26/50\n",
      "728/728 [==============================] - 3s 4ms/step - loss: 0.1380 - accuracy: 0.9926 - val_loss: 0.1352 - val_accuracy: 0.9925\n",
      "Epoch 27/50\n",
      "728/728 [==============================] - 3s 4ms/step - loss: 0.1314 - accuracy: 0.9926 - val_loss: 0.1287 - val_accuracy: 0.9925\n",
      "Epoch 28/50\n",
      "728/728 [==============================] - 4s 5ms/step - loss: 0.1250 - accuracy: 0.9926 - val_loss: 0.1225 - val_accuracy: 0.9925\n",
      "Epoch 29/50\n",
      "728/728 [==============================] - 4s 5ms/step - loss: 0.1189 - accuracy: 0.9926 - val_loss: 0.1165 - val_accuracy: 0.9925\n",
      "Epoch 30/50\n",
      "728/728 [==============================] - 3s 4ms/step - loss: 0.1130 - accuracy: 0.9926 - val_loss: 0.1108 - val_accuracy: 0.9925\n",
      "Epoch 31/50\n",
      "728/728 [==============================] - 3s 4ms/step - loss: 0.1074 - accuracy: 0.9926 - val_loss: 0.1053 - val_accuracy: 0.9925\n",
      "Epoch 32/50\n",
      "728/728 [==============================] - 4s 5ms/step - loss: 0.1021 - accuracy: 0.9926 - val_loss: 0.1001 - val_accuracy: 0.9925\n",
      "Epoch 33/50\n",
      "728/728 [==============================] - 4s 5ms/step - loss: 0.0971 - accuracy: 0.9926 - val_loss: 0.0952 - val_accuracy: 0.9925\n",
      "Epoch 34/50\n",
      "728/728 [==============================] - 3s 4ms/step - loss: 0.0924 - accuracy: 0.9926 - val_loss: 0.0906 - val_accuracy: 0.9925\n",
      "Epoch 35/50\n",
      "728/728 [==============================] - 3s 4ms/step - loss: 0.0879 - accuracy: 0.9926 - val_loss: 0.0864 - val_accuracy: 0.9925\n",
      "Epoch 36/50\n",
      "728/728 [==============================] - 4s 5ms/step - loss: 0.0838 - accuracy: 0.9926 - val_loss: 0.0824 - val_accuracy: 0.9925\n",
      "Epoch 37/50\n",
      "728/728 [==============================] - 4s 5ms/step - loss: 0.0799 - accuracy: 0.9926 - val_loss: 0.0786 - val_accuracy: 0.9925\n",
      "Epoch 38/50\n",
      "728/728 [==============================] - 3s 4ms/step - loss: 0.0764 - accuracy: 0.9926 - val_loss: 0.0752 - val_accuracy: 0.9925\n",
      "Epoch 39/50\n",
      "728/728 [==============================] - 3s 4ms/step - loss: 0.0730 - accuracy: 0.9926 - val_loss: 0.0720 - val_accuracy: 0.9925\n",
      "Epoch 40/50\n",
      "728/728 [==============================] - 3s 4ms/step - loss: 0.0700 - accuracy: 0.9926 - val_loss: 0.0691 - val_accuracy: 0.9925\n",
      "Epoch 41/50\n",
      "728/728 [==============================] - 4s 6ms/step - loss: 0.0672 - accuracy: 0.9926 - val_loss: 0.0664 - val_accuracy: 0.9925\n",
      "Epoch 42/50\n",
      "728/728 [==============================] - 3s 4ms/step - loss: 0.0647 - accuracy: 0.9926 - val_loss: 0.0641 - val_accuracy: 0.9925\n",
      "Epoch 43/50\n",
      "728/728 [==============================] - 3s 4ms/step - loss: 0.0624 - accuracy: 0.9926 - val_loss: 0.0620 - val_accuracy: 0.9925\n",
      "Epoch 44/50\n",
      "728/728 [==============================] - 3s 4ms/step - loss: 0.0604 - accuracy: 0.9926 - val_loss: 0.0600 - val_accuracy: 0.9925\n",
      "Epoch 45/50\n",
      "728/728 [==============================] - 5s 6ms/step - loss: 0.0585 - accuracy: 0.9926 - val_loss: 0.0583 - val_accuracy: 0.9925\n",
      "Epoch 46/50\n",
      "728/728 [==============================] - 6s 9ms/step - loss: 0.0569 - accuracy: 0.9926 - val_loss: 0.0567 - val_accuracy: 0.9925\n",
      "Epoch 47/50\n",
      "728/728 [==============================] - 8s 12ms/step - loss: 0.0555 - accuracy: 0.9926 - val_loss: 0.0553 - val_accuracy: 0.9925\n",
      "Epoch 48/50\n",
      "728/728 [==============================] - 6s 8ms/step - loss: 0.0541 - accuracy: 0.9926 - val_loss: 0.0540 - val_accuracy: 0.9925\n",
      "Epoch 49/50\n",
      "728/728 [==============================] - 5s 7ms/step - loss: 0.0528 - accuracy: 0.9926 - val_loss: 0.0528 - val_accuracy: 0.9925\n",
      "Epoch 50/50\n",
      "728/728 [==============================] - 4s 6ms/step - loss: 0.0517 - accuracy: 0.9926 - val_loss: 0.0517 - val_accuracy: 0.9925\n"
     ]
    }
   ],
   "source": [
    "model_history=classifier_reg.fit(X_train,y_train,validation_split=0.3,batch_size=1000,epochs=50)"
   ]
  },
  {
   "cell_type": "code",
   "execution_count": 96,
   "metadata": {
    "colab": {
     "base_uri": "https://localhost:8080/"
    },
    "id": "3XcjfIkJPMpX",
    "outputId": "a83be349-bbf5-4ca7-fb00-5960c2b9a1c3"
   },
   "outputs": [
    {
     "name": "stdout",
     "output_type": "stream",
     "text": [
      "8118/8118 [==============================] - 14s 2ms/step\n"
     ]
    }
   ],
   "source": [
    "y_pred=classifier_reg.predict(X_test)\n",
    "y_pred= (y_pred>=0.5)"
   ]
  },
  {
   "cell_type": "code",
   "execution_count": 97,
   "metadata": {
    "colab": {
     "base_uri": "https://localhost:8080/"
    },
    "id": "sLyEFBO0RJQU",
    "outputId": "6063c70e-55e7-4d71-f3f6-4c9a136cf9ee"
   },
   "outputs": [
    {
     "data": {
      "text/plain": [
       "array([[257806,      0],\n",
       "       [  1958,      0]])"
      ]
     },
     "execution_count": 97,
     "metadata": {},
     "output_type": "execute_result"
    }
   ],
   "source": [
    "cm=confusion_matrix(y_test,y_pred)\n",
    "cm"
   ]
  },
  {
   "cell_type": "code",
   "execution_count": 98,
   "metadata": {
    "colab": {
     "base_uri": "https://localhost:8080/"
    },
    "id": "oMnpsdZhRJS0",
    "outputId": "ff023f3f-218d-4a0e-fb00-b99c55e2a835"
   },
   "outputs": [
    {
     "name": "stdout",
     "output_type": "stream",
     "text": [
      "0.9924623889376512\n"
     ]
    }
   ],
   "source": [
    "score=accuracy_score(y_test,y_pred)\n",
    "print(score)"
   ]
  },
  {
   "cell_type": "code",
   "execution_count": 99,
   "metadata": {
    "colab": {
     "base_uri": "https://localhost:8080/",
     "height": 424
    },
    "id": "xD9Fj-3vRJVB",
    "outputId": "2e1cdc60-8c14-486d-bc6e-ceb422526e7b"
   },
   "outputs": [
    {
     "data": {
      "application/vnd.google.colaboratory.intrinsic+json": {
       "type": "dataframe",
       "variable_name": "fraud_zeros"
      },
      "text/html": [
       "\n",
       "  <div id=\"df-b31aa635-217c-42e6-aa8e-1fbe59905f16\" class=\"colab-df-container\">\n",
       "    <div>\n",
       "<style scoped>\n",
       "    .dataframe tbody tr th:only-of-type {\n",
       "        vertical-align: middle;\n",
       "    }\n",
       "\n",
       "    .dataframe tbody tr th {\n",
       "        vertical-align: top;\n",
       "    }\n",
       "\n",
       "    .dataframe thead th {\n",
       "        text-align: right;\n",
       "    }\n",
       "</style>\n",
       "<table border=\"1\" class=\"dataframe\">\n",
       "  <thead>\n",
       "    <tr style=\"text-align: right;\">\n",
       "      <th></th>\n",
       "      <th>cc_num</th>\n",
       "      <th>category</th>\n",
       "      <th>amt</th>\n",
       "      <th>gender</th>\n",
       "      <th>zip</th>\n",
       "      <th>city_pop</th>\n",
       "      <th>is_fraud</th>\n",
       "      <th>Encoded_state</th>\n",
       "      <th>Encoded_job</th>\n",
       "    </tr>\n",
       "  </thead>\n",
       "  <tbody>\n",
       "    <tr>\n",
       "      <th>0</th>\n",
       "      <td>2703186189652095</td>\n",
       "      <td>12</td>\n",
       "      <td>4.97</td>\n",
       "      <td>2</td>\n",
       "      <td>28654</td>\n",
       "      <td>3495</td>\n",
       "      <td>0</td>\n",
       "      <td>11.0</td>\n",
       "      <td>12.0</td>\n",
       "    </tr>\n",
       "    <tr>\n",
       "      <th>1</th>\n",
       "      <td>630423337322</td>\n",
       "      <td>2</td>\n",
       "      <td>107.23</td>\n",
       "      <td>2</td>\n",
       "      <td>99160</td>\n",
       "      <td>149</td>\n",
       "      <td>0</td>\n",
       "      <td>11.0</td>\n",
       "      <td>12.0</td>\n",
       "    </tr>\n",
       "    <tr>\n",
       "      <th>2</th>\n",
       "      <td>38859492057661</td>\n",
       "      <td>7</td>\n",
       "      <td>220.11</td>\n",
       "      <td>1</td>\n",
       "      <td>83252</td>\n",
       "      <td>4154</td>\n",
       "      <td>0</td>\n",
       "      <td>11.0</td>\n",
       "      <td>12.0</td>\n",
       "    </tr>\n",
       "    <tr>\n",
       "      <th>3</th>\n",
       "      <td>3534093764340240</td>\n",
       "      <td>1</td>\n",
       "      <td>45.00</td>\n",
       "      <td>1</td>\n",
       "      <td>59632</td>\n",
       "      <td>1939</td>\n",
       "      <td>0</td>\n",
       "      <td>11.0</td>\n",
       "      <td>12.0</td>\n",
       "    </tr>\n",
       "    <tr>\n",
       "      <th>4</th>\n",
       "      <td>375534208663984</td>\n",
       "      <td>11</td>\n",
       "      <td>41.96</td>\n",
       "      <td>1</td>\n",
       "      <td>24433</td>\n",
       "      <td>99</td>\n",
       "      <td>0</td>\n",
       "      <td>11.0</td>\n",
       "      <td>12.0</td>\n",
       "    </tr>\n",
       "    <tr>\n",
       "      <th>...</th>\n",
       "      <td>...</td>\n",
       "      <td>...</td>\n",
       "      <td>...</td>\n",
       "      <td>...</td>\n",
       "      <td>...</td>\n",
       "      <td>...</td>\n",
       "      <td>...</td>\n",
       "      <td>...</td>\n",
       "      <td>...</td>\n",
       "    </tr>\n",
       "    <tr>\n",
       "      <th>1296670</th>\n",
       "      <td>30263540414123</td>\n",
       "      <td>7</td>\n",
       "      <td>15.56</td>\n",
       "      <td>1</td>\n",
       "      <td>84735</td>\n",
       "      <td>258</td>\n",
       "      <td>0</td>\n",
       "      <td>11.0</td>\n",
       "      <td>12.0</td>\n",
       "    </tr>\n",
       "    <tr>\n",
       "      <th>1296671</th>\n",
       "      <td>6011149206456997</td>\n",
       "      <td>8</td>\n",
       "      <td>51.70</td>\n",
       "      <td>1</td>\n",
       "      <td>21790</td>\n",
       "      <td>100</td>\n",
       "      <td>0</td>\n",
       "      <td>11.0</td>\n",
       "      <td>12.0</td>\n",
       "    </tr>\n",
       "    <tr>\n",
       "      <th>1296672</th>\n",
       "      <td>3514865930894695</td>\n",
       "      <td>8</td>\n",
       "      <td>105.93</td>\n",
       "      <td>1</td>\n",
       "      <td>88325</td>\n",
       "      <td>899</td>\n",
       "      <td>0</td>\n",
       "      <td>11.0</td>\n",
       "      <td>9.0</td>\n",
       "    </tr>\n",
       "    <tr>\n",
       "      <th>1296673</th>\n",
       "      <td>2720012583106919</td>\n",
       "      <td>8</td>\n",
       "      <td>74.90</td>\n",
       "      <td>1</td>\n",
       "      <td>57756</td>\n",
       "      <td>1126</td>\n",
       "      <td>0</td>\n",
       "      <td>11.0</td>\n",
       "      <td>12.0</td>\n",
       "    </tr>\n",
       "    <tr>\n",
       "      <th>1296674</th>\n",
       "      <td>4292902571056973207</td>\n",
       "      <td>8</td>\n",
       "      <td>4.30</td>\n",
       "      <td>1</td>\n",
       "      <td>59871</td>\n",
       "      <td>218</td>\n",
       "      <td>0</td>\n",
       "      <td>11.0</td>\n",
       "      <td>12.0</td>\n",
       "    </tr>\n",
       "  </tbody>\n",
       "</table>\n",
       "<p>1289169 rows × 9 columns</p>\n",
       "</div>\n",
       "    <div class=\"colab-df-buttons\">\n",
       "\n",
       "  <div class=\"colab-df-container\">\n",
       "    <button class=\"colab-df-convert\" onclick=\"convertToInteractive('df-b31aa635-217c-42e6-aa8e-1fbe59905f16')\"\n",
       "            title=\"Convert this dataframe to an interactive table.\"\n",
       "            style=\"display:none;\">\n",
       "\n",
       "  <svg xmlns=\"http://www.w3.org/2000/svg\" height=\"24px\" viewBox=\"0 -960 960 960\">\n",
       "    <path d=\"M120-120v-720h720v720H120Zm60-500h600v-160H180v160Zm220 220h160v-160H400v160Zm0 220h160v-160H400v160ZM180-400h160v-160H180v160Zm440 0h160v-160H620v160ZM180-180h160v-160H180v160Zm440 0h160v-160H620v160Z\"/>\n",
       "  </svg>\n",
       "    </button>\n",
       "\n",
       "  <style>\n",
       "    .colab-df-container {\n",
       "      display:flex;\n",
       "      gap: 12px;\n",
       "    }\n",
       "\n",
       "    .colab-df-convert {\n",
       "      background-color: #E8F0FE;\n",
       "      border: none;\n",
       "      border-radius: 50%;\n",
       "      cursor: pointer;\n",
       "      display: none;\n",
       "      fill: #1967D2;\n",
       "      height: 32px;\n",
       "      padding: 0 0 0 0;\n",
       "      width: 32px;\n",
       "    }\n",
       "\n",
       "    .colab-df-convert:hover {\n",
       "      background-color: #E2EBFA;\n",
       "      box-shadow: 0px 1px 2px rgba(60, 64, 67, 0.3), 0px 1px 3px 1px rgba(60, 64, 67, 0.15);\n",
       "      fill: #174EA6;\n",
       "    }\n",
       "\n",
       "    .colab-df-buttons div {\n",
       "      margin-bottom: 4px;\n",
       "    }\n",
       "\n",
       "    [theme=dark] .colab-df-convert {\n",
       "      background-color: #3B4455;\n",
       "      fill: #D2E3FC;\n",
       "    }\n",
       "\n",
       "    [theme=dark] .colab-df-convert:hover {\n",
       "      background-color: #434B5C;\n",
       "      box-shadow: 0px 1px 3px 1px rgba(0, 0, 0, 0.15);\n",
       "      filter: drop-shadow(0px 1px 2px rgba(0, 0, 0, 0.3));\n",
       "      fill: #FFFFFF;\n",
       "    }\n",
       "  </style>\n",
       "\n",
       "    <script>\n",
       "      const buttonEl =\n",
       "        document.querySelector('#df-b31aa635-217c-42e6-aa8e-1fbe59905f16 button.colab-df-convert');\n",
       "      buttonEl.style.display =\n",
       "        google.colab.kernel.accessAllowed ? 'block' : 'none';\n",
       "\n",
       "      async function convertToInteractive(key) {\n",
       "        const element = document.querySelector('#df-b31aa635-217c-42e6-aa8e-1fbe59905f16');\n",
       "        const dataTable =\n",
       "          await google.colab.kernel.invokeFunction('convertToInteractive',\n",
       "                                                    [key], {});\n",
       "        if (!dataTable) return;\n",
       "\n",
       "        const docLinkHtml = 'Like what you see? Visit the ' +\n",
       "          '<a target=\"_blank\" href=https://colab.research.google.com/notebooks/data_table.ipynb>data table notebook</a>'\n",
       "          + ' to learn more about interactive tables.';\n",
       "        element.innerHTML = '';\n",
       "        dataTable['output_type'] = 'display_data';\n",
       "        await google.colab.output.renderOutput(dataTable, element);\n",
       "        const docLink = document.createElement('div');\n",
       "        docLink.innerHTML = docLinkHtml;\n",
       "        element.appendChild(docLink);\n",
       "      }\n",
       "    </script>\n",
       "  </div>\n",
       "\n",
       "\n",
       "<div id=\"df-32db6fc5-5ee8-4733-86d1-36db1a01de27\">\n",
       "  <button class=\"colab-df-quickchart\" onclick=\"quickchart('df-32db6fc5-5ee8-4733-86d1-36db1a01de27')\"\n",
       "            title=\"Suggest charts\"\n",
       "            style=\"display:none;\">\n",
       "\n",
       "<svg xmlns=\"http://www.w3.org/2000/svg\" height=\"24px\"viewBox=\"0 0 24 24\"\n",
       "     width=\"24px\">\n",
       "    <g>\n",
       "        <path d=\"M19 3H5c-1.1 0-2 .9-2 2v14c0 1.1.9 2 2 2h14c1.1 0 2-.9 2-2V5c0-1.1-.9-2-2-2zM9 17H7v-7h2v7zm4 0h-2V7h2v10zm4 0h-2v-4h2v4z\"/>\n",
       "    </g>\n",
       "</svg>\n",
       "  </button>\n",
       "\n",
       "<style>\n",
       "  .colab-df-quickchart {\n",
       "      --bg-color: #E8F0FE;\n",
       "      --fill-color: #1967D2;\n",
       "      --hover-bg-color: #E2EBFA;\n",
       "      --hover-fill-color: #174EA6;\n",
       "      --disabled-fill-color: #AAA;\n",
       "      --disabled-bg-color: #DDD;\n",
       "  }\n",
       "\n",
       "  [theme=dark] .colab-df-quickchart {\n",
       "      --bg-color: #3B4455;\n",
       "      --fill-color: #D2E3FC;\n",
       "      --hover-bg-color: #434B5C;\n",
       "      --hover-fill-color: #FFFFFF;\n",
       "      --disabled-bg-color: #3B4455;\n",
       "      --disabled-fill-color: #666;\n",
       "  }\n",
       "\n",
       "  .colab-df-quickchart {\n",
       "    background-color: var(--bg-color);\n",
       "    border: none;\n",
       "    border-radius: 50%;\n",
       "    cursor: pointer;\n",
       "    display: none;\n",
       "    fill: var(--fill-color);\n",
       "    height: 32px;\n",
       "    padding: 0;\n",
       "    width: 32px;\n",
       "  }\n",
       "\n",
       "  .colab-df-quickchart:hover {\n",
       "    background-color: var(--hover-bg-color);\n",
       "    box-shadow: 0 1px 2px rgba(60, 64, 67, 0.3), 0 1px 3px 1px rgba(60, 64, 67, 0.15);\n",
       "    fill: var(--button-hover-fill-color);\n",
       "  }\n",
       "\n",
       "  .colab-df-quickchart-complete:disabled,\n",
       "  .colab-df-quickchart-complete:disabled:hover {\n",
       "    background-color: var(--disabled-bg-color);\n",
       "    fill: var(--disabled-fill-color);\n",
       "    box-shadow: none;\n",
       "  }\n",
       "\n",
       "  .colab-df-spinner {\n",
       "    border: 2px solid var(--fill-color);\n",
       "    border-color: transparent;\n",
       "    border-bottom-color: var(--fill-color);\n",
       "    animation:\n",
       "      spin 1s steps(1) infinite;\n",
       "  }\n",
       "\n",
       "  @keyframes spin {\n",
       "    0% {\n",
       "      border-color: transparent;\n",
       "      border-bottom-color: var(--fill-color);\n",
       "      border-left-color: var(--fill-color);\n",
       "    }\n",
       "    20% {\n",
       "      border-color: transparent;\n",
       "      border-left-color: var(--fill-color);\n",
       "      border-top-color: var(--fill-color);\n",
       "    }\n",
       "    30% {\n",
       "      border-color: transparent;\n",
       "      border-left-color: var(--fill-color);\n",
       "      border-top-color: var(--fill-color);\n",
       "      border-right-color: var(--fill-color);\n",
       "    }\n",
       "    40% {\n",
       "      border-color: transparent;\n",
       "      border-right-color: var(--fill-color);\n",
       "      border-top-color: var(--fill-color);\n",
       "    }\n",
       "    60% {\n",
       "      border-color: transparent;\n",
       "      border-right-color: var(--fill-color);\n",
       "    }\n",
       "    80% {\n",
       "      border-color: transparent;\n",
       "      border-right-color: var(--fill-color);\n",
       "      border-bottom-color: var(--fill-color);\n",
       "    }\n",
       "    90% {\n",
       "      border-color: transparent;\n",
       "      border-bottom-color: var(--fill-color);\n",
       "    }\n",
       "  }\n",
       "</style>\n",
       "\n",
       "  <script>\n",
       "    async function quickchart(key) {\n",
       "      const quickchartButtonEl =\n",
       "        document.querySelector('#' + key + ' button');\n",
       "      quickchartButtonEl.disabled = true;  // To prevent multiple clicks.\n",
       "      quickchartButtonEl.classList.add('colab-df-spinner');\n",
       "      try {\n",
       "        const charts = await google.colab.kernel.invokeFunction(\n",
       "            'suggestCharts', [key], {});\n",
       "      } catch (error) {\n",
       "        console.error('Error during call to suggestCharts:', error);\n",
       "      }\n",
       "      quickchartButtonEl.classList.remove('colab-df-spinner');\n",
       "      quickchartButtonEl.classList.add('colab-df-quickchart-complete');\n",
       "    }\n",
       "    (() => {\n",
       "      let quickchartButtonEl =\n",
       "        document.querySelector('#df-32db6fc5-5ee8-4733-86d1-36db1a01de27 button');\n",
       "      quickchartButtonEl.style.display =\n",
       "        google.colab.kernel.accessAllowed ? 'block' : 'none';\n",
       "    })();\n",
       "  </script>\n",
       "</div>\n",
       "    </div>\n",
       "  </div>\n"
      ],
      "text/plain": [
       "                      cc_num  category     amt  gender    zip  city_pop  \\\n",
       "0           2703186189652095        12    4.97       2  28654      3495   \n",
       "1               630423337322         2  107.23       2  99160       149   \n",
       "2             38859492057661         7  220.11       1  83252      4154   \n",
       "3           3534093764340240         1   45.00       1  59632      1939   \n",
       "4            375534208663984        11   41.96       1  24433        99   \n",
       "...                      ...       ...     ...     ...    ...       ...   \n",
       "1296670       30263540414123         7   15.56       1  84735       258   \n",
       "1296671     6011149206456997         8   51.70       1  21790       100   \n",
       "1296672     3514865930894695         8  105.93       1  88325       899   \n",
       "1296673     2720012583106919         8   74.90       1  57756      1126   \n",
       "1296674  4292902571056973207         8    4.30       1  59871       218   \n",
       "\n",
       "         is_fraud  Encoded_state  Encoded_job  \n",
       "0               0           11.0         12.0  \n",
       "1               0           11.0         12.0  \n",
       "2               0           11.0         12.0  \n",
       "3               0           11.0         12.0  \n",
       "4               0           11.0         12.0  \n",
       "...           ...            ...          ...  \n",
       "1296670         0           11.0         12.0  \n",
       "1296671         0           11.0         12.0  \n",
       "1296672         0           11.0          9.0  \n",
       "1296673         0           11.0         12.0  \n",
       "1296674         0           11.0         12.0  \n",
       "\n",
       "[1289169 rows x 9 columns]"
      ]
     },
     "execution_count": 99,
     "metadata": {},
     "output_type": "execute_result"
    }
   ],
   "source": [
    "fraud_zeros"
   ]
  },
  {
   "cell_type": "code",
   "execution_count": 100,
   "metadata": {
    "colab": {
     "base_uri": "https://localhost:8080/"
    },
    "id": "0IdPB_98RJXI",
    "outputId": "b2c332b6-b5d4-4013-f3c3-deab598d5aa3"
   },
   "outputs": [
    {
     "name": "stdout",
     "output_type": "stream",
     "text": [
      "<class 'pandas.core.frame.DataFrame'>\n",
      "Index: 1289169 entries, 0 to 1296674\n",
      "Data columns (total 9 columns):\n",
      " #   Column         Non-Null Count    Dtype  \n",
      "---  ------         --------------    -----  \n",
      " 0   cc_num         1289169 non-null  int64  \n",
      " 1   category       1289169 non-null  int64  \n",
      " 2   amt            1289169 non-null  float64\n",
      " 3   gender         1289169 non-null  int64  \n",
      " 4   zip            1289169 non-null  int64  \n",
      " 5   city_pop       1289169 non-null  int64  \n",
      " 6   is_fraud       1289169 non-null  int64  \n",
      " 7   Encoded_state  1289169 non-null  float64\n",
      " 8   Encoded_job    1289169 non-null  float64\n",
      "dtypes: float64(3), int64(6)\n",
      "memory usage: 98.4 MB\n"
     ]
    }
   ],
   "source": [
    "fraud_zeros.info()"
   ]
  },
  {
   "cell_type": "code",
   "execution_count": 101,
   "metadata": {
    "id": "2C-oBF7WRJZf"
   },
   "outputs": [],
   "source": [
    "import numpy as np\n",
    "\n",
    "dfs_0 = []\n",
    "for i, part in enumerate(np.array_split(fraud_zeros, 10)):\n",
    "    dfs_0.append(part)"
   ]
  },
  {
   "cell_type": "code",
   "execution_count": 102,
   "metadata": {
    "id": "t8I_dqURW6si"
   },
   "outputs": [],
   "source": [
    "res_df = pd.concat([dfs_0[0], fraud_ones])\n",
    "\n",
    "# Shuffle the rows of the concatenated DataFrame\n",
    "res_df_1 = res_df.sample(frac=1).reset_index(drop=True)"
   ]
  },
  {
   "cell_type": "code",
   "execution_count": 103,
   "metadata": {
    "colab": {
     "base_uri": "https://localhost:8080/",
     "height": 424
    },
    "id": "fKKNKowhW6vV",
    "outputId": "e4e26e03-f8a7-43a3-a6bf-1c6b3ba757cd"
   },
   "outputs": [
    {
     "data": {
      "application/vnd.google.colaboratory.intrinsic+json": {
       "type": "dataframe",
       "variable_name": "res_df_1"
      },
      "text/html": [
       "\n",
       "  <div id=\"df-92a4e578-b61d-422a-8a3e-b91b36519379\" class=\"colab-df-container\">\n",
       "    <div>\n",
       "<style scoped>\n",
       "    .dataframe tbody tr th:only-of-type {\n",
       "        vertical-align: middle;\n",
       "    }\n",
       "\n",
       "    .dataframe tbody tr th {\n",
       "        vertical-align: top;\n",
       "    }\n",
       "\n",
       "    .dataframe thead th {\n",
       "        text-align: right;\n",
       "    }\n",
       "</style>\n",
       "<table border=\"1\" class=\"dataframe\">\n",
       "  <thead>\n",
       "    <tr style=\"text-align: right;\">\n",
       "      <th></th>\n",
       "      <th>cc_num</th>\n",
       "      <th>category</th>\n",
       "      <th>amt</th>\n",
       "      <th>gender</th>\n",
       "      <th>zip</th>\n",
       "      <th>city_pop</th>\n",
       "      <th>is_fraud</th>\n",
       "      <th>Encoded_state</th>\n",
       "      <th>Encoded_job</th>\n",
       "    </tr>\n",
       "  </thead>\n",
       "  <tbody>\n",
       "    <tr>\n",
       "      <th>0</th>\n",
       "      <td>4208110975550360171</td>\n",
       "      <td>4</td>\n",
       "      <td>119.50</td>\n",
       "      <td>1</td>\n",
       "      <td>31567</td>\n",
       "      <td>782</td>\n",
       "      <td>0</td>\n",
       "      <td>11.0</td>\n",
       "      <td>3.0</td>\n",
       "    </tr>\n",
       "    <tr>\n",
       "      <th>1</th>\n",
       "      <td>3513506355699497</td>\n",
       "      <td>2</td>\n",
       "      <td>92.87</td>\n",
       "      <td>2</td>\n",
       "      <td>39157</td>\n",
       "      <td>24645</td>\n",
       "      <td>0</td>\n",
       "      <td>11.0</td>\n",
       "      <td>12.0</td>\n",
       "    </tr>\n",
       "    <tr>\n",
       "      <th>2</th>\n",
       "      <td>560881134780</td>\n",
       "      <td>9</td>\n",
       "      <td>12.42</td>\n",
       "      <td>2</td>\n",
       "      <td>46946</td>\n",
       "      <td>136</td>\n",
       "      <td>0</td>\n",
       "      <td>11.0</td>\n",
       "      <td>12.0</td>\n",
       "    </tr>\n",
       "    <tr>\n",
       "      <th>3</th>\n",
       "      <td>372509258176510</td>\n",
       "      <td>10</td>\n",
       "      <td>41.06</td>\n",
       "      <td>2</td>\n",
       "      <td>48438</td>\n",
       "      <td>6951</td>\n",
       "      <td>0</td>\n",
       "      <td>8.0</td>\n",
       "      <td>12.0</td>\n",
       "    </tr>\n",
       "    <tr>\n",
       "      <th>4</th>\n",
       "      <td>4149635823017</td>\n",
       "      <td>4</td>\n",
       "      <td>6.49</td>\n",
       "      <td>1</td>\n",
       "      <td>35049</td>\n",
       "      <td>3996</td>\n",
       "      <td>0</td>\n",
       "      <td>9.0</td>\n",
       "      <td>12.0</td>\n",
       "    </tr>\n",
       "    <tr>\n",
       "      <th>...</th>\n",
       "      <td>...</td>\n",
       "      <td>...</td>\n",
       "      <td>...</td>\n",
       "      <td>...</td>\n",
       "      <td>...</td>\n",
       "      <td>...</td>\n",
       "      <td>...</td>\n",
       "      <td>...</td>\n",
       "      <td>...</td>\n",
       "    </tr>\n",
       "    <tr>\n",
       "      <th>138563</th>\n",
       "      <td>3504178999463051</td>\n",
       "      <td>11</td>\n",
       "      <td>7.87</td>\n",
       "      <td>1</td>\n",
       "      <td>45801</td>\n",
       "      <td>86954</td>\n",
       "      <td>0</td>\n",
       "      <td>5.0</td>\n",
       "      <td>1.0</td>\n",
       "    </tr>\n",
       "    <tr>\n",
       "      <th>138564</th>\n",
       "      <td>30596478689301</td>\n",
       "      <td>2</td>\n",
       "      <td>54.42</td>\n",
       "      <td>1</td>\n",
       "      <td>80005</td>\n",
       "      <td>122111</td>\n",
       "      <td>0</td>\n",
       "      <td>11.0</td>\n",
       "      <td>12.0</td>\n",
       "    </tr>\n",
       "    <tr>\n",
       "      <th>138565</th>\n",
       "      <td>373043435942726</td>\n",
       "      <td>6</td>\n",
       "      <td>928.19</td>\n",
       "      <td>1</td>\n",
       "      <td>77417</td>\n",
       "      <td>2457</td>\n",
       "      <td>1</td>\n",
       "      <td>2.0</td>\n",
       "      <td>10.0</td>\n",
       "    </tr>\n",
       "    <tr>\n",
       "      <th>138566</th>\n",
       "      <td>4560395181594436016</td>\n",
       "      <td>6</td>\n",
       "      <td>2.58</td>\n",
       "      <td>2</td>\n",
       "      <td>95453</td>\n",
       "      <td>11256</td>\n",
       "      <td>0</td>\n",
       "      <td>4.0</td>\n",
       "      <td>12.0</td>\n",
       "    </tr>\n",
       "    <tr>\n",
       "      <th>138567</th>\n",
       "      <td>6011399591920186</td>\n",
       "      <td>8</td>\n",
       "      <td>8.31</td>\n",
       "      <td>2</td>\n",
       "      <td>1257</td>\n",
       "      <td>2121</td>\n",
       "      <td>0</td>\n",
       "      <td>11.0</td>\n",
       "      <td>12.0</td>\n",
       "    </tr>\n",
       "  </tbody>\n",
       "</table>\n",
       "<p>138568 rows × 9 columns</p>\n",
       "</div>\n",
       "    <div class=\"colab-df-buttons\">\n",
       "\n",
       "  <div class=\"colab-df-container\">\n",
       "    <button class=\"colab-df-convert\" onclick=\"convertToInteractive('df-92a4e578-b61d-422a-8a3e-b91b36519379')\"\n",
       "            title=\"Convert this dataframe to an interactive table.\"\n",
       "            style=\"display:none;\">\n",
       "\n",
       "  <svg xmlns=\"http://www.w3.org/2000/svg\" height=\"24px\" viewBox=\"0 -960 960 960\">\n",
       "    <path d=\"M120-120v-720h720v720H120Zm60-500h600v-160H180v160Zm220 220h160v-160H400v160Zm0 220h160v-160H400v160ZM180-400h160v-160H180v160Zm440 0h160v-160H620v160ZM180-180h160v-160H180v160Zm440 0h160v-160H620v160Z\"/>\n",
       "  </svg>\n",
       "    </button>\n",
       "\n",
       "  <style>\n",
       "    .colab-df-container {\n",
       "      display:flex;\n",
       "      gap: 12px;\n",
       "    }\n",
       "\n",
       "    .colab-df-convert {\n",
       "      background-color: #E8F0FE;\n",
       "      border: none;\n",
       "      border-radius: 50%;\n",
       "      cursor: pointer;\n",
       "      display: none;\n",
       "      fill: #1967D2;\n",
       "      height: 32px;\n",
       "      padding: 0 0 0 0;\n",
       "      width: 32px;\n",
       "    }\n",
       "\n",
       "    .colab-df-convert:hover {\n",
       "      background-color: #E2EBFA;\n",
       "      box-shadow: 0px 1px 2px rgba(60, 64, 67, 0.3), 0px 1px 3px 1px rgba(60, 64, 67, 0.15);\n",
       "      fill: #174EA6;\n",
       "    }\n",
       "\n",
       "    .colab-df-buttons div {\n",
       "      margin-bottom: 4px;\n",
       "    }\n",
       "\n",
       "    [theme=dark] .colab-df-convert {\n",
       "      background-color: #3B4455;\n",
       "      fill: #D2E3FC;\n",
       "    }\n",
       "\n",
       "    [theme=dark] .colab-df-convert:hover {\n",
       "      background-color: #434B5C;\n",
       "      box-shadow: 0px 1px 3px 1px rgba(0, 0, 0, 0.15);\n",
       "      filter: drop-shadow(0px 1px 2px rgba(0, 0, 0, 0.3));\n",
       "      fill: #FFFFFF;\n",
       "    }\n",
       "  </style>\n",
       "\n",
       "    <script>\n",
       "      const buttonEl =\n",
       "        document.querySelector('#df-92a4e578-b61d-422a-8a3e-b91b36519379 button.colab-df-convert');\n",
       "      buttonEl.style.display =\n",
       "        google.colab.kernel.accessAllowed ? 'block' : 'none';\n",
       "\n",
       "      async function convertToInteractive(key) {\n",
       "        const element = document.querySelector('#df-92a4e578-b61d-422a-8a3e-b91b36519379');\n",
       "        const dataTable =\n",
       "          await google.colab.kernel.invokeFunction('convertToInteractive',\n",
       "                                                    [key], {});\n",
       "        if (!dataTable) return;\n",
       "\n",
       "        const docLinkHtml = 'Like what you see? Visit the ' +\n",
       "          '<a target=\"_blank\" href=https://colab.research.google.com/notebooks/data_table.ipynb>data table notebook</a>'\n",
       "          + ' to learn more about interactive tables.';\n",
       "        element.innerHTML = '';\n",
       "        dataTable['output_type'] = 'display_data';\n",
       "        await google.colab.output.renderOutput(dataTable, element);\n",
       "        const docLink = document.createElement('div');\n",
       "        docLink.innerHTML = docLinkHtml;\n",
       "        element.appendChild(docLink);\n",
       "      }\n",
       "    </script>\n",
       "  </div>\n",
       "\n",
       "\n",
       "<div id=\"df-d303d1b1-3b67-4f38-bb75-fcb655a7897f\">\n",
       "  <button class=\"colab-df-quickchart\" onclick=\"quickchart('df-d303d1b1-3b67-4f38-bb75-fcb655a7897f')\"\n",
       "            title=\"Suggest charts\"\n",
       "            style=\"display:none;\">\n",
       "\n",
       "<svg xmlns=\"http://www.w3.org/2000/svg\" height=\"24px\"viewBox=\"0 0 24 24\"\n",
       "     width=\"24px\">\n",
       "    <g>\n",
       "        <path d=\"M19 3H5c-1.1 0-2 .9-2 2v14c0 1.1.9 2 2 2h14c1.1 0 2-.9 2-2V5c0-1.1-.9-2-2-2zM9 17H7v-7h2v7zm4 0h-2V7h2v10zm4 0h-2v-4h2v4z\"/>\n",
       "    </g>\n",
       "</svg>\n",
       "  </button>\n",
       "\n",
       "<style>\n",
       "  .colab-df-quickchart {\n",
       "      --bg-color: #E8F0FE;\n",
       "      --fill-color: #1967D2;\n",
       "      --hover-bg-color: #E2EBFA;\n",
       "      --hover-fill-color: #174EA6;\n",
       "      --disabled-fill-color: #AAA;\n",
       "      --disabled-bg-color: #DDD;\n",
       "  }\n",
       "\n",
       "  [theme=dark] .colab-df-quickchart {\n",
       "      --bg-color: #3B4455;\n",
       "      --fill-color: #D2E3FC;\n",
       "      --hover-bg-color: #434B5C;\n",
       "      --hover-fill-color: #FFFFFF;\n",
       "      --disabled-bg-color: #3B4455;\n",
       "      --disabled-fill-color: #666;\n",
       "  }\n",
       "\n",
       "  .colab-df-quickchart {\n",
       "    background-color: var(--bg-color);\n",
       "    border: none;\n",
       "    border-radius: 50%;\n",
       "    cursor: pointer;\n",
       "    display: none;\n",
       "    fill: var(--fill-color);\n",
       "    height: 32px;\n",
       "    padding: 0;\n",
       "    width: 32px;\n",
       "  }\n",
       "\n",
       "  .colab-df-quickchart:hover {\n",
       "    background-color: var(--hover-bg-color);\n",
       "    box-shadow: 0 1px 2px rgba(60, 64, 67, 0.3), 0 1px 3px 1px rgba(60, 64, 67, 0.15);\n",
       "    fill: var(--button-hover-fill-color);\n",
       "  }\n",
       "\n",
       "  .colab-df-quickchart-complete:disabled,\n",
       "  .colab-df-quickchart-complete:disabled:hover {\n",
       "    background-color: var(--disabled-bg-color);\n",
       "    fill: var(--disabled-fill-color);\n",
       "    box-shadow: none;\n",
       "  }\n",
       "\n",
       "  .colab-df-spinner {\n",
       "    border: 2px solid var(--fill-color);\n",
       "    border-color: transparent;\n",
       "    border-bottom-color: var(--fill-color);\n",
       "    animation:\n",
       "      spin 1s steps(1) infinite;\n",
       "  }\n",
       "\n",
       "  @keyframes spin {\n",
       "    0% {\n",
       "      border-color: transparent;\n",
       "      border-bottom-color: var(--fill-color);\n",
       "      border-left-color: var(--fill-color);\n",
       "    }\n",
       "    20% {\n",
       "      border-color: transparent;\n",
       "      border-left-color: var(--fill-color);\n",
       "      border-top-color: var(--fill-color);\n",
       "    }\n",
       "    30% {\n",
       "      border-color: transparent;\n",
       "      border-left-color: var(--fill-color);\n",
       "      border-top-color: var(--fill-color);\n",
       "      border-right-color: var(--fill-color);\n",
       "    }\n",
       "    40% {\n",
       "      border-color: transparent;\n",
       "      border-right-color: var(--fill-color);\n",
       "      border-top-color: var(--fill-color);\n",
       "    }\n",
       "    60% {\n",
       "      border-color: transparent;\n",
       "      border-right-color: var(--fill-color);\n",
       "    }\n",
       "    80% {\n",
       "      border-color: transparent;\n",
       "      border-right-color: var(--fill-color);\n",
       "      border-bottom-color: var(--fill-color);\n",
       "    }\n",
       "    90% {\n",
       "      border-color: transparent;\n",
       "      border-bottom-color: var(--fill-color);\n",
       "    }\n",
       "  }\n",
       "</style>\n",
       "\n",
       "  <script>\n",
       "    async function quickchart(key) {\n",
       "      const quickchartButtonEl =\n",
       "        document.querySelector('#' + key + ' button');\n",
       "      quickchartButtonEl.disabled = true;  // To prevent multiple clicks.\n",
       "      quickchartButtonEl.classList.add('colab-df-spinner');\n",
       "      try {\n",
       "        const charts = await google.colab.kernel.invokeFunction(\n",
       "            'suggestCharts', [key], {});\n",
       "      } catch (error) {\n",
       "        console.error('Error during call to suggestCharts:', error);\n",
       "      }\n",
       "      quickchartButtonEl.classList.remove('colab-df-spinner');\n",
       "      quickchartButtonEl.classList.add('colab-df-quickchart-complete');\n",
       "    }\n",
       "    (() => {\n",
       "      let quickchartButtonEl =\n",
       "        document.querySelector('#df-d303d1b1-3b67-4f38-bb75-fcb655a7897f button');\n",
       "      quickchartButtonEl.style.display =\n",
       "        google.colab.kernel.accessAllowed ? 'block' : 'none';\n",
       "    })();\n",
       "  </script>\n",
       "</div>\n",
       "    </div>\n",
       "  </div>\n"
      ],
      "text/plain": [
       "                     cc_num  category     amt  gender    zip  city_pop  \\\n",
       "0       4208110975550360171         4  119.50       1  31567       782   \n",
       "1          3513506355699497         2   92.87       2  39157     24645   \n",
       "2              560881134780         9   12.42       2  46946       136   \n",
       "3           372509258176510        10   41.06       2  48438      6951   \n",
       "4             4149635823017         4    6.49       1  35049      3996   \n",
       "...                     ...       ...     ...     ...    ...       ...   \n",
       "138563     3504178999463051        11    7.87       1  45801     86954   \n",
       "138564       30596478689301         2   54.42       1  80005    122111   \n",
       "138565      373043435942726         6  928.19       1  77417      2457   \n",
       "138566  4560395181594436016         6    2.58       2  95453     11256   \n",
       "138567     6011399591920186         8    8.31       2   1257      2121   \n",
       "\n",
       "        is_fraud  Encoded_state  Encoded_job  \n",
       "0              0           11.0          3.0  \n",
       "1              0           11.0         12.0  \n",
       "2              0           11.0         12.0  \n",
       "3              0            8.0         12.0  \n",
       "4              0            9.0         12.0  \n",
       "...          ...            ...          ...  \n",
       "138563         0            5.0          1.0  \n",
       "138564         0           11.0         12.0  \n",
       "138565         1            2.0         10.0  \n",
       "138566         0            4.0         12.0  \n",
       "138567         0           11.0         12.0  \n",
       "\n",
       "[138568 rows x 9 columns]"
      ]
     },
     "execution_count": 103,
     "metadata": {},
     "output_type": "execute_result"
    }
   ],
   "source": [
    "res_df_1"
   ]
  },
  {
   "cell_type": "code",
   "execution_count": 104,
   "metadata": {
    "colab": {
     "base_uri": "https://localhost:8080/"
    },
    "id": "JWv02ASPW6xt",
    "outputId": "a1049a58-c14c-4811-dc01-97778a3b8dce"
   },
   "outputs": [
    {
     "data": {
      "text/plain": [
       "0         0\n",
       "1         0\n",
       "2         0\n",
       "3         0\n",
       "4         0\n",
       "         ..\n",
       "138563    0\n",
       "138564    0\n",
       "138565    1\n",
       "138566    0\n",
       "138567    0\n",
       "Name: is_fraud, Length: 138568, dtype: int64"
      ]
     },
     "execution_count": 104,
     "metadata": {},
     "output_type": "execute_result"
    }
   ],
   "source": [
    "target=res_df_1.is_fraud\n",
    "target"
   ]
  },
  {
   "cell_type": "code",
   "execution_count": 105,
   "metadata": {
    "id": "_qIaFQZhW60B"
   },
   "outputs": [],
   "source": [
    "res_df_1.drop(['is_fraud'],axis=1,inplace=True)"
   ]
  },
  {
   "cell_type": "code",
   "execution_count": 106,
   "metadata": {
    "id": "fQ8-CmxuW62i"
   },
   "outputs": [],
   "source": [
    "X_train,X_test,y_train,y_test=train_test_split(res_df_1,target,test_size=0.2,random_state=30)"
   ]
  },
  {
   "cell_type": "code",
   "execution_count": 107,
   "metadata": {
    "id": "JxnEGvhxW65F"
   },
   "outputs": [],
   "source": [
    "sc=StandardScaler()\n",
    "X_train=sc.fit_transform(X_train)\n",
    "X_test=sc.fit_transform(X_test)"
   ]
  },
  {
   "cell_type": "code",
   "execution_count": 108,
   "metadata": {
    "id": "NJORtug8RJcW"
   },
   "outputs": [],
   "source": [
    "classifier1=Sequential()"
   ]
  },
  {
   "cell_type": "code",
   "execution_count": 109,
   "metadata": {
    "id": "nv18-tiBXYzM"
   },
   "outputs": [],
   "source": [
    "classifier1.add(Dense(units=8,activation='relu'))\n",
    "classifier1.add(Dense(units=16,activation='relu'))\n",
    "classifier1.add(Dense(units=24,activation='relu'))\n",
    "classifier1.add(Dense(units=16,activation='relu'))\n",
    "classifier1.add(Dense(units=8,activation='relu'))\n",
    "classifier1.add(Dense(units=1,activation='sigmoid'))"
   ]
  },
  {
   "cell_type": "code",
   "execution_count": 110,
   "metadata": {
    "id": "UvzWHsSyXY2L"
   },
   "outputs": [],
   "source": [
    "classifier1.compile(optimizer='sgd',loss='binary_crossentropy',metrics=['accuracy'])"
   ]
  },
  {
   "cell_type": "code",
   "execution_count": 111,
   "metadata": {
    "colab": {
     "base_uri": "https://localhost:8080/"
    },
    "id": "Gw0tL1JdXY4U",
    "outputId": "702ad9a3-b91c-47b6-a712-7549b8701ee7"
   },
   "outputs": [
    {
     "name": "stdout",
     "output_type": "stream",
     "text": [
      "Epoch 1/50\n",
      "78/78 [==============================] - 2s 10ms/step - loss: 0.5381 - accuracy: 0.9310 - val_loss: 0.4281 - val_accuracy: 0.9301\n",
      "Epoch 2/50\n",
      "78/78 [==============================] - 1s 7ms/step - loss: 0.3716 - accuracy: 0.9312 - val_loss: 0.3322 - val_accuracy: 0.9301\n",
      "Epoch 3/50\n",
      "78/78 [==============================] - 0s 6ms/step - loss: 0.3112 - accuracy: 0.9312 - val_loss: 0.2977 - val_accuracy: 0.9301\n",
      "Epoch 4/50\n",
      "78/78 [==============================] - 0s 6ms/step - loss: 0.2863 - accuracy: 0.9312 - val_loss: 0.2798 - val_accuracy: 0.9301\n",
      "Epoch 5/50\n",
      "78/78 [==============================] - 1s 7ms/step - loss: 0.2715 - accuracy: 0.9312 - val_loss: 0.2680 - val_accuracy: 0.9301\n",
      "Epoch 6/50\n",
      "78/78 [==============================] - 0s 6ms/step - loss: 0.2613 - accuracy: 0.9312 - val_loss: 0.2596 - val_accuracy: 0.9301\n",
      "Epoch 7/50\n",
      "78/78 [==============================] - 0s 4ms/step - loss: 0.2538 - accuracy: 0.9312 - val_loss: 0.2530 - val_accuracy: 0.9301\n",
      "Epoch 8/50\n",
      "78/78 [==============================] - 0s 5ms/step - loss: 0.2476 - accuracy: 0.9312 - val_loss: 0.2474 - val_accuracy: 0.9301\n",
      "Epoch 9/50\n",
      "78/78 [==============================] - 0s 4ms/step - loss: 0.2422 - accuracy: 0.9312 - val_loss: 0.2424 - val_accuracy: 0.9301\n",
      "Epoch 10/50\n",
      "78/78 [==============================] - 0s 4ms/step - loss: 0.2373 - accuracy: 0.9312 - val_loss: 0.2376 - val_accuracy: 0.9301\n",
      "Epoch 11/50\n",
      "78/78 [==============================] - 0s 4ms/step - loss: 0.2326 - accuracy: 0.9312 - val_loss: 0.2330 - val_accuracy: 0.9301\n",
      "Epoch 12/50\n",
      "78/78 [==============================] - 0s 4ms/step - loss: 0.2279 - accuracy: 0.9312 - val_loss: 0.2284 - val_accuracy: 0.9301\n",
      "Epoch 13/50\n",
      "78/78 [==============================] - 0s 4ms/step - loss: 0.2232 - accuracy: 0.9312 - val_loss: 0.2237 - val_accuracy: 0.9301\n",
      "Epoch 14/50\n",
      "78/78 [==============================] - 0s 4ms/step - loss: 0.2186 - accuracy: 0.9312 - val_loss: 0.2194 - val_accuracy: 0.9301\n",
      "Epoch 15/50\n",
      "78/78 [==============================] - 0s 5ms/step - loss: 0.2144 - accuracy: 0.9312 - val_loss: 0.2154 - val_accuracy: 0.9301\n",
      "Epoch 16/50\n",
      "78/78 [==============================] - 0s 4ms/step - loss: 0.2103 - accuracy: 0.9312 - val_loss: 0.2114 - val_accuracy: 0.9301\n",
      "Epoch 17/50\n",
      "78/78 [==============================] - 0s 5ms/step - loss: 0.2066 - accuracy: 0.9312 - val_loss: 0.2081 - val_accuracy: 0.9301\n",
      "Epoch 18/50\n",
      "78/78 [==============================] - 0s 5ms/step - loss: 0.2038 - accuracy: 0.9312 - val_loss: 0.2056 - val_accuracy: 0.9301\n",
      "Epoch 19/50\n",
      "78/78 [==============================] - 0s 5ms/step - loss: 0.2015 - accuracy: 0.9312 - val_loss: 0.2035 - val_accuracy: 0.9301\n",
      "Epoch 20/50\n",
      "78/78 [==============================] - 0s 4ms/step - loss: 0.1995 - accuracy: 0.9312 - val_loss: 0.2017 - val_accuracy: 0.9301\n",
      "Epoch 21/50\n",
      "78/78 [==============================] - 0s 4ms/step - loss: 0.1978 - accuracy: 0.9312 - val_loss: 0.2000 - val_accuracy: 0.9301\n",
      "Epoch 22/50\n",
      "78/78 [==============================] - 0s 5ms/step - loss: 0.1961 - accuracy: 0.9312 - val_loss: 0.1983 - val_accuracy: 0.9301\n",
      "Epoch 23/50\n",
      "78/78 [==============================] - 0s 5ms/step - loss: 0.1945 - accuracy: 0.9312 - val_loss: 0.1968 - val_accuracy: 0.9301\n",
      "Epoch 24/50\n",
      "78/78 [==============================] - 0s 4ms/step - loss: 0.1930 - accuracy: 0.9312 - val_loss: 0.1953 - val_accuracy: 0.9301\n",
      "Epoch 25/50\n",
      "78/78 [==============================] - 0s 4ms/step - loss: 0.1915 - accuracy: 0.9312 - val_loss: 0.1938 - val_accuracy: 0.9301\n",
      "Epoch 26/50\n",
      "78/78 [==============================] - 0s 4ms/step - loss: 0.1901 - accuracy: 0.9312 - val_loss: 0.1924 - val_accuracy: 0.9301\n",
      "Epoch 27/50\n",
      "78/78 [==============================] - 0s 4ms/step - loss: 0.1886 - accuracy: 0.9312 - val_loss: 0.1909 - val_accuracy: 0.9301\n",
      "Epoch 28/50\n",
      "78/78 [==============================] - 0s 4ms/step - loss: 0.1872 - accuracy: 0.9312 - val_loss: 0.1895 - val_accuracy: 0.9301\n",
      "Epoch 29/50\n",
      "78/78 [==============================] - 0s 5ms/step - loss: 0.1859 - accuracy: 0.9312 - val_loss: 0.1882 - val_accuracy: 0.9301\n",
      "Epoch 30/50\n",
      "78/78 [==============================] - 0s 4ms/step - loss: 0.1845 - accuracy: 0.9312 - val_loss: 0.1868 - val_accuracy: 0.9301\n",
      "Epoch 31/50\n",
      "78/78 [==============================] - 0s 4ms/step - loss: 0.1832 - accuracy: 0.9312 - val_loss: 0.1855 - val_accuracy: 0.9301\n",
      "Epoch 32/50\n",
      "78/78 [==============================] - 0s 4ms/step - loss: 0.1819 - accuracy: 0.9311 - val_loss: 0.1841 - val_accuracy: 0.9301\n",
      "Epoch 33/50\n",
      "78/78 [==============================] - 0s 4ms/step - loss: 0.1806 - accuracy: 0.9311 - val_loss: 0.1829 - val_accuracy: 0.9301\n",
      "Epoch 34/50\n",
      "78/78 [==============================] - 0s 4ms/step - loss: 0.1793 - accuracy: 0.9311 - val_loss: 0.1815 - val_accuracy: 0.9300\n",
      "Epoch 35/50\n",
      "78/78 [==============================] - 0s 4ms/step - loss: 0.1780 - accuracy: 0.9310 - val_loss: 0.1802 - val_accuracy: 0.9299\n",
      "Epoch 36/50\n",
      "78/78 [==============================] - 1s 7ms/step - loss: 0.1767 - accuracy: 0.9309 - val_loss: 0.1789 - val_accuracy: 0.9298\n",
      "Epoch 37/50\n",
      "78/78 [==============================] - 0s 6ms/step - loss: 0.1754 - accuracy: 0.9308 - val_loss: 0.1776 - val_accuracy: 0.9298\n",
      "Epoch 38/50\n",
      "78/78 [==============================] - 1s 7ms/step - loss: 0.1741 - accuracy: 0.9305 - val_loss: 0.1762 - val_accuracy: 0.9295\n",
      "Epoch 39/50\n",
      "78/78 [==============================] - 1s 7ms/step - loss: 0.1727 - accuracy: 0.9302 - val_loss: 0.1748 - val_accuracy: 0.9294\n",
      "Epoch 40/50\n",
      "78/78 [==============================] - 1s 7ms/step - loss: 0.1713 - accuracy: 0.9306 - val_loss: 0.1733 - val_accuracy: 0.9305\n",
      "Epoch 41/50\n",
      "78/78 [==============================] - 1s 7ms/step - loss: 0.1699 - accuracy: 0.9331 - val_loss: 0.1718 - val_accuracy: 0.9341\n",
      "Epoch 42/50\n",
      "78/78 [==============================] - 1s 7ms/step - loss: 0.1684 - accuracy: 0.9396 - val_loss: 0.1702 - val_accuracy: 0.9438\n",
      "Epoch 43/50\n",
      "78/78 [==============================] - 0s 5ms/step - loss: 0.1669 - accuracy: 0.9502 - val_loss: 0.1686 - val_accuracy: 0.9533\n",
      "Epoch 44/50\n",
      "78/78 [==============================] - 1s 7ms/step - loss: 0.1653 - accuracy: 0.9560 - val_loss: 0.1669 - val_accuracy: 0.9558\n",
      "Epoch 45/50\n",
      "78/78 [==============================] - 1s 7ms/step - loss: 0.1636 - accuracy: 0.9568 - val_loss: 0.1652 - val_accuracy: 0.9561\n",
      "Epoch 46/50\n",
      "78/78 [==============================] - 1s 8ms/step - loss: 0.1620 - accuracy: 0.9566 - val_loss: 0.1634 - val_accuracy: 0.9561\n",
      "Epoch 47/50\n",
      "78/78 [==============================] - 1s 7ms/step - loss: 0.1602 - accuracy: 0.9564 - val_loss: 0.1616 - val_accuracy: 0.9563\n",
      "Epoch 48/50\n",
      "78/78 [==============================] - 1s 7ms/step - loss: 0.1585 - accuracy: 0.9563 - val_loss: 0.1597 - val_accuracy: 0.9562\n",
      "Epoch 49/50\n",
      "78/78 [==============================] - 1s 8ms/step - loss: 0.1567 - accuracy: 0.9561 - val_loss: 0.1579 - val_accuracy: 0.9562\n",
      "Epoch 50/50\n",
      "78/78 [==============================] - 0s 4ms/step - loss: 0.1550 - accuracy: 0.9560 - val_loss: 0.1562 - val_accuracy: 0.9560\n"
     ]
    }
   ],
   "source": [
    "model_history=classifier1.fit(X_train,y_train,validation_split=0.3,batch_size=1000,epochs=50)"
   ]
  },
  {
   "cell_type": "code",
   "execution_count": 112,
   "metadata": {
    "colab": {
     "base_uri": "https://localhost:8080/"
    },
    "id": "7BZFvaHBXY7S",
    "outputId": "64db7f8d-389f-4f08-e06d-0260e55d2096"
   },
   "outputs": [
    {
     "name": "stdout",
     "output_type": "stream",
     "text": [
      "867/867 [==============================] - 1s 2ms/step\n"
     ]
    }
   ],
   "source": [
    "y_pred=classifier1.predict(X_test)\n",
    "y_pred= (y_pred>=0.5)"
   ]
  },
  {
   "cell_type": "code",
   "execution_count": 113,
   "metadata": {
    "colab": {
     "base_uri": "https://localhost:8080/"
    },
    "id": "ciKFpLNLXY8i",
    "outputId": "0597f85a-0b87-4587-a0d1-82e17e354ea7"
   },
   "outputs": [
    {
     "data": {
      "text/plain": [
       "array([[25548,   180],\n",
       "       [ 1017,   969]])"
      ]
     },
     "execution_count": 113,
     "metadata": {},
     "output_type": "execute_result"
    }
   ],
   "source": [
    "cm=confusion_matrix(y_test,y_pred)\n",
    "cm"
   ]
  },
  {
   "cell_type": "code",
   "execution_count": 114,
   "metadata": {
    "colab": {
     "base_uri": "https://localhost:8080/"
    },
    "id": "WmSAageSXY-e",
    "outputId": "a47af05c-f210-43d1-8739-d624835f59d4"
   },
   "outputs": [
    {
     "name": "stdout",
     "output_type": "stream",
     "text": [
      "0.9568088330807534\n"
     ]
    }
   ],
   "source": [
    "score=accuracy_score(y_test,y_pred)\n",
    "print(score)"
   ]
  },
  {
   "cell_type": "code",
   "execution_count": 115,
   "metadata": {
    "id": "n6nOjqfiXZB5"
   },
   "outputs": [],
   "source": [
    "res_df = pd.concat([dfs_0[9], fraud_ones])\n",
    "\n",
    "# Shuffle the rows of the concatenated DataFrame\n",
    "res_df_2 = res_df.sample(frac=1).reset_index(drop=True)"
   ]
  },
  {
   "cell_type": "code",
   "execution_count": 116,
   "metadata": {
    "colab": {
     "base_uri": "https://localhost:8080/"
    },
    "id": "rOMNfrdePMtB",
    "outputId": "3c76bb90-51fb-4b6c-b0dc-da787461eb00"
   },
   "outputs": [
    {
     "data": {
      "text/plain": [
       "0         0\n",
       "1         0\n",
       "2         0\n",
       "3         0\n",
       "4         0\n",
       "         ..\n",
       "138562    0\n",
       "138563    0\n",
       "138564    0\n",
       "138565    0\n",
       "138566    1\n",
       "Name: is_fraud, Length: 138567, dtype: int64"
      ]
     },
     "execution_count": 116,
     "metadata": {},
     "output_type": "execute_result"
    }
   ],
   "source": [
    "target2=res_df_2.is_fraud\n",
    "target2"
   ]
  },
  {
   "cell_type": "code",
   "execution_count": 117,
   "metadata": {
    "id": "9jZK06f1YGg-"
   },
   "outputs": [],
   "source": [
    "res_df_2.drop(['is_fraud'],axis=1,inplace=True)"
   ]
  },
  {
   "cell_type": "code",
   "execution_count": 118,
   "metadata": {
    "id": "38aAO_1KYGjf"
   },
   "outputs": [],
   "source": [
    "X_train,X_test,y_train,y_test=train_test_split(res_df_2,target2,test_size=0.2,random_state=30)"
   ]
  },
  {
   "cell_type": "code",
   "execution_count": 119,
   "metadata": {
    "id": "1AKbQP3uYGln"
   },
   "outputs": [],
   "source": [
    "sc=StandardScaler()\n",
    "X_train=sc.fit_transform(X_train)\n",
    "X_test=sc.fit_transform(X_test)"
   ]
  },
  {
   "cell_type": "code",
   "execution_count": 120,
   "metadata": {
    "id": "WY2RHKK_YGnc"
   },
   "outputs": [],
   "source": [
    "classifier2=Sequential()\n",
    "classifier2.add(Dense(units=8,activation='relu'))\n",
    "classifier2.add(Dense(units=16,activation='relu'))\n",
    "classifier2.add(Dense(units=24,activation='relu'))\n",
    "classifier2.add(Dense(units=16,activation='relu'))\n",
    "classifier2.add(Dense(units=8,activation='relu'))\n",
    "classifier2.add(Dense(units=1,activation='sigmoid'))"
   ]
  },
  {
   "cell_type": "code",
   "execution_count": 121,
   "metadata": {
    "id": "w9-IuFBSYGqR"
   },
   "outputs": [],
   "source": [
    "classifier2.compile(optimizer='sgd',loss='binary_crossentropy',metrics=['accuracy'])"
   ]
  },
  {
   "cell_type": "code",
   "execution_count": 122,
   "metadata": {
    "colab": {
     "base_uri": "https://localhost:8080/"
    },
    "id": "NxXq_32AYGs2",
    "outputId": "6209b2be-658a-4b3f-8ce1-c68104c588b5"
   },
   "outputs": [
    {
     "name": "stdout",
     "output_type": "stream",
     "text": [
      "Epoch 1/50\n",
      "78/78 [==============================] - 2s 7ms/step - loss: 0.5621 - accuracy: 0.9145 - val_loss: 0.4444 - val_accuracy: 0.9296\n",
      "Epoch 2/50\n",
      "78/78 [==============================] - 0s 4ms/step - loss: 0.3713 - accuracy: 0.9299 - val_loss: 0.3197 - val_accuracy: 0.9296\n",
      "Epoch 3/50\n",
      "78/78 [==============================] - 0s 4ms/step - loss: 0.2930 - accuracy: 0.9299 - val_loss: 0.2741 - val_accuracy: 0.9296\n",
      "Epoch 4/50\n",
      "78/78 [==============================] - 0s 4ms/step - loss: 0.2598 - accuracy: 0.9299 - val_loss: 0.2497 - val_accuracy: 0.9296\n",
      "Epoch 5/50\n",
      "78/78 [==============================] - 0s 4ms/step - loss: 0.2397 - accuracy: 0.9299 - val_loss: 0.2334 - val_accuracy: 0.9296\n",
      "Epoch 6/50\n",
      "78/78 [==============================] - 0s 5ms/step - loss: 0.2256 - accuracy: 0.9299 - val_loss: 0.2216 - val_accuracy: 0.9296\n",
      "Epoch 7/50\n",
      "78/78 [==============================] - 0s 4ms/step - loss: 0.2151 - accuracy: 0.9299 - val_loss: 0.2125 - val_accuracy: 0.9295\n",
      "Epoch 8/50\n",
      "78/78 [==============================] - 0s 5ms/step - loss: 0.2066 - accuracy: 0.9298 - val_loss: 0.2046 - val_accuracy: 0.9293\n",
      "Epoch 9/50\n",
      "78/78 [==============================] - 0s 4ms/step - loss: 0.1991 - accuracy: 0.9296 - val_loss: 0.1974 - val_accuracy: 0.9290\n",
      "Epoch 10/50\n",
      "78/78 [==============================] - 0s 4ms/step - loss: 0.1922 - accuracy: 0.9296 - val_loss: 0.1906 - val_accuracy: 0.9288\n",
      "Epoch 11/50\n",
      "78/78 [==============================] - 0s 4ms/step - loss: 0.1855 - accuracy: 0.9298 - val_loss: 0.1841 - val_accuracy: 0.9302\n",
      "Epoch 12/50\n",
      "78/78 [==============================] - 0s 6ms/step - loss: 0.1790 - accuracy: 0.9351 - val_loss: 0.1778 - val_accuracy: 0.9393\n",
      "Epoch 13/50\n",
      "78/78 [==============================] - 0s 6ms/step - loss: 0.1728 - accuracy: 0.9440 - val_loss: 0.1717 - val_accuracy: 0.9469\n",
      "Epoch 14/50\n",
      "78/78 [==============================] - 1s 7ms/step - loss: 0.1670 - accuracy: 0.9490 - val_loss: 0.1662 - val_accuracy: 0.9508\n",
      "Epoch 15/50\n",
      "78/78 [==============================] - 0s 6ms/step - loss: 0.1618 - accuracy: 0.9518 - val_loss: 0.1613 - val_accuracy: 0.9526\n",
      "Epoch 16/50\n",
      "78/78 [==============================] - 1s 7ms/step - loss: 0.1574 - accuracy: 0.9533 - val_loss: 0.1573 - val_accuracy: 0.9540\n",
      "Epoch 17/50\n",
      "78/78 [==============================] - 0s 6ms/step - loss: 0.1538 - accuracy: 0.9548 - val_loss: 0.1539 - val_accuracy: 0.9555\n",
      "Epoch 18/50\n",
      "78/78 [==============================] - 1s 7ms/step - loss: 0.1508 - accuracy: 0.9556 - val_loss: 0.1512 - val_accuracy: 0.9561\n",
      "Epoch 19/50\n",
      "78/78 [==============================] - 0s 6ms/step - loss: 0.1485 - accuracy: 0.9567 - val_loss: 0.1491 - val_accuracy: 0.9569\n",
      "Epoch 20/50\n",
      "78/78 [==============================] - 0s 6ms/step - loss: 0.1466 - accuracy: 0.9574 - val_loss: 0.1472 - val_accuracy: 0.9578\n",
      "Epoch 21/50\n",
      "78/78 [==============================] - 0s 4ms/step - loss: 0.1450 - accuracy: 0.9584 - val_loss: 0.1458 - val_accuracy: 0.9588\n",
      "Epoch 22/50\n",
      "78/78 [==============================] - 0s 4ms/step - loss: 0.1438 - accuracy: 0.9591 - val_loss: 0.1446 - val_accuracy: 0.9594\n",
      "Epoch 23/50\n",
      "78/78 [==============================] - 0s 4ms/step - loss: 0.1427 - accuracy: 0.9596 - val_loss: 0.1436 - val_accuracy: 0.9602\n",
      "Epoch 24/50\n",
      "78/78 [==============================] - 0s 5ms/step - loss: 0.1418 - accuracy: 0.9601 - val_loss: 0.1427 - val_accuracy: 0.9608\n",
      "Epoch 25/50\n",
      "78/78 [==============================] - 0s 5ms/step - loss: 0.1411 - accuracy: 0.9608 - val_loss: 0.1420 - val_accuracy: 0.9610\n",
      "Epoch 26/50\n",
      "78/78 [==============================] - 0s 4ms/step - loss: 0.1404 - accuracy: 0.9612 - val_loss: 0.1413 - val_accuracy: 0.9618\n",
      "Epoch 27/50\n",
      "78/78 [==============================] - 0s 4ms/step - loss: 0.1399 - accuracy: 0.9617 - val_loss: 0.1407 - val_accuracy: 0.9620\n",
      "Epoch 28/50\n",
      "78/78 [==============================] - 0s 4ms/step - loss: 0.1394 - accuracy: 0.9619 - val_loss: 0.1402 - val_accuracy: 0.9626\n",
      "Epoch 29/50\n",
      "78/78 [==============================] - 0s 4ms/step - loss: 0.1389 - accuracy: 0.9625 - val_loss: 0.1398 - val_accuracy: 0.9626\n",
      "Epoch 30/50\n",
      "78/78 [==============================] - 0s 4ms/step - loss: 0.1386 - accuracy: 0.9627 - val_loss: 0.1394 - val_accuracy: 0.9627\n",
      "Epoch 31/50\n",
      "78/78 [==============================] - 0s 4ms/step - loss: 0.1382 - accuracy: 0.9630 - val_loss: 0.1390 - val_accuracy: 0.9628\n",
      "Epoch 32/50\n",
      "78/78 [==============================] - 0s 4ms/step - loss: 0.1379 - accuracy: 0.9629 - val_loss: 0.1387 - val_accuracy: 0.9633\n",
      "Epoch 33/50\n",
      "78/78 [==============================] - 0s 4ms/step - loss: 0.1376 - accuracy: 0.9633 - val_loss: 0.1384 - val_accuracy: 0.9634\n",
      "Epoch 34/50\n",
      "78/78 [==============================] - 0s 4ms/step - loss: 0.1373 - accuracy: 0.9635 - val_loss: 0.1380 - val_accuracy: 0.9635\n",
      "Epoch 35/50\n",
      "78/78 [==============================] - 0s 5ms/step - loss: 0.1370 - accuracy: 0.9638 - val_loss: 0.1377 - val_accuracy: 0.9638\n",
      "Epoch 36/50\n",
      "78/78 [==============================] - 0s 4ms/step - loss: 0.1367 - accuracy: 0.9638 - val_loss: 0.1375 - val_accuracy: 0.9642\n",
      "Epoch 37/50\n",
      "78/78 [==============================] - 0s 4ms/step - loss: 0.1364 - accuracy: 0.9642 - val_loss: 0.1372 - val_accuracy: 0.9644\n",
      "Epoch 38/50\n",
      "78/78 [==============================] - 0s 5ms/step - loss: 0.1361 - accuracy: 0.9644 - val_loss: 0.1369 - val_accuracy: 0.9647\n",
      "Epoch 39/50\n",
      "78/78 [==============================] - 0s 4ms/step - loss: 0.1359 - accuracy: 0.9648 - val_loss: 0.1367 - val_accuracy: 0.9647\n",
      "Epoch 40/50\n",
      "78/78 [==============================] - 0s 4ms/step - loss: 0.1356 - accuracy: 0.9649 - val_loss: 0.1364 - val_accuracy: 0.9648\n",
      "Epoch 41/50\n",
      "78/78 [==============================] - 0s 4ms/step - loss: 0.1354 - accuracy: 0.9649 - val_loss: 0.1362 - val_accuracy: 0.9652\n",
      "Epoch 42/50\n",
      "78/78 [==============================] - 0s 4ms/step - loss: 0.1352 - accuracy: 0.9654 - val_loss: 0.1359 - val_accuracy: 0.9653\n",
      "Epoch 43/50\n",
      "78/78 [==============================] - 0s 4ms/step - loss: 0.1349 - accuracy: 0.9656 - val_loss: 0.1357 - val_accuracy: 0.9652\n",
      "Epoch 44/50\n",
      "78/78 [==============================] - 1s 9ms/step - loss: 0.1347 - accuracy: 0.9656 - val_loss: 0.1355 - val_accuracy: 0.9657\n",
      "Epoch 45/50\n",
      "78/78 [==============================] - 0s 5ms/step - loss: 0.1345 - accuracy: 0.9658 - val_loss: 0.1352 - val_accuracy: 0.9657\n",
      "Epoch 46/50\n",
      "78/78 [==============================] - 0s 5ms/step - loss: 0.1343 - accuracy: 0.9659 - val_loss: 0.1350 - val_accuracy: 0.9658\n",
      "Epoch 47/50\n",
      "78/78 [==============================] - 0s 4ms/step - loss: 0.1340 - accuracy: 0.9660 - val_loss: 0.1348 - val_accuracy: 0.9661\n",
      "Epoch 48/50\n",
      "78/78 [==============================] - 0s 4ms/step - loss: 0.1338 - accuracy: 0.9662 - val_loss: 0.1346 - val_accuracy: 0.9660\n",
      "Epoch 49/50\n",
      "78/78 [==============================] - 0s 6ms/step - loss: 0.1336 - accuracy: 0.9662 - val_loss: 0.1344 - val_accuracy: 0.9664\n",
      "Epoch 50/50\n",
      "78/78 [==============================] - 1s 7ms/step - loss: 0.1334 - accuracy: 0.9664 - val_loss: 0.1342 - val_accuracy: 0.9667\n"
     ]
    }
   ],
   "source": [
    "model_history=classifier2.fit(X_train,y_train,validation_split=0.3,batch_size=1000,epochs=50)"
   ]
  },
  {
   "cell_type": "code",
   "execution_count": 123,
   "metadata": {
    "colab": {
     "base_uri": "https://localhost:8080/"
    },
    "id": "G3ppUaVKYGvX",
    "outputId": "7828463a-d64b-4809-b6e5-d52c602c67d5"
   },
   "outputs": [
    {
     "name": "stdout",
     "output_type": "stream",
     "text": [
      "867/867 [==============================] - 2s 2ms/step\n"
     ]
    }
   ],
   "source": [
    "y_pred=classifier2.predict(X_test)\n",
    "y_pred= (y_pred>=0.5)"
   ]
  },
  {
   "cell_type": "code",
   "execution_count": 124,
   "metadata": {
    "colab": {
     "base_uri": "https://localhost:8080/"
    },
    "id": "yPSTaH-3YGxg",
    "outputId": "cb94c5e9-cf24-4ab4-ada2-486f6d2994c1"
   },
   "outputs": [
    {
     "data": {
      "text/plain": [
       "array([[25599,   243],\n",
       "       [  700,  1172]])"
      ]
     },
     "execution_count": 124,
     "metadata": {},
     "output_type": "execute_result"
    }
   ],
   "source": [
    "cm=confusion_matrix(y_test,y_pred)\n",
    "cm"
   ]
  },
  {
   "cell_type": "code",
   "execution_count": 125,
   "metadata": {
    "colab": {
     "base_uri": "https://localhost:8080/"
    },
    "id": "jZTvZuqlYv7h",
    "outputId": "c67346fa-bc03-439e-a978-9767ec2a4860"
   },
   "outputs": [
    {
     "name": "stdout",
     "output_type": "stream",
     "text": [
      "0.9659738760193404\n"
     ]
    }
   ],
   "source": [
    "score=accuracy_score(y_test,y_pred)\n",
    "print(score)"
   ]
  },
  {
   "cell_type": "code",
   "execution_count": 126,
   "metadata": {
    "id": "rdc7bCoAYx6r"
   },
   "outputs": [],
   "source": [
    "res_df = pd.concat([dfs_0[1], fraud_ones])\n",
    "\n",
    "# Shuffle the rows of the concatenated DataFrame\n",
    "res_df_3 = res_df.sample(frac=1).reset_index(drop=True)"
   ]
  },
  {
   "cell_type": "code",
   "execution_count": 127,
   "metadata": {
    "colab": {
     "base_uri": "https://localhost:8080/"
    },
    "id": "mMxRouUMY0Vo",
    "outputId": "a2cc552f-41cd-45c2-ea6c-11313289da12"
   },
   "outputs": [
    {
     "data": {
      "text/plain": [
       "0         0\n",
       "1         1\n",
       "2         0\n",
       "3         0\n",
       "4         0\n",
       "         ..\n",
       "138563    0\n",
       "138564    0\n",
       "138565    0\n",
       "138566    0\n",
       "138567    0\n",
       "Name: is_fraud, Length: 138568, dtype: int64"
      ]
     },
     "execution_count": 127,
     "metadata": {},
     "output_type": "execute_result"
    }
   ],
   "source": [
    "target3=res_df_3.is_fraud\n",
    "target3"
   ]
  },
  {
   "cell_type": "code",
   "execution_count": 128,
   "metadata": {
    "id": "UxXW10mTY3PU"
   },
   "outputs": [],
   "source": [
    "res_df_3.drop(['is_fraud'],axis=1,inplace=True)"
   ]
  },
  {
   "cell_type": "code",
   "execution_count": 129,
   "metadata": {
    "id": "SOhgy-bNY8_4"
   },
   "outputs": [],
   "source": [
    "X_train,X_test,y_train,y_test=train_test_split(res_df_3,target3,test_size=0.2,random_state=30)"
   ]
  },
  {
   "cell_type": "code",
   "execution_count": 130,
   "metadata": {
    "id": "YHrmoXcNZAWk"
   },
   "outputs": [],
   "source": [
    "sc=StandardScaler()\n",
    "X_train=sc.fit_transform(X_train)\n",
    "X_test=sc.fit_transform(X_test)"
   ]
  },
  {
   "cell_type": "code",
   "execution_count": 132,
   "metadata": {
    "id": "U6vwAq0AZNyq"
   },
   "outputs": [],
   "source": [
    "classifier3=Sequential()\n",
    "classifier3.add(Dense(units=8,activation='relu'))\n",
    "classifier3.add(Dense(units=16,activation='relu'))\n",
    "classifier3.add(Dense(units=24,activation='relu'))\n",
    "classifier3.add(Dense(units=16,activation='relu'))\n",
    "classifier3.add(Dense(units=8,activation='relu'))\n",
    "classifier3.add(Dense(units=1,activation='sigmoid'))"
   ]
  },
  {
   "cell_type": "code",
   "execution_count": 133,
   "metadata": {
    "id": "UsJehPyXZPp_"
   },
   "outputs": [],
   "source": [
    "classifier3.compile(optimizer='sgd',loss='binary_crossentropy',metrics=['accuracy'])"
   ]
  },
  {
   "cell_type": "code",
   "execution_count": 134,
   "metadata": {
    "colab": {
     "base_uri": "https://localhost:8080/"
    },
    "id": "AT6-Sye1ZXdp",
    "outputId": "521ea8ca-ada5-4176-de9b-177a1b8076a6"
   },
   "outputs": [
    {
     "name": "stdout",
     "output_type": "stream",
     "text": [
      "Epoch 1/50\n",
      "78/78 [==============================] - 2s 11ms/step - loss: 0.6426 - accuracy: 0.7186 - val_loss: 0.5142 - val_accuracy: 0.9279\n",
      "Epoch 2/50\n",
      "78/78 [==============================] - 1s 7ms/step - loss: 0.4282 - accuracy: 0.9310 - val_loss: 0.3611 - val_accuracy: 0.9282\n",
      "Epoch 3/50\n",
      "78/78 [==============================] - 0s 4ms/step - loss: 0.3160 - accuracy: 0.9312 - val_loss: 0.2870 - val_accuracy: 0.9283\n",
      "Epoch 4/50\n",
      "78/78 [==============================] - 0s 4ms/step - loss: 0.2649 - accuracy: 0.9313 - val_loss: 0.2567 - val_accuracy: 0.9283\n",
      "Epoch 5/50\n",
      "78/78 [==============================] - 0s 4ms/step - loss: 0.2438 - accuracy: 0.9312 - val_loss: 0.2432 - val_accuracy: 0.9283\n",
      "Epoch 6/50\n",
      "78/78 [==============================] - 0s 5ms/step - loss: 0.2324 - accuracy: 0.9312 - val_loss: 0.2334 - val_accuracy: 0.9282\n",
      "Epoch 7/50\n",
      "78/78 [==============================] - 0s 4ms/step - loss: 0.2226 - accuracy: 0.9311 - val_loss: 0.2234 - val_accuracy: 0.9280\n",
      "Epoch 8/50\n",
      "78/78 [==============================] - 0s 4ms/step - loss: 0.2122 - accuracy: 0.9308 - val_loss: 0.2121 - val_accuracy: 0.9278\n",
      "Epoch 9/50\n",
      "78/78 [==============================] - 0s 4ms/step - loss: 0.2008 - accuracy: 0.9312 - val_loss: 0.2002 - val_accuracy: 0.9316\n",
      "Epoch 10/50\n",
      "78/78 [==============================] - 0s 6ms/step - loss: 0.1898 - accuracy: 0.9388 - val_loss: 0.1898 - val_accuracy: 0.9413\n",
      "Epoch 11/50\n",
      "78/78 [==============================] - 1s 7ms/step - loss: 0.1801 - accuracy: 0.9458 - val_loss: 0.1808 - val_accuracy: 0.9454\n",
      "Epoch 12/50\n",
      "78/78 [==============================] - 0s 6ms/step - loss: 0.1718 - accuracy: 0.9491 - val_loss: 0.1734 - val_accuracy: 0.9486\n",
      "Epoch 13/50\n",
      "78/78 [==============================] - 1s 7ms/step - loss: 0.1650 - accuracy: 0.9518 - val_loss: 0.1671 - val_accuracy: 0.9513\n",
      "Epoch 14/50\n",
      "78/78 [==============================] - 0s 6ms/step - loss: 0.1590 - accuracy: 0.9545 - val_loss: 0.1618 - val_accuracy: 0.9541\n",
      "Epoch 15/50\n",
      "78/78 [==============================] - 1s 7ms/step - loss: 0.1540 - accuracy: 0.9570 - val_loss: 0.1574 - val_accuracy: 0.9567\n",
      "Epoch 16/50\n",
      "78/78 [==============================] - 1s 7ms/step - loss: 0.1498 - accuracy: 0.9594 - val_loss: 0.1538 - val_accuracy: 0.9593\n",
      "Epoch 17/50\n",
      "78/78 [==============================] - 0s 4ms/step - loss: 0.1463 - accuracy: 0.9614 - val_loss: 0.1509 - val_accuracy: 0.9612\n",
      "Epoch 18/50\n",
      "78/78 [==============================] - 0s 4ms/step - loss: 0.1435 - accuracy: 0.9629 - val_loss: 0.1486 - val_accuracy: 0.9627\n",
      "Epoch 19/50\n",
      "78/78 [==============================] - 0s 4ms/step - loss: 0.1412 - accuracy: 0.9639 - val_loss: 0.1467 - val_accuracy: 0.9635\n",
      "Epoch 20/50\n",
      "78/78 [==============================] - 0s 4ms/step - loss: 0.1393 - accuracy: 0.9646 - val_loss: 0.1451 - val_accuracy: 0.9640\n",
      "Epoch 21/50\n",
      "78/78 [==============================] - 0s 4ms/step - loss: 0.1378 - accuracy: 0.9654 - val_loss: 0.1438 - val_accuracy: 0.9648\n",
      "Epoch 22/50\n",
      "78/78 [==============================] - 0s 4ms/step - loss: 0.1365 - accuracy: 0.9658 - val_loss: 0.1426 - val_accuracy: 0.9653\n",
      "Epoch 23/50\n",
      "78/78 [==============================] - 0s 5ms/step - loss: 0.1354 - accuracy: 0.9666 - val_loss: 0.1417 - val_accuracy: 0.9657\n",
      "Epoch 24/50\n",
      "78/78 [==============================] - 0s 5ms/step - loss: 0.1344 - accuracy: 0.9669 - val_loss: 0.1408 - val_accuracy: 0.9659\n",
      "Epoch 25/50\n",
      "78/78 [==============================] - 0s 4ms/step - loss: 0.1335 - accuracy: 0.9674 - val_loss: 0.1400 - val_accuracy: 0.9663\n",
      "Epoch 26/50\n",
      "78/78 [==============================] - 0s 4ms/step - loss: 0.1328 - accuracy: 0.9678 - val_loss: 0.1394 - val_accuracy: 0.9665\n",
      "Epoch 27/50\n",
      "78/78 [==============================] - 0s 4ms/step - loss: 0.1321 - accuracy: 0.9681 - val_loss: 0.1387 - val_accuracy: 0.9668\n",
      "Epoch 28/50\n",
      "78/78 [==============================] - 0s 4ms/step - loss: 0.1315 - accuracy: 0.9683 - val_loss: 0.1382 - val_accuracy: 0.9670\n",
      "Epoch 29/50\n",
      "78/78 [==============================] - 0s 5ms/step - loss: 0.1309 - accuracy: 0.9685 - val_loss: 0.1376 - val_accuracy: 0.9671\n",
      "Epoch 30/50\n",
      "78/78 [==============================] - 0s 4ms/step - loss: 0.1304 - accuracy: 0.9688 - val_loss: 0.1372 - val_accuracy: 0.9674\n",
      "Epoch 31/50\n",
      "78/78 [==============================] - 1s 7ms/step - loss: 0.1300 - accuracy: 0.9690 - val_loss: 0.1367 - val_accuracy: 0.9675\n",
      "Epoch 32/50\n",
      "78/78 [==============================] - 1s 7ms/step - loss: 0.1296 - accuracy: 0.9691 - val_loss: 0.1363 - val_accuracy: 0.9677\n",
      "Epoch 33/50\n",
      "78/78 [==============================] - 0s 6ms/step - loss: 0.1292 - accuracy: 0.9693 - val_loss: 0.1359 - val_accuracy: 0.9678\n",
      "Epoch 34/50\n",
      "78/78 [==============================] - 1s 10ms/step - loss: 0.1288 - accuracy: 0.9695 - val_loss: 0.1356 - val_accuracy: 0.9680\n",
      "Epoch 35/50\n",
      "78/78 [==============================] - 1s 8ms/step - loss: 0.1285 - accuracy: 0.9696 - val_loss: 0.1353 - val_accuracy: 0.9681\n",
      "Epoch 36/50\n",
      "78/78 [==============================] - 1s 8ms/step - loss: 0.1281 - accuracy: 0.9698 - val_loss: 0.1350 - val_accuracy: 0.9682\n",
      "Epoch 37/50\n",
      "78/78 [==============================] - 1s 8ms/step - loss: 0.1278 - accuracy: 0.9698 - val_loss: 0.1346 - val_accuracy: 0.9683\n",
      "Epoch 38/50\n",
      "78/78 [==============================] - 1s 7ms/step - loss: 0.1275 - accuracy: 0.9699 - val_loss: 0.1344 - val_accuracy: 0.9685\n",
      "Epoch 39/50\n",
      "78/78 [==============================] - 1s 8ms/step - loss: 0.1273 - accuracy: 0.9701 - val_loss: 0.1341 - val_accuracy: 0.9685\n",
      "Epoch 40/50\n",
      "78/78 [==============================] - 1s 11ms/step - loss: 0.1270 - accuracy: 0.9701 - val_loss: 0.1338 - val_accuracy: 0.9685\n",
      "Epoch 41/50\n",
      "78/78 [==============================] - 1s 10ms/step - loss: 0.1267 - accuracy: 0.9702 - val_loss: 0.1336 - val_accuracy: 0.9686\n",
      "Epoch 42/50\n",
      "78/78 [==============================] - 1s 9ms/step - loss: 0.1265 - accuracy: 0.9702 - val_loss: 0.1333 - val_accuracy: 0.9687\n",
      "Epoch 43/50\n",
      "78/78 [==============================] - 1s 7ms/step - loss: 0.1263 - accuracy: 0.9703 - val_loss: 0.1331 - val_accuracy: 0.9687\n",
      "Epoch 44/50\n",
      "78/78 [==============================] - 1s 9ms/step - loss: 0.1260 - accuracy: 0.9703 - val_loss: 0.1329 - val_accuracy: 0.9688\n",
      "Epoch 45/50\n",
      "78/78 [==============================] - 1s 9ms/step - loss: 0.1258 - accuracy: 0.9704 - val_loss: 0.1327 - val_accuracy: 0.9689\n",
      "Epoch 46/50\n",
      "78/78 [==============================] - 1s 6ms/step - loss: 0.1256 - accuracy: 0.9705 - val_loss: 0.1324 - val_accuracy: 0.9690\n",
      "Epoch 47/50\n",
      "78/78 [==============================] - 0s 6ms/step - loss: 0.1254 - accuracy: 0.9705 - val_loss: 0.1322 - val_accuracy: 0.9691\n",
      "Epoch 48/50\n",
      "78/78 [==============================] - 0s 6ms/step - loss: 0.1252 - accuracy: 0.9706 - val_loss: 0.1320 - val_accuracy: 0.9692\n",
      "Epoch 49/50\n",
      "78/78 [==============================] - 1s 7ms/step - loss: 0.1250 - accuracy: 0.9706 - val_loss: 0.1319 - val_accuracy: 0.9692\n",
      "Epoch 50/50\n",
      "78/78 [==============================] - 1s 7ms/step - loss: 0.1248 - accuracy: 0.9706 - val_loss: 0.1317 - val_accuracy: 0.9693\n"
     ]
    }
   ],
   "source": [
    "model_history=classifier3.fit(X_train,y_train,validation_split=0.3,batch_size=1000,epochs=50)"
   ]
  },
  {
   "cell_type": "code",
   "execution_count": 135,
   "metadata": {
    "colab": {
     "base_uri": "https://localhost:8080/"
    },
    "id": "ebVokQ99ZcQR",
    "outputId": "daa5d01a-6acd-44c0-ccfe-e54bc0a451e1"
   },
   "outputs": [
    {
     "name": "stdout",
     "output_type": "stream",
     "text": [
      "867/867 [==============================] - 3s 3ms/step\n"
     ]
    }
   ],
   "source": [
    "y_pred=classifier3.predict(X_test)\n",
    "y_pred= (y_pred>=0.5)"
   ]
  },
  {
   "cell_type": "code",
   "execution_count": 136,
   "metadata": {
    "colab": {
     "base_uri": "https://localhost:8080/"
    },
    "id": "ORiy02KyZgD0",
    "outputId": "ebe1178c-292d-4fa1-f822-9ecee63d7d4a"
   },
   "outputs": [
    {
     "data": {
      "text/plain": [
       "array([[25493,   282],\n",
       "       [  575,  1364]])"
      ]
     },
     "execution_count": 136,
     "metadata": {},
     "output_type": "execute_result"
    }
   ],
   "source": [
    "cm=confusion_matrix(y_test,y_pred)\n",
    "cm"
   ]
  },
  {
   "cell_type": "code",
   "execution_count": 137,
   "metadata": {
    "colab": {
     "base_uri": "https://localhost:8080/"
    },
    "id": "BBYvBYerZiIq",
    "outputId": "5b5b7c6d-a5a6-458c-f5aa-479080511b02"
   },
   "outputs": [
    {
     "name": "stdout",
     "output_type": "stream",
     "text": [
      "0.9690770007938226\n"
     ]
    }
   ],
   "source": [
    "score=accuracy_score(y_test,y_pred)\n",
    "print(score)"
   ]
  },
  {
   "cell_type": "code",
   "execution_count": 138,
   "metadata": {
    "id": "JvyymkhTZkLg"
   },
   "outputs": [],
   "source": [
    "res_df = pd.concat([dfs_0[2], fraud_ones])\n",
    "\n",
    "# Shuffle the rows of the concatenated DataFrame\n",
    "res_df_4 = res_df.sample(frac=1).reset_index(drop=True)"
   ]
  },
  {
   "cell_type": "code",
   "execution_count": 139,
   "metadata": {
    "colab": {
     "base_uri": "https://localhost:8080/"
    },
    "id": "V6v81PsnZm1u",
    "outputId": "7df65c76-d863-4d19-d760-c3dddb15c09b"
   },
   "outputs": [
    {
     "data": {
      "text/plain": [
       "0         0\n",
       "1         0\n",
       "2         0\n",
       "3         0\n",
       "4         0\n",
       "         ..\n",
       "138563    0\n",
       "138564    0\n",
       "138565    0\n",
       "138566    0\n",
       "138567    1\n",
       "Name: is_fraud, Length: 138568, dtype: int64"
      ]
     },
     "execution_count": 139,
     "metadata": {},
     "output_type": "execute_result"
    }
   ],
   "source": [
    "target4=res_df_4.is_fraud\n",
    "target4"
   ]
  },
  {
   "cell_type": "code",
   "execution_count": 140,
   "metadata": {
    "id": "L9Xdumr2ZqIb"
   },
   "outputs": [],
   "source": [
    "res_df_4.drop(['is_fraud'],axis=1,inplace=True)"
   ]
  },
  {
   "cell_type": "code",
   "execution_count": 141,
   "metadata": {
    "id": "IOyEyijmZ0tA"
   },
   "outputs": [],
   "source": [
    "X_train,X_test,y_train,y_test=train_test_split(res_df_4,target4,test_size=0.2,random_state=30)"
   ]
  },
  {
   "cell_type": "code",
   "execution_count": 142,
   "metadata": {
    "id": "BAMtRXcaZ3Mq"
   },
   "outputs": [],
   "source": [
    "sc=StandardScaler()\n",
    "X_train=sc.fit_transform(X_train)\n",
    "X_test=sc.fit_transform(X_test)"
   ]
  },
  {
   "cell_type": "code",
   "execution_count": 143,
   "metadata": {
    "id": "kz7MNH9cZ5WA"
   },
   "outputs": [],
   "source": [
    "classifier4=Sequential()\n",
    "classifier4.add(Dense(units=8,activation='relu'))\n",
    "classifier4.add(Dense(units=16,activation='relu'))\n",
    "classifier4.add(Dense(units=24,activation='relu'))\n",
    "classifier4.add(Dense(units=16,activation='relu'))\n",
    "classifier4.add(Dense(units=8,activation='relu'))\n",
    "classifier4.add(Dense(units=1,activation='sigmoid'))"
   ]
  },
  {
   "cell_type": "code",
   "execution_count": 144,
   "metadata": {
    "id": "PfeP9jdJZ-x_"
   },
   "outputs": [],
   "source": [
    "classifier4.compile(optimizer='sgd',loss='binary_crossentropy',metrics=['accuracy'])"
   ]
  },
  {
   "cell_type": "code",
   "execution_count": 145,
   "metadata": {
    "colab": {
     "base_uri": "https://localhost:8080/"
    },
    "id": "ebsO2n0daA19",
    "outputId": "80864588-896c-447f-f2f6-507afd71a387"
   },
   "outputs": [
    {
     "name": "stdout",
     "output_type": "stream",
     "text": [
      "Epoch 1/50\n",
      "78/78 [==============================] - 2s 11ms/step - loss: 0.5340 - accuracy: 0.9296 - val_loss: 0.4273 - val_accuracy: 0.9320\n",
      "Epoch 2/50\n",
      "78/78 [==============================] - 1s 7ms/step - loss: 0.3618 - accuracy: 0.9301 - val_loss: 0.3071 - val_accuracy: 0.9320\n",
      "Epoch 3/50\n",
      "78/78 [==============================] - 0s 6ms/step - loss: 0.2864 - accuracy: 0.9301 - val_loss: 0.2617 - val_accuracy: 0.9320\n",
      "Epoch 4/50\n",
      "78/78 [==============================] - 0s 5ms/step - loss: 0.2541 - accuracy: 0.9301 - val_loss: 0.2362 - val_accuracy: 0.9319\n",
      "Epoch 5/50\n",
      "78/78 [==============================] - 0s 4ms/step - loss: 0.2323 - accuracy: 0.9298 - val_loss: 0.2164 - val_accuracy: 0.9317\n",
      "Epoch 6/50\n",
      "78/78 [==============================] - 0s 4ms/step - loss: 0.2152 - accuracy: 0.9296 - val_loss: 0.2018 - val_accuracy: 0.9314\n",
      "Epoch 7/50\n",
      "78/78 [==============================] - 0s 4ms/step - loss: 0.2029 - accuracy: 0.9292 - val_loss: 0.1912 - val_accuracy: 0.9314\n",
      "Epoch 8/50\n",
      "78/78 [==============================] - 0s 4ms/step - loss: 0.1936 - accuracy: 0.9327 - val_loss: 0.1830 - val_accuracy: 0.9401\n",
      "Epoch 9/50\n",
      "78/78 [==============================] - 0s 4ms/step - loss: 0.1864 - accuracy: 0.9429 - val_loss: 0.1765 - val_accuracy: 0.9492\n",
      "Epoch 10/50\n",
      "78/78 [==============================] - 0s 5ms/step - loss: 0.1805 - accuracy: 0.9494 - val_loss: 0.1712 - val_accuracy: 0.9535\n",
      "Epoch 11/50\n",
      "78/78 [==============================] - 0s 4ms/step - loss: 0.1756 - accuracy: 0.9523 - val_loss: 0.1666 - val_accuracy: 0.9551\n",
      "Epoch 12/50\n",
      "78/78 [==============================] - 0s 4ms/step - loss: 0.1715 - accuracy: 0.9533 - val_loss: 0.1629 - val_accuracy: 0.9553\n",
      "Epoch 13/50\n",
      "78/78 [==============================] - 0s 4ms/step - loss: 0.1682 - accuracy: 0.9532 - val_loss: 0.1599 - val_accuracy: 0.9558\n",
      "Epoch 14/50\n",
      "78/78 [==============================] - 0s 4ms/step - loss: 0.1655 - accuracy: 0.9530 - val_loss: 0.1575 - val_accuracy: 0.9555\n",
      "Epoch 15/50\n",
      "78/78 [==============================] - 0s 4ms/step - loss: 0.1632 - accuracy: 0.9530 - val_loss: 0.1554 - val_accuracy: 0.9556\n",
      "Epoch 16/50\n",
      "78/78 [==============================] - 0s 5ms/step - loss: 0.1613 - accuracy: 0.9530 - val_loss: 0.1536 - val_accuracy: 0.9557\n",
      "Epoch 17/50\n",
      "78/78 [==============================] - 0s 4ms/step - loss: 0.1596 - accuracy: 0.9529 - val_loss: 0.1521 - val_accuracy: 0.9556\n",
      "Epoch 18/50\n",
      "78/78 [==============================] - 0s 6ms/step - loss: 0.1582 - accuracy: 0.9529 - val_loss: 0.1508 - val_accuracy: 0.9555\n",
      "Epoch 19/50\n",
      "78/78 [==============================] - 0s 6ms/step - loss: 0.1570 - accuracy: 0.9530 - val_loss: 0.1496 - val_accuracy: 0.9558\n",
      "Epoch 20/50\n",
      "78/78 [==============================] - 1s 7ms/step - loss: 0.1559 - accuracy: 0.9531 - val_loss: 0.1485 - val_accuracy: 0.9557\n",
      "Epoch 21/50\n",
      "78/78 [==============================] - 1s 7ms/step - loss: 0.1549 - accuracy: 0.9531 - val_loss: 0.1477 - val_accuracy: 0.9557\n",
      "Epoch 22/50\n",
      "78/78 [==============================] - 1s 7ms/step - loss: 0.1540 - accuracy: 0.9532 - val_loss: 0.1468 - val_accuracy: 0.9559\n",
      "Epoch 23/50\n",
      "78/78 [==============================] - 1s 7ms/step - loss: 0.1532 - accuracy: 0.9532 - val_loss: 0.1461 - val_accuracy: 0.9561\n",
      "Epoch 24/50\n",
      "78/78 [==============================] - 1s 7ms/step - loss: 0.1525 - accuracy: 0.9533 - val_loss: 0.1453 - val_accuracy: 0.9562\n",
      "Epoch 25/50\n",
      "78/78 [==============================] - 0s 6ms/step - loss: 0.1518 - accuracy: 0.9536 - val_loss: 0.1447 - val_accuracy: 0.9563\n",
      "Epoch 26/50\n",
      "78/78 [==============================] - 0s 4ms/step - loss: 0.1511 - accuracy: 0.9537 - val_loss: 0.1441 - val_accuracy: 0.9565\n",
      "Epoch 27/50\n",
      "78/78 [==============================] - 1s 7ms/step - loss: 0.1505 - accuracy: 0.9540 - val_loss: 0.1435 - val_accuracy: 0.9566\n",
      "Epoch 28/50\n",
      "78/78 [==============================] - 0s 6ms/step - loss: 0.1499 - accuracy: 0.9543 - val_loss: 0.1429 - val_accuracy: 0.9569\n",
      "Epoch 29/50\n",
      "78/78 [==============================] - 0s 6ms/step - loss: 0.1493 - accuracy: 0.9545 - val_loss: 0.1423 - val_accuracy: 0.9571\n",
      "Epoch 30/50\n",
      "78/78 [==============================] - 1s 7ms/step - loss: 0.1487 - accuracy: 0.9549 - val_loss: 0.1418 - val_accuracy: 0.9575\n",
      "Epoch 31/50\n",
      "78/78 [==============================] - 1s 7ms/step - loss: 0.1482 - accuracy: 0.9551 - val_loss: 0.1413 - val_accuracy: 0.9578\n",
      "Epoch 32/50\n",
      "78/78 [==============================] - 1s 7ms/step - loss: 0.1477 - accuracy: 0.9555 - val_loss: 0.1408 - val_accuracy: 0.9583\n",
      "Epoch 33/50\n",
      "78/78 [==============================] - 1s 7ms/step - loss: 0.1472 - accuracy: 0.9560 - val_loss: 0.1403 - val_accuracy: 0.9590\n",
      "Epoch 34/50\n",
      "78/78 [==============================] - 0s 6ms/step - loss: 0.1467 - accuracy: 0.9564 - val_loss: 0.1399 - val_accuracy: 0.9594\n",
      "Epoch 35/50\n",
      "78/78 [==============================] - 0s 5ms/step - loss: 0.1462 - accuracy: 0.9569 - val_loss: 0.1394 - val_accuracy: 0.9598\n",
      "Epoch 36/50\n",
      "78/78 [==============================] - 0s 4ms/step - loss: 0.1457 - accuracy: 0.9572 - val_loss: 0.1390 - val_accuracy: 0.9602\n",
      "Epoch 37/50\n",
      "78/78 [==============================] - 0s 4ms/step - loss: 0.1452 - accuracy: 0.9576 - val_loss: 0.1385 - val_accuracy: 0.9603\n",
      "Epoch 38/50\n",
      "78/78 [==============================] - 0s 5ms/step - loss: 0.1448 - accuracy: 0.9579 - val_loss: 0.1381 - val_accuracy: 0.9606\n",
      "Epoch 39/50\n",
      "78/78 [==============================] - 0s 4ms/step - loss: 0.1444 - accuracy: 0.9585 - val_loss: 0.1377 - val_accuracy: 0.9609\n",
      "Epoch 40/50\n",
      "78/78 [==============================] - 0s 4ms/step - loss: 0.1440 - accuracy: 0.9590 - val_loss: 0.1373 - val_accuracy: 0.9610\n",
      "Epoch 41/50\n",
      "78/78 [==============================] - 0s 5ms/step - loss: 0.1436 - accuracy: 0.9592 - val_loss: 0.1370 - val_accuracy: 0.9616\n",
      "Epoch 42/50\n",
      "78/78 [==============================] - 0s 4ms/step - loss: 0.1432 - accuracy: 0.9595 - val_loss: 0.1366 - val_accuracy: 0.9618\n",
      "Epoch 43/50\n",
      "78/78 [==============================] - 0s 4ms/step - loss: 0.1428 - accuracy: 0.9599 - val_loss: 0.1362 - val_accuracy: 0.9619\n",
      "Epoch 44/50\n",
      "78/78 [==============================] - 0s 4ms/step - loss: 0.1424 - accuracy: 0.9602 - val_loss: 0.1359 - val_accuracy: 0.9622\n",
      "Epoch 45/50\n",
      "78/78 [==============================] - 0s 4ms/step - loss: 0.1421 - accuracy: 0.9604 - val_loss: 0.1355 - val_accuracy: 0.9626\n",
      "Epoch 46/50\n",
      "78/78 [==============================] - 1s 7ms/step - loss: 0.1417 - accuracy: 0.9607 - val_loss: 0.1352 - val_accuracy: 0.9629\n",
      "Epoch 47/50\n",
      "78/78 [==============================] - 0s 5ms/step - loss: 0.1414 - accuracy: 0.9608 - val_loss: 0.1349 - val_accuracy: 0.9633\n",
      "Epoch 48/50\n",
      "78/78 [==============================] - 1s 7ms/step - loss: 0.1410 - accuracy: 0.9611 - val_loss: 0.1346 - val_accuracy: 0.9635\n",
      "Epoch 49/50\n",
      "78/78 [==============================] - 1s 12ms/step - loss: 0.1407 - accuracy: 0.9615 - val_loss: 0.1342 - val_accuracy: 0.9636\n",
      "Epoch 50/50\n",
      "78/78 [==============================] - 1s 12ms/step - loss: 0.1403 - accuracy: 0.9615 - val_loss: 0.1340 - val_accuracy: 0.9642\n"
     ]
    }
   ],
   "source": [
    "model_history=classifier4.fit(X_train,y_train,validation_split=0.3,batch_size=1000,epochs=50)"
   ]
  },
  {
   "cell_type": "code",
   "execution_count": 146,
   "metadata": {
    "colab": {
     "base_uri": "https://localhost:8080/"
    },
    "id": "B4H6EXd_aFJ0",
    "outputId": "a68ad780-a111-4828-f0fc-fb30c885cab1"
   },
   "outputs": [
    {
     "name": "stdout",
     "output_type": "stream",
     "text": [
      "867/867 [==============================] - 3s 4ms/step\n"
     ]
    }
   ],
   "source": [
    "y_pred=classifier4.predict(X_test)\n",
    "y_pred= (y_pred>=0.5)"
   ]
  },
  {
   "cell_type": "code",
   "execution_count": 147,
   "metadata": {
    "colab": {
     "base_uri": "https://localhost:8080/"
    },
    "id": "2l8oNyZLaIbx",
    "outputId": "d57b31b2-19e2-46a5-ac45-83f2ff09c84b"
   },
   "outputs": [
    {
     "data": {
      "text/plain": [
       "array([[25474,   274],\n",
       "       [  763,  1203]])"
      ]
     },
     "execution_count": 147,
     "metadata": {},
     "output_type": "execute_result"
    }
   ],
   "source": [
    "cm=confusion_matrix(y_test,y_pred)\n",
    "cm"
   ]
  },
  {
   "cell_type": "code",
   "execution_count": 148,
   "metadata": {
    "colab": {
     "base_uri": "https://localhost:8080/"
    },
    "id": "UdOQGXsYaKVz",
    "outputId": "44e64e32-ec64-40e2-8723-d33108868503"
   },
   "outputs": [
    {
     "name": "stdout",
     "output_type": "stream",
     "text": [
      "0.9625820884751389\n"
     ]
    }
   ],
   "source": [
    "score=accuracy_score(y_test,y_pred)\n",
    "print(score)"
   ]
  },
  {
   "cell_type": "code",
   "execution_count": 149,
   "metadata": {
    "id": "2OT5Uno3aMV3"
   },
   "outputs": [],
   "source": [
    "res_df = pd.concat([dfs_0[3], fraud_ones])\n",
    "\n",
    "# Shuffle the rows of the concatenated DataFrame\n",
    "res_df_5 = res_df.sample(frac=1).reset_index(drop=True)"
   ]
  },
  {
   "cell_type": "code",
   "execution_count": 150,
   "metadata": {
    "colab": {
     "base_uri": "https://localhost:8080/"
    },
    "id": "k-CLEEY7aOgC",
    "outputId": "c5752a26-d084-4e10-8c53-71e6ea5172df"
   },
   "outputs": [
    {
     "data": {
      "text/plain": [
       "0         0\n",
       "1         0\n",
       "2         0\n",
       "3         0\n",
       "4         0\n",
       "         ..\n",
       "138563    0\n",
       "138564    0\n",
       "138565    0\n",
       "138566    0\n",
       "138567    0\n",
       "Name: is_fraud, Length: 138568, dtype: int64"
      ]
     },
     "execution_count": 150,
     "metadata": {},
     "output_type": "execute_result"
    }
   ],
   "source": [
    "target5=res_df_5.is_fraud\n",
    "target5"
   ]
  },
  {
   "cell_type": "code",
   "execution_count": 151,
   "metadata": {
    "id": "4KfxnJAMaSQO"
   },
   "outputs": [],
   "source": [
    "res_df_5.drop(['is_fraud'],axis=1,inplace=True)"
   ]
  },
  {
   "cell_type": "code",
   "execution_count": 152,
   "metadata": {
    "id": "j5zkRTQhaVzF"
   },
   "outputs": [],
   "source": [
    "X_train,X_test,y_train,y_test=train_test_split(res_df_5,target5,test_size=0.2,random_state=30)"
   ]
  },
  {
   "cell_type": "code",
   "execution_count": 153,
   "metadata": {
    "id": "DGR2LZLOaX1V"
   },
   "outputs": [],
   "source": [
    "sc=StandardScaler()\n",
    "X_train=sc.fit_transform(X_train)\n",
    "X_test=sc.fit_transform(X_test)"
   ]
  },
  {
   "cell_type": "code",
   "execution_count": 154,
   "metadata": {
    "id": "G-Ig9Q2oaZ0f"
   },
   "outputs": [],
   "source": [
    "classifier5=Sequential()\n",
    "classifier5.add(Dense(units=8,activation='relu'))\n",
    "classifier5.add(Dense(units=16,activation='relu'))\n",
    "classifier5.add(Dense(units=24,activation='relu'))\n",
    "classifier5.add(Dense(units=16,activation='relu'))\n",
    "classifier5.add(Dense(units=8,activation='relu'))\n",
    "classifier5.add(Dense(units=1,activation='sigmoid'))"
   ]
  },
  {
   "cell_type": "code",
   "execution_count": 155,
   "metadata": {
    "id": "fG_80xKdagnQ"
   },
   "outputs": [],
   "source": [
    "classifier5.compile(optimizer='sgd',loss='binary_crossentropy',metrics=['accuracy'])"
   ]
  },
  {
   "cell_type": "code",
   "execution_count": 156,
   "metadata": {
    "colab": {
     "base_uri": "https://localhost:8080/"
    },
    "id": "n37ScsMXajgF",
    "outputId": "0bb9fd8b-6261-425a-c59c-946089a7b34e"
   },
   "outputs": [
    {
     "name": "stdout",
     "output_type": "stream",
     "text": [
      "Epoch 1/50\n",
      "78/78 [==============================] - 3s 21ms/step - loss: 0.4564 - accuracy: 0.9261 - val_loss: 0.3422 - val_accuracy: 0.9307\n",
      "Epoch 2/50\n",
      "78/78 [==============================] - 1s 9ms/step - loss: 0.3063 - accuracy: 0.9304 - val_loss: 0.2817 - val_accuracy: 0.9307\n",
      "Epoch 3/50\n",
      "78/78 [==============================] - 1s 11ms/step - loss: 0.2714 - accuracy: 0.9304 - val_loss: 0.2600 - val_accuracy: 0.9307\n",
      "Epoch 4/50\n",
      "78/78 [==============================] - 1s 9ms/step - loss: 0.2543 - accuracy: 0.9304 - val_loss: 0.2452 - val_accuracy: 0.9307\n",
      "Epoch 5/50\n",
      "78/78 [==============================] - 0s 4ms/step - loss: 0.2416 - accuracy: 0.9304 - val_loss: 0.2336 - val_accuracy: 0.9307\n",
      "Epoch 6/50\n",
      "78/78 [==============================] - 0s 5ms/step - loss: 0.2314 - accuracy: 0.9304 - val_loss: 0.2240 - val_accuracy: 0.9307\n",
      "Epoch 7/50\n",
      "78/78 [==============================] - 0s 4ms/step - loss: 0.2226 - accuracy: 0.9304 - val_loss: 0.2153 - val_accuracy: 0.9307\n",
      "Epoch 8/50\n",
      "78/78 [==============================] - 0s 4ms/step - loss: 0.2145 - accuracy: 0.9303 - val_loss: 0.2073 - val_accuracy: 0.9306\n",
      "Epoch 9/50\n",
      "78/78 [==============================] - 0s 4ms/step - loss: 0.2075 - accuracy: 0.9302 - val_loss: 0.2008 - val_accuracy: 0.9304\n",
      "Epoch 10/50\n",
      "78/78 [==============================] - 0s 4ms/step - loss: 0.2015 - accuracy: 0.9302 - val_loss: 0.1949 - val_accuracy: 0.9303\n",
      "Epoch 11/50\n",
      "78/78 [==============================] - 0s 4ms/step - loss: 0.1958 - accuracy: 0.9302 - val_loss: 0.1890 - val_accuracy: 0.9304\n",
      "Epoch 12/50\n",
      "78/78 [==============================] - 0s 4ms/step - loss: 0.1902 - accuracy: 0.9308 - val_loss: 0.1831 - val_accuracy: 0.9329\n",
      "Epoch 13/50\n",
      "78/78 [==============================] - 0s 4ms/step - loss: 0.1847 - accuracy: 0.9354 - val_loss: 0.1776 - val_accuracy: 0.9414\n",
      "Epoch 14/50\n",
      "78/78 [==============================] - 0s 4ms/step - loss: 0.1797 - accuracy: 0.9434 - val_loss: 0.1727 - val_accuracy: 0.9483\n",
      "Epoch 15/50\n",
      "78/78 [==============================] - 0s 4ms/step - loss: 0.1751 - accuracy: 0.9501 - val_loss: 0.1683 - val_accuracy: 0.9534\n",
      "Epoch 16/50\n",
      "78/78 [==============================] - 0s 4ms/step - loss: 0.1711 - accuracy: 0.9540 - val_loss: 0.1643 - val_accuracy: 0.9560\n",
      "Epoch 17/50\n",
      "78/78 [==============================] - 0s 4ms/step - loss: 0.1675 - accuracy: 0.9554 - val_loss: 0.1609 - val_accuracy: 0.9567\n",
      "Epoch 18/50\n",
      "78/78 [==============================] - 0s 4ms/step - loss: 0.1645 - accuracy: 0.9559 - val_loss: 0.1578 - val_accuracy: 0.9571\n",
      "Epoch 19/50\n",
      "78/78 [==============================] - 0s 4ms/step - loss: 0.1617 - accuracy: 0.9561 - val_loss: 0.1551 - val_accuracy: 0.9578\n",
      "Epoch 20/50\n",
      "78/78 [==============================] - 1s 6ms/step - loss: 0.1592 - accuracy: 0.9562 - val_loss: 0.1525 - val_accuracy: 0.9576\n",
      "Epoch 21/50\n",
      "78/78 [==============================] - 0s 4ms/step - loss: 0.1569 - accuracy: 0.9562 - val_loss: 0.1502 - val_accuracy: 0.9577\n",
      "Epoch 22/50\n",
      "78/78 [==============================] - 0s 4ms/step - loss: 0.1547 - accuracy: 0.9562 - val_loss: 0.1479 - val_accuracy: 0.9575\n",
      "Epoch 23/50\n",
      "78/78 [==============================] - 0s 4ms/step - loss: 0.1527 - accuracy: 0.9562 - val_loss: 0.1459 - val_accuracy: 0.9575\n",
      "Epoch 24/50\n",
      "78/78 [==============================] - 0s 4ms/step - loss: 0.1507 - accuracy: 0.9561 - val_loss: 0.1439 - val_accuracy: 0.9578\n",
      "Epoch 25/50\n",
      "78/78 [==============================] - 0s 5ms/step - loss: 0.1489 - accuracy: 0.9560 - val_loss: 0.1421 - val_accuracy: 0.9578\n",
      "Epoch 26/50\n",
      "78/78 [==============================] - 0s 4ms/step - loss: 0.1472 - accuracy: 0.9562 - val_loss: 0.1404 - val_accuracy: 0.9582\n",
      "Epoch 27/50\n",
      "78/78 [==============================] - 0s 4ms/step - loss: 0.1456 - accuracy: 0.9568 - val_loss: 0.1388 - val_accuracy: 0.9585\n",
      "Epoch 28/50\n",
      "78/78 [==============================] - 0s 4ms/step - loss: 0.1441 - accuracy: 0.9573 - val_loss: 0.1374 - val_accuracy: 0.9591\n",
      "Epoch 29/50\n",
      "78/78 [==============================] - 0s 6ms/step - loss: 0.1427 - accuracy: 0.9577 - val_loss: 0.1361 - val_accuracy: 0.9598\n",
      "Epoch 30/50\n",
      "78/78 [==============================] - 1s 7ms/step - loss: 0.1414 - accuracy: 0.9585 - val_loss: 0.1348 - val_accuracy: 0.9604\n",
      "Epoch 31/50\n",
      "78/78 [==============================] - 0s 5ms/step - loss: 0.1402 - accuracy: 0.9590 - val_loss: 0.1337 - val_accuracy: 0.9616\n",
      "Epoch 32/50\n",
      "78/78 [==============================] - 1s 7ms/step - loss: 0.1392 - accuracy: 0.9597 - val_loss: 0.1327 - val_accuracy: 0.9624\n",
      "Epoch 33/50\n",
      "78/78 [==============================] - 1s 13ms/step - loss: 0.1382 - accuracy: 0.9604 - val_loss: 0.1317 - val_accuracy: 0.9630\n",
      "Epoch 34/50\n",
      "78/78 [==============================] - 1s 10ms/step - loss: 0.1372 - accuracy: 0.9612 - val_loss: 0.1308 - val_accuracy: 0.9637\n",
      "Epoch 35/50\n",
      "78/78 [==============================] - 1s 12ms/step - loss: 0.1363 - accuracy: 0.9621 - val_loss: 0.1300 - val_accuracy: 0.9640\n",
      "Epoch 36/50\n",
      "78/78 [==============================] - 1s 12ms/step - loss: 0.1355 - accuracy: 0.9627 - val_loss: 0.1292 - val_accuracy: 0.9647\n",
      "Epoch 37/50\n",
      "78/78 [==============================] - 1s 11ms/step - loss: 0.1347 - accuracy: 0.9635 - val_loss: 0.1285 - val_accuracy: 0.9650\n",
      "Epoch 38/50\n",
      "78/78 [==============================] - 0s 6ms/step - loss: 0.1340 - accuracy: 0.9638 - val_loss: 0.1279 - val_accuracy: 0.9655\n",
      "Epoch 39/50\n",
      "78/78 [==============================] - 0s 4ms/step - loss: 0.1333 - accuracy: 0.9643 - val_loss: 0.1273 - val_accuracy: 0.9662\n",
      "Epoch 40/50\n",
      "78/78 [==============================] - 0s 6ms/step - loss: 0.1327 - accuracy: 0.9647 - val_loss: 0.1268 - val_accuracy: 0.9666\n",
      "Epoch 41/50\n",
      "78/78 [==============================] - 0s 4ms/step - loss: 0.1322 - accuracy: 0.9654 - val_loss: 0.1263 - val_accuracy: 0.9667\n",
      "Epoch 42/50\n",
      "78/78 [==============================] - 0s 5ms/step - loss: 0.1316 - accuracy: 0.9657 - val_loss: 0.1259 - val_accuracy: 0.9670\n",
      "Epoch 43/50\n",
      "78/78 [==============================] - 0s 5ms/step - loss: 0.1312 - accuracy: 0.9661 - val_loss: 0.1254 - val_accuracy: 0.9672\n",
      "Epoch 44/50\n",
      "78/78 [==============================] - 1s 7ms/step - loss: 0.1307 - accuracy: 0.9663 - val_loss: 0.1251 - val_accuracy: 0.9677\n",
      "Epoch 45/50\n",
      "78/78 [==============================] - 1s 11ms/step - loss: 0.1303 - accuracy: 0.9666 - val_loss: 0.1247 - val_accuracy: 0.9681\n",
      "Epoch 46/50\n",
      "78/78 [==============================] - 1s 8ms/step - loss: 0.1299 - accuracy: 0.9668 - val_loss: 0.1244 - val_accuracy: 0.9682\n",
      "Epoch 47/50\n",
      "78/78 [==============================] - 1s 7ms/step - loss: 0.1296 - accuracy: 0.9670 - val_loss: 0.1240 - val_accuracy: 0.9683\n",
      "Epoch 48/50\n",
      "78/78 [==============================] - 1s 7ms/step - loss: 0.1292 - accuracy: 0.9672 - val_loss: 0.1237 - val_accuracy: 0.9688\n",
      "Epoch 49/50\n",
      "78/78 [==============================] - 1s 8ms/step - loss: 0.1289 - accuracy: 0.9674 - val_loss: 0.1235 - val_accuracy: 0.9691\n",
      "Epoch 50/50\n",
      "78/78 [==============================] - 1s 7ms/step - loss: 0.1286 - accuracy: 0.9676 - val_loss: 0.1232 - val_accuracy: 0.9691\n"
     ]
    }
   ],
   "source": [
    "model_history=classifier5.fit(X_train,y_train,validation_split=0.3,batch_size=1000,epochs=50)"
   ]
  },
  {
   "cell_type": "code",
   "execution_count": 157,
   "metadata": {
    "colab": {
     "base_uri": "https://localhost:8080/"
    },
    "id": "XDDcGH96anPL",
    "outputId": "8e736542-22c5-41da-9504-42ad948e3c5a"
   },
   "outputs": [
    {
     "name": "stdout",
     "output_type": "stream",
     "text": [
      "867/867 [==============================] - 2s 2ms/step\n"
     ]
    }
   ],
   "source": [
    "y_pred=classifier5.predict(X_test)\n",
    "y_pred= (y_pred>=0.5)"
   ]
  },
  {
   "cell_type": "code",
   "execution_count": 158,
   "metadata": {
    "colab": {
     "base_uri": "https://localhost:8080/"
    },
    "id": "smUAQJntaq2c",
    "outputId": "049ffb66-3958-43c3-84d9-036f08f0ce04"
   },
   "outputs": [
    {
     "data": {
      "text/plain": [
       "array([[25475,   290],\n",
       "       [  617,  1332]])"
      ]
     },
     "execution_count": 158,
     "metadata": {},
     "output_type": "execute_result"
    }
   ],
   "source": [
    "cm=confusion_matrix(y_test,y_pred)\n",
    "cm"
   ]
  },
  {
   "cell_type": "code",
   "execution_count": 159,
   "metadata": {
    "colab": {
     "base_uri": "https://localhost:8080/"
    },
    "id": "t5MUNdvDas8t",
    "outputId": "0091317c-b07f-47f9-b605-259c2c3d2c5f"
   },
   "outputs": [
    {
     "name": "stdout",
     "output_type": "stream",
     "text": [
      "0.9672728584830771\n"
     ]
    }
   ],
   "source": [
    "score=accuracy_score(y_test,y_pred)\n",
    "print(score)"
   ]
  },
  {
   "cell_type": "code",
   "execution_count": 160,
   "metadata": {
    "id": "y4UQ517AauhW"
   },
   "outputs": [],
   "source": [
    "res_df = pd.concat([dfs_0[4], fraud_ones])\n",
    "\n",
    "# Shuffle the rows of the concatenated DataFrame\n",
    "res_df_6 = res_df.sample(frac=1).reset_index(drop=True)"
   ]
  },
  {
   "cell_type": "code",
   "execution_count": 161,
   "metadata": {
    "colab": {
     "base_uri": "https://localhost:8080/"
    },
    "id": "bhZrQp2wawca",
    "outputId": "4d48bf63-f74d-4e19-cdab-de6db0252e1e"
   },
   "outputs": [
    {
     "data": {
      "text/plain": [
       "0         0\n",
       "1         0\n",
       "2         0\n",
       "3         0\n",
       "4         0\n",
       "         ..\n",
       "138563    0\n",
       "138564    0\n",
       "138565    0\n",
       "138566    0\n",
       "138567    0\n",
       "Name: is_fraud, Length: 138568, dtype: int64"
      ]
     },
     "execution_count": 161,
     "metadata": {},
     "output_type": "execute_result"
    }
   ],
   "source": [
    "target6=res_df_6.is_fraud\n",
    "target6"
   ]
  },
  {
   "cell_type": "code",
   "execution_count": 162,
   "metadata": {
    "id": "FTQ0SbTmazX2"
   },
   "outputs": [],
   "source": [
    "res_df_6.drop(['is_fraud'],axis=1,inplace=True)"
   ]
  },
  {
   "cell_type": "code",
   "execution_count": 163,
   "metadata": {
    "id": "uXO6rDFoa3Tx"
   },
   "outputs": [],
   "source": [
    "X_train,X_test,y_train,y_test=train_test_split(res_df_6,target6,test_size=0.2,random_state=30)"
   ]
  },
  {
   "cell_type": "code",
   "execution_count": 164,
   "metadata": {
    "id": "il-PIL5ea4_t"
   },
   "outputs": [],
   "source": [
    "sc=StandardScaler()\n",
    "X_train=sc.fit_transform(X_train)\n",
    "X_test=sc.fit_transform(X_test)"
   ]
  },
  {
   "cell_type": "code",
   "execution_count": 165,
   "metadata": {
    "id": "pKlu_kyga6wS"
   },
   "outputs": [],
   "source": [
    "classifier6=Sequential()\n",
    "classifier6.add(Dense(units=8,activation='relu'))\n",
    "classifier6.add(Dense(units=16,activation='relu'))\n",
    "classifier6.add(Dense(units=24,activation='relu'))\n",
    "classifier6.add(Dense(units=16,activation='relu'))\n",
    "classifier6.add(Dense(units=8,activation='relu'))\n",
    "classifier6.add(Dense(units=1,activation='sigmoid'))"
   ]
  },
  {
   "cell_type": "code",
   "execution_count": 166,
   "metadata": {
    "id": "bwGeC6nca_hV"
   },
   "outputs": [],
   "source": [
    "classifier6.compile(optimizer='sgd',loss='binary_crossentropy',metrics=['accuracy'])"
   ]
  },
  {
   "cell_type": "code",
   "execution_count": 167,
   "metadata": {
    "colab": {
     "base_uri": "https://localhost:8080/"
    },
    "id": "_0E1tMHSbBV6",
    "outputId": "d6676617-a9d6-4694-cc89-951b886287d9"
   },
   "outputs": [
    {
     "name": "stdout",
     "output_type": "stream",
     "text": [
      "Epoch 1/50\n",
      "78/78 [==============================] - 3s 20ms/step - loss: 0.6254 - accuracy: 0.8523 - val_loss: 0.5478 - val_accuracy: 0.9281\n",
      "Epoch 2/50\n",
      "78/78 [==============================] - 1s 10ms/step - loss: 0.4859 - accuracy: 0.9311 - val_loss: 0.4342 - val_accuracy: 0.9281\n",
      "Epoch 3/50\n",
      "78/78 [==============================] - 1s 12ms/step - loss: 0.3941 - accuracy: 0.9311 - val_loss: 0.3633 - val_accuracy: 0.9281\n",
      "Epoch 4/50\n",
      "78/78 [==============================] - 0s 5ms/step - loss: 0.3352 - accuracy: 0.9311 - val_loss: 0.3170 - val_accuracy: 0.9281\n",
      "Epoch 5/50\n",
      "78/78 [==============================] - 0s 4ms/step - loss: 0.2970 - accuracy: 0.9311 - val_loss: 0.2877 - val_accuracy: 0.9281\n",
      "Epoch 6/50\n",
      "78/78 [==============================] - 0s 4ms/step - loss: 0.2729 - accuracy: 0.9311 - val_loss: 0.2697 - val_accuracy: 0.9281\n",
      "Epoch 7/50\n",
      "78/78 [==============================] - 0s 4ms/step - loss: 0.2581 - accuracy: 0.9311 - val_loss: 0.2586 - val_accuracy: 0.9281\n",
      "Epoch 8/50\n",
      "78/78 [==============================] - 0s 4ms/step - loss: 0.2487 - accuracy: 0.9311 - val_loss: 0.2510 - val_accuracy: 0.9281\n",
      "Epoch 9/50\n",
      "78/78 [==============================] - 0s 4ms/step - loss: 0.2415 - accuracy: 0.9311 - val_loss: 0.2442 - val_accuracy: 0.9281\n",
      "Epoch 10/50\n",
      "78/78 [==============================] - 0s 4ms/step - loss: 0.2347 - accuracy: 0.9311 - val_loss: 0.2371 - val_accuracy: 0.9281\n",
      "Epoch 11/50\n",
      "78/78 [==============================] - 0s 4ms/step - loss: 0.2277 - accuracy: 0.9311 - val_loss: 0.2303 - val_accuracy: 0.9281\n",
      "Epoch 12/50\n",
      "78/78 [==============================] - 0s 4ms/step - loss: 0.2218 - accuracy: 0.9311 - val_loss: 0.2251 - val_accuracy: 0.9281\n",
      "Epoch 13/50\n",
      "78/78 [==============================] - 0s 4ms/step - loss: 0.2172 - accuracy: 0.9311 - val_loss: 0.2209 - val_accuracy: 0.9281\n",
      "Epoch 14/50\n",
      "78/78 [==============================] - 0s 4ms/step - loss: 0.2133 - accuracy: 0.9311 - val_loss: 0.2171 - val_accuracy: 0.9281\n",
      "Epoch 15/50\n",
      "78/78 [==============================] - 0s 4ms/step - loss: 0.2096 - accuracy: 0.9311 - val_loss: 0.2134 - val_accuracy: 0.9280\n",
      "Epoch 16/50\n",
      "78/78 [==============================] - 0s 4ms/step - loss: 0.2060 - accuracy: 0.9311 - val_loss: 0.2096 - val_accuracy: 0.9280\n",
      "Epoch 17/50\n",
      "78/78 [==============================] - 0s 4ms/step - loss: 0.2023 - accuracy: 0.9311 - val_loss: 0.2058 - val_accuracy: 0.9279\n",
      "Epoch 18/50\n",
      "78/78 [==============================] - 0s 4ms/step - loss: 0.1984 - accuracy: 0.9310 - val_loss: 0.2018 - val_accuracy: 0.9279\n",
      "Epoch 19/50\n",
      "78/78 [==============================] - 0s 5ms/step - loss: 0.1944 - accuracy: 0.9309 - val_loss: 0.1977 - val_accuracy: 0.9277\n",
      "Epoch 20/50\n",
      "78/78 [==============================] - 0s 4ms/step - loss: 0.1901 - accuracy: 0.9308 - val_loss: 0.1933 - val_accuracy: 0.9275\n",
      "Epoch 21/50\n",
      "78/78 [==============================] - 0s 5ms/step - loss: 0.1857 - accuracy: 0.9307 - val_loss: 0.1888 - val_accuracy: 0.9271\n",
      "Epoch 22/50\n",
      "78/78 [==============================] - 0s 4ms/step - loss: 0.1810 - accuracy: 0.9304 - val_loss: 0.1838 - val_accuracy: 0.9268\n",
      "Epoch 23/50\n",
      "78/78 [==============================] - 0s 4ms/step - loss: 0.1761 - accuracy: 0.9305 - val_loss: 0.1785 - val_accuracy: 0.9274\n",
      "Epoch 24/50\n",
      "78/78 [==============================] - 0s 4ms/step - loss: 0.1711 - accuracy: 0.9331 - val_loss: 0.1738 - val_accuracy: 0.9333\n",
      "Epoch 25/50\n",
      "78/78 [==============================] - 0s 4ms/step - loss: 0.1667 - accuracy: 0.9407 - val_loss: 0.1696 - val_accuracy: 0.9430\n",
      "Epoch 26/50\n",
      "78/78 [==============================] - 0s 4ms/step - loss: 0.1627 - accuracy: 0.9483 - val_loss: 0.1656 - val_accuracy: 0.9489\n",
      "Epoch 27/50\n",
      "78/78 [==============================] - 0s 5ms/step - loss: 0.1588 - accuracy: 0.9524 - val_loss: 0.1620 - val_accuracy: 0.9532\n",
      "Epoch 28/50\n",
      "78/78 [==============================] - 1s 8ms/step - loss: 0.1553 - accuracy: 0.9548 - val_loss: 0.1588 - val_accuracy: 0.9549\n",
      "Epoch 29/50\n",
      "78/78 [==============================] - 1s 7ms/step - loss: 0.1522 - accuracy: 0.9561 - val_loss: 0.1562 - val_accuracy: 0.9559\n",
      "Epoch 30/50\n",
      "78/78 [==============================] - 1s 7ms/step - loss: 0.1497 - accuracy: 0.9570 - val_loss: 0.1540 - val_accuracy: 0.9564\n",
      "Epoch 31/50\n",
      "78/78 [==============================] - 1s 8ms/step - loss: 0.1476 - accuracy: 0.9572 - val_loss: 0.1523 - val_accuracy: 0.9563\n",
      "Epoch 32/50\n",
      "78/78 [==============================] - 1s 10ms/step - loss: 0.1459 - accuracy: 0.9573 - val_loss: 0.1509 - val_accuracy: 0.9564\n",
      "Epoch 33/50\n",
      "78/78 [==============================] - 1s 9ms/step - loss: 0.1445 - accuracy: 0.9573 - val_loss: 0.1497 - val_accuracy: 0.9562\n",
      "Epoch 34/50\n",
      "78/78 [==============================] - 1s 10ms/step - loss: 0.1433 - accuracy: 0.9574 - val_loss: 0.1488 - val_accuracy: 0.9562\n",
      "Epoch 35/50\n",
      "78/78 [==============================] - 1s 8ms/step - loss: 0.1423 - accuracy: 0.9574 - val_loss: 0.1480 - val_accuracy: 0.9564\n",
      "Epoch 36/50\n",
      "78/78 [==============================] - 0s 6ms/step - loss: 0.1415 - accuracy: 0.9576 - val_loss: 0.1473 - val_accuracy: 0.9567\n",
      "Epoch 37/50\n",
      "78/78 [==============================] - 0s 6ms/step - loss: 0.1408 - accuracy: 0.9577 - val_loss: 0.1467 - val_accuracy: 0.9574\n",
      "Epoch 38/50\n",
      "78/78 [==============================] - 0s 5ms/step - loss: 0.1402 - accuracy: 0.9581 - val_loss: 0.1461 - val_accuracy: 0.9578\n",
      "Epoch 39/50\n",
      "78/78 [==============================] - 0s 4ms/step - loss: 0.1396 - accuracy: 0.9585 - val_loss: 0.1456 - val_accuracy: 0.9583\n",
      "Epoch 40/50\n",
      "78/78 [==============================] - 0s 4ms/step - loss: 0.1391 - accuracy: 0.9591 - val_loss: 0.1451 - val_accuracy: 0.9588\n",
      "Epoch 41/50\n",
      "78/78 [==============================] - 0s 4ms/step - loss: 0.1386 - accuracy: 0.9596 - val_loss: 0.1447 - val_accuracy: 0.9594\n",
      "Epoch 42/50\n",
      "78/78 [==============================] - 0s 4ms/step - loss: 0.1381 - accuracy: 0.9605 - val_loss: 0.1443 - val_accuracy: 0.9601\n",
      "Epoch 43/50\n",
      "78/78 [==============================] - 0s 4ms/step - loss: 0.1377 - accuracy: 0.9610 - val_loss: 0.1439 - val_accuracy: 0.9609\n",
      "Epoch 44/50\n",
      "78/78 [==============================] - 0s 4ms/step - loss: 0.1373 - accuracy: 0.9618 - val_loss: 0.1436 - val_accuracy: 0.9616\n",
      "Epoch 45/50\n",
      "78/78 [==============================] - 0s 4ms/step - loss: 0.1370 - accuracy: 0.9622 - val_loss: 0.1432 - val_accuracy: 0.9624\n",
      "Epoch 46/50\n",
      "78/78 [==============================] - 0s 4ms/step - loss: 0.1366 - accuracy: 0.9629 - val_loss: 0.1429 - val_accuracy: 0.9629\n",
      "Epoch 47/50\n",
      "78/78 [==============================] - 0s 4ms/step - loss: 0.1363 - accuracy: 0.9633 - val_loss: 0.1426 - val_accuracy: 0.9634\n",
      "Epoch 48/50\n",
      "78/78 [==============================] - 0s 4ms/step - loss: 0.1360 - accuracy: 0.9638 - val_loss: 0.1423 - val_accuracy: 0.9638\n",
      "Epoch 49/50\n",
      "78/78 [==============================] - 0s 4ms/step - loss: 0.1357 - accuracy: 0.9641 - val_loss: 0.1420 - val_accuracy: 0.9642\n",
      "Epoch 50/50\n",
      "78/78 [==============================] - 0s 4ms/step - loss: 0.1354 - accuracy: 0.9645 - val_loss: 0.1418 - val_accuracy: 0.9647\n"
     ]
    }
   ],
   "source": [
    "model_history=classifier6.fit(X_train,y_train,validation_split=0.3,batch_size=1000,epochs=50)"
   ]
  },
  {
   "cell_type": "code",
   "execution_count": 168,
   "metadata": {
    "colab": {
     "base_uri": "https://localhost:8080/"
    },
    "id": "_JA7-UaibE9M",
    "outputId": "d94d1199-2ea2-47bb-f8ba-0478bfc33e34"
   },
   "outputs": [
    {
     "name": "stdout",
     "output_type": "stream",
     "text": [
      "867/867 [==============================] - 2s 2ms/step\n"
     ]
    }
   ],
   "source": [
    "y_pred=classifier6.predict(X_test)\n",
    "y_pred= (y_pred>=0.5)"
   ]
  },
  {
   "cell_type": "code",
   "execution_count": 169,
   "metadata": {
    "colab": {
     "base_uri": "https://localhost:8080/"
    },
    "id": "2R7xYYoSbL_i",
    "outputId": "cf2b6ecd-3d3b-4694-c075-eeba6fda1b00"
   },
   "outputs": [
    {
     "data": {
      "text/plain": [
       "array([[25564,   237],\n",
       "       [  694,  1219]])"
      ]
     },
     "execution_count": 169,
     "metadata": {},
     "output_type": "execute_result"
    }
   ],
   "source": [
    "cm=confusion_matrix(y_test,y_pred)\n",
    "cm"
   ]
  },
  {
   "cell_type": "code",
   "execution_count": 170,
   "metadata": {
    "colab": {
     "base_uri": "https://localhost:8080/"
    },
    "id": "6CstQmxPbQ2h",
    "outputId": "97008258-7461-4c22-c2ea-483a2bfe91d5"
   },
   "outputs": [
    {
     "name": "stdout",
     "output_type": "stream",
     "text": [
      "0.9664068701739194\n"
     ]
    }
   ],
   "source": [
    "score=accuracy_score(y_test,y_pred)\n",
    "print(score)"
   ]
  },
  {
   "cell_type": "code",
   "execution_count": 171,
   "metadata": {
    "id": "6OQ5G7ERbWJI"
   },
   "outputs": [],
   "source": [
    "res_df = pd.concat([dfs_0[5], fraud_ones])\n",
    "\n",
    "# Shuffle the rows of the concatenated DataFrame\n",
    "res_df_7 = res_df.sample(frac=1).reset_index(drop=True)"
   ]
  },
  {
   "cell_type": "code",
   "execution_count": 172,
   "metadata": {
    "colab": {
     "base_uri": "https://localhost:8080/"
    },
    "id": "kiV03sE8bYhe",
    "outputId": "5b1f5939-bb68-44a4-c631-fdbd275e6776"
   },
   "outputs": [
    {
     "data": {
      "text/plain": [
       "0         0\n",
       "1         0\n",
       "2         0\n",
       "3         1\n",
       "4         0\n",
       "         ..\n",
       "138563    0\n",
       "138564    0\n",
       "138565    0\n",
       "138566    0\n",
       "138567    0\n",
       "Name: is_fraud, Length: 138568, dtype: int64"
      ]
     },
     "execution_count": 172,
     "metadata": {},
     "output_type": "execute_result"
    }
   ],
   "source": [
    "target7=res_df_7.is_fraud\n",
    "target7"
   ]
  },
  {
   "cell_type": "code",
   "execution_count": 173,
   "metadata": {
    "id": "SjkGvQYGbboA"
   },
   "outputs": [],
   "source": [
    "res_df_7.drop(['is_fraud'],axis=1,inplace=True)"
   ]
  },
  {
   "cell_type": "code",
   "execution_count": 174,
   "metadata": {
    "id": "UAkGsRhqbh5-"
   },
   "outputs": [],
   "source": [
    "X_train,X_test,y_train,y_test=train_test_split(res_df_7,target7,test_size=0.2,random_state=30)"
   ]
  },
  {
   "cell_type": "code",
   "execution_count": 175,
   "metadata": {
    "id": "_fB7ZX39bj_S"
   },
   "outputs": [],
   "source": [
    "sc=StandardScaler()\n",
    "X_train=sc.fit_transform(X_train)\n",
    "X_test=sc.fit_transform(X_test)"
   ]
  },
  {
   "cell_type": "code",
   "execution_count": 176,
   "metadata": {
    "id": "-TZ4cbhTbl6x"
   },
   "outputs": [],
   "source": [
    "classifier7=Sequential()\n",
    "classifier7.add(Dense(units=8,activation='relu'))\n",
    "classifier7.add(Dense(units=16,activation='relu'))\n",
    "classifier7.add(Dense(units=24,activation='relu'))\n",
    "classifier7.add(Dense(units=16,activation='relu'))\n",
    "classifier7.add(Dense(units=8,activation='relu'))\n",
    "classifier7.add(Dense(units=1,activation='sigmoid'))"
   ]
  },
  {
   "cell_type": "code",
   "execution_count": 177,
   "metadata": {
    "id": "mXYaqM8gbsMK"
   },
   "outputs": [],
   "source": [
    "classifier7.compile(optimizer='sgd',loss='binary_crossentropy',metrics=['accuracy'])"
   ]
  },
  {
   "cell_type": "code",
   "execution_count": 178,
   "metadata": {
    "colab": {
     "base_uri": "https://localhost:8080/"
    },
    "id": "XL_cePxgbvDc",
    "outputId": "d40dc4db-318c-4764-9290-968bf5513bf9"
   },
   "outputs": [
    {
     "name": "stdout",
     "output_type": "stream",
     "text": [
      "Epoch 1/50\n",
      "78/78 [==============================] - 3s 11ms/step - loss: 0.6065 - accuracy: 0.7679 - val_loss: 0.4767 - val_accuracy: 0.9296\n",
      "Epoch 2/50\n",
      "78/78 [==============================] - 1s 7ms/step - loss: 0.4018 - accuracy: 0.9305 - val_loss: 0.3392 - val_accuracy: 0.9296\n",
      "Epoch 3/50\n",
      "78/78 [==============================] - 1s 6ms/step - loss: 0.3009 - accuracy: 0.9305 - val_loss: 0.2723 - val_accuracy: 0.9296\n",
      "Epoch 4/50\n",
      "78/78 [==============================] - 1s 7ms/step - loss: 0.2577 - accuracy: 0.9305 - val_loss: 0.2480 - val_accuracy: 0.9296\n",
      "Epoch 5/50\n",
      "78/78 [==============================] - 0s 5ms/step - loss: 0.2431 - accuracy: 0.9305 - val_loss: 0.2400 - val_accuracy: 0.9296\n",
      "Epoch 6/50\n",
      "78/78 [==============================] - 0s 4ms/step - loss: 0.2382 - accuracy: 0.9305 - val_loss: 0.2369 - val_accuracy: 0.9296\n",
      "Epoch 7/50\n",
      "78/78 [==============================] - 0s 4ms/step - loss: 0.2360 - accuracy: 0.9305 - val_loss: 0.2351 - val_accuracy: 0.9296\n",
      "Epoch 8/50\n",
      "78/78 [==============================] - 0s 4ms/step - loss: 0.2345 - accuracy: 0.9305 - val_loss: 0.2336 - val_accuracy: 0.9296\n",
      "Epoch 9/50\n",
      "78/78 [==============================] - 0s 4ms/step - loss: 0.2333 - accuracy: 0.9305 - val_loss: 0.2323 - val_accuracy: 0.9296\n",
      "Epoch 10/50\n",
      "78/78 [==============================] - 0s 5ms/step - loss: 0.2320 - accuracy: 0.9305 - val_loss: 0.2310 - val_accuracy: 0.9296\n",
      "Epoch 11/50\n",
      "78/78 [==============================] - 0s 4ms/step - loss: 0.2308 - accuracy: 0.9305 - val_loss: 0.2297 - val_accuracy: 0.9296\n",
      "Epoch 12/50\n",
      "78/78 [==============================] - 0s 4ms/step - loss: 0.2296 - accuracy: 0.9305 - val_loss: 0.2283 - val_accuracy: 0.9296\n",
      "Epoch 13/50\n",
      "78/78 [==============================] - 0s 4ms/step - loss: 0.2283 - accuracy: 0.9305 - val_loss: 0.2270 - val_accuracy: 0.9296\n",
      "Epoch 14/50\n",
      "78/78 [==============================] - 0s 4ms/step - loss: 0.2271 - accuracy: 0.9305 - val_loss: 0.2256 - val_accuracy: 0.9296\n",
      "Epoch 15/50\n",
      "78/78 [==============================] - 0s 4ms/step - loss: 0.2258 - accuracy: 0.9305 - val_loss: 0.2242 - val_accuracy: 0.9296\n",
      "Epoch 16/50\n",
      "78/78 [==============================] - 0s 4ms/step - loss: 0.2245 - accuracy: 0.9305 - val_loss: 0.2228 - val_accuracy: 0.9296\n",
      "Epoch 17/50\n",
      "78/78 [==============================] - 0s 5ms/step - loss: 0.2231 - accuracy: 0.9305 - val_loss: 0.2213 - val_accuracy: 0.9296\n",
      "Epoch 18/50\n",
      "78/78 [==============================] - 0s 6ms/step - loss: 0.2218 - accuracy: 0.9305 - val_loss: 0.2197 - val_accuracy: 0.9296\n",
      "Epoch 19/50\n",
      "78/78 [==============================] - 0s 4ms/step - loss: 0.2203 - accuracy: 0.9305 - val_loss: 0.2181 - val_accuracy: 0.9296\n",
      "Epoch 20/50\n",
      "78/78 [==============================] - 0s 4ms/step - loss: 0.2187 - accuracy: 0.9305 - val_loss: 0.2163 - val_accuracy: 0.9296\n",
      "Epoch 21/50\n",
      "78/78 [==============================] - 0s 5ms/step - loss: 0.2171 - accuracy: 0.9305 - val_loss: 0.2145 - val_accuracy: 0.9296\n",
      "Epoch 22/50\n",
      "78/78 [==============================] - 0s 4ms/step - loss: 0.2154 - accuracy: 0.9305 - val_loss: 0.2126 - val_accuracy: 0.9296\n",
      "Epoch 23/50\n",
      "78/78 [==============================] - 0s 4ms/step - loss: 0.2137 - accuracy: 0.9305 - val_loss: 0.2108 - val_accuracy: 0.9296\n",
      "Epoch 24/50\n",
      "78/78 [==============================] - 0s 5ms/step - loss: 0.2119 - accuracy: 0.9305 - val_loss: 0.2089 - val_accuracy: 0.9296\n",
      "Epoch 25/50\n",
      "78/78 [==============================] - 1s 7ms/step - loss: 0.2102 - accuracy: 0.9305 - val_loss: 0.2070 - val_accuracy: 0.9296\n",
      "Epoch 26/50\n",
      "78/78 [==============================] - 1s 7ms/step - loss: 0.2083 - accuracy: 0.9305 - val_loss: 0.2050 - val_accuracy: 0.9296\n",
      "Epoch 27/50\n",
      "78/78 [==============================] - 1s 7ms/step - loss: 0.2064 - accuracy: 0.9305 - val_loss: 0.2029 - val_accuracy: 0.9296\n",
      "Epoch 28/50\n",
      "78/78 [==============================] - 1s 12ms/step - loss: 0.2044 - accuracy: 0.9305 - val_loss: 0.2008 - val_accuracy: 0.9296\n",
      "Epoch 29/50\n",
      "78/78 [==============================] - 1s 13ms/step - loss: 0.2024 - accuracy: 0.9305 - val_loss: 0.1987 - val_accuracy: 0.9296\n",
      "Epoch 30/50\n",
      "78/78 [==============================] - 1s 15ms/step - loss: 0.2005 - accuracy: 0.9305 - val_loss: 0.1966 - val_accuracy: 0.9296\n",
      "Epoch 31/50\n",
      "78/78 [==============================] - 1s 7ms/step - loss: 0.1985 - accuracy: 0.9305 - val_loss: 0.1946 - val_accuracy: 0.9296\n",
      "Epoch 32/50\n",
      "78/78 [==============================] - 1s 7ms/step - loss: 0.1965 - accuracy: 0.9305 - val_loss: 0.1925 - val_accuracy: 0.9296\n",
      "Epoch 33/50\n",
      "78/78 [==============================] - 1s 7ms/step - loss: 0.1944 - accuracy: 0.9305 - val_loss: 0.1904 - val_accuracy: 0.9296\n",
      "Epoch 34/50\n",
      "78/78 [==============================] - 1s 8ms/step - loss: 0.1924 - accuracy: 0.9305 - val_loss: 0.1882 - val_accuracy: 0.9296\n",
      "Epoch 35/50\n",
      "78/78 [==============================] - 0s 4ms/step - loss: 0.1903 - accuracy: 0.9305 - val_loss: 0.1860 - val_accuracy: 0.9296\n",
      "Epoch 36/50\n",
      "78/78 [==============================] - 0s 4ms/step - loss: 0.1881 - accuracy: 0.9305 - val_loss: 0.1838 - val_accuracy: 0.9296\n",
      "Epoch 37/50\n",
      "78/78 [==============================] - 0s 5ms/step - loss: 0.1859 - accuracy: 0.9305 - val_loss: 0.1815 - val_accuracy: 0.9296\n",
      "Epoch 38/50\n",
      "78/78 [==============================] - 0s 4ms/step - loss: 0.1838 - accuracy: 0.9305 - val_loss: 0.1793 - val_accuracy: 0.9296\n",
      "Epoch 39/50\n",
      "78/78 [==============================] - 0s 4ms/step - loss: 0.1817 - accuracy: 0.9305 - val_loss: 0.1773 - val_accuracy: 0.9296\n",
      "Epoch 40/50\n",
      "78/78 [==============================] - 0s 5ms/step - loss: 0.1799 - accuracy: 0.9305 - val_loss: 0.1756 - val_accuracy: 0.9296\n",
      "Epoch 41/50\n",
      "78/78 [==============================] - 1s 7ms/step - loss: 0.1782 - accuracy: 0.9305 - val_loss: 0.1739 - val_accuracy: 0.9296\n",
      "Epoch 42/50\n",
      "78/78 [==============================] - 1s 7ms/step - loss: 0.1765 - accuracy: 0.9305 - val_loss: 0.1723 - val_accuracy: 0.9296\n",
      "Epoch 43/50\n",
      "78/78 [==============================] - 1s 7ms/step - loss: 0.1749 - accuracy: 0.9305 - val_loss: 0.1707 - val_accuracy: 0.9296\n",
      "Epoch 44/50\n",
      "78/78 [==============================] - 1s 7ms/step - loss: 0.1734 - accuracy: 0.9305 - val_loss: 0.1693 - val_accuracy: 0.9296\n",
      "Epoch 45/50\n",
      "78/78 [==============================] - 1s 7ms/step - loss: 0.1719 - accuracy: 0.9305 - val_loss: 0.1679 - val_accuracy: 0.9296\n",
      "Epoch 46/50\n",
      "78/78 [==============================] - 1s 7ms/step - loss: 0.1706 - accuracy: 0.9305 - val_loss: 0.1665 - val_accuracy: 0.9296\n",
      "Epoch 47/50\n",
      "78/78 [==============================] - 0s 4ms/step - loss: 0.1692 - accuracy: 0.9305 - val_loss: 0.1653 - val_accuracy: 0.9296\n",
      "Epoch 48/50\n",
      "78/78 [==============================] - 0s 4ms/step - loss: 0.1680 - accuracy: 0.9305 - val_loss: 0.1641 - val_accuracy: 0.9296\n",
      "Epoch 49/50\n",
      "78/78 [==============================] - 0s 4ms/step - loss: 0.1669 - accuracy: 0.9305 - val_loss: 0.1631 - val_accuracy: 0.9296\n",
      "Epoch 50/50\n",
      "78/78 [==============================] - 0s 4ms/step - loss: 0.1660 - accuracy: 0.9305 - val_loss: 0.1623 - val_accuracy: 0.9296\n"
     ]
    }
   ],
   "source": [
    "model_history=classifier7.fit(X_train,y_train,validation_split=0.3,batch_size=1000,epochs=50)"
   ]
  },
  {
   "cell_type": "code",
   "execution_count": 179,
   "metadata": {
    "colab": {
     "base_uri": "https://localhost:8080/"
    },
    "id": "JtIhf0DVbyr9",
    "outputId": "0e6180bc-8b69-49f3-8381-308720c63614"
   },
   "outputs": [
    {
     "name": "stdout",
     "output_type": "stream",
     "text": [
      "867/867 [==============================] - 2s 2ms/step\n"
     ]
    }
   ],
   "source": [
    "y_pred=classifier7.predict(X_test)\n",
    "y_pred= (y_pred>=0.5)"
   ]
  },
  {
   "cell_type": "code",
   "execution_count": 180,
   "metadata": {
    "colab": {
     "base_uri": "https://localhost:8080/"
    },
    "id": "VT3TFPfib3zx",
    "outputId": "b7e76e6a-5ee3-4abd-b68b-5ca8f7b240a2"
   },
   "outputs": [
    {
     "data": {
      "text/plain": [
       "array([[25799,     0],\n",
       "       [ 1915,     0]])"
      ]
     },
     "execution_count": 180,
     "metadata": {},
     "output_type": "execute_result"
    }
   ],
   "source": [
    "cm=confusion_matrix(y_test,y_pred)\n",
    "cm"
   ]
  },
  {
   "cell_type": "code",
   "execution_count": 181,
   "metadata": {
    "colab": {
     "base_uri": "https://localhost:8080/"
    },
    "id": "6NUqD5xlb5n2",
    "outputId": "d675fc27-2b6e-4686-ffa2-99bc6aa5b908"
   },
   "outputs": [
    {
     "name": "stdout",
     "output_type": "stream",
     "text": [
      "0.9309013494984484\n"
     ]
    }
   ],
   "source": [
    "score=accuracy_score(y_test,y_pred)\n",
    "print(score)"
   ]
  },
  {
   "cell_type": "code",
   "execution_count": 182,
   "metadata": {
    "id": "yvaAyS9eb7aR"
   },
   "outputs": [],
   "source": [
    "res_df = pd.concat([dfs_0[6], fraud_ones])\n",
    "\n",
    "# Shuffle the rows of the concatenated DataFrame\n",
    "res_df_8 = res_df.sample(frac=1).reset_index(drop=True)"
   ]
  },
  {
   "cell_type": "code",
   "execution_count": 183,
   "metadata": {
    "colab": {
     "base_uri": "https://localhost:8080/"
    },
    "id": "sQnGaqiNb9nz",
    "outputId": "0b2205d6-deff-4e9b-e141-ebe19e4e08b1"
   },
   "outputs": [
    {
     "data": {
      "text/plain": [
       "0         0\n",
       "1         0\n",
       "2         0\n",
       "3         0\n",
       "4         1\n",
       "         ..\n",
       "138563    0\n",
       "138564    0\n",
       "138565    0\n",
       "138566    0\n",
       "138567    0\n",
       "Name: is_fraud, Length: 138568, dtype: int64"
      ]
     },
     "execution_count": 183,
     "metadata": {},
     "output_type": "execute_result"
    }
   ],
   "source": [
    "target8=res_df_8.is_fraud\n",
    "target8"
   ]
  },
  {
   "cell_type": "code",
   "execution_count": 184,
   "metadata": {
    "id": "5PuVzWUecCv3"
   },
   "outputs": [],
   "source": [
    "res_df_8.drop(['is_fraud'],axis=1,inplace=True)"
   ]
  },
  {
   "cell_type": "code",
   "execution_count": 185,
   "metadata": {
    "id": "rcDTysFjcGiM"
   },
   "outputs": [],
   "source": [
    "X_train,X_test,y_train,y_test=train_test_split(res_df_8,target8,test_size=0.2,random_state=30)"
   ]
  },
  {
   "cell_type": "code",
   "execution_count": 186,
   "metadata": {
    "id": "r0lzPyMwcISZ"
   },
   "outputs": [],
   "source": [
    "sc=StandardScaler()\n",
    "X_train=sc.fit_transform(X_train)\n",
    "X_test=sc.fit_transform(X_test)"
   ]
  },
  {
   "cell_type": "code",
   "execution_count": 188,
   "metadata": {
    "id": "IzKCR4ctcJ4q"
   },
   "outputs": [],
   "source": [
    "classifier8=Sequential()\n",
    "classifier8.add(Dense(units=8,activation='relu'))\n",
    "classifier8.add(Dense(units=16,activation='relu'))\n",
    "classifier8.add(Dense(units=24,activation='relu'))\n",
    "classifier8.add(Dense(units=16,activation='relu'))\n",
    "classifier8.add(Dense(units=8,activation='relu'))\n",
    "classifier8.add(Dense(units=1,activation='sigmoid'))"
   ]
  },
  {
   "cell_type": "code",
   "execution_count": 189,
   "metadata": {
    "id": "-ZXo9GTrcLg3"
   },
   "outputs": [],
   "source": [
    "classifier8.compile(optimizer='sgd',loss='binary_crossentropy',metrics=['accuracy'])"
   ]
  },
  {
   "cell_type": "code",
   "execution_count": 190,
   "metadata": {
    "colab": {
     "base_uri": "https://localhost:8080/"
    },
    "id": "no5ucI1WcRiI",
    "outputId": "65e25d9f-657b-4f5a-b89f-e28e8903a086"
   },
   "outputs": [
    {
     "name": "stdout",
     "output_type": "stream",
     "text": [
      "Epoch 1/50\n",
      "78/78 [==============================] - 3s 13ms/step - loss: 0.5541 - accuracy: 0.8974 - val_loss: 0.4302 - val_accuracy: 0.9291\n",
      "Epoch 2/50\n",
      "78/78 [==============================] - 1s 7ms/step - loss: 0.3558 - accuracy: 0.9302 - val_loss: 0.3031 - val_accuracy: 0.9291\n",
      "Epoch 3/50\n",
      "78/78 [==============================] - 1s 8ms/step - loss: 0.2779 - accuracy: 0.9302 - val_loss: 0.2638 - val_accuracy: 0.9291\n",
      "Epoch 4/50\n",
      "78/78 [==============================] - 1s 12ms/step - loss: 0.2534 - accuracy: 0.9302 - val_loss: 0.2496 - val_accuracy: 0.9291\n",
      "Epoch 5/50\n",
      "78/78 [==============================] - 1s 13ms/step - loss: 0.2419 - accuracy: 0.9302 - val_loss: 0.2405 - val_accuracy: 0.9291\n",
      "Epoch 6/50\n",
      "78/78 [==============================] - 1s 7ms/step - loss: 0.2330 - accuracy: 0.9302 - val_loss: 0.2324 - val_accuracy: 0.9291\n",
      "Epoch 7/50\n",
      "78/78 [==============================] - 1s 7ms/step - loss: 0.2249 - accuracy: 0.9302 - val_loss: 0.2248 - val_accuracy: 0.9290\n",
      "Epoch 8/50\n",
      "78/78 [==============================] - 1s 8ms/step - loss: 0.2171 - accuracy: 0.9301 - val_loss: 0.2172 - val_accuracy: 0.9290\n",
      "Epoch 9/50\n",
      "78/78 [==============================] - 0s 5ms/step - loss: 0.2093 - accuracy: 0.9301 - val_loss: 0.2095 - val_accuracy: 0.9289\n",
      "Epoch 10/50\n",
      "78/78 [==============================] - 0s 6ms/step - loss: 0.2018 - accuracy: 0.9301 - val_loss: 0.2028 - val_accuracy: 0.9289\n",
      "Epoch 11/50\n",
      "78/78 [==============================] - 0s 4ms/step - loss: 0.1960 - accuracy: 0.9300 - val_loss: 0.1979 - val_accuracy: 0.9288\n",
      "Epoch 12/50\n",
      "78/78 [==============================] - 0s 4ms/step - loss: 0.1915 - accuracy: 0.9300 - val_loss: 0.1939 - val_accuracy: 0.9288\n",
      "Epoch 13/50\n",
      "78/78 [==============================] - 0s 4ms/step - loss: 0.1876 - accuracy: 0.9299 - val_loss: 0.1902 - val_accuracy: 0.9287\n",
      "Epoch 14/50\n",
      "78/78 [==============================] - 0s 4ms/step - loss: 0.1840 - accuracy: 0.9299 - val_loss: 0.1867 - val_accuracy: 0.9286\n",
      "Epoch 15/50\n",
      "78/78 [==============================] - 0s 4ms/step - loss: 0.1804 - accuracy: 0.9298 - val_loss: 0.1832 - val_accuracy: 0.9285\n",
      "Epoch 16/50\n",
      "78/78 [==============================] - 0s 4ms/step - loss: 0.1769 - accuracy: 0.9296 - val_loss: 0.1798 - val_accuracy: 0.9283\n",
      "Epoch 17/50\n",
      "78/78 [==============================] - 0s 4ms/step - loss: 0.1736 - accuracy: 0.9294 - val_loss: 0.1766 - val_accuracy: 0.9278\n",
      "Epoch 18/50\n",
      "78/78 [==============================] - 0s 4ms/step - loss: 0.1704 - accuracy: 0.9292 - val_loss: 0.1735 - val_accuracy: 0.9283\n",
      "Epoch 19/50\n",
      "78/78 [==============================] - 0s 4ms/step - loss: 0.1673 - accuracy: 0.9305 - val_loss: 0.1706 - val_accuracy: 0.9312\n",
      "Epoch 20/50\n",
      "78/78 [==============================] - 1s 7ms/step - loss: 0.1644 - accuracy: 0.9353 - val_loss: 0.1679 - val_accuracy: 0.9384\n",
      "Epoch 21/50\n",
      "78/78 [==============================] - 1s 10ms/step - loss: 0.1617 - accuracy: 0.9428 - val_loss: 0.1653 - val_accuracy: 0.9446\n",
      "Epoch 22/50\n",
      "78/78 [==============================] - 0s 6ms/step - loss: 0.1591 - accuracy: 0.9473 - val_loss: 0.1629 - val_accuracy: 0.9472\n",
      "Epoch 23/50\n",
      "78/78 [==============================] - 0s 6ms/step - loss: 0.1567 - accuracy: 0.9499 - val_loss: 0.1607 - val_accuracy: 0.9493\n",
      "Epoch 24/50\n",
      "78/78 [==============================] - 1s 7ms/step - loss: 0.1545 - accuracy: 0.9522 - val_loss: 0.1587 - val_accuracy: 0.9518\n",
      "Epoch 25/50\n",
      "78/78 [==============================] - 1s 7ms/step - loss: 0.1525 - accuracy: 0.9540 - val_loss: 0.1568 - val_accuracy: 0.9532\n",
      "Epoch 26/50\n",
      "78/78 [==============================] - 1s 7ms/step - loss: 0.1507 - accuracy: 0.9562 - val_loss: 0.1551 - val_accuracy: 0.9553\n",
      "Epoch 27/50\n",
      "78/78 [==============================] - 1s 7ms/step - loss: 0.1490 - accuracy: 0.9579 - val_loss: 0.1535 - val_accuracy: 0.9570\n",
      "Epoch 28/50\n",
      "78/78 [==============================] - 1s 7ms/step - loss: 0.1474 - accuracy: 0.9592 - val_loss: 0.1521 - val_accuracy: 0.9582\n",
      "Epoch 29/50\n",
      "78/78 [==============================] - 0s 6ms/step - loss: 0.1460 - accuracy: 0.9605 - val_loss: 0.1508 - val_accuracy: 0.9589\n",
      "Epoch 30/50\n",
      "78/78 [==============================] - 0s 5ms/step - loss: 0.1448 - accuracy: 0.9612 - val_loss: 0.1497 - val_accuracy: 0.9594\n",
      "Epoch 31/50\n",
      "78/78 [==============================] - 0s 4ms/step - loss: 0.1436 - accuracy: 0.9619 - val_loss: 0.1486 - val_accuracy: 0.9600\n",
      "Epoch 32/50\n",
      "78/78 [==============================] - 0s 6ms/step - loss: 0.1426 - accuracy: 0.9625 - val_loss: 0.1476 - val_accuracy: 0.9601\n",
      "Epoch 33/50\n",
      "78/78 [==============================] - 0s 6ms/step - loss: 0.1417 - accuracy: 0.9629 - val_loss: 0.1467 - val_accuracy: 0.9608\n",
      "Epoch 34/50\n",
      "78/78 [==============================] - 1s 7ms/step - loss: 0.1408 - accuracy: 0.9631 - val_loss: 0.1460 - val_accuracy: 0.9610\n",
      "Epoch 35/50\n",
      "78/78 [==============================] - 1s 8ms/step - loss: 0.1401 - accuracy: 0.9632 - val_loss: 0.1452 - val_accuracy: 0.9612\n",
      "Epoch 36/50\n",
      "78/78 [==============================] - 1s 7ms/step - loss: 0.1394 - accuracy: 0.9635 - val_loss: 0.1445 - val_accuracy: 0.9615\n",
      "Epoch 37/50\n",
      "78/78 [==============================] - 1s 7ms/step - loss: 0.1388 - accuracy: 0.9637 - val_loss: 0.1439 - val_accuracy: 0.9618\n",
      "Epoch 38/50\n",
      "78/78 [==============================] - 1s 9ms/step - loss: 0.1382 - accuracy: 0.9639 - val_loss: 0.1434 - val_accuracy: 0.9622\n",
      "Epoch 39/50\n",
      "78/78 [==============================] - 1s 8ms/step - loss: 0.1377 - accuracy: 0.9642 - val_loss: 0.1429 - val_accuracy: 0.9623\n",
      "Epoch 40/50\n",
      "78/78 [==============================] - 0s 5ms/step - loss: 0.1372 - accuracy: 0.9643 - val_loss: 0.1424 - val_accuracy: 0.9624\n",
      "Epoch 41/50\n",
      "78/78 [==============================] - 1s 6ms/step - loss: 0.1368 - accuracy: 0.9645 - val_loss: 0.1420 - val_accuracy: 0.9625\n",
      "Epoch 42/50\n",
      "78/78 [==============================] - 1s 7ms/step - loss: 0.1364 - accuracy: 0.9646 - val_loss: 0.1416 - val_accuracy: 0.9627\n",
      "Epoch 43/50\n",
      "78/78 [==============================] - 1s 7ms/step - loss: 0.1360 - accuracy: 0.9648 - val_loss: 0.1412 - val_accuracy: 0.9628\n",
      "Epoch 44/50\n",
      "78/78 [==============================] - 1s 8ms/step - loss: 0.1357 - accuracy: 0.9651 - val_loss: 0.1409 - val_accuracy: 0.9630\n",
      "Epoch 45/50\n",
      "78/78 [==============================] - 1s 7ms/step - loss: 0.1353 - accuracy: 0.9652 - val_loss: 0.1405 - val_accuracy: 0.9632\n",
      "Epoch 46/50\n",
      "78/78 [==============================] - 1s 7ms/step - loss: 0.1350 - accuracy: 0.9654 - val_loss: 0.1402 - val_accuracy: 0.9633\n",
      "Epoch 47/50\n",
      "78/78 [==============================] - 1s 12ms/step - loss: 0.1347 - accuracy: 0.9655 - val_loss: 0.1399 - val_accuracy: 0.9634\n",
      "Epoch 48/50\n",
      "78/78 [==============================] - 0s 4ms/step - loss: 0.1344 - accuracy: 0.9656 - val_loss: 0.1396 - val_accuracy: 0.9635\n",
      "Epoch 49/50\n",
      "78/78 [==============================] - 0s 4ms/step - loss: 0.1341 - accuracy: 0.9658 - val_loss: 0.1394 - val_accuracy: 0.9636\n",
      "Epoch 50/50\n",
      "78/78 [==============================] - 0s 4ms/step - loss: 0.1338 - accuracy: 0.9659 - val_loss: 0.1391 - val_accuracy: 0.9637\n"
     ]
    }
   ],
   "source": [
    "model_history=classifier8.fit(X_train,y_train,validation_split=0.3,batch_size=1000,epochs=50)"
   ]
  },
  {
   "cell_type": "code",
   "execution_count": 191,
   "metadata": {
    "colab": {
     "base_uri": "https://localhost:8080/"
    },
    "id": "3cpbnr7ucVFA",
    "outputId": "8a380fb1-c5f9-4614-81da-8a0c3a67c15a"
   },
   "outputs": [
    {
     "name": "stdout",
     "output_type": "stream",
     "text": [
      "867/867 [==============================] - 1s 2ms/step\n"
     ]
    }
   ],
   "source": [
    "y_pred=classifier8.predict(X_test)\n",
    "y_pred= (y_pred>=0.5)"
   ]
  },
  {
   "cell_type": "code",
   "execution_count": 192,
   "metadata": {
    "colab": {
     "base_uri": "https://localhost:8080/"
    },
    "id": "4RFdFWwNcYJQ",
    "outputId": "8e651715-4b14-44fa-c4e3-eb670ed88664"
   },
   "outputs": [
    {
     "data": {
      "text/plain": [
       "array([[25506,   332],\n",
       "       [  561,  1315]])"
      ]
     },
     "execution_count": 192,
     "metadata": {},
     "output_type": "execute_result"
    }
   ],
   "source": [
    "cm=confusion_matrix(y_test,y_pred)\n",
    "cm"
   ]
  },
  {
   "cell_type": "code",
   "execution_count": 193,
   "metadata": {
    "colab": {
     "base_uri": "https://localhost:8080/"
    },
    "id": "MsGoCw75caiw",
    "outputId": "48afff95-eaf8-4a77-fb19-5abb6040b1b5"
   },
   "outputs": [
    {
     "name": "stdout",
     "output_type": "stream",
     "text": [
      "0.9677780183300859\n"
     ]
    }
   ],
   "source": [
    "score=accuracy_score(y_test,y_pred)\n",
    "print(score)"
   ]
  },
  {
   "cell_type": "code",
   "execution_count": 194,
   "metadata": {
    "id": "r_nAttprcdFF"
   },
   "outputs": [],
   "source": [
    "res_df = pd.concat([dfs_0[7], fraud_ones])\n",
    "\n",
    "# Shuffle the rows of the concatenated DataFrame\n",
    "res_df_9 = res_df.sample(frac=1).reset_index(drop=True)"
   ]
  },
  {
   "cell_type": "code",
   "execution_count": 195,
   "metadata": {
    "colab": {
     "base_uri": "https://localhost:8080/"
    },
    "id": "1fS2FNCQcfch",
    "outputId": "0f2c8d3c-c528-4f5a-b1ca-f526c9159487"
   },
   "outputs": [
    {
     "data": {
      "text/plain": [
       "0         0\n",
       "1         0\n",
       "2         0\n",
       "3         0\n",
       "4         0\n",
       "         ..\n",
       "138563    0\n",
       "138564    0\n",
       "138565    0\n",
       "138566    0\n",
       "138567    0\n",
       "Name: is_fraud, Length: 138568, dtype: int64"
      ]
     },
     "execution_count": 195,
     "metadata": {},
     "output_type": "execute_result"
    }
   ],
   "source": [
    "target9=res_df_9.is_fraud\n",
    "target9"
   ]
  },
  {
   "cell_type": "code",
   "execution_count": 196,
   "metadata": {
    "id": "D1FNmXynciM6"
   },
   "outputs": [],
   "source": [
    "res_df_9.drop(['is_fraud'],axis=1,inplace=True)"
   ]
  },
  {
   "cell_type": "code",
   "execution_count": 197,
   "metadata": {
    "id": "JdKCJQz2cmAY"
   },
   "outputs": [],
   "source": [
    "X_train,X_test,y_train,y_test=train_test_split(res_df_9,target9,test_size=0.2,random_state=30)"
   ]
  },
  {
   "cell_type": "code",
   "execution_count": 198,
   "metadata": {
    "id": "8KHXn2wMcof8"
   },
   "outputs": [],
   "source": [
    "sc=StandardScaler()\n",
    "X_train=sc.fit_transform(X_train)\n",
    "X_test=sc.fit_transform(X_test)"
   ]
  },
  {
   "cell_type": "code",
   "execution_count": 199,
   "metadata": {
    "id": "07Eeq0VccqOl"
   },
   "outputs": [],
   "source": [
    "classifier9=Sequential()\n",
    "classifier9.add(Dense(units=8,activation='relu'))\n",
    "classifier9.add(Dense(units=16,activation='relu'))\n",
    "classifier9.add(Dense(units=24,activation='relu'))\n",
    "classifier9.add(Dense(units=16,activation='relu'))\n",
    "classifier9.add(Dense(units=8,activation='relu'))\n",
    "classifier9.add(Dense(units=1,activation='sigmoid'))"
   ]
  },
  {
   "cell_type": "code",
   "execution_count": 200,
   "metadata": {
    "id": "hkK9xeZ7cvt4"
   },
   "outputs": [],
   "source": [
    "classifier9.compile(optimizer='sgd',loss='binary_crossentropy',metrics=['accuracy'])"
   ]
  },
  {
   "cell_type": "code",
   "execution_count": 201,
   "metadata": {
    "colab": {
     "base_uri": "https://localhost:8080/"
    },
    "id": "oOoaVwIbcyXM",
    "outputId": "dbfc2698-ea55-4460-f087-4ca326da3154"
   },
   "outputs": [
    {
     "name": "stdout",
     "output_type": "stream",
     "text": [
      "Epoch 1/50\n",
      "78/78 [==============================] - 4s 11ms/step - loss: 0.4839 - accuracy: 0.8997 - val_loss: 0.3536 - val_accuracy: 0.9296\n",
      "Epoch 2/50\n",
      "78/78 [==============================] - 1s 7ms/step - loss: 0.2916 - accuracy: 0.9312 - val_loss: 0.2546 - val_accuracy: 0.9296\n",
      "Epoch 3/50\n",
      "78/78 [==============================] - 1s 10ms/step - loss: 0.2330 - accuracy: 0.9312 - val_loss: 0.2219 - val_accuracy: 0.9294\n",
      "Epoch 4/50\n",
      "78/78 [==============================] - 1s 7ms/step - loss: 0.2069 - accuracy: 0.9309 - val_loss: 0.2013 - val_accuracy: 0.9289\n",
      "Epoch 5/50\n",
      "78/78 [==============================] - 0s 4ms/step - loss: 0.1883 - accuracy: 0.9313 - val_loss: 0.1852 - val_accuracy: 0.9329\n",
      "Epoch 6/50\n",
      "78/78 [==============================] - 0s 5ms/step - loss: 0.1737 - accuracy: 0.9439 - val_loss: 0.1729 - val_accuracy: 0.9489\n",
      "Epoch 7/50\n",
      "78/78 [==============================] - 0s 4ms/step - loss: 0.1633 - accuracy: 0.9539 - val_loss: 0.1646 - val_accuracy: 0.9534\n",
      "Epoch 8/50\n",
      "78/78 [==============================] - 0s 4ms/step - loss: 0.1562 - accuracy: 0.9566 - val_loss: 0.1589 - val_accuracy: 0.9554\n",
      "Epoch 9/50\n",
      "78/78 [==============================] - 0s 5ms/step - loss: 0.1512 - accuracy: 0.9574 - val_loss: 0.1549 - val_accuracy: 0.9558\n",
      "Epoch 10/50\n",
      "78/78 [==============================] - 0s 4ms/step - loss: 0.1475 - accuracy: 0.9578 - val_loss: 0.1518 - val_accuracy: 0.9557\n",
      "Epoch 11/50\n",
      "78/78 [==============================] - 0s 4ms/step - loss: 0.1447 - accuracy: 0.9580 - val_loss: 0.1495 - val_accuracy: 0.9559\n",
      "Epoch 12/50\n",
      "78/78 [==============================] - 0s 4ms/step - loss: 0.1426 - accuracy: 0.9582 - val_loss: 0.1478 - val_accuracy: 0.9560\n",
      "Epoch 13/50\n",
      "78/78 [==============================] - 0s 4ms/step - loss: 0.1409 - accuracy: 0.9588 - val_loss: 0.1464 - val_accuracy: 0.9565\n",
      "Epoch 14/50\n",
      "78/78 [==============================] - 0s 4ms/step - loss: 0.1396 - accuracy: 0.9591 - val_loss: 0.1452 - val_accuracy: 0.9574\n",
      "Epoch 15/50\n",
      "78/78 [==============================] - 0s 4ms/step - loss: 0.1384 - accuracy: 0.9600 - val_loss: 0.1443 - val_accuracy: 0.9583\n",
      "Epoch 16/50\n",
      "78/78 [==============================] - 0s 4ms/step - loss: 0.1374 - accuracy: 0.9610 - val_loss: 0.1434 - val_accuracy: 0.9590\n",
      "Epoch 17/50\n",
      "78/78 [==============================] - 0s 4ms/step - loss: 0.1366 - accuracy: 0.9616 - val_loss: 0.1427 - val_accuracy: 0.9600\n",
      "Epoch 18/50\n",
      "78/78 [==============================] - 0s 4ms/step - loss: 0.1358 - accuracy: 0.9626 - val_loss: 0.1420 - val_accuracy: 0.9607\n",
      "Epoch 19/50\n",
      "78/78 [==============================] - 0s 4ms/step - loss: 0.1351 - accuracy: 0.9633 - val_loss: 0.1414 - val_accuracy: 0.9615\n",
      "Epoch 20/50\n",
      "78/78 [==============================] - 0s 4ms/step - loss: 0.1345 - accuracy: 0.9641 - val_loss: 0.1408 - val_accuracy: 0.9621\n",
      "Epoch 21/50\n",
      "78/78 [==============================] - 0s 5ms/step - loss: 0.1339 - accuracy: 0.9646 - val_loss: 0.1403 - val_accuracy: 0.9630\n",
      "Epoch 22/50\n",
      "78/78 [==============================] - 0s 4ms/step - loss: 0.1334 - accuracy: 0.9652 - val_loss: 0.1398 - val_accuracy: 0.9634\n",
      "Epoch 23/50\n",
      "78/78 [==============================] - 0s 6ms/step - loss: 0.1328 - accuracy: 0.9658 - val_loss: 0.1393 - val_accuracy: 0.9638\n",
      "Epoch 24/50\n",
      "78/78 [==============================] - 1s 7ms/step - loss: 0.1324 - accuracy: 0.9661 - val_loss: 0.1389 - val_accuracy: 0.9643\n",
      "Epoch 25/50\n",
      "78/78 [==============================] - 1s 7ms/step - loss: 0.1319 - accuracy: 0.9666 - val_loss: 0.1385 - val_accuracy: 0.9645\n",
      "Epoch 26/50\n",
      "78/78 [==============================] - 1s 7ms/step - loss: 0.1315 - accuracy: 0.9668 - val_loss: 0.1381 - val_accuracy: 0.9648\n",
      "Epoch 27/50\n",
      "78/78 [==============================] - 1s 7ms/step - loss: 0.1311 - accuracy: 0.9672 - val_loss: 0.1377 - val_accuracy: 0.9652\n",
      "Epoch 28/50\n",
      "78/78 [==============================] - 1s 7ms/step - loss: 0.1307 - accuracy: 0.9676 - val_loss: 0.1373 - val_accuracy: 0.9654\n",
      "Epoch 29/50\n",
      "78/78 [==============================] - 0s 6ms/step - loss: 0.1303 - accuracy: 0.9678 - val_loss: 0.1370 - val_accuracy: 0.9655\n",
      "Epoch 30/50\n",
      "78/78 [==============================] - 0s 4ms/step - loss: 0.1299 - accuracy: 0.9679 - val_loss: 0.1366 - val_accuracy: 0.9658\n",
      "Epoch 31/50\n",
      "78/78 [==============================] - 0s 4ms/step - loss: 0.1296 - accuracy: 0.9682 - val_loss: 0.1363 - val_accuracy: 0.9659\n",
      "Epoch 32/50\n",
      "78/78 [==============================] - 0s 4ms/step - loss: 0.1293 - accuracy: 0.9683 - val_loss: 0.1360 - val_accuracy: 0.9661\n",
      "Epoch 33/50\n",
      "78/78 [==============================] - 0s 4ms/step - loss: 0.1290 - accuracy: 0.9685 - val_loss: 0.1358 - val_accuracy: 0.9662\n",
      "Epoch 34/50\n",
      "78/78 [==============================] - 0s 4ms/step - loss: 0.1287 - accuracy: 0.9685 - val_loss: 0.1355 - val_accuracy: 0.9663\n",
      "Epoch 35/50\n",
      "78/78 [==============================] - 0s 5ms/step - loss: 0.1284 - accuracy: 0.9686 - val_loss: 0.1352 - val_accuracy: 0.9664\n",
      "Epoch 36/50\n",
      "78/78 [==============================] - 0s 4ms/step - loss: 0.1281 - accuracy: 0.9687 - val_loss: 0.1350 - val_accuracy: 0.9664\n",
      "Epoch 37/50\n",
      "78/78 [==============================] - 0s 4ms/step - loss: 0.1279 - accuracy: 0.9689 - val_loss: 0.1348 - val_accuracy: 0.9665\n",
      "Epoch 38/50\n",
      "78/78 [==============================] - 0s 4ms/step - loss: 0.1276 - accuracy: 0.9689 - val_loss: 0.1345 - val_accuracy: 0.9665\n",
      "Epoch 39/50\n",
      "78/78 [==============================] - 0s 4ms/step - loss: 0.1274 - accuracy: 0.9690 - val_loss: 0.1343 - val_accuracy: 0.9666\n",
      "Epoch 40/50\n",
      "78/78 [==============================] - 0s 4ms/step - loss: 0.1271 - accuracy: 0.9691 - val_loss: 0.1341 - val_accuracy: 0.9670\n",
      "Epoch 41/50\n",
      "78/78 [==============================] - 0s 4ms/step - loss: 0.1269 - accuracy: 0.9694 - val_loss: 0.1339 - val_accuracy: 0.9670\n",
      "Epoch 42/50\n",
      "78/78 [==============================] - 0s 4ms/step - loss: 0.1266 - accuracy: 0.9693 - val_loss: 0.1336 - val_accuracy: 0.9671\n",
      "Epoch 43/50\n",
      "78/78 [==============================] - 0s 4ms/step - loss: 0.1264 - accuracy: 0.9695 - val_loss: 0.1334 - val_accuracy: 0.9671\n",
      "Epoch 44/50\n",
      "78/78 [==============================] - 0s 4ms/step - loss: 0.1262 - accuracy: 0.9696 - val_loss: 0.1332 - val_accuracy: 0.9673\n",
      "Epoch 45/50\n",
      "78/78 [==============================] - 0s 4ms/step - loss: 0.1260 - accuracy: 0.9697 - val_loss: 0.1330 - val_accuracy: 0.9674\n",
      "Epoch 46/50\n",
      "78/78 [==============================] - 0s 4ms/step - loss: 0.1258 - accuracy: 0.9699 - val_loss: 0.1328 - val_accuracy: 0.9675\n",
      "Epoch 47/50\n",
      "78/78 [==============================] - 0s 4ms/step - loss: 0.1256 - accuracy: 0.9699 - val_loss: 0.1326 - val_accuracy: 0.9676\n",
      "Epoch 48/50\n",
      "78/78 [==============================] - 0s 5ms/step - loss: 0.1254 - accuracy: 0.9700 - val_loss: 0.1325 - val_accuracy: 0.9677\n",
      "Epoch 49/50\n",
      "78/78 [==============================] - 1s 7ms/step - loss: 0.1252 - accuracy: 0.9701 - val_loss: 0.1323 - val_accuracy: 0.9677\n",
      "Epoch 50/50\n",
      "78/78 [==============================] - 1s 8ms/step - loss: 0.1250 - accuracy: 0.9701 - val_loss: 0.1321 - val_accuracy: 0.9678\n"
     ]
    }
   ],
   "source": [
    "model_history=classifier9.fit(X_train,y_train,validation_split=0.3,batch_size=1000,epochs=50)"
   ]
  },
  {
   "cell_type": "code",
   "execution_count": 202,
   "metadata": {
    "colab": {
     "base_uri": "https://localhost:8080/"
    },
    "id": "cG8kBqDIc2Th",
    "outputId": "8201f0de-78a4-474f-cfe0-d27e0278088e"
   },
   "outputs": [
    {
     "name": "stdout",
     "output_type": "stream",
     "text": [
      "867/867 [==============================] - 3s 3ms/step\n"
     ]
    }
   ],
   "source": [
    "y_pred=classifier9.predict(X_test)\n",
    "y_pred= (y_pred>=0.5)"
   ]
  },
  {
   "cell_type": "code",
   "execution_count": 203,
   "metadata": {
    "colab": {
     "base_uri": "https://localhost:8080/"
    },
    "id": "TiswHsoPc7wY",
    "outputId": "6495c0d5-352a-46ea-c67e-1811b4d8af45"
   },
   "outputs": [
    {
     "data": {
      "text/plain": [
       "array([[25525,   218],\n",
       "       [  680,  1291]])"
      ]
     },
     "execution_count": 203,
     "metadata": {},
     "output_type": "execute_result"
    }
   ],
   "source": [
    "cm=confusion_matrix(y_test,y_pred)\n",
    "cm"
   ]
  },
  {
   "cell_type": "code",
   "execution_count": 204,
   "metadata": {
    "colab": {
     "base_uri": "https://localhost:8080/"
    },
    "id": "5JeUuT06c9mZ",
    "outputId": "8ba67560-28f9-496f-ee98-266479f2c966"
   },
   "outputs": [
    {
     "name": "stdout",
     "output_type": "stream",
     "text": [
      "0.9675976040990113\n"
     ]
    }
   ],
   "source": [
    "score=accuracy_score(y_test,y_pred)\n",
    "print(score)"
   ]
  },
  {
   "cell_type": "code",
   "execution_count": 205,
   "metadata": {
    "id": "22oQt0Nxc_nV"
   },
   "outputs": [],
   "source": [
    "res_df = pd.concat([dfs_0[8], fraud_ones])\n",
    "\n",
    "# Shuffle the rows of the concatenated DataFrame\n",
    "res_df_10 = res_df.sample(frac=1).reset_index(drop=True)"
   ]
  },
  {
   "cell_type": "code",
   "execution_count": 206,
   "metadata": {
    "colab": {
     "base_uri": "https://localhost:8080/"
    },
    "id": "P--QyKetdc5N",
    "outputId": "f1779ed7-3664-4539-ba37-f12b16a2546f"
   },
   "outputs": [
    {
     "data": {
      "text/plain": [
       "0         0\n",
       "1         0\n",
       "2         0\n",
       "3         0\n",
       "4         0\n",
       "         ..\n",
       "138563    0\n",
       "138564    0\n",
       "138565    0\n",
       "138566    0\n",
       "138567    0\n",
       "Name: is_fraud, Length: 138568, dtype: int64"
      ]
     },
     "execution_count": 206,
     "metadata": {},
     "output_type": "execute_result"
    }
   ],
   "source": [
    "target10=res_df_10.is_fraud\n",
    "target10"
   ]
  },
  {
   "cell_type": "code",
   "execution_count": 207,
   "metadata": {
    "id": "gd8CcMBydg0d"
   },
   "outputs": [],
   "source": [
    "res_df_10.drop(['is_fraud'],axis=1,inplace=True)"
   ]
  },
  {
   "cell_type": "code",
   "execution_count": 208,
   "metadata": {
    "id": "mbuyT6kvdlSH"
   },
   "outputs": [],
   "source": [
    "X_train,X_test,y_train,y_test=train_test_split(res_df_10,target10,test_size=0.2,random_state=30)"
   ]
  },
  {
   "cell_type": "code",
   "execution_count": 209,
   "metadata": {
    "id": "db_0rV-NdoBY"
   },
   "outputs": [],
   "source": [
    "sc=StandardScaler()\n",
    "X_train=sc.fit_transform(X_train)\n",
    "X_test=sc.fit_transform(X_test)"
   ]
  },
  {
   "cell_type": "code",
   "execution_count": 210,
   "metadata": {
    "id": "undaauTUdsm8"
   },
   "outputs": [],
   "source": [
    "classifier10=Sequential()\n",
    "classifier10.add(Dense(units=8,activation='relu'))\n",
    "classifier10.add(Dense(units=16,activation='relu'))\n",
    "classifier10.add(Dense(units=24,activation='relu'))\n",
    "classifier10.add(Dense(units=16,activation='relu'))\n",
    "classifier10.add(Dense(units=8,activation='relu'))\n",
    "classifier10.add(Dense(units=1,activation='sigmoid'))"
   ]
  },
  {
   "cell_type": "code",
   "execution_count": 211,
   "metadata": {
    "id": "cUBU4bmkd4z0"
   },
   "outputs": [],
   "source": [
    "classifier10.compile(optimizer='sgd',loss='binary_crossentropy',metrics=['accuracy'])"
   ]
  },
  {
   "cell_type": "code",
   "execution_count": 212,
   "metadata": {
    "colab": {
     "base_uri": "https://localhost:8080/"
    },
    "id": "rhj-mMZ0eBdM",
    "outputId": "a525003f-cf61-4245-ab29-5e51c75ed413"
   },
   "outputs": [
    {
     "name": "stdout",
     "output_type": "stream",
     "text": [
      "Epoch 1/50\n",
      "78/78 [==============================] - 2s 12ms/step - loss: 0.5945 - accuracy: 0.8819 - val_loss: 0.5032 - val_accuracy: 0.9293\n",
      "Epoch 2/50\n",
      "78/78 [==============================] - 1s 8ms/step - loss: 0.4349 - accuracy: 0.9305 - val_loss: 0.3745 - val_accuracy: 0.9293\n",
      "Epoch 3/50\n",
      "78/78 [==============================] - 1s 8ms/step - loss: 0.3307 - accuracy: 0.9305 - val_loss: 0.2981 - val_accuracy: 0.9293\n",
      "Epoch 4/50\n",
      "78/78 [==============================] - 1s 7ms/step - loss: 0.2762 - accuracy: 0.9305 - val_loss: 0.2635 - val_accuracy: 0.9293\n",
      "Epoch 5/50\n",
      "78/78 [==============================] - 0s 4ms/step - loss: 0.2524 - accuracy: 0.9305 - val_loss: 0.2482 - val_accuracy: 0.9293\n",
      "Epoch 6/50\n",
      "78/78 [==============================] - 0s 4ms/step - loss: 0.2405 - accuracy: 0.9305 - val_loss: 0.2389 - val_accuracy: 0.9293\n",
      "Epoch 7/50\n",
      "78/78 [==============================] - 0s 4ms/step - loss: 0.2320 - accuracy: 0.9305 - val_loss: 0.2307 - val_accuracy: 0.9293\n",
      "Epoch 8/50\n",
      "78/78 [==============================] - 0s 5ms/step - loss: 0.2238 - accuracy: 0.9305 - val_loss: 0.2224 - val_accuracy: 0.9292\n",
      "Epoch 9/50\n",
      "78/78 [==============================] - 0s 5ms/step - loss: 0.2158 - accuracy: 0.9304 - val_loss: 0.2144 - val_accuracy: 0.9292\n",
      "Epoch 10/50\n",
      "78/78 [==============================] - 1s 6ms/step - loss: 0.2080 - accuracy: 0.9303 - val_loss: 0.2059 - val_accuracy: 0.9290\n",
      "Epoch 11/50\n",
      "78/78 [==============================] - 1s 7ms/step - loss: 0.1985 - accuracy: 0.9302 - val_loss: 0.1949 - val_accuracy: 0.9287\n",
      "Epoch 12/50\n",
      "78/78 [==============================] - 1s 7ms/step - loss: 0.1879 - accuracy: 0.9299 - val_loss: 0.1851 - val_accuracy: 0.9284\n",
      "Epoch 13/50\n",
      "78/78 [==============================] - 1s 6ms/step - loss: 0.1794 - accuracy: 0.9296 - val_loss: 0.1768 - val_accuracy: 0.9298\n",
      "Epoch 14/50\n",
      "78/78 [==============================] - 1s 7ms/step - loss: 0.1718 - accuracy: 0.9379 - val_loss: 0.1695 - val_accuracy: 0.9450\n",
      "Epoch 15/50\n",
      "78/78 [==============================] - 1s 8ms/step - loss: 0.1659 - accuracy: 0.9513 - val_loss: 0.1643 - val_accuracy: 0.9538\n",
      "Epoch 16/50\n",
      "78/78 [==============================] - 1s 7ms/step - loss: 0.1614 - accuracy: 0.9567 - val_loss: 0.1598 - val_accuracy: 0.9561\n",
      "Epoch 17/50\n",
      "78/78 [==============================] - 0s 5ms/step - loss: 0.1575 - accuracy: 0.9576 - val_loss: 0.1559 - val_accuracy: 0.9558\n",
      "Epoch 18/50\n",
      "78/78 [==============================] - 0s 5ms/step - loss: 0.1543 - accuracy: 0.9568 - val_loss: 0.1527 - val_accuracy: 0.9552\n",
      "Epoch 19/50\n",
      "78/78 [==============================] - 0s 6ms/step - loss: 0.1517 - accuracy: 0.9560 - val_loss: 0.1501 - val_accuracy: 0.9546\n",
      "Epoch 20/50\n",
      "78/78 [==============================] - 0s 6ms/step - loss: 0.1497 - accuracy: 0.9556 - val_loss: 0.1481 - val_accuracy: 0.9543\n",
      "Epoch 21/50\n",
      "78/78 [==============================] - 0s 6ms/step - loss: 0.1481 - accuracy: 0.9550 - val_loss: 0.1465 - val_accuracy: 0.9540\n",
      "Epoch 22/50\n",
      "78/78 [==============================] - 1s 6ms/step - loss: 0.1468 - accuracy: 0.9548 - val_loss: 0.1453 - val_accuracy: 0.9538\n",
      "Epoch 23/50\n",
      "78/78 [==============================] - 0s 5ms/step - loss: 0.1458 - accuracy: 0.9548 - val_loss: 0.1442 - val_accuracy: 0.9536\n",
      "Epoch 24/50\n",
      "78/78 [==============================] - 0s 5ms/step - loss: 0.1449 - accuracy: 0.9549 - val_loss: 0.1433 - val_accuracy: 0.9536\n",
      "Epoch 25/50\n",
      "78/78 [==============================] - 0s 5ms/step - loss: 0.1441 - accuracy: 0.9548 - val_loss: 0.1425 - val_accuracy: 0.9539\n",
      "Epoch 26/50\n",
      "78/78 [==============================] - 0s 6ms/step - loss: 0.1435 - accuracy: 0.9551 - val_loss: 0.1418 - val_accuracy: 0.9541\n",
      "Epoch 27/50\n",
      "78/78 [==============================] - 0s 5ms/step - loss: 0.1428 - accuracy: 0.9553 - val_loss: 0.1412 - val_accuracy: 0.9544\n",
      "Epoch 28/50\n",
      "78/78 [==============================] - 0s 5ms/step - loss: 0.1422 - accuracy: 0.9556 - val_loss: 0.1406 - val_accuracy: 0.9547\n",
      "Epoch 29/50\n",
      "78/78 [==============================] - 0s 5ms/step - loss: 0.1417 - accuracy: 0.9559 - val_loss: 0.1400 - val_accuracy: 0.9550\n",
      "Epoch 30/50\n",
      "78/78 [==============================] - 0s 4ms/step - loss: 0.1411 - accuracy: 0.9563 - val_loss: 0.1395 - val_accuracy: 0.9553\n",
      "Epoch 31/50\n",
      "78/78 [==============================] - 1s 7ms/step - loss: 0.1407 - accuracy: 0.9565 - val_loss: 0.1390 - val_accuracy: 0.9557\n",
      "Epoch 32/50\n",
      "78/78 [==============================] - 1s 6ms/step - loss: 0.1402 - accuracy: 0.9569 - val_loss: 0.1385 - val_accuracy: 0.9564\n",
      "Epoch 33/50\n",
      "78/78 [==============================] - 1s 8ms/step - loss: 0.1397 - accuracy: 0.9573 - val_loss: 0.1381 - val_accuracy: 0.9566\n",
      "Epoch 34/50\n",
      "78/78 [==============================] - 1s 7ms/step - loss: 0.1393 - accuracy: 0.9577 - val_loss: 0.1376 - val_accuracy: 0.9569\n",
      "Epoch 35/50\n",
      "78/78 [==============================] - 1s 8ms/step - loss: 0.1388 - accuracy: 0.9580 - val_loss: 0.1372 - val_accuracy: 0.9572\n",
      "Epoch 36/50\n",
      "78/78 [==============================] - 1s 8ms/step - loss: 0.1384 - accuracy: 0.9585 - val_loss: 0.1367 - val_accuracy: 0.9575\n",
      "Epoch 37/50\n",
      "78/78 [==============================] - 1s 8ms/step - loss: 0.1380 - accuracy: 0.9591 - val_loss: 0.1363 - val_accuracy: 0.9581\n",
      "Epoch 38/50\n",
      "78/78 [==============================] - 1s 12ms/step - loss: 0.1376 - accuracy: 0.9596 - val_loss: 0.1359 - val_accuracy: 0.9585\n",
      "Epoch 39/50\n",
      "78/78 [==============================] - 1s 12ms/step - loss: 0.1372 - accuracy: 0.9598 - val_loss: 0.1355 - val_accuracy: 0.9591\n",
      "Epoch 40/50\n",
      "78/78 [==============================] - 2s 23ms/step - loss: 0.1368 - accuracy: 0.9605 - val_loss: 0.1351 - val_accuracy: 0.9597\n",
      "Epoch 41/50\n",
      "78/78 [==============================] - 1s 7ms/step - loss: 0.1364 - accuracy: 0.9610 - val_loss: 0.1347 - val_accuracy: 0.9602\n",
      "Epoch 42/50\n",
      "78/78 [==============================] - 0s 5ms/step - loss: 0.1360 - accuracy: 0.9615 - val_loss: 0.1343 - val_accuracy: 0.9605\n",
      "Epoch 43/50\n",
      "78/78 [==============================] - 1s 7ms/step - loss: 0.1357 - accuracy: 0.9619 - val_loss: 0.1340 - val_accuracy: 0.9612\n",
      "Epoch 44/50\n",
      "78/78 [==============================] - 1s 7ms/step - loss: 0.1353 - accuracy: 0.9623 - val_loss: 0.1336 - val_accuracy: 0.9618\n",
      "Epoch 45/50\n",
      "78/78 [==============================] - 0s 5ms/step - loss: 0.1349 - accuracy: 0.9628 - val_loss: 0.1332 - val_accuracy: 0.9625\n",
      "Epoch 46/50\n",
      "78/78 [==============================] - 1s 8ms/step - loss: 0.1346 - accuracy: 0.9633 - val_loss: 0.1328 - val_accuracy: 0.9632\n",
      "Epoch 47/50\n",
      "78/78 [==============================] - 1s 8ms/step - loss: 0.1342 - accuracy: 0.9637 - val_loss: 0.1325 - val_accuracy: 0.9637\n",
      "Epoch 48/50\n",
      "78/78 [==============================] - 1s 8ms/step - loss: 0.1339 - accuracy: 0.9643 - val_loss: 0.1321 - val_accuracy: 0.9642\n",
      "Epoch 49/50\n",
      "78/78 [==============================] - 1s 7ms/step - loss: 0.1335 - accuracy: 0.9648 - val_loss: 0.1318 - val_accuracy: 0.9644\n",
      "Epoch 50/50\n",
      "78/78 [==============================] - 0s 6ms/step - loss: 0.1332 - accuracy: 0.9652 - val_loss: 0.1314 - val_accuracy: 0.9646\n"
     ]
    }
   ],
   "source": [
    "model_history=classifier10.fit(X_train,y_train,validation_split=0.3,batch_size=1000,epochs=50)"
   ]
  },
  {
   "cell_type": "code",
   "execution_count": 213,
   "metadata": {
    "colab": {
     "base_uri": "https://localhost:8080/"
    },
    "id": "0Ds45QRQeFSt",
    "outputId": "2656fb46-8eb1-404b-dd2d-9b7f53c70907"
   },
   "outputs": [
    {
     "name": "stdout",
     "output_type": "stream",
     "text": [
      "867/867 [==============================] - 2s 2ms/step\n"
     ]
    }
   ],
   "source": [
    "y_pred=classifier10.predict(X_test)\n",
    "y_pred= (y_pred>=0.5)"
   ]
  },
  {
   "cell_type": "code",
   "execution_count": 214,
   "metadata": {
    "colab": {
     "base_uri": "https://localhost:8080/"
    },
    "id": "u6jMhRE6eJba",
    "outputId": "774aa195-657f-449e-d169-55eda831815e"
   },
   "outputs": [
    {
     "data": {
      "text/plain": [
       "array([[25522,   289],\n",
       "       [  652,  1251]])"
      ]
     },
     "execution_count": 214,
     "metadata": {},
     "output_type": "execute_result"
    }
   ],
   "source": [
    "cm=confusion_matrix(y_test,y_pred)\n",
    "cm"
   ]
  },
  {
   "cell_type": "code",
   "execution_count": 215,
   "metadata": {
    "colab": {
     "base_uri": "https://localhost:8080/"
    },
    "id": "yCRi3f7UeLns",
    "outputId": "4716291a-ebea-42ba-87dd-4e3987433ced"
   },
   "outputs": [
    {
     "name": "stdout",
     "output_type": "stream",
     "text": [
      "0.9660460417117702\n"
     ]
    }
   ],
   "source": [
    "score=accuracy_score(y_test,y_pred)\n",
    "print(score)"
   ]
  },
  {
   "cell_type": "code",
   "execution_count": 217,
   "metadata": {
    "id": "PgYlJFUygqL1"
   },
   "outputs": [],
   "source": [
    "from sklearn.cluster import KMeans"
   ]
  },
  {
   "cell_type": "code",
   "execution_count": 218,
   "metadata": {
    "id": "ya0KpythiUYx"
   },
   "outputs": [],
   "source": [
    "# Create an elbow plot to find the best number of cluster\n",
    "X = cc_df[['category', 'amt']].to_numpy()\n",
    "wcse = []\n",
    "for i in range(1, 11):\n",
    "    kmeans = KMeans(n_clusters=i, random_state=42, n_init='auto')\n",
    "    kmeans.fit(X)\n",
    "    wcse.append(kmeans.inertia_)"
   ]
  },
  {
   "cell_type": "code",
   "execution_count": 219,
   "metadata": {
    "id": "wXjN6V4mizzL"
   },
   "outputs": [],
   "source": [
    "import seaborn as sns"
   ]
  },
  {
   "cell_type": "code",
   "execution_count": 220,
   "metadata": {
    "colab": {
     "base_uri": "https://localhost:8080/",
     "height": 462
    },
    "id": "mXMwkAk1i49D",
    "outputId": "f39f2699-187e-4b40-ce02-764db96469fd"
   },
   "outputs": [
    {
     "data": {
      "text/plain": [
       "<Axes: >"
      ]
     },
     "execution_count": 220,
     "metadata": {},
     "output_type": "execute_result"
    },
    {
     "data": {
      "image/png": "[encoded data removed]",
      "text/plain": [
       "<Figure size 640x480 with 1 Axes>"
      ]
     },
     "metadata": {},
     "output_type": "display_data"
    }
   ],
   "source": [
    "sns.lineplot(x=range(1, 11), y=wcse, marker='o', color='red')"
   ]
  },
  {
   "cell_type": "code",
   "execution_count": 221,
   "metadata": {
    "colab": {
     "base_uri": "https://localhost:8080/",
     "height": 75
    },
    "id": "0FDVbvGqi9f_",
    "outputId": "9d098bb2-4fad-4baf-d90f-9e04d59bde9f"
   },
   "outputs": [
    {
     "data": {
      "text/html": [
       "<style>#sk-container-id-1 {color: black;background-color: white;}#sk-container-id-1 pre{padding: 0;}#sk-container-id-1 div.sk-toggleable {background-color: white;}#sk-container-id-1 label.sk-toggleable__label {cursor: pointer;display: block;width: 100%;margin-bottom: 0;padding: 0.3em;box-sizing: border-box;text-align: center;}#sk-container-id-1 label.sk-toggleable__label-arrow:before {content: \"▸\";float: left;margin-right: 0.25em;color: #696969;}#sk-container-id-1 label.sk-toggleable__label-arrow:hover:before {color: black;}#sk-container-id-1 div.sk-estimator:hover label.sk-toggleable__label-arrow:before {color: black;}#sk-container-id-1 div.sk-toggleable__content {max-height: 0;max-width: 0;overflow: hidden;text-align: left;background-color: #f0f8ff;}#sk-container-id-1 div.sk-toggleable__content pre {margin: 0.2em;color: black;border-radius: 0.25em;background-color: #f0f8ff;}#sk-container-id-1 input.sk-toggleable__control:checked~div.sk-toggleable__content {max-height: 200px;max-width: 100%;overflow: auto;}#sk-container-id-1 input.sk-toggleable__control:checked~label.sk-toggleable__label-arrow:before {content: \"▾\";}#sk-container-id-1 div.sk-estimator input.sk-toggleable__control:checked~label.sk-toggleable__label {background-color: #d4ebff;}#sk-container-id-1 div.sk-label input.sk-toggleable__control:checked~label.sk-toggleable__label {background-color: #d4ebff;}#sk-container-id-1 input.sk-hidden--visually {border: 0;clip: rect(1px 1px 1px 1px);clip: rect(1px, 1px, 1px, 1px);height: 1px;margin: -1px;overflow: hidden;padding: 0;position: absolute;width: 1px;}#sk-container-id-1 div.sk-estimator {font-family: monospace;background-color: #f0f8ff;border: 1px dotted black;border-radius: 0.25em;box-sizing: border-box;margin-bottom: 0.5em;}#sk-container-id-1 div.sk-estimator:hover {background-color: #d4ebff;}#sk-container-id-1 div.sk-parallel-item::after {content: \"\";width: 100%;border-bottom: 1px solid gray;flex-grow: 1;}#sk-container-id-1 div.sk-label:hover label.sk-toggleable__label {background-color: #d4ebff;}#sk-container-id-1 div.sk-serial::before {content: \"\";position: absolute;border-left: 1px solid gray;box-sizing: border-box;top: 0;bottom: 0;left: 50%;z-index: 0;}#sk-container-id-1 div.sk-serial {display: flex;flex-direction: column;align-items: center;background-color: white;padding-right: 0.2em;padding-left: 0.2em;position: relative;}#sk-container-id-1 div.sk-item {position: relative;z-index: 1;}#sk-container-id-1 div.sk-parallel {display: flex;align-items: stretch;justify-content: center;background-color: white;position: relative;}#sk-container-id-1 div.sk-item::before, #sk-container-id-1 div.sk-parallel-item::before {content: \"\";position: absolute;border-left: 1px solid gray;box-sizing: border-box;top: 0;bottom: 0;left: 50%;z-index: -1;}#sk-container-id-1 div.sk-parallel-item {display: flex;flex-direction: column;z-index: 1;position: relative;background-color: white;}#sk-container-id-1 div.sk-parallel-item:first-child::after {align-self: flex-end;width: 50%;}#sk-container-id-1 div.sk-parallel-item:last-child::after {align-self: flex-start;width: 50%;}#sk-container-id-1 div.sk-parallel-item:only-child::after {width: 0;}#sk-container-id-1 div.sk-dashed-wrapped {border: 1px dashed gray;margin: 0 0.4em 0.5em 0.4em;box-sizing: border-box;padding-bottom: 0.4em;background-color: white;}#sk-container-id-1 div.sk-label label {font-family: monospace;font-weight: bold;display: inline-block;line-height: 1.2em;}#sk-container-id-1 div.sk-label-container {text-align: center;}#sk-container-id-1 div.sk-container {/* jupyter's `normalize.less` sets `[hidden] { display: none; }` but bootstrap.min.css set `[hidden] { display: none !important; }` so we also need the `!important` here to be able to override the default hidden behavior on the sphinx rendered scikit-learn.org. See: https://github.com/scikit-learn/scikit-learn/issues/21755 */display: inline-block !important;position: relative;}#sk-container-id-1 div.sk-text-repr-fallback {display: none;}</style><div id=\"sk-container-id-1\" class=\"sk-top-container\"><div class=\"sk-text-repr-fallback\"><pre>KMeans(n_clusters=6, n_init=&#x27;auto&#x27;, random_state=42)</pre><b>In a Jupyter environment, please rerun this cell to show the HTML representation or trust the notebook. <br />On GitHub, the HTML representation is unable to render, please try loading this page with nbviewer.org.</b></div><div class=\"sk-container\" hidden><div class=\"sk-item\"><div class=\"sk-estimator sk-toggleable\"><input class=\"sk-toggleable__control sk-hidden--visually\" id=\"sk-estimator-id-1\" type=\"checkbox\" checked><label for=\"sk-estimator-id-1\" class=\"sk-toggleable__label sk-toggleable__label-arrow\">KMeans</label><div class=\"sk-toggleable__content\"><pre>KMeans(n_clusters=6, n_init=&#x27;auto&#x27;, random_state=42)</pre></div></div></div></div></div>"
      ],
      "text/plain": [
       "KMeans(n_clusters=6, n_init='auto', random_state=42)"
      ]
     },
     "execution_count": 221,
     "metadata": {},
     "output_type": "execute_result"
    }
   ],
   "source": [
    "# Creating the KMeans model with 5 clusters\n",
    "kmeans = KMeans(n_clusters=6, random_state=42, n_init='auto')\n",
    "kmeans.fit(X)"
   ]
  },
  {
   "cell_type": "code",
   "execution_count": 222,
   "metadata": {
    "id": "BskZwasgjK40"
   },
   "outputs": [],
   "source": [
    "y = kmeans.predict(X)"
   ]
  },
  {
   "cell_type": "code",
   "execution_count": 225,
   "metadata": {
    "colab": {
     "base_uri": "https://localhost:8080/",
     "height": 467
    },
    "id": "Tgn7KAj2jMvu",
    "outputId": "0cd596e3-40c4-4ee1-b19c-ee1974e189de"
   },
   "outputs": [
    {
     "data": {
      "text/plain": [
       "[]"
      ]
     },
     "execution_count": 225,
     "metadata": {},
     "output_type": "execute_result"
    },
    {
     "data": {
      "image/png": "[encoded data removed]",
      "text/plain": [
       "<Figure size 640x480 with 1 Axes>"
      ]
     },
     "metadata": {},
     "output_type": "display_data"
    }
   ],
   "source": [
    "sns.scatterplot(x='category', y='amt', data=cc_df, hue=y, palette='deep')\n",
    "plt.legend(loc='upper right')\n",
    "plt.plot()"
   ]
  },
  {
   "cell_type": "code",
   "execution_count": 226,
   "metadata": {
    "colab": {
     "base_uri": "https://localhost:8080/",
     "height": 466
    },
    "id": "U9v0nvu0jPEA",
    "outputId": "4b96ade4-d214-4983-8b76-427e9d629857"
   },
   "outputs": [
    {
     "data": {
      "text/plain": [
       "[]"
      ]
     },
     "execution_count": 226,
     "metadata": {},
     "output_type": "execute_result"
    },
    {
     "data": {
      "image/png": "[encoded data removed]",
      "text/plain": [
       "<Figure size 640x480 with 1 Axes>"
      ]
     },
     "metadata": {},
     "output_type": "display_data"
    }
   ],
   "source": [
    "sns.barplot(x='category', y='amt', data=cc_df, hue=y, palette='deep')\n",
    "plt.legend(loc='upper right')\n",
    "plt.plot()"
   ]
  },
  {
   "cell_type": "code",
   "execution_count": 227,
   "metadata": {
    "colab": {
     "base_uri": "https://localhost:8080/",
     "height": 878
    },
    "id": "HwqgOR6Ak4Pd",
    "outputId": "8cb59e11-9076-4973-d269-ffb904679761"
   },
   "outputs": [
    {
     "data": {
      "application/vnd.google.colaboratory.intrinsic+json": {
       "type": "dataframe",
       "variable_name": "df"
      },
      "text/html": [
       "\n",
       "  <div id=\"df-2dc25fcc-d69a-4521-b629-ab60c4d524a0\" class=\"colab-df-container\">\n",
       "    <div>\n",
       "<style scoped>\n",
       "    .dataframe tbody tr th:only-of-type {\n",
       "        vertical-align: middle;\n",
       "    }\n",
       "\n",
       "    .dataframe tbody tr th {\n",
       "        vertical-align: top;\n",
       "    }\n",
       "\n",
       "    .dataframe thead th {\n",
       "        text-align: right;\n",
       "    }\n",
       "</style>\n",
       "<table border=\"1\" class=\"dataframe\">\n",
       "  <thead>\n",
       "    <tr style=\"text-align: right;\">\n",
       "      <th></th>\n",
       "      <th>Unnamed: 0</th>\n",
       "      <th>trans_date_trans_time</th>\n",
       "      <th>cc_num</th>\n",
       "      <th>merchant</th>\n",
       "      <th>category</th>\n",
       "      <th>amt</th>\n",
       "      <th>first</th>\n",
       "      <th>last</th>\n",
       "      <th>gender</th>\n",
       "      <th>street</th>\n",
       "      <th>...</th>\n",
       "      <th>lat</th>\n",
       "      <th>long</th>\n",
       "      <th>city_pop</th>\n",
       "      <th>job</th>\n",
       "      <th>dob</th>\n",
       "      <th>trans_num</th>\n",
       "      <th>unix_time</th>\n",
       "      <th>merch_lat</th>\n",
       "      <th>merch_long</th>\n",
       "      <th>is_fraud</th>\n",
       "    </tr>\n",
       "  </thead>\n",
       "  <tbody>\n",
       "    <tr>\n",
       "      <th>0</th>\n",
       "      <td>0</td>\n",
       "      <td>2019-01-01 00:00:18</td>\n",
       "      <td>2703186189652095</td>\n",
       "      <td>fraud_Rippin, Kub and Mann</td>\n",
       "      <td>misc_net</td>\n",
       "      <td>4.97</td>\n",
       "      <td>Jennifer</td>\n",
       "      <td>Banks</td>\n",
       "      <td>F</td>\n",
       "      <td>561 Perry Cove</td>\n",
       "      <td>...</td>\n",
       "      <td>36.0788</td>\n",
       "      <td>-81.1781</td>\n",
       "      <td>3495</td>\n",
       "      <td>Psychologist, counselling</td>\n",
       "      <td>1988-03-09</td>\n",
       "      <td>0b242abb623afc578575680df30655b9</td>\n",
       "      <td>1325376018</td>\n",
       "      <td>36.011293</td>\n",
       "      <td>-82.048315</td>\n",
       "      <td>0</td>\n",
       "    </tr>\n",
       "    <tr>\n",
       "      <th>1</th>\n",
       "      <td>1</td>\n",
       "      <td>2019-01-01 00:00:44</td>\n",
       "      <td>630423337322</td>\n",
       "      <td>fraud_Heller, Gutmann and Zieme</td>\n",
       "      <td>grocery_pos</td>\n",
       "      <td>107.23</td>\n",
       "      <td>Stephanie</td>\n",
       "      <td>Gill</td>\n",
       "      <td>F</td>\n",
       "      <td>43039 Riley Greens Suite 393</td>\n",
       "      <td>...</td>\n",
       "      <td>48.8878</td>\n",
       "      <td>-118.2105</td>\n",
       "      <td>149</td>\n",
       "      <td>Special educational needs teacher</td>\n",
       "      <td>1978-06-21</td>\n",
       "      <td>1f76529f8574734946361c461b024d99</td>\n",
       "      <td>1325376044</td>\n",
       "      <td>49.159047</td>\n",
       "      <td>-118.186462</td>\n",
       "      <td>0</td>\n",
       "    </tr>\n",
       "    <tr>\n",
       "      <th>2</th>\n",
       "      <td>2</td>\n",
       "      <td>2019-01-01 00:00:51</td>\n",
       "      <td>38859492057661</td>\n",
       "      <td>fraud_Lind-Buckridge</td>\n",
       "      <td>entertainment</td>\n",
       "      <td>220.11</td>\n",
       "      <td>Edward</td>\n",
       "      <td>Sanchez</td>\n",
       "      <td>M</td>\n",
       "      <td>594 White Dale Suite 530</td>\n",
       "      <td>...</td>\n",
       "      <td>42.1808</td>\n",
       "      <td>-112.2620</td>\n",
       "      <td>4154</td>\n",
       "      <td>Nature conservation officer</td>\n",
       "      <td>1962-01-19</td>\n",
       "      <td>a1a22d70485983eac12b5b88dad1cf95</td>\n",
       "      <td>1325376051</td>\n",
       "      <td>43.150704</td>\n",
       "      <td>-112.154481</td>\n",
       "      <td>0</td>\n",
       "    </tr>\n",
       "    <tr>\n",
       "      <th>3</th>\n",
       "      <td>3</td>\n",
       "      <td>2019-01-01 00:01:16</td>\n",
       "      <td>3534093764340240</td>\n",
       "      <td>fraud_Kutch, Hermiston and Farrell</td>\n",
       "      <td>gas_transport</td>\n",
       "      <td>45.00</td>\n",
       "      <td>Jeremy</td>\n",
       "      <td>White</td>\n",
       "      <td>M</td>\n",
       "      <td>9443 Cynthia Court Apt. 038</td>\n",
       "      <td>...</td>\n",
       "      <td>46.2306</td>\n",
       "      <td>-112.1138</td>\n",
       "      <td>1939</td>\n",
       "      <td>Patent attorney</td>\n",
       "      <td>1967-01-12</td>\n",
       "      <td>6b849c168bdad6f867558c3793159a81</td>\n",
       "      <td>1325376076</td>\n",
       "      <td>47.034331</td>\n",
       "      <td>-112.561071</td>\n",
       "      <td>0</td>\n",
       "    </tr>\n",
       "    <tr>\n",
       "      <th>4</th>\n",
       "      <td>4</td>\n",
       "      <td>2019-01-01 00:03:06</td>\n",
       "      <td>375534208663984</td>\n",
       "      <td>fraud_Keeling-Crist</td>\n",
       "      <td>misc_pos</td>\n",
       "      <td>41.96</td>\n",
       "      <td>Tyler</td>\n",
       "      <td>Garcia</td>\n",
       "      <td>M</td>\n",
       "      <td>408 Bradley Rest</td>\n",
       "      <td>...</td>\n",
       "      <td>38.4207</td>\n",
       "      <td>-79.4629</td>\n",
       "      <td>99</td>\n",
       "      <td>Dance movement psychotherapist</td>\n",
       "      <td>1986-03-28</td>\n",
       "      <td>a41d7549acf90789359a9aa5346dcb46</td>\n",
       "      <td>1325376186</td>\n",
       "      <td>38.674999</td>\n",
       "      <td>-78.632459</td>\n",
       "      <td>0</td>\n",
       "    </tr>\n",
       "    <tr>\n",
       "      <th>...</th>\n",
       "      <td>...</td>\n",
       "      <td>...</td>\n",
       "      <td>...</td>\n",
       "      <td>...</td>\n",
       "      <td>...</td>\n",
       "      <td>...</td>\n",
       "      <td>...</td>\n",
       "      <td>...</td>\n",
       "      <td>...</td>\n",
       "      <td>...</td>\n",
       "      <td>...</td>\n",
       "      <td>...</td>\n",
       "      <td>...</td>\n",
       "      <td>...</td>\n",
       "      <td>...</td>\n",
       "      <td>...</td>\n",
       "      <td>...</td>\n",
       "      <td>...</td>\n",
       "      <td>...</td>\n",
       "      <td>...</td>\n",
       "      <td>...</td>\n",
       "    </tr>\n",
       "    <tr>\n",
       "      <th>1296670</th>\n",
       "      <td>1296670</td>\n",
       "      <td>2020-06-21 12:12:08</td>\n",
       "      <td>30263540414123</td>\n",
       "      <td>fraud_Reichel Inc</td>\n",
       "      <td>entertainment</td>\n",
       "      <td>15.56</td>\n",
       "      <td>Erik</td>\n",
       "      <td>Patterson</td>\n",
       "      <td>M</td>\n",
       "      <td>162 Jessica Row Apt. 072</td>\n",
       "      <td>...</td>\n",
       "      <td>37.7175</td>\n",
       "      <td>-112.4777</td>\n",
       "      <td>258</td>\n",
       "      <td>Geoscientist</td>\n",
       "      <td>1961-11-24</td>\n",
       "      <td>440b587732da4dc1a6395aba5fb41669</td>\n",
       "      <td>1371816728</td>\n",
       "      <td>36.841266</td>\n",
       "      <td>-111.690765</td>\n",
       "      <td>0</td>\n",
       "    </tr>\n",
       "    <tr>\n",
       "      <th>1296671</th>\n",
       "      <td>1296671</td>\n",
       "      <td>2020-06-21 12:12:19</td>\n",
       "      <td>6011149206456997</td>\n",
       "      <td>fraud_Abernathy and Sons</td>\n",
       "      <td>food_dining</td>\n",
       "      <td>51.70</td>\n",
       "      <td>Jeffrey</td>\n",
       "      <td>White</td>\n",
       "      <td>M</td>\n",
       "      <td>8617 Holmes Terrace Suite 651</td>\n",
       "      <td>...</td>\n",
       "      <td>39.2667</td>\n",
       "      <td>-77.5101</td>\n",
       "      <td>100</td>\n",
       "      <td>Production assistant, television</td>\n",
       "      <td>1979-12-11</td>\n",
       "      <td>278000d2e0d2277d1de2f890067dcc0a</td>\n",
       "      <td>1371816739</td>\n",
       "      <td>38.906881</td>\n",
       "      <td>-78.246528</td>\n",
       "      <td>0</td>\n",
       "    </tr>\n",
       "    <tr>\n",
       "      <th>1296672</th>\n",
       "      <td>1296672</td>\n",
       "      <td>2020-06-21 12:12:32</td>\n",
       "      <td>3514865930894695</td>\n",
       "      <td>fraud_Stiedemann Ltd</td>\n",
       "      <td>food_dining</td>\n",
       "      <td>105.93</td>\n",
       "      <td>Christopher</td>\n",
       "      <td>Castaneda</td>\n",
       "      <td>M</td>\n",
       "      <td>1632 Cohen Drive Suite 639</td>\n",
       "      <td>...</td>\n",
       "      <td>32.9396</td>\n",
       "      <td>-105.8189</td>\n",
       "      <td>899</td>\n",
       "      <td>Naval architect</td>\n",
       "      <td>1967-08-30</td>\n",
       "      <td>483f52fe67fabef353d552c1e662974c</td>\n",
       "      <td>1371816752</td>\n",
       "      <td>33.619513</td>\n",
       "      <td>-105.130529</td>\n",
       "      <td>0</td>\n",
       "    </tr>\n",
       "    <tr>\n",
       "      <th>1296673</th>\n",
       "      <td>1296673</td>\n",
       "      <td>2020-06-21 12:13:36</td>\n",
       "      <td>2720012583106919</td>\n",
       "      <td>fraud_Reinger, Weissnat and Strosin</td>\n",
       "      <td>food_dining</td>\n",
       "      <td>74.90</td>\n",
       "      <td>Joseph</td>\n",
       "      <td>Murray</td>\n",
       "      <td>M</td>\n",
       "      <td>42933 Ryan Underpass</td>\n",
       "      <td>...</td>\n",
       "      <td>43.3526</td>\n",
       "      <td>-102.5411</td>\n",
       "      <td>1126</td>\n",
       "      <td>Volunteer coordinator</td>\n",
       "      <td>1980-08-18</td>\n",
       "      <td>d667cdcbadaaed3da3f4020e83591c83</td>\n",
       "      <td>1371816816</td>\n",
       "      <td>42.788940</td>\n",
       "      <td>-103.241160</td>\n",
       "      <td>0</td>\n",
       "    </tr>\n",
       "    <tr>\n",
       "      <th>1296674</th>\n",
       "      <td>1296674</td>\n",
       "      <td>2020-06-21 12:13:37</td>\n",
       "      <td>4292902571056973207</td>\n",
       "      <td>fraud_Langosh, Wintheiser and Hyatt</td>\n",
       "      <td>food_dining</td>\n",
       "      <td>4.30</td>\n",
       "      <td>Jeffrey</td>\n",
       "      <td>Smith</td>\n",
       "      <td>M</td>\n",
       "      <td>135 Joseph Mountains</td>\n",
       "      <td>...</td>\n",
       "      <td>45.8433</td>\n",
       "      <td>-113.8748</td>\n",
       "      <td>218</td>\n",
       "      <td>Therapist, horticultural</td>\n",
       "      <td>1995-08-16</td>\n",
       "      <td>8f7c8e4ab7f25875d753b422917c98c9</td>\n",
       "      <td>1371816817</td>\n",
       "      <td>46.565983</td>\n",
       "      <td>-114.186110</td>\n",
       "      <td>0</td>\n",
       "    </tr>\n",
       "  </tbody>\n",
       "</table>\n",
       "<p>1296675 rows × 23 columns</p>\n",
       "</div>\n",
       "    <div class=\"colab-df-buttons\">\n",
       "\n",
       "  <div class=\"colab-df-container\">\n",
       "    <button class=\"colab-df-convert\" onclick=\"convertToInteractive('df-2dc25fcc-d69a-4521-b629-ab60c4d524a0')\"\n",
       "            title=\"Convert this dataframe to an interactive table.\"\n",
       "            style=\"display:none;\">\n",
       "\n",
       "  <svg xmlns=\"http://www.w3.org/2000/svg\" height=\"24px\" viewBox=\"0 -960 960 960\">\n",
       "    <path d=\"M120-120v-720h720v720H120Zm60-500h600v-160H180v160Zm220 220h160v-160H400v160Zm0 220h160v-160H400v160ZM180-400h160v-160H180v160Zm440 0h160v-160H620v160ZM180-180h160v-160H180v160Zm440 0h160v-160H620v160Z\"/>\n",
       "  </svg>\n",
       "    </button>\n",
       "\n",
       "  <style>\n",
       "    .colab-df-container {\n",
       "      display:flex;\n",
       "      gap: 12px;\n",
       "    }\n",
       "\n",
       "    .colab-df-convert {\n",
       "      background-color: #E8F0FE;\n",
       "      border: none;\n",
       "      border-radius: 50%;\n",
       "      cursor: pointer;\n",
       "      display: none;\n",
       "      fill: #1967D2;\n",
       "      height: 32px;\n",
       "      padding: 0 0 0 0;\n",
       "      width: 32px;\n",
       "    }\n",
       "\n",
       "    .colab-df-convert:hover {\n",
       "      background-color: #E2EBFA;\n",
       "      box-shadow: 0px 1px 2px rgba(60, 64, 67, 0.3), 0px 1px 3px 1px rgba(60, 64, 67, 0.15);\n",
       "      fill: #174EA6;\n",
       "    }\n",
       "\n",
       "    .colab-df-buttons div {\n",
       "      margin-bottom: 4px;\n",
       "    }\n",
       "\n",
       "    [theme=dark] .colab-df-convert {\n",
       "      background-color: #3B4455;\n",
       "      fill: #D2E3FC;\n",
       "    }\n",
       "\n",
       "    [theme=dark] .colab-df-convert:hover {\n",
       "      background-color: #434B5C;\n",
       "      box-shadow: 0px 1px 3px 1px rgba(0, 0, 0, 0.15);\n",
       "      filter: drop-shadow(0px 1px 2px rgba(0, 0, 0, 0.3));\n",
       "      fill: #FFFFFF;\n",
       "    }\n",
       "  </style>\n",
       "\n",
       "    <script>\n",
       "      const buttonEl =\n",
       "        document.querySelector('#df-2dc25fcc-d69a-4521-b629-ab60c4d524a0 button.colab-df-convert');\n",
       "      buttonEl.style.display =\n",
       "        google.colab.kernel.accessAllowed ? 'block' : 'none';\n",
       "\n",
       "      async function convertToInteractive(key) {\n",
       "        const element = document.querySelector('#df-2dc25fcc-d69a-4521-b629-ab60c4d524a0');\n",
       "        const dataTable =\n",
       "          await google.colab.kernel.invokeFunction('convertToInteractive',\n",
       "                                                    [key], {});\n",
       "        if (!dataTable) return;\n",
       "\n",
       "        const docLinkHtml = 'Like what you see? Visit the ' +\n",
       "          '<a target=\"_blank\" href=https://colab.research.google.com/notebooks/data_table.ipynb>data table notebook</a>'\n",
       "          + ' to learn more about interactive tables.';\n",
       "        element.innerHTML = '';\n",
       "        dataTable['output_type'] = 'display_data';\n",
       "        await google.colab.output.renderOutput(dataTable, element);\n",
       "        const docLink = document.createElement('div');\n",
       "        docLink.innerHTML = docLinkHtml;\n",
       "        element.appendChild(docLink);\n",
       "      }\n",
       "    </script>\n",
       "  </div>\n",
       "\n",
       "\n",
       "<div id=\"df-011a5ada-27d6-4cf1-b44f-acd8523021a1\">\n",
       "  <button class=\"colab-df-quickchart\" onclick=\"quickchart('df-011a5ada-27d6-4cf1-b44f-acd8523021a1')\"\n",
       "            title=\"Suggest charts\"\n",
       "            style=\"display:none;\">\n",
       "\n",
       "<svg xmlns=\"http://www.w3.org/2000/svg\" height=\"24px\"viewBox=\"0 0 24 24\"\n",
       "     width=\"24px\">\n",
       "    <g>\n",
       "        <path d=\"M19 3H5c-1.1 0-2 .9-2 2v14c0 1.1.9 2 2 2h14c1.1 0 2-.9 2-2V5c0-1.1-.9-2-2-2zM9 17H7v-7h2v7zm4 0h-2V7h2v10zm4 0h-2v-4h2v4z\"/>\n",
       "    </g>\n",
       "</svg>\n",
       "  </button>\n",
       "\n",
       "<style>\n",
       "  .colab-df-quickchart {\n",
       "      --bg-color: #E8F0FE;\n",
       "      --fill-color: #1967D2;\n",
       "      --hover-bg-color: #E2EBFA;\n",
       "      --hover-fill-color: #174EA6;\n",
       "      --disabled-fill-color: #AAA;\n",
       "      --disabled-bg-color: #DDD;\n",
       "  }\n",
       "\n",
       "  [theme=dark] .colab-df-quickchart {\n",
       "      --bg-color: #3B4455;\n",
       "      --fill-color: #D2E3FC;\n",
       "      --hover-bg-color: #434B5C;\n",
       "      --hover-fill-color: #FFFFFF;\n",
       "      --disabled-bg-color: #3B4455;\n",
       "      --disabled-fill-color: #666;\n",
       "  }\n",
       "\n",
       "  .colab-df-quickchart {\n",
       "    background-color: var(--bg-color);\n",
       "    border: none;\n",
       "    border-radius: 50%;\n",
       "    cursor: pointer;\n",
       "    display: none;\n",
       "    fill: var(--fill-color);\n",
       "    height: 32px;\n",
       "    padding: 0;\n",
       "    width: 32px;\n",
       "  }\n",
       "\n",
       "  .colab-df-quickchart:hover {\n",
       "    background-color: var(--hover-bg-color);\n",
       "    box-shadow: 0 1px 2px rgba(60, 64, 67, 0.3), 0 1px 3px 1px rgba(60, 64, 67, 0.15);\n",
       "    fill: var(--button-hover-fill-color);\n",
       "  }\n",
       "\n",
       "  .colab-df-quickchart-complete:disabled,\n",
       "  .colab-df-quickchart-complete:disabled:hover {\n",
       "    background-color: var(--disabled-bg-color);\n",
       "    fill: var(--disabled-fill-color);\n",
       "    box-shadow: none;\n",
       "  }\n",
       "\n",
       "  .colab-df-spinner {\n",
       "    border: 2px solid var(--fill-color);\n",
       "    border-color: transparent;\n",
       "    border-bottom-color: var(--fill-color);\n",
       "    animation:\n",
       "      spin 1s steps(1) infinite;\n",
       "  }\n",
       "\n",
       "  @keyframes spin {\n",
       "    0% {\n",
       "      border-color: transparent;\n",
       "      border-bottom-color: var(--fill-color);\n",
       "      border-left-color: var(--fill-color);\n",
       "    }\n",
       "    20% {\n",
       "      border-color: transparent;\n",
       "      border-left-color: var(--fill-color);\n",
       "      border-top-color: var(--fill-color);\n",
       "    }\n",
       "    30% {\n",
       "      border-color: transparent;\n",
       "      border-left-color: var(--fill-color);\n",
       "      border-top-color: var(--fill-color);\n",
       "      border-right-color: var(--fill-color);\n",
       "    }\n",
       "    40% {\n",
       "      border-color: transparent;\n",
       "      border-right-color: var(--fill-color);\n",
       "      border-top-color: var(--fill-color);\n",
       "    }\n",
       "    60% {\n",
       "      border-color: transparent;\n",
       "      border-right-color: var(--fill-color);\n",
       "    }\n",
       "    80% {\n",
       "      border-color: transparent;\n",
       "      border-right-color: var(--fill-color);\n",
       "      border-bottom-color: var(--fill-color);\n",
       "    }\n",
       "    90% {\n",
       "      border-color: transparent;\n",
       "      border-bottom-color: var(--fill-color);\n",
       "    }\n",
       "  }\n",
       "</style>\n",
       "\n",
       "  <script>\n",
       "    async function quickchart(key) {\n",
       "      const quickchartButtonEl =\n",
       "        document.querySelector('#' + key + ' button');\n",
       "      quickchartButtonEl.disabled = true;  // To prevent multiple clicks.\n",
       "      quickchartButtonEl.classList.add('colab-df-spinner');\n",
       "      try {\n",
       "        const charts = await google.colab.kernel.invokeFunction(\n",
       "            'suggestCharts', [key], {});\n",
       "      } catch (error) {\n",
       "        console.error('Error during call to suggestCharts:', error);\n",
       "      }\n",
       "      quickchartButtonEl.classList.remove('colab-df-spinner');\n",
       "      quickchartButtonEl.classList.add('colab-df-quickchart-complete');\n",
       "    }\n",
       "    (() => {\n",
       "      let quickchartButtonEl =\n",
       "        document.querySelector('#df-011a5ada-27d6-4cf1-b44f-acd8523021a1 button');\n",
       "      quickchartButtonEl.style.display =\n",
       "        google.colab.kernel.accessAllowed ? 'block' : 'none';\n",
       "    })();\n",
       "  </script>\n",
       "</div>\n",
       "    </div>\n",
       "  </div>\n"
      ],
      "text/plain": [
       "         Unnamed: 0 trans_date_trans_time               cc_num  \\\n",
       "0                 0   2019-01-01 00:00:18     2703186189652095   \n",
       "1                 1   2019-01-01 00:00:44         630423337322   \n",
       "2                 2   2019-01-01 00:00:51       38859492057661   \n",
       "3                 3   2019-01-01 00:01:16     3534093764340240   \n",
       "4                 4   2019-01-01 00:03:06      375534208663984   \n",
       "...             ...                   ...                  ...   \n",
       "1296670     1296670   2020-06-21 12:12:08       30263540414123   \n",
       "1296671     1296671   2020-06-21 12:12:19     6011149206456997   \n",
       "1296672     1296672   2020-06-21 12:12:32     3514865930894695   \n",
       "1296673     1296673   2020-06-21 12:13:36     2720012583106919   \n",
       "1296674     1296674   2020-06-21 12:13:37  4292902571056973207   \n",
       "\n",
       "                                    merchant       category     amt  \\\n",
       "0                 fraud_Rippin, Kub and Mann       misc_net    4.97   \n",
       "1            fraud_Heller, Gutmann and Zieme    grocery_pos  107.23   \n",
       "2                       fraud_Lind-Buckridge  entertainment  220.11   \n",
       "3         fraud_Kutch, Hermiston and Farrell  gas_transport   45.00   \n",
       "4                        fraud_Keeling-Crist       misc_pos   41.96   \n",
       "...                                      ...            ...     ...   \n",
       "1296670                    fraud_Reichel Inc  entertainment   15.56   \n",
       "1296671             fraud_Abernathy and Sons    food_dining   51.70   \n",
       "1296672                 fraud_Stiedemann Ltd    food_dining  105.93   \n",
       "1296673  fraud_Reinger, Weissnat and Strosin    food_dining   74.90   \n",
       "1296674  fraud_Langosh, Wintheiser and Hyatt    food_dining    4.30   \n",
       "\n",
       "               first       last gender                         street  ...  \\\n",
       "0           Jennifer      Banks      F                 561 Perry Cove  ...   \n",
       "1          Stephanie       Gill      F   43039 Riley Greens Suite 393  ...   \n",
       "2             Edward    Sanchez      M       594 White Dale Suite 530  ...   \n",
       "3             Jeremy      White      M    9443 Cynthia Court Apt. 038  ...   \n",
       "4              Tyler     Garcia      M               408 Bradley Rest  ...   \n",
       "...              ...        ...    ...                            ...  ...   \n",
       "1296670         Erik  Patterson      M       162 Jessica Row Apt. 072  ...   \n",
       "1296671      Jeffrey      White      M  8617 Holmes Terrace Suite 651  ...   \n",
       "1296672  Christopher  Castaneda      M     1632 Cohen Drive Suite 639  ...   \n",
       "1296673       Joseph     Murray      M           42933 Ryan Underpass  ...   \n",
       "1296674      Jeffrey      Smith      M           135 Joseph Mountains  ...   \n",
       "\n",
       "             lat      long  city_pop                                job  \\\n",
       "0        36.0788  -81.1781      3495          Psychologist, counselling   \n",
       "1        48.8878 -118.2105       149  Special educational needs teacher   \n",
       "2        42.1808 -112.2620      4154        Nature conservation officer   \n",
       "3        46.2306 -112.1138      1939                    Patent attorney   \n",
       "4        38.4207  -79.4629        99     Dance movement psychotherapist   \n",
       "...          ...       ...       ...                                ...   \n",
       "1296670  37.7175 -112.4777       258                       Geoscientist   \n",
       "1296671  39.2667  -77.5101       100   Production assistant, television   \n",
       "1296672  32.9396 -105.8189       899                    Naval architect   \n",
       "1296673  43.3526 -102.5411      1126              Volunteer coordinator   \n",
       "1296674  45.8433 -113.8748       218           Therapist, horticultural   \n",
       "\n",
       "                dob                         trans_num   unix_time  merch_lat  \\\n",
       "0        1988-03-09  0b242abb623afc578575680df30655b9  1325376018  36.011293   \n",
       "1        1978-06-21  1f76529f8574734946361c461b024d99  1325376044  49.159047   \n",
       "2        1962-01-19  a1a22d70485983eac12b5b88dad1cf95  1325376051  43.150704   \n",
       "3        1967-01-12  6b849c168bdad6f867558c3793159a81  1325376076  47.034331   \n",
       "4        1986-03-28  a41d7549acf90789359a9aa5346dcb46  1325376186  38.674999   \n",
       "...             ...                               ...         ...        ...   \n",
       "1296670  1961-11-24  440b587732da4dc1a6395aba5fb41669  1371816728  36.841266   \n",
       "1296671  1979-12-11  278000d2e0d2277d1de2f890067dcc0a  1371816739  38.906881   \n",
       "1296672  1967-08-30  483f52fe67fabef353d552c1e662974c  1371816752  33.619513   \n",
       "1296673  1980-08-18  d667cdcbadaaed3da3f4020e83591c83  1371816816  42.788940   \n",
       "1296674  1995-08-16  8f7c8e4ab7f25875d753b422917c98c9  1371816817  46.565983   \n",
       "\n",
       "         merch_long  is_fraud  \n",
       "0        -82.048315         0  \n",
       "1       -118.186462         0  \n",
       "2       -112.154481         0  \n",
       "3       -112.561071         0  \n",
       "4        -78.632459         0  \n",
       "...             ...       ...  \n",
       "1296670 -111.690765         0  \n",
       "1296671  -78.246528         0  \n",
       "1296672 -105.130529         0  \n",
       "1296673 -103.241160         0  \n",
       "1296674 -114.186110         0  \n",
       "\n",
       "[1296675 rows x 23 columns]"
      ]
     },
     "execution_count": 227,
     "metadata": {},
     "output_type": "execute_result"
    }
   ],
   "source": [
    "df=pd.read_csv(r\"/content/drive/MyDrive/Fraud_Detection_Project/fraudTrain.csv\")\n",
    "df"
   ]
  },
  {
   "cell_type": "code",
   "execution_count": 228,
   "metadata": {
    "id": "B75X3zbdlazz"
   },
   "outputs": [],
   "source": [
    "# Create an elbow plot to find the best number of cluster\n",
    "X = df[['is_fraud', 'amt']].to_numpy()\n",
    "wcse = []\n",
    "for i in range(1, 11):\n",
    "    kmeans = KMeans(n_clusters=i, random_state=42, n_init='auto')\n",
    "    kmeans.fit(X)\n",
    "    wcse.append(kmeans.inertia_)"
   ]
  },
  {
   "cell_type": "code",
   "execution_count": 229,
   "metadata": {
    "colab": {
     "base_uri": "https://localhost:8080/",
     "height": 462
    },
    "id": "rUgTA-mLlrz0",
    "outputId": "446663fd-a44b-4d38-b229-9125818817eb"
   },
   "outputs": [
    {
     "data": {
      "text/plain": [
       "<Axes: >"
      ]
     },
     "execution_count": 229,
     "metadata": {},
     "output_type": "execute_result"
    },
    {
     "data": {
      "image/png": "[encoded data removed]",
      "text/plain": [
       "<Figure size 640x480 with 1 Axes>"
      ]
     },
     "metadata": {},
     "output_type": "display_data"
    }
   ],
   "source": [
    "sns.lineplot(x=range(1, 11), y=wcse, marker='o', color='red')"
   ]
  },
  {
   "cell_type": "code",
   "execution_count": 230,
   "metadata": {
    "colab": {
     "base_uri": "https://localhost:8080/",
     "height": 75
    },
    "id": "1dgk4TTnlxnQ",
    "outputId": "59a50ccc-8382-43f7-f510-0602842de8c9"
   },
   "outputs": [
    {
     "data": {
      "text/html": [
       "<style>#sk-container-id-2 {color: black;background-color: white;}#sk-container-id-2 pre{padding: 0;}#sk-container-id-2 div.sk-toggleable {background-color: white;}#sk-container-id-2 label.sk-toggleable__label {cursor: pointer;display: block;width: 100%;margin-bottom: 0;padding: 0.3em;box-sizing: border-box;text-align: center;}#sk-container-id-2 label.sk-toggleable__label-arrow:before {content: \"▸\";float: left;margin-right: 0.25em;color: #696969;}#sk-container-id-2 label.sk-toggleable__label-arrow:hover:before {color: black;}#sk-container-id-2 div.sk-estimator:hover label.sk-toggleable__label-arrow:before {color: black;}#sk-container-id-2 div.sk-toggleable__content {max-height: 0;max-width: 0;overflow: hidden;text-align: left;background-color: #f0f8ff;}#sk-container-id-2 div.sk-toggleable__content pre {margin: 0.2em;color: black;border-radius: 0.25em;background-color: #f0f8ff;}#sk-container-id-2 input.sk-toggleable__control:checked~div.sk-toggleable__content {max-height: 200px;max-width: 100%;overflow: auto;}#sk-container-id-2 input.sk-toggleable__control:checked~label.sk-toggleable__label-arrow:before {content: \"▾\";}#sk-container-id-2 div.sk-estimator input.sk-toggleable__control:checked~label.sk-toggleable__label {background-color: #d4ebff;}#sk-container-id-2 div.sk-label input.sk-toggleable__control:checked~label.sk-toggleable__label {background-color: #d4ebff;}#sk-container-id-2 input.sk-hidden--visually {border: 0;clip: rect(1px 1px 1px 1px);clip: rect(1px, 1px, 1px, 1px);height: 1px;margin: -1px;overflow: hidden;padding: 0;position: absolute;width: 1px;}#sk-container-id-2 div.sk-estimator {font-family: monospace;background-color: #f0f8ff;border: 1px dotted black;border-radius: 0.25em;box-sizing: border-box;margin-bottom: 0.5em;}#sk-container-id-2 div.sk-estimator:hover {background-color: #d4ebff;}#sk-container-id-2 div.sk-parallel-item::after {content: \"\";width: 100%;border-bottom: 1px solid gray;flex-grow: 1;}#sk-container-id-2 div.sk-label:hover label.sk-toggleable__label {background-color: #d4ebff;}#sk-container-id-2 div.sk-serial::before {content: \"\";position: absolute;border-left: 1px solid gray;box-sizing: border-box;top: 0;bottom: 0;left: 50%;z-index: 0;}#sk-container-id-2 div.sk-serial {display: flex;flex-direction: column;align-items: center;background-color: white;padding-right: 0.2em;padding-left: 0.2em;position: relative;}#sk-container-id-2 div.sk-item {position: relative;z-index: 1;}#sk-container-id-2 div.sk-parallel {display: flex;align-items: stretch;justify-content: center;background-color: white;position: relative;}#sk-container-id-2 div.sk-item::before, #sk-container-id-2 div.sk-parallel-item::before {content: \"\";position: absolute;border-left: 1px solid gray;box-sizing: border-box;top: 0;bottom: 0;left: 50%;z-index: -1;}#sk-container-id-2 div.sk-parallel-item {display: flex;flex-direction: column;z-index: 1;position: relative;background-color: white;}#sk-container-id-2 div.sk-parallel-item:first-child::after {align-self: flex-end;width: 50%;}#sk-container-id-2 div.sk-parallel-item:last-child::after {align-self: flex-start;width: 50%;}#sk-container-id-2 div.sk-parallel-item:only-child::after {width: 0;}#sk-container-id-2 div.sk-dashed-wrapped {border: 1px dashed gray;margin: 0 0.4em 0.5em 0.4em;box-sizing: border-box;padding-bottom: 0.4em;background-color: white;}#sk-container-id-2 div.sk-label label {font-family: monospace;font-weight: bold;display: inline-block;line-height: 1.2em;}#sk-container-id-2 div.sk-label-container {text-align: center;}#sk-container-id-2 div.sk-container {/* jupyter's `normalize.less` sets `[hidden] { display: none; }` but bootstrap.min.css set `[hidden] { display: none !important; }` so we also need the `!important` here to be able to override the default hidden behavior on the sphinx rendered scikit-learn.org. See: https://github.com/scikit-learn/scikit-learn/issues/21755 */display: inline-block !important;position: relative;}#sk-container-id-2 div.sk-text-repr-fallback {display: none;}</style><div id=\"sk-container-id-2\" class=\"sk-top-container\"><div class=\"sk-text-repr-fallback\"><pre>KMeans(n_clusters=6, n_init=&#x27;auto&#x27;, random_state=42)</pre><b>In a Jupyter environment, please rerun this cell to show the HTML representation or trust the notebook. <br />On GitHub, the HTML representation is unable to render, please try loading this page with nbviewer.org.</b></div><div class=\"sk-container\" hidden><div class=\"sk-item\"><div class=\"sk-estimator sk-toggleable\"><input class=\"sk-toggleable__control sk-hidden--visually\" id=\"sk-estimator-id-2\" type=\"checkbox\" checked><label for=\"sk-estimator-id-2\" class=\"sk-toggleable__label sk-toggleable__label-arrow\">KMeans</label><div class=\"sk-toggleable__content\"><pre>KMeans(n_clusters=6, n_init=&#x27;auto&#x27;, random_state=42)</pre></div></div></div></div></div>"
      ],
      "text/plain": [
       "KMeans(n_clusters=6, n_init='auto', random_state=42)"
      ]
     },
     "execution_count": 230,
     "metadata": {},
     "output_type": "execute_result"
    }
   ],
   "source": [
    "# Creating the KMeans model with 5 clusters\n",
    "kmeans = KMeans(n_clusters=6, random_state=42, n_init='auto')\n",
    "kmeans.fit(X)"
   ]
  },
  {
   "cell_type": "code",
   "execution_count": 231,
   "metadata": {
    "id": "XcfKoD9El5dY"
   },
   "outputs": [],
   "source": [
    "y = kmeans.predict(X)"
   ]
  },
  {
   "cell_type": "code",
   "execution_count": 232,
   "metadata": {
    "colab": {
     "base_uri": "https://localhost:8080/",
     "height": 467
    },
    "id": "XApf25qfmMfO",
    "outputId": "f4596726-6542-4d92-e804-ad77852957a5"
   },
   "outputs": [
    {
     "data": {
      "text/plain": [
       "[]"
      ]
     },
     "execution_count": 232,
     "metadata": {},
     "output_type": "execute_result"
    },
    {
     "data": {
      "image/png": "[encoded data removed]",
      "text/plain": [
       "<Figure size 640x480 with 1 Axes>"
      ]
     },
     "metadata": {},
     "output_type": "display_data"
    }
   ],
   "source": [
    "sns.scatterplot(x='is_fraud', y='amt', data=df, hue=y, palette='deep')\n",
    "plt.legend(loc='upper right')\n",
    "plt.plot()"
   ]
  },
  {
   "cell_type": "code",
   "execution_count": null,
   "metadata": {
    "id": "RkW1uiYMncv5"
   },
   "outputs": [],
   "source": []
  }
 ],
 "metadata": {
  "colab": {
   "provenance": []
  },
  "kernelspec": {
   "display_name": "Python 3 (ipykernel)",
   "language": "python",
   "name": "python3"
  },
  "language_info": {
   "codemirror_mode": {
    "name": "ipython",
    "version": 3
   },
   "file_extension": ".py",
   "mimetype": "text/x-python",
   "name": "python",
   "nbconvert_exporter": "python",
   "pygments_lexer": "ipython3",
   "version": "3.9.7"
  }
 },
 "nbformat": 4,
 "nbformat_minor": 1
}
